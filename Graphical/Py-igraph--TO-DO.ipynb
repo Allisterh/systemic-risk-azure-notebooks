{
  "metadata": {
    "kernelspec": {
      "display_name": "Python 3.6",
      "language": "python",
      "name": "python36"
    },
    "language_info": {
      "mimetype": "text/x-python",
      "nbconvert_exporter": "python",
      "name": "python",
      "pygments_lexer": "ipython3",
      "version": "3.6.6",
      "file_extension": ".py",
      "codemirror_mode": {
        "version": 3,
        "name": "ipython"
      }
    }
  },
  "nbformat_minor": 2,
  "nbformat": 4,
  "cells": [
    {
      "cell_type": "markdown",
      "source": "# Py-igraph\nhttps://github.com/igraph/python-igraph   \nhttp://igraph.org/python/    \n** WORK IN PROGRESS!!! **",
      "metadata": {}
    },
    {
      "cell_type": "code",
      "source": "!pip install python-igraph",
      "metadata": {},
      "execution_count": 2,
      "outputs": [
        {
          "name": "stdout",
          "output_type": "stream",
          "text": "Collecting python-igraph\n  Downloading python-igraph-0.7.1.post6.tar.gz (377kB)\n\u001b[K    100% |################################| 378kB 2.5MB/s eta 0:00:01  16% |#####                           | 61kB 2.2MB/s eta 0:00:01\n\u001b[?25hBuilding wheels for collected packages: python-igraph\n  Running setup.py bdist_wheel for python-igraph ... \u001b[?25ldone\n\u001b[?25h  Stored in directory: /home/nbuser/.cache/pip/wheels/2b/9b/50/34d9d2b8f74c7a1c70f6337686d66f8fc8bbab6d2f196fe6ef\nSuccessfully built python-igraph\nInstalling collected packages: python-igraph\nSuccessfully installed python-igraph-0.7.1.post6\n"
        }
      ]
    },
    {
      "cell_type": "code",
      "source": "import igraph\nprint(igraph.__version__ )",
      "metadata": {},
      "execution_count": 4,
      "outputs": [
        {
          "name": "stdout",
          "output_type": "stream",
          "text": "0.7.1\n"
        }
      ]
    },
    {
      "cell_type": "markdown",
      "source": "To do: take examples from http://igraph.org/python/doc/tutorial/tutorial.html \nAlso consider using??\n* https://plot.ly/r/network-graphs/ \n* https://plot.ly/python/igraph-networkx-comparison/ \n* https://github.com/graphistry/pygraphistry???  \n* http://srdas.github.io/Presentations/DynamicRiskNetworks_slides_MIT_2016_09.pdf  \n* https://github.com/briatte/awesome-network-analysis \n* https://cran.r-project.org/web/packages/NetworkRiskMeasures/index.html ",
      "metadata": {}
    },
    {
      "cell_type": "code",
      "source": "",
      "metadata": {},
      "execution_count": null,
      "outputs": []
    }
  ]
}