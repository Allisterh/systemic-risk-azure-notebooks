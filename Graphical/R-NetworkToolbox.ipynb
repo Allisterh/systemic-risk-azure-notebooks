{
  "cells": [
    {
      "metadata": {
        "collapsed": true,
        "slideshow": {
          "slide_type": "slide"
        }
      },
      "cell_type": "markdown",
      "source": "# Network toolbox"
    },
    {
      "metadata": {
        "collapsed": true,
        "slideshow": {
          "slide_type": "slide"
        }
      },
      "cell_type": "markdown",
      "source": "https://cran.r-project.org/web/packages/NetworkToolbox/index.html   \nhttps://github.com/AlexChristensen/NetworkToolbox  \nhttps://www.rdocumentation.org/packages/NetworkToolbox/versions/1.2.1   \nhttps://rdrr.io/cran/NetworkToolbox/man/TMFG.html  \nhttps://cran.r-project.org/web/views/Bayesian.html  "
    },
    {
      "metadata": {
        "slideshow": {
          "slide_type": "subslide"
        }
      },
      "cell_type": "markdown",
      "source": "### `NetworkToolbox`: Methods and Measures for Brain, Cognitive, and Psychometric Network Analysis"
    },
    {
      "metadata": {
        "slideshow": {
          "slide_type": "subslide"
        }
      },
      "cell_type": "markdown",
      "source": "Implements network analysis and graph theory measures used in neuroscience, cognitive science, and psychology. Methods include various filtering methods and approaches such as threshold, dependency (Kenett, Tumminello, Madi, Gur-Gershogoren, Mantegna, & Ben-Jacob, 2010 <doi:10.1371/journal.pone.0015032>), Information Filtering Networks (Barfuss, Massara, Di Matteo, & Aste, 2016 <doi:10.1103/PhysRevE.94.062306>), and Efficiency-Cost Optimization (Fallani, Latora, & Chavez, 2017 <doi:10.1371/journal.pcbi.1005305>). Brain methods include the recently developed Connectome Predictive Modeling (see references in package). Also implements several network measures including local network characteristics (e.g., centrality), community-level network characteristics (e.g., community centrality), global network characteristics (e.g., clustering coefficient), and various other measures associated with the reliability and reproducibility of network analysis."
    },
    {
      "metadata": {},
      "cell_type": "markdown",
      "source": "https://notebooks.azure.com/help/jupyter-notebooks/package-installation/r "
    },
    {
      "metadata": {},
      "cell_type": "markdown",
      "source": "https://CRAN.R-project.org/package=BDgraph     \nhttps://CRAN.R-project.org/package=qgraph   "
    },
    {
      "metadata": {},
      "cell_type": "markdown",
      "source": "https://notebooks.azure.com/dragonflystats/libraries/caret/html/01%20-%20Loading%20the%20caret%20package.ipynb"
    },
    {
      "metadata": {
        "trusted": true
      },
      "cell_type": "code",
      "source": "system(\"ls ~/library\", intern=TRUE)",
      "execution_count": 22,
      "outputs": [
        {
          "output_type": "display_data",
          "data": {
            "text/plain": " [1] \"azure-notebook-github-integration.md\"                      \n [2] \"data\"                                                      \n [3] \"_DELETE\"                                                   \n [4] \"Links\"                                                     \n [5] \"Local\"                                                     \n [6] \"miscellaneous\"                                             \n [7] \"neva\"                                                      \n [8] \"output\"                                                    \n [9] \"packages\"                                                  \n[10] \"Py-ABCE--Tutorial.ipynb\"                                   \n[11] \"Py-AB-SFC--Grasselli-Li.ipynb\"                             \n[12] \"Py-clustergrammer--TO-DO.ipynb\"                            \n[13] \"Py-Gordon-Reid--Interbank-network-sim.ipynb\"               \n[14] \"Py-igraph--TO-DO.ipynb\"                                    \n[15] \"Py-Lotka-Volterra.ipynb\"                                   \n[16] \"Py-networkx--TO-DO.ipynb\"                                  \n[17] \"Py-neva--Network-based-stress-testing.ipynb\"               \n[18] \"Py-planarity.ipynb\"                                        \n[19] \"Py-sfc_models.ipynb\"                                       \n[20] \"Py-smoothmax.ipynb\"                                        \n[21] \"Py-SRISK.ipynb\"                                            \n[22] \"R-ccgarch.ipynb\"                                           \n[23] \"R-CreditRisk.ipynb\"                                        \n[24] \"README.md\"                                                 \n[25] \"result\"                                                    \n[26] \"R-igraph-TO-DO.ipynb\"                                      \n[27] \"R-Kyle-Liquidity.ipynb\"                                    \n[28] \"R-mFilter.ipynb\"                                           \n[29] \"R-ndtv-d3--TO-DO.ipynb\"                                    \n[30] \"R-ndtv.ipynb\"                                              \n[31] \"R-NetworkRiskMeasures.ipynb\"                               \n[32] \"R-NetworkToolbox.ipynb\"                                    \n[33] \"R-PCA.ipynb\"                                               \n[34] \"R-quantreg.ipynb\"                                          \n[35] \"R-SRISK.ipynb\"                                             \n[36] \"R-systemicrisk--Bayesian-network-reconstruction.ipynb\"     \n[37] \"R-TEMPLATE.ipynb\"                                          \n[38] \"shell.log\"                                                 \n[39] \"Sheppard--Python-for-econometrics--Example_GJR-GARCH.ipynb\"\n[40] \"SRISK\"                                                     \n[41] \"wheel.png\"                                                 ",
            "text/latex": "\\begin{enumerate*}\n\\item 'azure-notebook-github-integration.md'\n\\item 'data'\n\\item '\\_DELETE'\n\\item 'Links'\n\\item 'Local'\n\\item 'miscellaneous'\n\\item 'neva'\n\\item 'output'\n\\item 'packages'\n\\item 'Py-ABCE--Tutorial.ipynb'\n\\item 'Py-AB-SFC--Grasselli-Li.ipynb'\n\\item 'Py-clustergrammer--TO-DO.ipynb'\n\\item 'Py-Gordon-Reid--Interbank-network-sim.ipynb'\n\\item 'Py-igraph--TO-DO.ipynb'\n\\item 'Py-Lotka-Volterra.ipynb'\n\\item 'Py-networkx--TO-DO.ipynb'\n\\item 'Py-neva--Network-based-stress-testing.ipynb'\n\\item 'Py-planarity.ipynb'\n\\item 'Py-sfc\\_models.ipynb'\n\\item 'Py-smoothmax.ipynb'\n\\item 'Py-SRISK.ipynb'\n\\item 'R-ccgarch.ipynb'\n\\item 'R-CreditRisk.ipynb'\n\\item 'README.md'\n\\item 'result'\n\\item 'R-igraph-TO-DO.ipynb'\n\\item 'R-Kyle-Liquidity.ipynb'\n\\item 'R-mFilter.ipynb'\n\\item 'R-ndtv-d3--TO-DO.ipynb'\n\\item 'R-ndtv.ipynb'\n\\item 'R-NetworkRiskMeasures.ipynb'\n\\item 'R-NetworkToolbox.ipynb'\n\\item 'R-PCA.ipynb'\n\\item 'R-quantreg.ipynb'\n\\item 'R-SRISK.ipynb'\n\\item 'R-systemicrisk--Bayesian-network-reconstruction.ipynb'\n\\item 'R-TEMPLATE.ipynb'\n\\item 'shell.log'\n\\item 'Sheppard--Python-for-econometrics--Example\\_GJR-GARCH.ipynb'\n\\item 'SRISK'\n\\item 'wheel.png'\n\\end{enumerate*}\n",
            "text/markdown": "1. 'azure-notebook-github-integration.md'\n2. 'data'\n3. '_DELETE'\n4. 'Links'\n5. 'Local'\n6. 'miscellaneous'\n7. 'neva'\n8. 'output'\n9. 'packages'\n10. 'Py-ABCE--Tutorial.ipynb'\n11. 'Py-AB-SFC--Grasselli-Li.ipynb'\n12. 'Py-clustergrammer--TO-DO.ipynb'\n13. 'Py-Gordon-Reid--Interbank-network-sim.ipynb'\n14. 'Py-igraph--TO-DO.ipynb'\n15. 'Py-Lotka-Volterra.ipynb'\n16. 'Py-networkx--TO-DO.ipynb'\n17. 'Py-neva--Network-based-stress-testing.ipynb'\n18. 'Py-planarity.ipynb'\n19. 'Py-sfc_models.ipynb'\n20. 'Py-smoothmax.ipynb'\n21. 'Py-SRISK.ipynb'\n22. 'R-ccgarch.ipynb'\n23. 'R-CreditRisk.ipynb'\n24. 'README.md'\n25. 'result'\n26. 'R-igraph-TO-DO.ipynb'\n27. 'R-Kyle-Liquidity.ipynb'\n28. 'R-mFilter.ipynb'\n29. 'R-ndtv-d3--TO-DO.ipynb'\n30. 'R-ndtv.ipynb'\n31. 'R-NetworkRiskMeasures.ipynb'\n32. 'R-NetworkToolbox.ipynb'\n33. 'R-PCA.ipynb'\n34. 'R-quantreg.ipynb'\n35. 'R-SRISK.ipynb'\n36. 'R-systemicrisk--Bayesian-network-reconstruction.ipynb'\n37. 'R-TEMPLATE.ipynb'\n38. 'shell.log'\n39. 'Sheppard--Python-for-econometrics--Example_GJR-GARCH.ipynb'\n40. 'SRISK'\n41. 'wheel.png'\n\n\n",
            "text/html": "<ol class=list-inline>\n\t<li>'azure-notebook-github-integration.md'</li>\n\t<li>'data'</li>\n\t<li>'_DELETE'</li>\n\t<li>'Links'</li>\n\t<li>'Local'</li>\n\t<li>'miscellaneous'</li>\n\t<li>'neva'</li>\n\t<li>'output'</li>\n\t<li>'packages'</li>\n\t<li>'Py-ABCE--Tutorial.ipynb'</li>\n\t<li>'Py-AB-SFC--Grasselli-Li.ipynb'</li>\n\t<li>'Py-clustergrammer--TO-DO.ipynb'</li>\n\t<li>'Py-Gordon-Reid--Interbank-network-sim.ipynb'</li>\n\t<li>'Py-igraph--TO-DO.ipynb'</li>\n\t<li>'Py-Lotka-Volterra.ipynb'</li>\n\t<li>'Py-networkx--TO-DO.ipynb'</li>\n\t<li>'Py-neva--Network-based-stress-testing.ipynb'</li>\n\t<li>'Py-planarity.ipynb'</li>\n\t<li>'Py-sfc_models.ipynb'</li>\n\t<li>'Py-smoothmax.ipynb'</li>\n\t<li>'Py-SRISK.ipynb'</li>\n\t<li>'R-ccgarch.ipynb'</li>\n\t<li>'R-CreditRisk.ipynb'</li>\n\t<li>'README.md'</li>\n\t<li>'result'</li>\n\t<li>'R-igraph-TO-DO.ipynb'</li>\n\t<li>'R-Kyle-Liquidity.ipynb'</li>\n\t<li>'R-mFilter.ipynb'</li>\n\t<li>'R-ndtv-d3--TO-DO.ipynb'</li>\n\t<li>'R-ndtv.ipynb'</li>\n\t<li>'R-NetworkRiskMeasures.ipynb'</li>\n\t<li>'R-NetworkToolbox.ipynb'</li>\n\t<li>'R-PCA.ipynb'</li>\n\t<li>'R-quantreg.ipynb'</li>\n\t<li>'R-SRISK.ipynb'</li>\n\t<li>'R-systemicrisk--Bayesian-network-reconstruction.ipynb'</li>\n\t<li>'R-TEMPLATE.ipynb'</li>\n\t<li>'shell.log'</li>\n\t<li>'Sheppard--Python-for-econometrics--Example_GJR-GARCH.ipynb'</li>\n\t<li>'SRISK'</li>\n\t<li>'wheel.png'</li>\n</ol>\n"
          },
          "metadata": {}
        }
      ]
    },
    {
      "metadata": {
        "trusted": true
      },
      "cell_type": "code",
      "source": "library(devtools)",
      "execution_count": 23,
      "outputs": []
    },
    {
      "metadata": {
        "trusted": true
      },
      "cell_type": "code",
      "source": "#install.packages(\"BDgraph\",dep=TRUE)\ninstall.packages('BDgraph',verbose=TRUE)",
      "execution_count": 25,
      "outputs": [
        {
          "output_type": "stream",
          "text": "Installing package into ‘/home/nbuser/R’\n(as ‘lib’ is unspecified)\nsystem (cmd0): /opt/microsoft/ropen/3.4.1/lib64/R/bin/R CMD INSTALL\nfoundpkgs: BDgraph, /tmp/RtmpDFI2Mu/downloaded_packages/BDgraph_2.51.tar.gz\nfiles: /tmp/RtmpDFI2Mu/downloaded_packages/BDgraph_2.51.tar.gz\nWarning message in install.packages(\"BDgraph\", verbose = TRUE):\n“installation of package ‘BDgraph’ had non-zero exit status”",
          "name": "stderr"
        }
      ]
    },
    {
      "metadata": {
        "trusted": true
      },
      "cell_type": "code",
      "source": "#system(\"cat /home/nbuser/.nb.log \",intern=TRUE)",
      "execution_count": 29,
      "outputs": []
    },
    {
      "metadata": {
        "trusted": true
      },
      "cell_type": "code",
      "source": "install.packages(\"qgraph\",dep=TRUE)",
      "execution_count": 7,
      "outputs": [
        {
          "output_type": "stream",
          "text": "Installing package into ‘/home/nbuser/R’\n(as ‘lib’ is unspecified)\nalso installing the dependencies ‘rtiff’, ‘BDgraph’, ‘RSVGTipsDevice’, ‘sendplot’\n\nWarning message in install.packages(\"qgraph\", dep = TRUE):\n“installation of package ‘rtiff’ had non-zero exit status”Warning message in install.packages(\"qgraph\", dep = TRUE):\n“installation of package ‘BDgraph’ had non-zero exit status”Warning message in install.packages(\"qgraph\", dep = TRUE):\n“installation of package ‘sendplot’ had non-zero exit status”Warning message in install.packages(\"qgraph\", dep = TRUE):\n“installation of package ‘qgraph’ had non-zero exit status”",
          "name": "stderr"
        }
      ]
    },
    {
      "metadata": {
        "slideshow": {
          "slide_type": "slide"
        },
        "trusted": true
      },
      "cell_type": "code",
      "source": "install.packages(\"NetworkToolbox\")",
      "execution_count": 4,
      "outputs": [
        {
          "output_type": "stream",
          "text": "Installing package into ‘/home/nbuser/R’\n(as ‘lib’ is unspecified)\nalso installing the dependencies ‘glasso’, ‘d3Network’, ‘ggm’, ‘BDgraph’, ‘qgraph’, ‘ppcor’\n\nWarning message in install.packages(\"NetworkToolbox\"):\n“installation of package ‘BDgraph’ had non-zero exit status”Warning message in install.packages(\"NetworkToolbox\"):\n“installation of package ‘qgraph’ had non-zero exit status”Warning message in install.packages(\"NetworkToolbox\"):\n“installation of package ‘NetworkToolbox’ had non-zero exit status”",
          "name": "stderr"
        }
      ]
    },
    {
      "metadata": {
        "trusted": true
      },
      "cell_type": "code",
      "source": "pkgs <- data.frame(installed.packages())\n\npkgs[pkgs$Package %in% c(\"glasso\",\"d3Network\",\"ggm\",\"ppcor\",\"BDgraph\",\"qgraph\",\"NetworkToolbox\"),]",
      "execution_count": 35,
      "outputs": [
        {
          "output_type": "stream",
          "text": "Warning message in data.row.names(row.names, rowsi, i):\n“some row.names duplicated: 780,784,798,809,810 --> row.names NOT used”",
          "name": "stderr"
        },
        {
          "output_type": "display_data",
          "data": {
            "text/plain": "    Package   LibPath        Version Priority Depends           \n125 d3Network /home/nbuser/R 0.5.2.1 NA       R (>= 3.0.0)      \n243 ggm       /home/nbuser/R 2.3     NA       igraph            \n249 glasso    /home/nbuser/R 1.10    NA       NA                \n487 ppcor     /home/nbuser/R 1.1     NA       R (>= 2.6.0), MASS\n    Imports              LinkingTo Suggests Enhances License    License_is_FOSS\n125 plyr, rjson, whisker NA        RCurl    NA       GPL (>= 3) NA             \n243 NA                   NA        NA       NA       GPL (>= 2) NA             \n249 NA                   NA        NA       NA       GPL-2      NA             \n487 NA                   NA        NA       NA       GPL-2      NA             \n    License_restricts_use OS_type MD5sum NeedsCompilation Built\n125 NA                    NA      NA     no               3.4.1\n243 NA                    NA      NA     no               3.4.1\n249 NA                    NA      NA     yes              3.4.1\n487 NA                    NA      NA     no               3.4.1",
            "text/latex": "\\begin{tabular}{r|llllllllllllllll}\n  & Package & LibPath & Version & Priority & Depends & Imports & LinkingTo & Suggests & Enhances & License & License\\_is\\_FOSS & License\\_restricts\\_use & OS\\_type & MD5sum & NeedsCompilation & Built\\\\\n\\hline\n\t125 & d3Network            & /home/nbuser/R       & 0.5.2.1              & NA                   & R (>= 3.0.0)         & plyr, rjson, whisker & NA                   & RCurl                & NA                   & GPL (>= 3)           & NA                   & NA                   & NA                   & NA                   & no                   & 3.4.1               \\\\\n\t243 & ggm                  & /home/nbuser/R       & 2.3                  & NA                   & igraph               & NA                   & NA                   & NA                   & NA                   & GPL (>= 2)           & NA                   & NA                   & NA                   & NA                   & no                   & 3.4.1               \\\\\n\t249 & glasso               & /home/nbuser/R       & 1.10                 & NA                   & NA                   & NA                   & NA                   & NA                   & NA                   & GPL-2                & NA                   & NA                   & NA                   & NA                   & yes                  & 3.4.1               \\\\\n\t487 & ppcor                & /home/nbuser/R       & 1.1                  & NA                   & R (>= 2.6.0), MASS   & NA                   & NA                   & NA                   & NA                   & GPL-2                & NA                   & NA                   & NA                   & NA                   & no                   & 3.4.1               \\\\\n\\end{tabular}\n",
            "text/markdown": "\n| <!--/--> | Package | LibPath | Version | Priority | Depends | Imports | LinkingTo | Suggests | Enhances | License | License_is_FOSS | License_restricts_use | OS_type | MD5sum | NeedsCompilation | Built | \n|---|---|---|---|\n| 125 | d3Network            | /home/nbuser/R       | 0.5.2.1              | NA                   | R (>= 3.0.0)         | plyr, rjson, whisker | NA                   | RCurl                | NA                   | GPL (>= 3)           | NA                   | NA                   | NA                   | NA                   | no                   | 3.4.1                | \n| 243 | ggm                  | /home/nbuser/R       | 2.3                  | NA                   | igraph               | NA                   | NA                   | NA                   | NA                   | GPL (>= 2)           | NA                   | NA                   | NA                   | NA                   | no                   | 3.4.1                | \n| 249 | glasso               | /home/nbuser/R       | 1.10                 | NA                   | NA                   | NA                   | NA                   | NA                   | NA                   | GPL-2                | NA                   | NA                   | NA                   | NA                   | yes                  | 3.4.1                | \n| 487 | ppcor                | /home/nbuser/R       | 1.1                  | NA                   | R (>= 2.6.0), MASS   | NA                   | NA                   | NA                   | NA                   | GPL-2                | NA                   | NA                   | NA                   | NA                   | no                   | 3.4.1                | \n\n\n",
            "text/html": "<table>\n<thead><tr><th></th><th scope=col>Package</th><th scope=col>LibPath</th><th scope=col>Version</th><th scope=col>Priority</th><th scope=col>Depends</th><th scope=col>Imports</th><th scope=col>LinkingTo</th><th scope=col>Suggests</th><th scope=col>Enhances</th><th scope=col>License</th><th scope=col>License_is_FOSS</th><th scope=col>License_restricts_use</th><th scope=col>OS_type</th><th scope=col>MD5sum</th><th scope=col>NeedsCompilation</th><th scope=col>Built</th></tr></thead>\n<tbody>\n\t<tr><th scope=row>125</th><td>d3Network                                                    </td><td>/home/nbuser/R                                               </td><td>0.5.2.1                                                      </td><td>NA                                                           </td><td><span style=white-space:pre-wrap>R (&gt;= 3.0.0)      </span></td><td>plyr, rjson, whisker                                         </td><td>NA                                                           </td><td>RCurl                                                        </td><td>NA                                                           </td><td>GPL (&gt;= 3)                                                </td><td>NA                                                           </td><td>NA                                                           </td><td>NA                                                           </td><td>NA                                                           </td><td>no                                                           </td><td>3.4.1                                                        </td></tr>\n\t<tr><th scope=row>243</th><td><span style=white-space:pre-wrap>ggm      </span>           </td><td>/home/nbuser/R                                              </td><td><span style=white-space:pre-wrap>2.3    </span>             </td><td>NA                                                          </td><td><span style=white-space:pre-wrap>igraph            </span>  </td><td><span style=white-space:pre-wrap>NA                  </span></td><td>NA                                                          </td><td><span style=white-space:pre-wrap>NA   </span>               </td><td>NA                                                          </td><td>GPL (&gt;= 2)                                               </td><td>NA                                                          </td><td>NA                                                          </td><td>NA                                                          </td><td>NA                                                          </td><td>no                                                          </td><td>3.4.1                                                       </td></tr>\n\t<tr><th scope=row>249</th><td>glasso              </td><td>/home/nbuser/R      </td><td>1.10                </td><td>NA                  </td><td>NA                  </td><td>NA                  </td><td>NA                  </td><td>NA                  </td><td>NA                  </td><td>GPL-2               </td><td>NA                  </td><td>NA                  </td><td>NA                  </td><td>NA                  </td><td>yes                 </td><td>3.4.1               </td></tr>\n\t<tr><th scope=row>487</th><td><span style=white-space:pre-wrap>ppcor    </span>           </td><td>/home/nbuser/R                                              </td><td><span style=white-space:pre-wrap>1.1    </span>             </td><td>NA                                                          </td><td>R (&gt;= 2.6.0), MASS                                       </td><td><span style=white-space:pre-wrap>NA                  </span></td><td>NA                                                          </td><td><span style=white-space:pre-wrap>NA   </span>               </td><td>NA                                                          </td><td><span style=white-space:pre-wrap>GPL-2     </span>          </td><td>NA                                                          </td><td>NA                                                          </td><td>NA                                                          </td><td>NA                                                          </td><td>no                                                          </td><td>3.4.1                                                       </td></tr>\n</tbody>\n</table>\n"
          },
          "metadata": {}
        }
      ]
    },
    {
      "metadata": {
        "trusted": true
      },
      "cell_type": "code",
      "source": "read.delim(\"/home/nbuser/.nb.log\")[20:30,]",
      "execution_count": 12,
      "outputs": [
        {
          "output_type": "display_data",
          "data": {
            "text/plain": " [1] * installing *source* package ‘BDgraph’ ...                         \n [2] ** package ‘BDgraph’ successfully unpacked and MD5 sums checked     \n [3] checking whether the C++ compiler works... no                       \n [4] configure: error: in `/tmp/RtmpffCoF2/R.INSTALL31d298ef474/BDgraph':\n [5] configure: error: C++ compiler cannot create executables            \n [6] See `config.log' for more details                                   \n [7] ERROR: configuration failed for package ‘BDgraph’                   \n [8] * removing ‘/home/nbuser/R/BDgraph’                                 \n [9] The downloaded source packages are in                               \n[10]                                                                     \n[11] ‘/tmp/RtmpDFI2Mu/downloaded_packages’                               \n33 Levels:  ... trying URL 'http://cran.us.r-project.org/src/contrib/BDgraph_2.51.tar.gz'",
            "text/latex": "\\begin{enumerate*}\n\\item * installing *source* package ‘BDgraph’ ...\n\\item ** package ‘BDgraph’ successfully unpacked and MD5 sums checked\n\\item checking whether the C++ compiler works... no\n\\item configure: error: in `/tmp/RtmpffCoF2/R.INSTALL31d298ef474/BDgraph':\n\\item configure: error: C++ compiler cannot create executables\n\\item See `config.log' for more details\n\\item ERROR: configuration failed for package ‘BDgraph’\n\\item * removing ‘/home/nbuser/R/BDgraph’\n\\item The downloaded source packages are in\n\\item \n\\item ‘/tmp/RtmpDFI2Mu/downloaded\\_packages’\n\\end{enumerate*}\n\n\\emph{Levels}: \\begin{enumerate*}\n\\item ''\n\\item '‘/tmp/RtmpDFI2Mu/downloaded\\_packages’'\n\\item '{[}E 16:11:35.686 NotebookApp{]} Could not open static file \\textbackslash{}'\\textbackslash{}''\n\\item '{[}I 04:25:43.834 NotebookApp{]} Writing notebook server cookie secret to /home/nbuser/.local/share/jupyter/runtime/notebook\\_cookie\\_secret'\n\\item '{[}I 04:25:44.281 NotebookApp{]} {[}jupyter\\_nbextensions\\_configurator{]} enabled 0.4.0'\n\\item '{[}I 04:25:44.339 NotebookApp{]} JupyterLab application directory is /usr/local/share/jupyter/lab'\n\\item '{[}I 04:25:44.339 NotebookApp{]} JupyterLab beta preview extension loaded from /usr/local/lib/python2.7/dist-packages/jupyterlab'\n\\item '{[}I 04:25:44.377 NotebookApp{]} 0 active kernels'\n\\item '{[}I 04:25:44.377 NotebookApp{]} http://nbserver:25198/nb/'\n\\item '{[}I 04:25:44.377 NotebookApp{]} Serving notebooks from local directory: /home/nbuser/library'\n\\item '{[}I 04:25:44.377 NotebookApp{]} The Jupyter Notebook is running at:'\n\\item '{[}I 04:25:44.377 NotebookApp{]} Use Control-C to stop this server and shut down all kernels (twice to skip confirmation).'\n\\item '{[}I 16:11:36.407 NotebookApp{]} Kernel started: 75bb2744-287b-43ab-8c89-eb289694128a'\n\\item '{[}I 16:11:38.622 NotebookApp{]} Adapting to protocol v5.0 for kernel 75bb2744-287b-43ab-8c89-eb289694128a'\n\\item '{[}I 16:33:55.122 NotebookApp{]} New terminal with specified name: 1'\n\\item '{[}W 04:25:44.187 NotebookApp{]} WARNING: The notebook server is listening on all IP addresses and not using authentication. This is highly insecure and not recommended.'\n\\item '{[}W 04:25:44.187 NotebookApp{]} WARNING: The notebook server is listening on all IP addresses and not using encryption. This is not recommended.'\n\\item '{[}W 16:11:35.688 NotebookApp{]} 404 GET / (10.36.18.1) 62.21ms referer=None'\n\\item '* installing *source* package ‘BDgraph’ ...'\n\\item '* removing ‘/home/nbuser/R/BDgraph’'\n\\item '** package ‘BDgraph’ successfully unpacked and MD5 sums checked'\n\\item '=================================================='\n\\item 'checking whether the C++ compiler works... no'\n\\item 'configure: error: C++ compiler cannot create executables'\n\\item 'configure: error: in `/tmp/RtmpffCoF2/R.INSTALL31d298ef474/BDgraph\\textbackslash{}':'\n\\item 'Content type \\textbackslash{}'application/x-gzip\\textbackslash{}' length 2283912 bytes (2.2 MB)'\n\\item 'downloaded 2.2 MB'\n\\item 'ERROR: configuration failed for package ‘BDgraph’'\n\\item 'See `config.log\\textbackslash{}' for more details'\n\\item 'TermSocket.open: 1'\n\\item 'TermSocket.open: Opened 1'\n\\item 'The downloaded source packages are in'\n\\item 'trying URL \\textbackslash{}'http://cran.us.r-project.org/src/contrib/BDgraph\\_2.51.tar.gz\\textbackslash{}''\n\\end{enumerate*}\n",
            "text/markdown": "1. * installing *source* package ‘BDgraph’ ...\n2. ** package ‘BDgraph’ successfully unpacked and MD5 sums checked\n3. checking whether the C++ compiler works... no\n4. configure: error: in `/tmp/RtmpffCoF2/R.INSTALL31d298ef474/BDgraph':\n5. configure: error: C++ compiler cannot create executables\n6. See `config.log' for more details\n7. ERROR: configuration failed for package ‘BDgraph’\n8. * removing ‘/home/nbuser/R/BDgraph’\n9. The downloaded source packages are in\n10. \n11. ‘/tmp/RtmpDFI2Mu/downloaded_packages’\n\n\n\n**Levels**: 1. ''\n2. '‘/tmp/RtmpDFI2Mu/downloaded_packages’'\n3. '[E 16:11:35.686 NotebookApp] Could not open static file \\'\\''\n4. '[I 04:25:43.834 NotebookApp] Writing notebook server cookie secret to /home/nbuser/.local/share/jupyter/runtime/notebook_cookie_secret'\n5. '[I 04:25:44.281 NotebookApp] [jupyter_nbextensions_configurator] enabled 0.4.0'\n6. '[I 04:25:44.339 NotebookApp] JupyterLab application directory is /usr/local/share/jupyter/lab'\n7. '[I 04:25:44.339 NotebookApp] JupyterLab beta preview extension loaded from /usr/local/lib/python2.7/dist-packages/jupyterlab'\n8. '[I 04:25:44.377 NotebookApp] 0 active kernels'\n9. '[I 04:25:44.377 NotebookApp] http://nbserver:25198/nb/'\n10. '[I 04:25:44.377 NotebookApp] Serving notebooks from local directory: /home/nbuser/library'\n11. '[I 04:25:44.377 NotebookApp] The Jupyter Notebook is running at:'\n12. '[I 04:25:44.377 NotebookApp] Use Control-C to stop this server and shut down all kernels (twice to skip confirmation).'\n13. '[I 16:11:36.407 NotebookApp] Kernel started: 75bb2744-287b-43ab-8c89-eb289694128a'\n14. '[I 16:11:38.622 NotebookApp] Adapting to protocol v5.0 for kernel 75bb2744-287b-43ab-8c89-eb289694128a'\n15. '[I 16:33:55.122 NotebookApp] New terminal with specified name: 1'\n16. '[W 04:25:44.187 NotebookApp] WARNING: The notebook server is listening on all IP addresses and not using authentication. This is highly insecure and not recommended.'\n17. '[W 04:25:44.187 NotebookApp] WARNING: The notebook server is listening on all IP addresses and not using encryption. This is not recommended.'\n18. '[W 16:11:35.688 NotebookApp] 404 GET / (10.36.18.1) 62.21ms referer=None'\n19. '* installing *source* package ‘BDgraph’ ...'\n20. '* removing ‘/home/nbuser/R/BDgraph’'\n21. '** package ‘BDgraph’ successfully unpacked and MD5 sums checked'\n22. '=================================================='\n23. 'checking whether the C++ compiler works... no'\n24. 'configure: error: C++ compiler cannot create executables'\n25. 'configure: error: in `/tmp/RtmpffCoF2/R.INSTALL31d298ef474/BDgraph\\':'\n26. 'Content type \\'application/x-gzip\\' length 2283912 bytes (2.2 MB)'\n27. 'downloaded 2.2 MB'\n28. 'ERROR: configuration failed for package ‘BDgraph’'\n29. 'See `config.log\\' for more details'\n30. 'TermSocket.open: 1'\n31. 'TermSocket.open: Opened 1'\n32. 'The downloaded source packages are in'\n33. 'trying URL \\'http://cran.us.r-project.org/src/contrib/BDgraph_2.51.tar.gz\\''\n\n\n",
            "text/html": "<ol class=list-inline>\n\t<li>* installing *source* package ‘BDgraph’ ...</li>\n\t<li>** package ‘BDgraph’ successfully unpacked and MD5 sums checked</li>\n\t<li>checking whether the C++ compiler works... no</li>\n\t<li>configure: error: in `/tmp/RtmpffCoF2/R.INSTALL31d298ef474/BDgraph':</li>\n\t<li>configure: error: C++ compiler cannot create executables</li>\n\t<li>See `config.log' for more details</li>\n\t<li>ERROR: configuration failed for package ‘BDgraph’</li>\n\t<li>* removing ‘/home/nbuser/R/BDgraph’</li>\n\t<li>The downloaded source packages are in</li>\n\t<li></li>\n\t<li>‘/tmp/RtmpDFI2Mu/downloaded_packages’</li>\n</ol>\n\n<details>\n\t<summary style=display:list-item;cursor:pointer>\n\t\t<strong>Levels</strong>:\n\t</summary>\n\t<ol class=list-inline>\n\t\t<li>''</li>\n\t\t<li>'‘/tmp/RtmpDFI2Mu/downloaded_packages’'</li>\n\t\t<li>'[E 16:11:35.686 NotebookApp] Could not open static file \\'\\''</li>\n\t\t<li>'[I 04:25:43.834 NotebookApp] Writing notebook server cookie secret to /home/nbuser/.local/share/jupyter/runtime/notebook_cookie_secret'</li>\n\t\t<li>'[I 04:25:44.281 NotebookApp] [jupyter_nbextensions_configurator] enabled 0.4.0'</li>\n\t\t<li>'[I 04:25:44.339 NotebookApp] JupyterLab application directory is /usr/local/share/jupyter/lab'</li>\n\t\t<li>'[I 04:25:44.339 NotebookApp] JupyterLab beta preview extension loaded from /usr/local/lib/python2.7/dist-packages/jupyterlab'</li>\n\t\t<li>'[I 04:25:44.377 NotebookApp] 0 active kernels'</li>\n\t\t<li>'[I 04:25:44.377 NotebookApp] http://nbserver:25198/nb/'</li>\n\t\t<li>'[I 04:25:44.377 NotebookApp] Serving notebooks from local directory: /home/nbuser/library'</li>\n\t\t<li>'[I 04:25:44.377 NotebookApp] The Jupyter Notebook is running at:'</li>\n\t\t<li>'[I 04:25:44.377 NotebookApp] Use Control-C to stop this server and shut down all kernels (twice to skip confirmation).'</li>\n\t\t<li>'[I 16:11:36.407 NotebookApp] Kernel started: 75bb2744-287b-43ab-8c89-eb289694128a'</li>\n\t\t<li>'[I 16:11:38.622 NotebookApp] Adapting to protocol v5.0 for kernel 75bb2744-287b-43ab-8c89-eb289694128a'</li>\n\t\t<li>'[I 16:33:55.122 NotebookApp] New terminal with specified name: 1'</li>\n\t\t<li>'[W 04:25:44.187 NotebookApp] WARNING: The notebook server is listening on all IP addresses and not using authentication. This is highly insecure and not recommended.'</li>\n\t\t<li>'[W 04:25:44.187 NotebookApp] WARNING: The notebook server is listening on all IP addresses and not using encryption. This is not recommended.'</li>\n\t\t<li>'[W 16:11:35.688 NotebookApp] 404 GET / (10.36.18.1) 62.21ms referer=None'</li>\n\t\t<li>'* installing *source* package ‘BDgraph’ ...'</li>\n\t\t<li>'* removing ‘/home/nbuser/R/BDgraph’'</li>\n\t\t<li>'** package ‘BDgraph’ successfully unpacked and MD5 sums checked'</li>\n\t\t<li>'=================================================='</li>\n\t\t<li>'checking whether the C++ compiler works... no'</li>\n\t\t<li>'configure: error: C++ compiler cannot create executables'</li>\n\t\t<li>'configure: error: in `/tmp/RtmpffCoF2/R.INSTALL31d298ef474/BDgraph\\':'</li>\n\t\t<li>'Content type \\'application/x-gzip\\' length 2283912 bytes (2.2 MB)'</li>\n\t\t<li>'downloaded 2.2 MB'</li>\n\t\t<li>'ERROR: configuration failed for package ‘BDgraph’'</li>\n\t\t<li>'See `config.log\\' for more details'</li>\n\t\t<li>'TermSocket.open: 1'</li>\n\t\t<li>'TermSocket.open: Opened 1'</li>\n\t\t<li>'The downloaded source packages are in'</li>\n\t\t<li>'trying URL \\'http://cran.us.r-project.org/src/contrib/BDgraph_2.51.tar.gz\\''</li>\n\t</ol>\n</details>"
          },
          "metadata": {}
        }
      ]
    },
    {
      "metadata": {},
      "cell_type": "markdown",
      "source": "## Example usage"
    },
    {
      "metadata": {
        "heading_collapsed": true
      },
      "cell_type": "markdown",
      "source": "### Create random correlation matrix"
    },
    {
      "metadata": {
        "hidden": true,
        "trusted": false
      },
      "cell_type": "code",
      "source": "require(Matrix) ",
      "execution_count": null,
      "outputs": []
    },
    {
      "metadata": {
        "hidden": true,
        "trusted": false
      },
      "cell_type": "code",
      "source": "R <- matrix(runif(16), ncol=4) \nR <- (R * lower.tri(R)) + t(R * lower.tri(R)) \ndiag(R) <- 1 \neigen(R)$val \nQ <- nearPD(R, posd.tol=1.e-04)$mat \neigen(Q)$val \nmax(abs(Q - R))  # maximum discrepancy between R and Q ",
      "execution_count": null,
      "outputs": []
    },
    {
      "metadata": {
        "hidden": true
      },
      "cell_type": "markdown",
      "source": "Another easy way to produce a valid correlation matrix is: "
    },
    {
      "metadata": {
        "hidden": true,
        "trusted": false
      },
      "cell_type": "code",
      "source": "# R <- matrix(runif(36), ncol=6) \nR <- matrix(rnorm(36),6)\nRtR <- R %*% t(R) \nQ <- cov2cor(RtR) ",
      "execution_count": 5,
      "outputs": []
    },
    {
      "metadata": {},
      "cell_type": "markdown",
      "source": "### `randomcorrelation`"
    },
    {
      "metadata": {
        "trusted": true
      },
      "cell_type": "code",
      "source": "randomcorrelation <- function(n){\n    R <- matrix(rnorm(n*n),n)\n    RtR <- R %*% t(R) \n    Q <- cov2cor(RtR) \n    return(Q)\n    }",
      "execution_count": 1,
      "outputs": []
    },
    {
      "metadata": {
        "trusted": true
      },
      "cell_type": "code",
      "source": "testcorr = randomcorrelation(6)",
      "execution_count": 2,
      "outputs": []
    },
    {
      "metadata": {},
      "cell_type": "markdown",
      "source": "### TMFG"
    },
    {
      "metadata": {
        "trusted": true
      },
      "cell_type": "code",
      "source": "require(NetworkToolbox)",
      "execution_count": 3,
      "outputs": [
        {
          "output_type": "stream",
          "text": "Loading required package: NetworkToolbox\nWarning message in library(package, lib.loc = lib.loc, character.only = TRUE, logical.return = TRUE, :\n“there is no package called ‘NetworkToolbox’”",
          "name": "stderr"
        }
      ]
    },
    {
      "metadata": {
        "trusted": false
      },
      "cell_type": "code",
      "source": "TMFG(testcorr)",
      "execution_count": 11,
      "outputs": [
        {
          "ename": "ERROR",
          "evalue": "Error in TMFG(testcorr): could not find function \"TMFG\"\n",
          "output_type": "error",
          "traceback": [
            "Error in TMFG(testcorr): could not find function \"TMFG\"\nTraceback:\n"
          ]
        }
      ]
    },
    {
      "metadata": {},
      "cell_type": "markdown",
      "source": "..."
    },
    {
      "metadata": {},
      "cell_type": "markdown",
      "source": "## Further reading"
    },
    {
      "metadata": {
        "trusted": false
      },
      "cell_type": "code",
      "source": "",
      "execution_count": null,
      "outputs": []
    }
  ],
  "metadata": {
    "kernelspec": {
      "name": "r",
      "display_name": "R",
      "language": "R"
    },
    "language_info": {
      "mimetype": "text/x-r-source",
      "name": "R",
      "pygments_lexer": "r",
      "version": "3.4.1",
      "file_extension": ".r",
      "codemirror_mode": "r"
    }
  },
  "nbformat": 4,
  "nbformat_minor": 2
}