{
 "cells": [
  {
   "cell_type": "markdown",
   "metadata": {},
   "source": [
    "# Eikon API Proxy\n",
    "https://developers.thomsonrpythoneuters.com/eikon-web-and-scripting-apis/quick-start   \n",
    "[All Posts in Eikon Data APIs](https://community.developers.thomsonreuters.com/spaces/92/view.html)  \n",
    "https://developers.thomsonreuters.com/eikon-data-apis   \n",
    "https://developers.thomsonreuters.com/eikon-data-apis/docs  "
   ]
  },
  {
   "cell_type": "markdown",
   "metadata": {},
   "source": [
    "#### <font color=red>ONLY RUNS LOCALLY (NOT ON AZURE)</font>  "
   ]
  },
  {
   "cell_type": "code",
   "execution_count": null,
   "metadata": {
    "collapsed": true
   },
   "outputs": [],
   "source": [
    "# pip install eikon         # Run in cmd window    Or in Visual Studio > PTVS"
   ]
  },
  {
   "cell_type": "code",
   "execution_count": 2,
   "metadata": {
    "collapsed": true
   },
   "outputs": [],
   "source": [
    "import eikon as ek\r\n",
    "import configparser as cp"
   ]
  },
  {
   "cell_type": "markdown",
   "metadata": {},
   "source": [
    "Get this by opening **APPKEY** app in Eikon."
   ]
  },
  {
   "cell_type": "code",
   "execution_count": 3,
   "metadata": {},
   "outputs": [],
   "source": [
    "ek.set_app_key('71222a92fbdf4a168e3cb7322f63083f148c9957')"
   ]
  },
  {
   "cell_type": "code",
   "execution_count": 8,
   "metadata": {},
   "outputs": [],
   "source": [
    "cfg = cp.ConfigParser()\r\n",
    "cfg.read('eikon.cfg')  # adjust for different file location\r\n",
    "ek.set_app_key(cfg['eikon']['appkey'])"
   ]
  },
  {
   "cell_type": "markdown",
   "metadata": {},
   "source": [
    "## Essentials"
   ]
  },
  {
   "cell_type": "markdown",
   "metadata": {},
   "source": [
    "### `get_news_headlines`"
   ]
  },
  {
   "cell_type": "code",
   "execution_count": 15,
   "metadata": {},
   "outputs": [
    {
     "data": {
      "text/html": "<div>\n<style scoped>\n    .dataframe tbody tr th:only-of-type {\n        vertical-align: middle;\n    }\n\n    .dataframe tbody tr th {\n        vertical-align: top;\n    }\n\n    .dataframe thead th {\n        text-align: right;\n    }\n</style>\n<table border=\"1\" class=\"dataframe\">\n  <thead>\n    <tr style=\"text-align: right;\">\n      <th></th>\n      <th>versionCreated</th>\n      <th>text</th>\n      <th>storyId</th>\n      <th>sourceCode</th>\n    </tr>\n  </thead>\n  <tbody>\n  </tbody>\n</table>\n</div>",
      "text/plain": [
       "Empty DataFrame\n",
       "Columns: [versionCreated, text, storyId, sourceCode]\n",
       "Index: []"
      ]
     },
     "execution_count": 15,
     "metadata": {},
     "output_type": "execute_result"
    }
   ],
   "source": [
    "ek.get_news_headlines('R:TD.TO', date_from='2017-10-19T09:00:00', date_to='2017-10-20T18:00:00')"
   ]
  },
  {
   "cell_type": "markdown",
   "metadata": {},
   "source": [
    "### `get_timeseries`  \n",
    "https://docs-developers.thomsonreuters.com/1518205348762/14684/book/en/eikon/index.html#get_timeseries"
   ]
  },
  {
   "cell_type": "code",
   "execution_count": 15,
   "metadata": {},
   "outputs": [
    {
     "data": {
      "text/html": "<div>\n<style scoped>\n    .dataframe tbody tr th:only-of-type {\n        vertical-align: middle;\n    }\n\n    .dataframe tbody tr th {\n        vertical-align: top;\n    }\n\n    .dataframe thead th {\n        text-align: right;\n    }\n</style>\n<table border=\"1\" class=\"dataframe\">\n  <thead>\n    <tr style=\"text-align: right;\">\n      <th>MSFT.O</th>\n      <th>HIGH</th>\n      <th>CLOSE</th>\n      <th>LOW</th>\n      <th>OPEN</th>\n      <th>COUNT</th>\n      <th>VOLUME</th>\n    </tr>\n    <tr>\n      <th>Date</th>\n      <th></th>\n      <th></th>\n      <th></th>\n      <th></th>\n      <th></th>\n      <th></th>\n    </tr>\n  </thead>\n  <tbody>\n    <tr>\n      <th>2016-01-04</th>\n      <td>54.8000</td>\n      <td>54.80</td>\n      <td>53.39</td>\n      <td>54.32</td>\n      <td>272781</td>\n      <td>53777963</td>\n    </tr>\n    <tr>\n      <th>2016-01-05</th>\n      <td>55.3900</td>\n      <td>55.05</td>\n      <td>54.54</td>\n      <td>54.93</td>\n      <td>180637</td>\n      <td>34079674</td>\n    </tr>\n    <tr>\n      <th>2016-01-06</th>\n      <td>54.4001</td>\n      <td>54.05</td>\n      <td>53.64</td>\n      <td>54.32</td>\n      <td>225856</td>\n      <td>39518863</td>\n    </tr>\n    <tr>\n      <th>2016-01-07</th>\n      <td>53.4850</td>\n      <td>52.17</td>\n      <td>52.07</td>\n      <td>52.70</td>\n      <td>303271</td>\n      <td>56564852</td>\n    </tr>\n    <tr>\n      <th>2016-01-08</th>\n      <td>53.2800</td>\n      <td>52.33</td>\n      <td>52.15</td>\n      <td>52.37</td>\n      <td>261949</td>\n      <td>48753969</td>\n    </tr>\n  </tbody>\n</table>\n</div>",
      "text/plain": [
       "MSFT.O         HIGH  CLOSE    LOW   OPEN   COUNT    VOLUME\n",
       "Date                                                      \n",
       "2016-01-04  54.8000  54.80  53.39  54.32  272781  53777963\n",
       "2016-01-05  55.3900  55.05  54.54  54.93  180637  34079674\n",
       "2016-01-06  54.4001  54.05  53.64  54.32  225856  39518863\n",
       "2016-01-07  53.4850  52.17  52.07  52.70  303271  56564852\n",
       "2016-01-08  53.2800  52.33  52.15  52.37  261949  48753969"
      ]
     },
     "execution_count": 15,
     "metadata": {},
     "output_type": "execute_result"
    }
   ],
   "source": [
    "df = ek.get_timeseries([\"MSFT.O\"], \n",
    "                       start_date=\"2016-01-01\",  \n",
    "                       end_date=\"2016-01-10\")\n",
    "df"
   ]
  },
  {
   "cell_type": "markdown",
   "metadata": {},
   "source": [
    "### `get_data`  \n",
    "https://docs-developers.thomsonreuters.com/1518205348762/14684/book/en/eikon/index.html#get_data  "
   ]
  },
  {
   "cell_type": "code",
   "execution_count": 4,
   "metadata": {
    "collapsed": true
   },
   "outputs": [],
   "source": [
    "data_grid1, err = ek.get_data([\"IBM\", \"GOOG.O\", \"MSFT.O\"], [\"TR.PriceClose\", \"TR.Volume\", \"TR.PriceLow\"])\n",
    "data_grid2, err = ek.get_data(\"IBM\", ['TR.Employees', {'TR.GrossProfit':{'params':{'Scale': 6, 'Curn': 'EUR'},'sort_dir':'asc'}}])\n",
    "fields = [ek.TR_Field('tr.revenue'),ek.TR_Field('tr.open',None,'asc',1),ek.TR_Field('TR.GrossProfit',{'Scale': 6, 'Curn': 'EUR'},'asc',0)]\n",
    "data_grid3, err = ek.get_data([\"IBM\",\"MSFT.O\"],fields)"
   ]
  },
  {
   "cell_type": "code",
   "execution_count": 15,
   "metadata": {},
   "outputs": [
    {
     "data": {
      "text/html": [
       "<div>\n",
       "<style scoped>\n",
       "    .dataframe tbody tr th:only-of-type {\n",
       "        vertical-align: middle;\n",
       "    }\n",
       "\n",
       "    .dataframe tbody tr th {\n",
       "        vertical-align: top;\n",
       "    }\n",
       "\n",
       "    .dataframe thead th {\n",
       "        text-align: right;\n",
       "    }\n",
       "</style>\n",
       "<table border=\"1\" class=\"dataframe\">\n",
       "  <thead>\n",
       "    <tr style=\"text-align: right;\">\n",
       "      <th></th>\n",
       "      <th>Instrument</th>\n",
       "      <th>Revenue</th>\n",
       "      <th>Price Open</th>\n",
       "      <th>Gross Profit</th>\n",
       "    </tr>\n",
       "  </thead>\n",
       "  <tbody>\n",
       "    <tr>\n",
       "      <th>0</th>\n",
       "      <td>IBM</td>\n",
       "      <td>79591000000</td>\n",
       "      <td>132.87</td>\n",
       "      <td>32205.23712</td>\n",
       "    </tr>\n",
       "    <tr>\n",
       "      <th>1</th>\n",
       "      <td>MSFT.O</td>\n",
       "      <td>110360000000</td>\n",
       "      <td>107.24</td>\n",
       "      <td>61633.67158</td>\n",
       "    </tr>\n",
       "  </tbody>\n",
       "</table>\n",
       "</div>"
      ],
      "text/plain": [
       "  Instrument       Revenue  Price Open  Gross Profit\n",
       "0        IBM   79591000000      132.87   32205.23712\n",
       "1     MSFT.O  110360000000      107.24   61633.67158"
      ]
     },
     "execution_count": 15,
     "metadata": {},
     "output_type": "execute_result"
    }
   ],
   "source": [
    "data_grid3"
   ]
  },
  {
   "cell_type": "markdown",
   "metadata": {},
   "source": [
    "## More `get_data` examples"
   ]
  },
  {
   "cell_type": "code",
   "execution_count": 9,
   "metadata": {},
   "outputs": [
    {
     "data": {
      "text/html": [
       "<div>\n",
       "<style>\n",
       "    .dataframe thead tr:only-child th {\n",
       "        text-align: right;\n",
       "    }\n",
       "\n",
       "    .dataframe thead th {\n",
       "        text-align: left;\n",
       "    }\n",
       "\n",
       "    .dataframe tbody tr th {\n",
       "        vertical-align: top;\n",
       "    }\n",
       "</style>\n",
       "<table border=\"1\" class=\"dataframe\">\n",
       "  <thead>\n",
       "    <tr style=\"text-align: right;\">\n",
       "      <th></th>\n",
       "      <th>Instrument</th>\n",
       "      <th>Revenue</th>\n",
       "      <th>Gross Profit</th>\n",
       "    </tr>\n",
       "  </thead>\n",
       "  <tbody>\n",
       "    <tr>\n",
       "      <th>0</th>\n",
       "      <td>GOOG.O</td>\n",
       "      <td>110855000000</td>\n",
       "      <td>65272000000</td>\n",
       "    </tr>\n",
       "    <tr>\n",
       "      <th>1</th>\n",
       "      <td>MSFT.O</td>\n",
       "      <td>89950000000</td>\n",
       "      <td>55689000000</td>\n",
       "    </tr>\n",
       "    <tr>\n",
       "      <th>2</th>\n",
       "      <td>FB.O</td>\n",
       "      <td>40653000000</td>\n",
       "      <td>35199000000</td>\n",
       "    </tr>\n",
       "  </tbody>\n",
       "</table>\n",
       "</div>"
      ],
      "text/plain": [
       "  Instrument       Revenue  Gross Profit\n",
       "0     GOOG.O  110855000000   65272000000\n",
       "1     MSFT.O   89950000000   55689000000\n",
       "2       FB.O   40653000000   35199000000"
      ]
     },
     "execution_count": 9,
     "metadata": {},
     "output_type": "execute_result"
    }
   ],
   "source": [
    "df, err = ek.get_data(['GOOG.O','MSFT.O', 'FB.O'], \n",
    "                      [ 'TR.Revenue','TR.GrossProfit'])\n",
    "df"
   ]
  },
  {
   "cell_type": "code",
   "execution_count": 17,
   "metadata": {},
   "outputs": [
    {
     "data": {
      "text/html": "<div>\n<style scoped>\n    .dataframe tbody tr th:only-of-type {\n        vertical-align: middle;\n    }\n\n    .dataframe tbody tr th {\n        vertical-align: top;\n    }\n\n    .dataframe thead th {\n        text-align: right;\n    }\n</style>\n<table border=\"1\" class=\"dataframe\">\n  <thead>\n    <tr style=\"text-align: right;\">\n      <th></th>\n      <th>Instrument</th>\n      <th>Date</th>\n      <th>Revenue</th>\n      <th>Gross Profit</th>\n    </tr>\n  </thead>\n  <tbody>\n    <tr>\n      <th>0</th>\n      <td>GOOG.O</td>\n      <td>2019-12-31T00:00:00Z</td>\n      <td>144386.155420</td>\n      <td>80250.609660</td>\n    </tr>\n    <tr>\n      <th>1</th>\n      <td>GOOG.O</td>\n      <td>2018-12-31T00:00:00Z</td>\n      <td>119295.222480</td>\n      <td>67373.258400</td>\n    </tr>\n    <tr>\n      <th>2</th>\n      <td>GOOG.O</td>\n      <td>2017-12-31T00:00:00Z</td>\n      <td>92409.836550</td>\n      <td>54411.391920</td>\n    </tr>\n    <tr>\n      <th>3</th>\n      <td>MSFT.O</td>\n      <td>2020-06-30T00:00:00Z</td>\n      <td>127339.125850</td>\n      <td>86311.735430</td>\n    </tr>\n    <tr>\n      <th>4</th>\n      <td>MSFT.O</td>\n      <td>2019-06-30T00:00:00Z</td>\n      <td>110699.053380</td>\n      <td>72952.842780</td>\n    </tr>\n    <tr>\n      <th>5</th>\n      <td>MSFT.O</td>\n      <td>2018-06-30T00:00:00Z</td>\n      <td>94461.538400</td>\n      <td>61633.671580</td>\n    </tr>\n    <tr>\n      <th>6</th>\n      <td>FB.O</td>\n      <td>2019-12-31T00:00:00Z</td>\n      <td>63065.965820</td>\n      <td>51674.359620</td>\n    </tr>\n    <tr>\n      <th>7</th>\n      <td>FB.O</td>\n      <td>2018-12-31T00:00:00Z</td>\n      <td>48686.268960</td>\n      <td>40529.457360</td>\n    </tr>\n    <tr>\n      <th>8</th>\n      <td>FB.O</td>\n      <td>2017-12-31T00:00:00Z</td>\n      <td>33888.747330</td>\n      <td>29342.238390</td>\n    </tr>\n    <tr>\n      <th>9</th>\n      <td>AMZN.O</td>\n      <td>2019-12-31T00:00:00Z</td>\n      <td>250242.455320</td>\n      <td>102574.411160</td>\n    </tr>\n    <tr>\n      <th>10</th>\n      <td>AMZN.O</td>\n      <td>2018-12-31T00:00:00Z</td>\n      <td>203058.833040</td>\n      <td>81725.933520</td>\n    </tr>\n    <tr>\n      <th>11</th>\n      <td>AMZN.O</td>\n      <td>2017-12-31T00:00:00Z</td>\n      <td>148270.876260</td>\n      <td>54961.574520</td>\n    </tr>\n    <tr>\n      <th>12</th>\n      <td>TWTR.K</td>\n      <td>2019-12-31T00:00:00Z</td>\n      <td>3085.929028</td>\n      <td>2071.620233</td>\n    </tr>\n    <tr>\n      <th>13</th>\n      <td>TWTR.K</td>\n      <td>2018-12-31T00:00:00Z</td>\n      <td>2652.693659</td>\n      <td>1811.293475</td>\n    </tr>\n    <tr>\n      <th>14</th>\n      <td>TWTR.K</td>\n      <td>2017-12-31T00:00:00Z</td>\n      <td>2036.758479</td>\n      <td>1318.818536</td>\n    </tr>\n  </tbody>\n</table>\n</div>",
      "text/plain": [
       "   Instrument                  Date        Revenue   Gross Profit\n",
       "0      GOOG.O  2019-12-31T00:00:00Z  144386.155420   80250.609660\n",
       "1      GOOG.O  2018-12-31T00:00:00Z  119295.222480   67373.258400\n",
       "2      GOOG.O  2017-12-31T00:00:00Z   92409.836550   54411.391920\n",
       "3      MSFT.O  2020-06-30T00:00:00Z  127339.125850   86311.735430\n",
       "4      MSFT.O  2019-06-30T00:00:00Z  110699.053380   72952.842780\n",
       "5      MSFT.O  2018-06-30T00:00:00Z   94461.538400   61633.671580\n",
       "6        FB.O  2019-12-31T00:00:00Z   63065.965820   51674.359620\n",
       "7        FB.O  2018-12-31T00:00:00Z   48686.268960   40529.457360\n",
       "8        FB.O  2017-12-31T00:00:00Z   33888.747330   29342.238390\n",
       "9      AMZN.O  2019-12-31T00:00:00Z  250242.455320  102574.411160\n",
       "10     AMZN.O  2018-12-31T00:00:00Z  203058.833040   81725.933520\n",
       "11     AMZN.O  2017-12-31T00:00:00Z  148270.876260   54961.574520\n",
       "12     TWTR.K  2019-12-31T00:00:00Z    3085.929028    2071.620233\n",
       "13     TWTR.K  2018-12-31T00:00:00Z    2652.693659    1811.293475\n",
       "14     TWTR.K  2017-12-31T00:00:00Z    2036.758479    1318.818536"
      ]
     },
     "execution_count": 17,
     "metadata": {},
     "output_type": "execute_result"
    }
   ],
   "source": [
    "df, err = ek.get_data(['GOOG.O', 'MSFT.O', 'FB.O', 'AMZN.O', 'TWTR.K'], \n",
    "                      ['TR.Revenue.date','TR.Revenue','TR.GrossProfit'],\n",
    "                      {'Scale': 6, 'SDate': 0, 'EDate': -2, 'FRQ': 'FY', 'Curn': 'EUR'})\n",
    "df"
   ]
  },
  {
   "cell_type": "markdown",
   "metadata": {},
   "source": [
    "https://developers.thomsonreuters.com/eikon-web-and-scripting-apis/learning   \n",
    "https://github.com/TR-API-Samples/Tutorial.EikonAPI.Python.CompanyTearsheetEstimates/blob/master/Estimates3.py "
   ]
  },
  {
   "cell_type": "code",
   "execution_count": 11,
   "metadata": {},
   "outputs": [
    {
     "data": {
      "text/html": [
       "<div>\n",
       "<style>\n",
       "    .dataframe thead tr:only-child th {\n",
       "        text-align: right;\n",
       "    }\n",
       "\n",
       "    .dataframe thead th {\n",
       "        text-align: left;\n",
       "    }\n",
       "\n",
       "    .dataframe tbody tr th {\n",
       "        vertical-align: top;\n",
       "    }\n",
       "</style>\n",
       "<table border=\"1\" class=\"dataframe\">\n",
       "  <thead>\n",
       "    <tr style=\"text-align: right;\">\n",
       "      <th></th>\n",
       "      <th>Instrument</th>\n",
       "      <th>Revenue - Actual</th>\n",
       "      <th>Revenue - Mean Estimate</th>\n",
       "      <th>Revenue - Mean Estimate</th>\n",
       "    </tr>\n",
       "  </thead>\n",
       "  <tbody>\n",
       "    <tr>\n",
       "      <th>0</th>\n",
       "      <td>IBM</td>\n",
       "      <td>79139</td>\n",
       "      <td>80052.63982</td>\n",
       "      <td>80318.39055</td>\n",
       "    </tr>\n",
       "  </tbody>\n",
       "</table>\n",
       "</div>"
      ],
      "text/plain": [
       "  Instrument  Revenue - Actual  Revenue - Mean Estimate  \\\n",
       "0        IBM             79139              80052.63982   \n",
       "\n",
       "   Revenue - Mean Estimate  \n",
       "0              80318.39055  "
      ]
     },
     "execution_count": 11,
     "metadata": {},
     "output_type": "execute_result"
    }
   ],
   "source": [
    "df, err = ek.get_data(\"IBM\", \n",
    "\t\t\t\t\t[ \n",
    "                    {'TR.RevenueActValue':{'params':{'Period': 'FY0','Scale': 6, 'Curn': 'USD'}}},\n",
    "                    {'TR.RevenueMeanEstimate':{'params':{'Period': 'FY1','Scale': 6, 'Curn': 'USD'}}},\n",
    "                    {'TR.RevenueMeanEstimate':{'params':{'Period': 'FY2','Scale': 6, 'Curn': 'USD'}}}\n",
    "                    ])\n",
    "df"
   ]
  },
  {
   "cell_type": "code",
   "execution_count": 17,
   "metadata": {},
   "outputs": [
    {
     "data": {
      "text/html": [
       "<div>\n",
       "<style>\n",
       "    .dataframe thead tr:only-child th {\n",
       "        text-align: right;\n",
       "    }\n",
       "\n",
       "    .dataframe thead th {\n",
       "        text-align: left;\n",
       "    }\n",
       "\n",
       "    .dataframe tbody tr th {\n",
       "        vertical-align: top;\n",
       "    }\n",
       "</style>\n",
       "<table border=\"1\" class=\"dataframe\">\n",
       "  <thead>\n",
       "    <tr style=\"text-align: right;\">\n",
       "      <th></th>\n",
       "      <th>Instrument</th>\n",
       "      <th>Revenue - Actual</th>\n",
       "      <th>Revenue - Mean Estimate</th>\n",
       "      <th>Revenue - Mean Estimate</th>\n",
       "    </tr>\n",
       "  </thead>\n",
       "  <tbody>\n",
       "    <tr>\n",
       "      <th>0</th>\n",
       "      <td>IBM</td>\n",
       "      <td>79139</td>\n",
       "      <td>80052.63982</td>\n",
       "      <td>80318.39055</td>\n",
       "    </tr>\n",
       "  </tbody>\n",
       "</table>\n",
       "</div>"
      ],
      "text/plain": [
       "  Instrument  Revenue - Actual  Revenue - Mean Estimate  \\\n",
       "0        IBM             79139              80052.63982   \n",
       "\n",
       "   Revenue - Mean Estimate  \n",
       "0              80318.39055  "
      ]
     },
     "execution_count": 17,
     "metadata": {},
     "output_type": "execute_result"
    }
   ],
   "source": [
    "df1, err = ek.get_data(\"IBM\", \n",
    "\t\t\t\t\t[ \n",
    "                    {'TR.RevenueActValue':{'params':{'Period': 'FY0','Scale': 6, 'Curn': 'USD'}}},\n",
    "                    {'TR.RevenueMeanEstimate':{'params':{'Period': 'FY1','Scale': 6, 'Curn': 'USD'}}},\n",
    "                    {'TR.RevenueMeanEstimate':{'params':{'Period': 'FY2','Scale': 6, 'Curn': 'USD'}}}\n",
    "                    ], raw_output=False, debug=True)\n",
    "df1"
   ]
  },
  {
   "cell_type": "code",
   "execution_count": 18,
   "metadata": {},
   "outputs": [
    {
     "data": {
      "text/html": [
       "<div>\n",
       "<style>\n",
       "    .dataframe thead tr:only-child th {\n",
       "        text-align: right;\n",
       "    }\n",
       "\n",
       "    .dataframe thead th {\n",
       "        text-align: left;\n",
       "    }\n",
       "\n",
       "    .dataframe tbody tr th {\n",
       "        vertical-align: top;\n",
       "    }\n",
       "</style>\n",
       "<table border=\"1\" class=\"dataframe\">\n",
       "  <thead>\n",
       "    <tr style=\"text-align: right;\">\n",
       "      <th></th>\n",
       "      <th>Instrument</th>\n",
       "      <th>Revenue - High</th>\n",
       "      <th>Revenue - High</th>\n",
       "      <th>Revenue - Low</th>\n",
       "      <th>Revenue - Low</th>\n",
       "    </tr>\n",
       "  </thead>\n",
       "  <tbody>\n",
       "    <tr>\n",
       "      <th>0</th>\n",
       "      <td>IBM</td>\n",
       "      <td>81659.11</td>\n",
       "      <td>83312</td>\n",
       "      <td>77436</td>\n",
       "      <td>77365</td>\n",
       "    </tr>\n",
       "  </tbody>\n",
       "</table>\n",
       "</div>"
      ],
      "text/plain": [
       "  Instrument  Revenue - High  Revenue - High  Revenue - Low  Revenue - Low\n",
       "0        IBM        81659.11           83312          77436          77365"
      ]
     },
     "execution_count": 18,
     "metadata": {},
     "output_type": "execute_result"
    }
   ],
   "source": [
    "df2, err = ek.get_data(\"IBM\", \n",
    "\t\t\t\t\t[ \n",
    "                    {'TR.RevenueHigh':{'params':{'Period': 'FY1','Scale': 6, 'Curn': 'USD'}}},\n",
    "                    {'TR.RevenueHigh':{'params':{'Period': 'FY2','Scale': 6, 'Curn': 'USD'}}},\n",
    "                    {'TR.RevenueLow':{'params':{'Period': 'FY1','Scale': 6, 'Curn': 'USD'}}},\n",
    "                    {'TR.RevenueLow':{'params':{'Period': 'FY2','Scale': 6, 'Curn': 'USD'}}}\n",
    "                    ], debug=True)\n",
    "df2"
   ]
  },
  {
   "cell_type": "code",
   "execution_count": 19,
   "metadata": {},
   "outputs": [
    {
     "data": {
      "text/html": [
       "<div>\n",
       "<style>\n",
       "    .dataframe thead tr:only-child th {\n",
       "        text-align: right;\n",
       "    }\n",
       "\n",
       "    .dataframe thead th {\n",
       "        text-align: left;\n",
       "    }\n",
       "\n",
       "    .dataframe tbody tr th {\n",
       "        vertical-align: top;\n",
       "    }\n",
       "</style>\n",
       "<table border=\"1\" class=\"dataframe\">\n",
       "  <thead>\n",
       "    <tr style=\"text-align: right;\">\n",
       "      <th></th>\n",
       "      <th>Instrument</th>\n",
       "      <th>Revenue - Low</th>\n",
       "      <th>Revenue - Low</th>\n",
       "    </tr>\n",
       "  </thead>\n",
       "  <tbody>\n",
       "    <tr>\n",
       "      <th>0</th>\n",
       "      <td>IBM</td>\n",
       "      <td>77436</td>\n",
       "      <td>77365</td>\n",
       "    </tr>\n",
       "  </tbody>\n",
       "</table>\n",
       "</div>"
      ],
      "text/plain": [
       "  Instrument  Revenue - Low  Revenue - Low\n",
       "0        IBM          77436          77365"
      ]
     },
     "execution_count": 19,
     "metadata": {},
     "output_type": "execute_result"
    }
   ],
   "source": [
    "df3, err = ek.get_data(\"IBM\", \n",
    "\t\t\t\t\t[ \n",
    "                    {'TR.RevenueLow':{'params':{'Period': 'FY1','Scale': 6, 'Curn': 'USD'}}},\n",
    "                    {'TR.RevenueLow':{'params':{'Period': 'FY2','Scale': 6, 'Curn': 'USD'}}}\n",
    "                    ], debug=True)\n",
    "df3"
   ]
  },
  {
   "cell_type": "code",
   "execution_count": 20,
   "metadata": {},
   "outputs": [
    {
     "data": {
      "text/html": [
       "<div>\n",
       "<style>\n",
       "    .dataframe thead tr:only-child th {\n",
       "        text-align: right;\n",
       "    }\n",
       "\n",
       "    .dataframe thead th {\n",
       "        text-align: left;\n",
       "    }\n",
       "\n",
       "    .dataframe tbody tr th {\n",
       "        vertical-align: top;\n",
       "    }\n",
       "</style>\n",
       "<table border=\"1\" class=\"dataframe\">\n",
       "  <thead>\n",
       "    <tr style=\"text-align: right;\">\n",
       "      <th></th>\n",
       "      <th>Instrument</th>\n",
       "      <th>Revenue - Mean Estimate</th>\n",
       "      <th>Revenue - Mean Estimate</th>\n",
       "    </tr>\n",
       "  </thead>\n",
       "  <tbody>\n",
       "    <tr>\n",
       "      <th>0</th>\n",
       "      <td>IBM</td>\n",
       "      <td>80052.63982</td>\n",
       "      <td>80318.39055</td>\n",
       "    </tr>\n",
       "  </tbody>\n",
       "</table>\n",
       "</div>"
      ],
      "text/plain": [
       "  Instrument  Revenue - Mean Estimate  Revenue - Mean Estimate\n",
       "0        IBM              80052.63982              80318.39055"
      ]
     },
     "execution_count": 20,
     "metadata": {},
     "output_type": "execute_result"
    }
   ],
   "source": [
    "df4, err = ek.get_data(\"IBM\", \n",
    "\t\t\t\t\t[ \n",
    "                    {'TR.RevenueMeanEstimate':{'params':{'Period': 'FY1','RollPeriods': 'False','Scale': 6, 'Curn': 'USD'}}},\n",
    "                    {'TR.RevenueMeanEstimate':{'params':{'Period': 'FY2','RollPeriods': 'False','Scale': 6, 'Curn': 'USD'}}}\n",
    "                    ], debug=True)\n",
    "df4"
   ]
  },
  {
   "cell_type": "markdown",
   "metadata": {},
   "source": [
    "### Download AllCoCo list in python  \n",
    "https://community.developers.thomsonreuters.com/questions/19737/download-allcoco-list-in-python.html  \n",
    "I am trying to obtain the list of banks and their identifiers that issue CoCos (contingent convertible bonds) from the 0#ALLCOCO chain RIC list into a pandas DataFrame."
   ]
  },
  {
   "cell_type": "code",
   "execution_count": 40,
   "metadata": {
    "collapsed": true
   },
   "outputs": [],
   "source": [
    "constituents_data, err = ek.get_data(instruments=['0#ALLCOCO='], fields=['OFFCL_CODE'])\n",
    "#constituents_data"
   ]
  },
  {
   "cell_type": "code",
   "execution_count": 33,
   "metadata": {},
   "outputs": [],
   "source": [
    "fields = [ ek.TR_Field('tr.revenue')] #, ek.TR_Field('tr.open','asc',1), ek.TR_Field('TR.GrossProfit', {'Scale': 6, 'Curn': 'EUR'},'asc',0 )]"
   ]
  },
  {
   "cell_type": "code",
   "execution_count": 51,
   "metadata": {},
   "outputs": [],
   "source": [
    "gicsFields = [\"TR.GICSIndustry\",\"TR.GICSSubIndustry\",\"TR.GICSSector\"]\n",
    "balanceSheetFields = [\"TR.TotalLiabilities;TR.TotalAssetsReported;TR.TotalEquity;TR.PCTotDebtToTotEquPct;TR.CreditRatioPD;TR.CreditRatioCoverageCpt;TR.CreditRatioGrowthCpt;TR.CreditRatioLeverageCpt;TR.CreditRatioLiquityCpt;TR.CreditRatioProfCpt;TR.LiquidityCoverageRatioBasel\"]"
   ]
  },
  {
   "cell_type": "code",
   "execution_count": 48,
   "metadata": {},
   "outputs": [
    {
     "data": {
      "text/plain": [
       "[{'TR.TotalLiabilities;TR.TotalAssetsReported;TR.TotalEquity;TR.PCTotDebtToTotEquPct;TR.CreditRatioPD;TR.CreditRatioCoverageCpt;TR.CreditRatioGrowthCpt;TR.CreditRatioLeverageCpt;TR.CreditRatioLiquityCpt;TR.CreditRatioProfCpt;TR.LiquidityCoverageRatioBasel': {}}]"
      ]
     },
     "execution_count": 48,
     "metadata": {},
     "output_type": "execute_result"
    }
   ],
   "source": [
    "dataItems = [\"TR.TotalLiabilities\",\"TR.TotalAssetsReported\",\"TR.TotalEquity\",\"TR.PCTotDebtToTotEquPct\",\"TR.CreditRatioPD\",\"TR.CreditRatioCoverageCpt\",\"TR.CreditRatioGrowthCpt\",\"TR.CreditRatioLeverageCpt\",\"TR.CreditRatioLiquityCpt\",\"TR.CreditRatioProfCpt\",\"TR.LiquidityCoverageRatioBasel\"]\n",
    "fields = [ek.TR_Field(trField) for trField in dataItems ]\n",
    "fields"
   ]
  },
  {
   "cell_type": "code",
   "execution_count": 49,
   "metadata": {},
   "outputs": [
    {
     "data": {
      "text/plain": [
       "['MRU.TO',\n",
       " 'FM.TO',\n",
       " 'RY.TO',\n",
       " 'CCO.TO',\n",
       " 'SNC.TO',\n",
       " 'BAMa.TO',\n",
       " 'FNV.TO',\n",
       " 'NTR.TO',\n",
       " 'WCN.TO',\n",
       " 'QSR.TO',\n",
       " 'CTCa.TO',\n",
       " 'BCE.TO',\n",
       " 'NA.TO',\n",
       " 'GIL.TO',\n",
       " 'CNQ.TO',\n",
       " 'EMA.TO',\n",
       " 'CM.TO',\n",
       " 'BHC.TO',\n",
       " 'GIBa.TO',\n",
       " 'TD.TO',\n",
       " 'SAP.TO',\n",
       " 'WN.TO',\n",
       " 'BNS.TO',\n",
       " 'BIP_u.TO',\n",
       " 'L.TO',\n",
       " 'WPM.TO',\n",
       " 'KL.TO',\n",
       " 'OTEX.TO',\n",
       " 'ABX.TO',\n",
       " 'MFC.TO',\n",
       " 'CCLb.TO',\n",
       " 'CAR_u.TO',\n",
       " 'TRP.TO',\n",
       " 'FTS.TO',\n",
       " 'BPY_u.TO',\n",
       " 'SU.TO',\n",
       " 'TECKb.TO',\n",
       " 'IPL.TO',\n",
       " 'SJRb.TO',\n",
       " 'RCIb.TO',\n",
       " 'PPL.TO',\n",
       " 'SLF.TO',\n",
       " 'CNR.TO',\n",
       " 'TRI.TO',\n",
       " 'BMO.TO',\n",
       " 'IMO.TO',\n",
       " 'CSU.TO',\n",
       " 'ATDb.TO',\n",
       " 'AEM.TO',\n",
       " 'MG.TO',\n",
       " 'SHOP.TO',\n",
       " 'CP.TO',\n",
       " 'AQN.TO',\n",
       " 'POW.TO',\n",
       " 'WEED.TO',\n",
       " 'T.TO',\n",
       " 'K.TO',\n",
       " 'CVE.TO',\n",
       " 'DOL.TO',\n",
       " 'ENB.TO']"
      ]
     },
     "execution_count": 49,
     "metadata": {},
     "output_type": "execute_result"
    }
   ],
   "source": [
    "# https://community.developers.refinitiv.com/questions/47299/how-to-get-isin-codes-from-chain-ric.html\n",
    "SPTSX300 = '0#.SPTSECP3'\n",
    "SPTSX60 = \"0#.SPTSE\"\n",
    "GB_TBill = '0#GBBMK='\n",
    "data,err = ek.get_data(SPTSX60, fields=['DSPLY_NAME'])\n",
    "\n",
    "data\n",
    "ricList = data['Instrument'].tolist()\n",
    "isin = ek.get_symbology(ricList, from_symbol_type=\"RIC\", to_symbol_type=\"ISIN\", bestMatch=True)\n",
    "ricList"
   ]
  },
  {
   "cell_type": "markdown",
   "metadata": {},
   "source": [
    "## Economic data"
   ]
  },
  {
   "cell_type": "code",
   "execution_count": 19,
   "metadata": {},
   "outputs": [
    {
     "data": {
      "text/html": "<div>\n<style scoped>\n    .dataframe tbody tr th:only-of-type {\n        vertical-align: middle;\n    }\n\n    .dataframe tbody tr th {\n        vertical-align: top;\n    }\n\n    .dataframe thead th {\n        text-align: right;\n    }\n</style>\n<table border=\"1\" class=\"dataframe\">\n  <thead>\n    <tr style=\"text-align: right;\">\n      <th>aCNFRTRRAW</th>\n      <th>VALUE</th>\n    </tr>\n    <tr>\n      <th>Date</th>\n      <th></th>\n    </tr>\n  </thead>\n  <tbody>\n    <tr>\n      <th>2020-08-31</th>\n      <td>384000000</td>\n    </tr>\n    <tr>\n      <th>2020-09-30</th>\n      <td>375000000</td>\n    </tr>\n    <tr>\n      <th>2020-10-31</th>\n      <td>399000000</td>\n    </tr>\n  </tbody>\n</table>\n</div>",
      "text/plain": [
       "aCNFRTRRAW      VALUE\n",
       "Date                 \n",
       "2020-08-31  384000000\n",
       "2020-09-30  375000000\n",
       "2020-10-31  399000000"
      ]
     },
     "execution_count": 19,
     "metadata": {},
     "output_type": "execute_result"
    }
   ],
   "source": [
    "ek.get_data(['USGDPF=ECI'],['GN_TXT16_4']) \n",
    "ek.get_timeseries(['aCNFRTRRAW'], interval='monthly')"
   ]
  },
  {
   "cell_type": "code",
   "execution_count": null,
   "metadata": {},
   "outputs": [],
   "source": []
  }
 ],
 "metadata": {
  "kernelspec": {
   "display_name": "Python 3",
   "language": "python",
   "name": "python3"
  },
  "language_info": {
   "codemirror_mode": {
    "name": "ipython",
    "version": 3
   },
   "file_extension": ".py",
   "mimetype": "text/x-python",
   "name": "python",
   "nbconvert_exporter": "python",
   "pygments_lexer": "ipython3",
   "version": "3.8.3-final"
  }
 },
 "nbformat": 4,
 "nbformat_minor": 2
}