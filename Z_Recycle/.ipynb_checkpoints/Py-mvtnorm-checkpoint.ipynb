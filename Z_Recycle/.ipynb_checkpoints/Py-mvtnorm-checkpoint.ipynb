{
 "cells": [
  {
   "cell_type": "markdown",
   "metadata": {},
   "source": [
    "# Py-mvtnorm"
   ]
  },
  {
   "cell_type": "markdown",
   "metadata": {},
   "source": [
    "https://cran.r-project.org/web/packages/mvtnorm/index.html    \n",
    "https://stackoverflow.com/questions/41014826/density-of-multivariate-t-distribution-in-python-for-large-number-of-observation   \n",
    "https://stackoverflow.com/questions/29798795/multivariate-student-t-distribution-with-python   "
   ]
  },
  {
   "cell_type": "code",
   "execution_count": 1,
   "metadata": {},
   "outputs": [],
   "source": [
    "import numpy as np\n",
    "import scipy.stats\n",
    "import math\n",
    "from math import lgamma\n",
    "from numpy import matrix\n",
    "from numpy import linalg\n",
    "from numpy.linalg import slogdet\n",
    "import scipy.special\n",
    "from scipy.special import gammaln"
   ]
  },
  {
   "cell_type": "code",
   "execution_count": 2,
   "metadata": {},
   "outputs": [],
   "source": [
    "mu = np.array([3,3])\n",
    "x = np.array([1, 1])\n",
    "Sigma = np.array([[1, 0], [0, 1]])\n",
    "p=2\n",
    "df=1"
   ]
  },
  {
   "cell_type": "markdown",
   "metadata": {},
   "source": [
    "## Multivariate t-student density `dmvt`"
   ]
  },
  {
   "cell_type": "code",
   "execution_count": 3,
   "metadata": {},
   "outputs": [],
   "source": [
    "def dmvt(x, mu, Sigma, df, log):\n",
    "    '''\n",
    "    Multivariate t-student density. Returns the density\n",
    "    of the function at points specified by x.\n",
    "\n",
    "    input:\n",
    "        x = parameter (n x d numpy array)\n",
    "        mu = mean (d dimensional numpy array)\n",
    "        Sigma = scale matrix (d x d numpy array)\n",
    "        df = degrees of freedom\n",
    "        log = log scale or not\n",
    "\n",
    "    '''\n",
    "    p = Sigma.shape[0] # Dimensionality\n",
    "    dec = np.linalg.cholesky(Sigma)\n",
    "    R_x_m = np.linalg.solve(dec,np.matrix.transpose(x)-mu)\n",
    "    rss = np.power(R_x_m,2).sum(axis=0)\n",
    "    logretval = lgamma(1.0*(p + df)/2) - (lgamma(1.0*df/2) + np.sum(np.log(dec.diagonal())) \\\n",
    "       + p/2 * np.log(math.pi * df)) - 0.5 * (df + p) * math.log1p((rss/df) )\n",
    "    if log == False:    \n",
    "        return(np.exp(logretval))\n",
    "    else:\n",
    "         return(logretval)"
   ]
  },
  {
   "cell_type": "code",
   "execution_count": 4,
   "metadata": {},
   "outputs": [
    {
     "name": "stdout",
     "output_type": "stream",
     "text": [
      "-5.133713932413675\n",
      "0.005894627521922045\n"
     ]
    }
   ],
   "source": [
    "print(dmvt(x,mu,Sigma,df,True))\n",
    "print(dmvt(x,mu,Sigma,df,False))"
   ]
  },
  {
   "cell_type": "code",
   "execution_count": null,
   "metadata": {},
   "outputs": [],
   "source": []
  }
 ],
 "metadata": {
  "kernelspec": {
   "display_name": "Python 3.6",
   "language": "python",
   "name": "python36"
  },
  "language_info": {
   "codemirror_mode": {
    "name": "ipython",
    "version": 3
   },
   "file_extension": ".py",
   "mimetype": "text/x-python",
   "name": "python",
   "nbconvert_exporter": "python",
   "pygments_lexer": "ipython3",
   "version": "3.6.3"
  }
 },
 "nbformat": 4,
 "nbformat_minor": 2
}
