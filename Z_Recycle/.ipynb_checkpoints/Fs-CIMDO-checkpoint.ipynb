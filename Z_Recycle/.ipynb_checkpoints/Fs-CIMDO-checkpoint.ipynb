{
 "cells": [
  {
   "cell_type": "markdown",
   "metadata": {
    "collapsed": true
   },
   "source": [
    "# Fs-CIMDO"
   ]
  },
  {
   "cell_type": "markdown",
   "metadata": {},
   "source": [
    "Implementation of the CIMDO/SyRIN model in F#."
   ]
  },
  {
   "cell_type": "code",
   "execution_count": 1,
   "metadata": {},
   "outputs": [],
   "source": [
    "#load \"Paket.fsx\""
   ]
  },
  {
   "cell_type": "code",
   "execution_count": 2,
   "metadata": {},
   "outputs": [],
   "source": [
    "Paket.Package\n",
    "  [ \"MathNet.Numerics\"\n",
    "    \"MathNet.Numerics.FSharp\"]"
   ]
  },
  {
   "cell_type": "markdown",
   "metadata": {},
   "source": [
    "Installs into the folder: `~/IfSharp/bin/packages`"
   ]
  },
  {
   "cell_type": "code",
   "execution_count": 3,
   "metadata": {},
   "outputs": [],
   "source": [
    "#load \"Paket.Generated.Refs.fsx\""
   ]
  },
  {
   "cell_type": "markdown",
   "metadata": {},
   "source": [
    "### Add `xxxxx`  to `LD_LIBRARY_PATH`"
   ]
  },
  {
   "cell_type": "code",
   "execution_count": 4,
   "metadata": {},
   "outputs": [],
   "source": [
    "open System"
   ]
  },
  {
   "cell_type": "code",
   "execution_count": null,
   "metadata": {},
   "outputs": [],
   "source": [
    "//let xxxPathWin = @\"/home/nbuser/IfSharp/bin/packages/XXX/runtimes/win7-x64/native\"\n",
    "//let xxxPathLinux = @\"/home/nbuser/IfSharp/bin/packages/XXX/runtimes/linux/native\"\n",
    "//Environment.SetEnvironmentVariable(\"LD_LIBRARY_PATH\", Environment.GetEnvironmentVariable(\"LD_LIBRARY_PATH\") \n",
    "//    + \":\" + xxxPathWin\n",
    "//    + \":\" + xxxPathLinux)"
   ]
  },
  {
   "cell_type": "markdown",
   "metadata": {},
   "source": [
    "### Input variables"
   ]
  },
  {
   "cell_type": "code",
   "execution_count": null,
   "metadata": {},
   "outputs": [],
   "source": [
    "// test variables\n",
    "let lagrangeMultipliers = [|0.1; 0.15; 0.2|]\n",
    "let probabilityOfDistress = [|0.1; 0.1|]\n",
    "let covariance =  [|[|1.0; 0.5|];[| 0.5; 1.0|]|]\n",
    "let defaultThreshold = [|0.11; 0.12|]"
   ]
  },
  {
   "cell_type": "code",
   "execution_count": null,
   "metadata": {},
   "outputs": [],
   "source": [
    "let sigmoid x = (1.+ exp )"
   ]
  },
  {
   "cell_type": "markdown",
   "metadata": {},
   "source": [
    "## Further reading"
   ]
  },
  {
   "cell_type": "markdown",
   "metadata": {},
   "source": [
    "* Cortes, Fabio, Peter H. Lindert, Sheheryar Malik, and Miguel Segoviano Basurto. 2018. “A Comprehensive Multi-Sector Tool for Analysis of Systemic Risk and Interconnectedness (SyRIN).”    \n",
    "* MathWorks. 2014. CIMDO Optimization in Matlab. https://www.mathworks.com/matlabcentral/answers/115886-optimization-problem-reducing-the-time-needed-to-solve.    \n",
    "* Segoviano Basurto, Miguel A. 2006. “Portfolio Credit Risk and Macroeconomic Shocks; Applications to Stress Testing Under Data-Restricted Environments.” IMF Working Paper 06/283. International Monetary Fund. https://ideas.repec.org/p/imf/imfwpa/06-283.html.    \n",
    "* Segoviano, Miguel. 2008. “The CIMDO Copula. Modeling of a Non-Parametric Copula.” International Monetary Fund, Forthcoming Working Paper.    \n",
    "* Segoviano, Miguel, and Charles Goodhart. 2009. “Banking Stability Measures.” FMG Discussion Paper. Financial Markets Group. http://econpapers.repec.org/paper/fmgfmgdps/dp627.htm.     \n",
    "* ———. 2016. “An Encompassing Framework to Estimate Systemic Risk Amplification Losses Based on Publicly Available Information.” https://www.imf.org/~/media/Files/News/Seminars/mcm-lse-segoviano_session4.ashx.    \n",
    "* Segoviano, Miguel A., and Raphael A. Espinoza. 2011. “Financial Stability Measures.” http://www.lse.ac.uk/fmg/events/conferences/past-conferences/2011/systemicRisk_24-25Jan2011/MSegoviano_Presentation.pdf.    \n"
   ]
  },
  {
   "cell_type": "code",
   "execution_count": null,
   "metadata": {},
   "outputs": [],
   "source": []
  }
 ],
 "metadata": {
  "kernelspec": {
   "display_name": "F#",
   "language": "fsharp",
   "name": "ifsharp"
  },
  "language": "fsharp",
  "language_info": {
   "codemirror_mode": "",
   "file_extension": ".fs",
   "mimetype": "text/x-fsharp",
   "name": "fsharp",
   "nbconvert_exporter": "",
   "pygments_lexer": "",
   "version": "4.3.1.0"
  }
 },
 "nbformat": 4,
 "nbformat_minor": 2
}
