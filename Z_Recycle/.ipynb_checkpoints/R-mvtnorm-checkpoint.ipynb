{
 "cells": [
  {
   "cell_type": "markdown",
   "metadata": {},
   "source": [
    "# R-mvtnorm"
   ]
  },
  {
   "cell_type": "markdown",
   "metadata": {
    "collapsed": true
   },
   "source": [
    "https://cran.r-project.org/web/packages/mvtnorm/index.html    "
   ]
  },
  {
   "cell_type": "code",
   "execution_count": 1,
   "metadata": {},
   "outputs": [
    {
     "ename": "ERROR",
     "evalue": "Error in pmvnorm(mean = rep(0, m), sigma, lower = rep(-Inf, m), upper = c(1, : could not find function \"pmvnorm\"\n",
     "output_type": "error",
     "traceback": [
      "Error in pmvnorm(mean = rep(0, m), sigma, lower = rep(-Inf, m), upper = c(1, : could not find function \"pmvnorm\"\nTraceback:\n"
     ]
    }
   ],
   "source": [
    "m <- 3\n",
    "sigma <- diag(3)\n",
    "sigma[2,1] <- 3/5\n",
    "sigma[3,1] <- 1/3\n",
    "sigma[3,2] <- 11/15\n",
    "pmvnorm(mean=rep(0, m), sigma, lower=rep(-Inf, m), upper=c(1,4,2))"
   ]
  },
  {
   "cell_type": "code",
   "execution_count": null,
   "metadata": {},
   "outputs": [],
   "source": [
    "|"
   ]
  }
 ],
 "metadata": {
  "kernelspec": {
   "display_name": "R",
   "language": "R",
   "name": "r"
  },
  "language_info": {
   "codemirror_mode": "r",
   "file_extension": ".r",
   "mimetype": "text/x-r-source",
   "name": "R",
   "pygments_lexer": "r",
   "version": "3.4.1"
  }
 },
 "nbformat": 4,
 "nbformat_minor": 2
}
