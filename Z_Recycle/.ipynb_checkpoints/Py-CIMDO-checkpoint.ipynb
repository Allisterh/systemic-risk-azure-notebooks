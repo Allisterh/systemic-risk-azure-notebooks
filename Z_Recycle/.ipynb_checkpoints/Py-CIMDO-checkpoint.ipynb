{
 "cells": [
  {
   "cell_type": "markdown",
   "metadata": {},
   "source": [
    "# Py-CIMDO"
   ]
  },
  {
   "cell_type": "markdown",
   "metadata": {},
   "source": [
    "https://cran.r-project.org/web/packages/mvtnorm/index.html    \n",
    "https://stackoverflow.com/questions/41014826/density-of-multivariate-t-distribution-in-python-for-large-number-of-observation   \n",
    "https://stackoverflow.com/questions/29798795/multivariate-student-t-distribution-with-python   "
   ]
  },
  {
   "cell_type": "markdown",
   "metadata": {},
   "source": [
    "## Theory"
   ]
  },
  {
   "cell_type": "markdown",
   "metadata": {},
   "source": [
    "### Steps"
   ]
  },
  {
   "cell_type": "markdown",
   "metadata": {},
   "source": [
    "1. Create **orthant identifiers** $2^n$ E.g. `[(0,0,0),(0,0,1),...]`\n",
    "2. Create **orthant hypercubes** as pair of points (lower,upper)\n",
    "3. Calculate **prior probabilities** $q_i$ for all orthants (given $\\mu$, $\\Sigma$ moments)\n",
    "4. Calculate **orthant scale factors** & **orthant posterior probabilities**, as a function of Lagrange multipliers (LM) $p_i(\\lambda)$ \n",
    "5. Create expressions for **sums over all or specific orthants** \n",
    "6. **Search for LM that matches the $(n+1)$ constraints**"
   ]
  },
  {
   "cell_type": "markdown",
   "metadata": {},
   "source": [
    "To do: rewrite each as a function that takes dataframe as input & output, plus extra parameters."
   ]
  },
  {
   "cell_type": "code",
   "execution_count": null,
   "metadata": {},
   "outputs": [],
   "source": [
    "# This is schematic pseudocode, for now. Working code follows.\n",
    "def fullWorkflow(thresholds,pods,mu,Sigma):\n",
    "    def posterior(thresholds,pods,mu,Sigma,lagrangeMultipliers)\n",
    "        n = len(thresholds)\n",
    "        posteriors = getOrthantIds(n)\n",
    "                        .pipe(buildOrthants,thresholds)\n",
    "                        .pipe(getOrthantProbs,mu,Sigma)\n",
    "                        .pipe(getScaleFactors, lagrangeMultipliers)\n",
    "        return(posteriors)\n",
    "    \n",
    "    def constraints(pods,lagrangeMultipliers):\n",
    "        return(\n",
    "            posterior(thresholds,pods,mu,Sigma,lagrangeMultipliers)\n",
    "                .pipe(getConstraints,pods))\n",
    "    sol = optimize.root(constraints, initial, method='hybr')   \n",
    "    #Etc...\n",
    "    return(result)"
   ]
  },
  {
   "cell_type": "markdown",
   "metadata": {},
   "source": [
    "| Function | Description |   \n",
    "| ----- | ----- |   \n",
    "|`buildOrthants(thresholds)`|Create **orthant identifiers** $2^n$ E.g. `[(0,0,0),(0,0,1),...]`|  \n",
    "\n",
    "**TO DO**"
   ]
  },
  {
   "cell_type": "markdown",
   "metadata": {
    "heading_collapsed": true
   },
   "source": [
    "### Notation"
   ]
  },
  {
   "cell_type": "markdown",
   "metadata": {
    "hidden": true
   },
   "source": [
    "* Multivariate case\n",
    " * $x$ vector return, \n",
    "* Bivariate case, \n",
    " * $x$,$y$ pair of scalar returns \n",
    "* $q(x)$ prior distribution \n",
    "* $p(x)$ posterior distribution\n",
    "* $\\mu$ (scalar), $\\lambda$ (vector) Lagrange multipliers\n",
    "* $\\chi_{[x_d^x,\\infty)}$ indicator (step) functions"
   ]
  },
  {
   "cell_type": "markdown",
   "metadata": {
    "hidden": true
   },
   "source": [
    "The posterior distribution $p(x)$ is the product of the prior distribution $q(x)$ and a function that is piecewise constant over the orthants."
   ]
  },
  {
   "cell_type": "markdown",
   "metadata": {
    "hidden": true
   },
   "source": [
    "$$p(x)=q(x) \\exp{-(1+\\mu+\\lambda.\\chi(x))}$$"
   ]
  },
  {
   "cell_type": "markdown",
   "metadata": {
    "hidden": true
   },
   "source": [
    "$$p(x,y)=q(x,y) \\exp{-(1+\\mu+\\lambda_1\\chi_{[x_d^x,\\infty)}+\\lambda_2\\chi_{[x_d^y,\\infty)})}$$"
   ]
  },
  {
   "cell_type": "markdown",
   "metadata": {
    "hidden": true
   },
   "source": [
    "Because the scaling function is piecewise constant over the orthants, the integrals reduce to sums over contributions in each orthant."
   ]
  },
  {
   "cell_type": "markdown",
   "metadata": {
    "hidden": true
   },
   "source": [
    "$$\\int p(x) \\chi_k(x) dx =\\sum_i^{2^n} q_i \\chi^k_{ij} \\exp{-(1+\\mu+\\sum_j \\lambda_j\\chi_{ij})}$$"
   ]
  },
  {
   "cell_type": "markdown",
   "metadata": {
    "hidden": true
   },
   "source": [
    "Orthants can be identified by an index $0\\leq i\\leq n-1$ or by the vector of binary digits. $i=2=(1,0)$. The array $\\chi$ is the binary expansion of the integer index for each orthant."
   ]
  },
  {
   "cell_type": "markdown",
   "metadata": {
    "hidden": true
   },
   "source": [
    "Can define a 3-d array of size $(n,2^{n-1},n)$  identifying the $2^{n-1}$ orthants included in the top layer in the $k$th direction:"
   ]
  },
  {
   "cell_type": "markdown",
   "metadata": {
    "hidden": true
   },
   "source": [
    "$$\\chi_{ij}^k=\\{\\chi_{ij}\\}_{\\chi_{ik}=1}$$"
   ]
  },
  {
   "cell_type": "markdown",
   "metadata": {
    "hidden": true
   },
   "source": [
    "In the 2d case, the piecewise scaling function, up to an overall factor of $e^{-(1+\\mu)}$, takes the following form over the four quadrants:"
   ]
  },
  {
   "cell_type": "markdown",
   "metadata": {
    "hidden": true
   },
   "source": [
    "\n",
    "| Below     | Above    | \n",
    "| ------ | ------ |\n",
    "| $e^{-\\lambda_2}$ |  $e^{-(\\lambda_1+\\lambda_2)}$ | \n",
    "|  $1$ |  $e^{-\\lambda_1}$ |   "
   ]
  },
  {
   "cell_type": "markdown",
   "metadata": {
    "hidden": true
   },
   "source": [
    "| Below      | Above      | \n",
    "| --------- | --------- |\n",
    "| $p_1=p_{01}$ |  $p_3=p_{11}$ | \n",
    "|  $p_0=p_{00}$ |  $p_2=p_{10}$ | "
   ]
  },
  {
   "cell_type": "markdown",
   "metadata": {
    "hidden": true
   },
   "source": [
    "$$\\int p(x)  dx = 1$$\n",
    "$$\\int p(x) \\chi_i dx = POD_i$$ "
   ]
  },
  {
   "cell_type": "markdown",
   "metadata": {
    "hidden": true
   },
   "source": [
    "The indicator function can be represented by an 3-dimensional array of size $(n,2^n,n)$ where the $i$th index is for the dimension associated with the PoD, $j\\leq 2^n$ is for the orthant, & $k$ is for the dimension of the Lagrange multiplier."
   ]
  },
  {
   "cell_type": "markdown",
   "metadata": {
    "hidden": true
   },
   "source": [
    "$\\chi_{ijk} = $\n",
    "     `([[[1, 0, 0],   \n",
    "        [1, 0, 1],   \n",
    "        [1, 1, 0],   \n",
    "        [1, 1, 1]],   \n",
    "       [[0, 1, 0],   \n",
    "        [0, 1, 1],   \n",
    "        [1, 1, 0],   \n",
    "        [1, 1, 1]],   \n",
    "       [[0, 0, 1],   \n",
    "        [0, 1, 1],   \n",
    "        [1, 0, 1],   \n",
    "        [1, 1, 1]]])`    "
   ]
  },
  {
   "cell_type": "markdown",
   "metadata": {},
   "source": [
    "## Imports"
   ]
  },
  {
   "cell_type": "code",
   "execution_count": 1,
   "metadata": {
    "init_cell": true
   },
   "outputs": [],
   "source": [
    "import numpy as np\n",
    "import scipy.stats\n",
    "import math\n",
    "import itertools\n",
    "import pandas as pd\n",
    "# import statsmodels as sm\n",
    "from statsmodels.sandbox.distributions.extras import mvnormcdf\n",
    "from scipy import optimize\n",
    "from numpy import exp"
   ]
  },
  {
   "cell_type": "markdown",
   "metadata": {},
   "source": [
    "## Code"
   ]
  },
  {
   "cell_type": "markdown",
   "metadata": {},
   "source": [
    "### All steps"
   ]
  },
  {
   "cell_type": "markdown",
   "metadata": {},
   "source": [
    "##### `getOrthantIds`"
   ]
  },
  {
   "cell_type": "markdown",
   "metadata": {},
   "source": [
    "Find the $2^n$ orthant indentifiers as a list of tuples `[(0,0,0),(0,0,1),...]`, where 0/1 = lower/upper."
   ]
  },
  {
   "cell_type": "code",
   "execution_count": 2,
   "metadata": {},
   "outputs": [],
   "source": [
    "def getOrthantIds(n):\n",
    "    \"\"\"Find the 2^n orthant indentifiers as a list of tuples [(0,0,0),(0,0,1),...], where 0/1 = lower/upper\"\"\"\n",
    "    orthantIds=[i for i in itertools.product([0,1],repeat=n)]\n",
    "    #return(pd.DataFrame(np.transpose([orthantIds]),columns = [\"OrthantId\"]))\n",
    "    return(orthantIds)"
   ]
  },
  {
   "cell_type": "code",
   "execution_count": 14,
   "metadata": {},
   "outputs": [
    {
     "data": {
      "text/plain": [
       "[(0, 0, 0),\n",
       " (0, 0, 1),\n",
       " (0, 1, 0),\n",
       " (0, 1, 1),\n",
       " (1, 0, 0),\n",
       " (1, 0, 1),\n",
       " (1, 1, 0),\n",
       " (1, 1, 1)]"
      ]
     },
     "execution_count": 14,
     "metadata": {},
     "output_type": "execute_result"
    }
   ],
   "source": [
    "getOrthantIds(3)"
   ]
  },
  {
   "cell_type": "markdown",
   "metadata": {},
   "source": [
    "##### `buildOrthants`"
   ]
  },
  {
   "cell_type": "markdown",
   "metadata": {},
   "source": [
    "Build the $2^n$ orthants, of the form of a pair of points (lower & upper corners) `[(l0,u0),(l1,u1),...]` from a list of $n$ thresholds."
   ]
  },
  {
   "cell_type": "code",
   "execution_count": 3,
   "metadata": {
    "init_cell": true
   },
   "outputs": [],
   "source": [
    "def buildOrthants(thresholds):\n",
    "    \"\"\"Build 2^n orthants, of the form of a pair of points (lower & upper corners) [(l0,u0),(l1,u1),...] from a list of n thresholds.\"\"\"\n",
    "    n=len(thresholds)\n",
    "    # Each orthant is a choice of 0/1 = lower/upper for each of n dimensions [(0, 0),(0,1),..]\n",
    "    orthantIds = [i for i in itertools.product([0,1],repeat=n)] # 0/1 = lower/uppper  Dims = 2^n\n",
    "    intervals = [((-np.inf,x),(x,np.inf)) for x in thresholds] # Dims = n\n",
    "    def getCube(orthantId):\n",
    "        cubes = [intervals[i][j] for i,j in enumerate(orthantId)]\n",
    "        [lower,upper] = list(zip(*cubes))\n",
    "        return([lower,upper])\n",
    "    return([getCube(oid) for oid in orthantIds])"
   ]
  },
  {
   "cell_type": "code",
   "execution_count": 15,
   "metadata": {
    "scrolled": false
   },
   "outputs": [
    {
     "data": {
      "text/plain": [
       "[[(-inf, -inf, -inf), (1, 2, 3)],\n",
       " [(-inf, -inf, 3), (1, 2, inf)],\n",
       " [(-inf, 2, -inf), (1, inf, 3)],\n",
       " [(-inf, 2, 3), (1, inf, inf)],\n",
       " [(1, -inf, -inf), (inf, 2, 3)],\n",
       " [(1, -inf, 3), (inf, 2, inf)],\n",
       " [(1, 2, -inf), (inf, inf, 3)],\n",
       " [(1, 2, 3), (inf, inf, inf)]]"
      ]
     },
     "execution_count": 15,
     "metadata": {},
     "output_type": "execute_result"
    }
   ],
   "source": [
    "buildOrthants([1,2,3])"
   ]
  },
  {
   "cell_type": "markdown",
   "metadata": {},
   "source": [
    "##### `calcPriors`"
   ]
  },
  {
   "cell_type": "markdown",
   "metadata": {},
   "source": [
    "Calculate prior probabilities $q(x)$ for each orthant"
   ]
  },
  {
   "cell_type": "code",
   "execution_count": 4,
   "metadata": {
    "init_cell": true
   },
   "outputs": [],
   "source": [
    "def calcPriors(mu,Sigma,thresholds):\n",
    "    \"\"\"Calculate a dataframe of the prior probabilities for each orthant\"\"\"\n",
    "    # For each of the n dimensions\n",
    "    n=len(thresholds)\n",
    "    intervals = [((-np.inf,x),(x,np.inf)) for x in thresholds] # Dims = n\n",
    "    # For each of the 2^n orthants\n",
    "    def buildOrthantCube(orthantId):\n",
    "        cubes = [intervals[i][j] for i,j in enumerate(orthantId)]\n",
    "        [lower,upper] = list(zip(*cubes))\n",
    "        return([lower,upper])\n",
    "    orthantIds = [i for i in itertools.product([0,1],repeat=n)] # 0/1 = lower/uppper  Dims = 2^n\n",
    "    cubes = [buildOrthantCube(i) for i in orthantIds]\n",
    "    probs = [mvnormcdf(upper,mu, Sigma,lower) for [lower,upper] in cubes]\n",
    "    return(pd.DataFrame(np.transpose([orthantIds,probs]),columns = [\"OrthantId\",\"Prior\"]).set_index(\"OrthantId\"))"
   ]
  },
  {
   "cell_type": "code",
   "execution_count": 25,
   "metadata": {},
   "outputs": [],
   "source": [
    "priors3 = calcPriors([0,0,0],np.identity(3),[1,1,1])"
   ]
  },
  {
   "cell_type": "markdown",
   "metadata": {},
   "source": [
    "##### `posteriorProbs`"
   ]
  },
  {
   "cell_type": "markdown",
   "metadata": {},
   "source": [
    "Calculate posterior probabilities $p(x)$ given prior probs $q(x)$ & Lagrange multipliers."
   ]
  },
  {
   "cell_type": "code",
   "execution_count": 21,
   "metadata": {},
   "outputs": [],
   "source": [
    "def posteriorProbs(probs,lagrange_multipliers):\n",
    "    \"\"\"Posterior probabilities p(x) given prior probs q(x) & Lagrange multipliers\"\"\"\n",
    "    mu, *lambdas = lagrange_multipliers # (head, *tail)\n",
    "    def scaleFactor(id):np.exp(-(1 + mu + np.dot(id,lambdas)))\n",
    "    probs[\"ScaleFactor\"] = probs.index.to_series().apply(scaleFactor)\n",
    "    probs[\"Posterior\"] = probs[\"Prior\"] * probs[\"ScaleFactor\"]\n",
    "    #vals = [probs.apply(lambda x: x[x['OrthantId'][j] == 1]['Product'].sum()) for j in np.arange(3)]\n",
    "    return (probs)"
   ]
  },
  {
   "cell_type": "markdown",
   "metadata": {},
   "source": [
    "##### `upperLayerSums`"
   ]
  },
  {
   "cell_type": "markdown",
   "metadata": {},
   "source": [
    "To satisfy the probability of distress (PoD) constraints, we need sums of contributions over all of the $2^{n-1}$ orthants that lie above the default threshold in the given direction."
   ]
  },
  {
   "cell_type": "code",
   "execution_count": 6,
   "metadata": {
    "init_cell": true
   },
   "outputs": [],
   "source": [
    "def upperLayerSums(probs,colname=\"Posterior\"):\n",
    "    \"\"\"Sum orthants over upper half in each dimension\"\"\"\n",
    "    n=len(probs.index.values[0])\n",
    "    return([probs[colname][[k[i]==1 for k in probs.index.values]].sum() for i in np.arange(n)])"
   ]
  },
  {
   "cell_type": "code",
   "execution_count": 90,
   "metadata": {},
   "outputs": [
    {
     "data": {
      "text/plain": [
       "[0.15865525393145696, 0.15865525393145696, 0.15865525393145696]"
      ]
     },
     "execution_count": 90,
     "metadata": {},
     "output_type": "execute_result"
    }
   ],
   "source": [
    "upperLayerSums(priors3,colname=\"Prior\")"
   ]
  },
  {
   "cell_type": "markdown",
   "metadata": {},
   "source": [
    "##### `constraints`"
   ]
  },
  {
   "cell_type": "code",
   "execution_count": 17,
   "metadata": {},
   "outputs": [],
   "source": [
    "# Parameters\n",
    "mu,Sigma = [0,0,0],np.identity(3)\n",
    "thresholds = [0.1,0.2,0.3]\n",
    "pods = [0.1,0.2,0.3]\n",
    "# Calculations\n",
    "priors = calcPriors(mu,Sigma,thresholds)"
   ]
  },
  {
   "cell_type": "code",
   "execution_count": 23,
   "metadata": {},
   "outputs": [],
   "source": [
    "def constraints(priors, pods, lagrange_multipliers):\n",
    "    \"\"\"Constraints (unit total probability & PoD matching) as a function of the Lagrange multipliers (LMs).\n",
    "    Apply a root search to the list to solve for LMs.\"\"\"\n",
    "    posteriors = posteriorProbs(priors,lagrange_multipliers)\n",
    "    fullSum = posteriors[\"Posterior\"].sum()\n",
    "    podSums = upperLayerSums(posteriors,\"Posterior\")\n",
    "    lhs = np.insert(podSums,0,fullSum )\n",
    "    rhs = np.insert(pods,0,1)\n",
    "    return(rhs-lhs)"
   ]
  },
  {
   "cell_type": "code",
   "execution_count": 9,
   "metadata": {},
   "outputs": [
    {
     "data": {
      "text/plain": [
       "array([ 0.7055598 , -0.02821394,  0.08323087,  0.19436274])"
      ]
     },
     "execution_count": 9,
     "metadata": {},
     "output_type": "execute_result"
    }
   ],
   "source": [
    "constraints(priors, pods,[0.1,0.1,0.1,0.1])"
   ]
  },
  {
   "cell_type": "code",
   "execution_count": 10,
   "metadata": {},
   "outputs": [],
   "source": [
    "def fun(lagrange_multipliers): return(constraints(priors, pods,lagrange_multipliers))"
   ]
  },
  {
   "cell_type": "markdown",
   "metadata": {},
   "source": [
    "##### `optimize.root`"
   ]
  },
  {
   "cell_type": "code",
   "execution_count": 19,
   "metadata": {},
   "outputs": [
    {
     "data": {
      "text/plain": [
       "array([-1.95874051,  2.03757499,  1.06655919,  0.3666052 ])"
      ]
     },
     "execution_count": 19,
     "metadata": {},
     "output_type": "execute_result"
    }
   ],
   "source": [
    "sol = optimize.root(fun, [0,0,0,0], method='hybr')\n",
    "sol.x"
   ]
  },
  {
   "cell_type": "code",
   "execution_count": 12,
   "metadata": {},
   "outputs": [
    {
     "data": {
      "text/plain": [
       "array([-9.04551989e-11, -9.31216215e-12, -8.07282574e-11, -2.53267407e-11])"
      ]
     },
     "execution_count": 12,
     "metadata": {},
     "output_type": "execute_result"
    }
   ],
   "source": [
    "fun(sol.x)"
   ]
  },
  {
   "cell_type": "code",
   "execution_count": 13,
   "metadata": {},
   "outputs": [],
   "source": [
    "cimdo_probs = posteriorProbs(priors,fun(sol.x))"
   ]
  },
  {
   "cell_type": "code",
   "execution_count": 14,
   "metadata": {},
   "outputs": [
    {
     "data": {
      "text/html": [
       "<div>\n",
       "<style>\n",
       "    .dataframe thead tr:only-child th {\n",
       "        text-align: right;\n",
       "    }\n",
       "\n",
       "    .dataframe thead th {\n",
       "        text-align: left;\n",
       "    }\n",
       "\n",
       "    .dataframe tbody tr th {\n",
       "        vertical-align: top;\n",
       "    }\n",
       "</style>\n",
       "<table border=\"1\" class=\"dataframe\">\n",
       "  <thead>\n",
       "    <tr style=\"text-align: right;\">\n",
       "      <th></th>\n",
       "      <th>Prior</th>\n",
       "      <th>ScaleFactor</th>\n",
       "      <th>Posterior</th>\n",
       "    </tr>\n",
       "    <tr>\n",
       "      <th>OrthantId</th>\n",
       "      <th></th>\n",
       "      <th></th>\n",
       "      <th></th>\n",
       "    </tr>\n",
       "  </thead>\n",
       "  <tbody>\n",
       "    <tr>\n",
       "      <th>(0, 0, 0)</th>\n",
       "      <td>0.193221</td>\n",
       "      <td>0.367879</td>\n",
       "      <td>0.0710821</td>\n",
       "    </tr>\n",
       "    <tr>\n",
       "      <th>(0, 0, 1)</th>\n",
       "      <td>0.119479</td>\n",
       "      <td>0.367879</td>\n",
       "      <td>0.043954</td>\n",
       "    </tr>\n",
       "    <tr>\n",
       "      <th>(0, 1, 0)</th>\n",
       "      <td>0.140345</td>\n",
       "      <td>0.367879</td>\n",
       "      <td>0.0516299</td>\n",
       "    </tr>\n",
       "    <tr>\n",
       "      <th>(0, 1, 1)</th>\n",
       "      <td>0.0867828</td>\n",
       "      <td>0.367879</td>\n",
       "      <td>0.0319256</td>\n",
       "    </tr>\n",
       "    <tr>\n",
       "      <th>(1, 0, 0)</th>\n",
       "      <td>0.16471</td>\n",
       "      <td>0.367879</td>\n",
       "      <td>0.0605934</td>\n",
       "    </tr>\n",
       "    <tr>\n",
       "      <th>(1, 0, 1)</th>\n",
       "      <td>0.101849</td>\n",
       "      <td>0.367879</td>\n",
       "      <td>0.0374682</td>\n",
       "    </tr>\n",
       "    <tr>\n",
       "      <th>(1, 1, 0)</th>\n",
       "      <td>0.119636</td>\n",
       "      <td>0.367879</td>\n",
       "      <td>0.0440115</td>\n",
       "    </tr>\n",
       "    <tr>\n",
       "      <th>(1, 1, 1)</th>\n",
       "      <td>0.0739773</td>\n",
       "      <td>0.367879</td>\n",
       "      <td>0.0272147</td>\n",
       "    </tr>\n",
       "  </tbody>\n",
       "</table>\n",
       "</div>"
      ],
      "text/plain": [
       "               Prior  ScaleFactor  Posterior\n",
       "OrthantId                                   \n",
       "(0, 0, 0)   0.193221     0.367879  0.0710821\n",
       "(0, 0, 1)   0.119479     0.367879   0.043954\n",
       "(0, 1, 0)   0.140345     0.367879  0.0516299\n",
       "(0, 1, 1)  0.0867828     0.367879  0.0319256\n",
       "(1, 0, 0)    0.16471     0.367879  0.0605934\n",
       "(1, 0, 1)   0.101849     0.367879  0.0374682\n",
       "(1, 1, 0)   0.119636     0.367879  0.0440115\n",
       "(1, 1, 1)  0.0739773     0.367879  0.0272147"
      ]
     },
     "execution_count": 14,
     "metadata": {},
     "output_type": "execute_result"
    }
   ],
   "source": [
    "cimdo_probs"
   ]
  },
  {
   "cell_type": "code",
   "execution_count": 15,
   "metadata": {},
   "outputs": [
    {
     "data": {
      "text/plain": [
       "0.3678794412223506"
      ]
     },
     "execution_count": 15,
     "metadata": {},
     "output_type": "execute_result"
    }
   ],
   "source": [
    "cimdo_probs[\"Posterior\"].sum()"
   ]
  },
  {
   "cell_type": "markdown",
   "metadata": {
    "heading_collapsed": true
   },
   "source": [
    "### Multivariate normal cumulative distribution function (CDF)  `mvnormcdf`"
   ]
  },
  {
   "cell_type": "markdown",
   "metadata": {
    "hidden": true
   },
   "source": [
    "Sample parameters for 3-d multivariate normal prior distribution"
   ]
  },
  {
   "cell_type": "code",
   "execution_count": 274,
   "metadata": {
    "hidden": true,
    "init_cell": true
   },
   "outputs": [],
   "source": [
    "mu = np.array([0,0,0])\n",
    "x = np.array([0,0,0])\n",
    "Sigma = np.array([[1, 0, 0],[0, 1, 0], [0, 0, 1]])"
   ]
  },
  {
   "cell_type": "code",
   "execution_count": 275,
   "metadata": {
    "hidden": true,
    "init_cell": true
   },
   "outputs": [
    {
     "data": {
      "text/plain": [
       "1.0"
      ]
     },
     "execution_count": 275,
     "metadata": {},
     "output_type": "execute_result"
    }
   ],
   "source": [
    "upper = [np.Inf,np.Inf,np.Inf]\n",
    "lower =  [-np.Inf,-np.Inf,-np.Inf]\n",
    "mvnormcdf(upper, mu, Sigma, lower)"
   ]
  },
  {
   "cell_type": "code",
   "execution_count": 276,
   "metadata": {
    "hidden": true,
    "init_cell": true
   },
   "outputs": [
    {
     "data": {
      "text/plain": [
       "0.3278583293341215"
      ]
     },
     "execution_count": 276,
     "metadata": {},
     "output_type": "execute_result"
    }
   ],
   "source": [
    "lower = None\n",
    "upper = np.abs(np.random.normal(0, 1, 3))\n",
    "mvnormcdf(upper,mu, Sigma,lower)"
   ]
  },
  {
   "cell_type": "markdown",
   "metadata": {
    "heading_collapsed": true
   },
   "source": [
    "### Find probabilities for all orthants (hyperoctants)"
   ]
  },
  {
   "cell_type": "markdown",
   "metadata": {
    "hidden": true
   },
   "source": [
    "#### Step by step"
   ]
  },
  {
   "cell_type": "markdown",
   "metadata": {
    "hidden": true
   },
   "source": [
    "Need all orthants for all combinations of selecting the lower or upper semi-infinite range in each dimension."
   ]
  },
  {
   "cell_type": "code",
   "execution_count": 277,
   "metadata": {
    "hidden": true,
    "init_cell": true
   },
   "outputs": [],
   "source": [
    "cases3 = [list(i) for i in itertools.product([0,1],repeat=3)] #2^n = 8 cases"
   ]
  },
  {
   "cell_type": "code",
   "execution_count": 278,
   "metadata": {
    "hidden": true,
    "init_cell": true
   },
   "outputs": [],
   "source": [
    "def buildCases(n):\n",
    "    return(np.array([i for i in itertools.product([0,1],repeat=n)])) #2^n = 8 cases"
   ]
  },
  {
   "cell_type": "code",
   "execution_count": 279,
   "metadata": {
    "hidden": true,
    "init_cell": true
   },
   "outputs": [],
   "source": [
    "cases2 = buildCases(2)\n",
    "cases3 = buildCases(3)"
   ]
  },
  {
   "cell_type": "code",
   "execution_count": 110,
   "metadata": {
    "hidden": true
   },
   "outputs": [
    {
     "data": {
      "text/plain": [
       "array([[0, 0, 0],\n",
       "       [0, 0, 1],\n",
       "       [0, 1, 0],\n",
       "       [0, 1, 1],\n",
       "       [1, 0, 0],\n",
       "       [1, 0, 1],\n",
       "       [1, 1, 0],\n",
       "       [1, 1, 1]])"
      ]
     },
     "execution_count": 110,
     "metadata": {},
     "output_type": "execute_result"
    }
   ],
   "source": [
    "cases3"
   ]
  },
  {
   "cell_type": "markdown",
   "metadata": {
    "hidden": true
   },
   "source": [
    "For each dimension, each threshold gives a pair of a lower & an upper interval."
   ]
  },
  {
   "cell_type": "code",
   "execution_count": 280,
   "metadata": {
    "hidden": true,
    "init_cell": true
   },
   "outputs": [],
   "source": [
    "thresholds = [0.1,0.2,0.3]"
   ]
  },
  {
   "cell_type": "code",
   "execution_count": 281,
   "metadata": {
    "hidden": true,
    "init_cell": true
   },
   "outputs": [],
   "source": [
    "intervals = [((-np.inf,x),(x,np.inf)) for x in thresholds]"
   ]
  },
  {
   "cell_type": "code",
   "execution_count": 282,
   "metadata": {
    "hidden": true,
    "init_cell": true
   },
   "outputs": [
    {
     "data": {
      "text/plain": [
       "[((-inf, 0.1), (0.1, inf)),\n",
       " ((-inf, 0.2), (0.2, inf)),\n",
       " ((-inf, 0.3), (0.3, inf))]"
      ]
     },
     "execution_count": 282,
     "metadata": {},
     "output_type": "execute_result"
    }
   ],
   "source": [
    "intervals"
   ]
  },
  {
   "cell_type": "markdown",
   "metadata": {
    "hidden": true
   },
   "source": [
    "Pull out the (semi-infinite) lower or upper interval, below or above the threshold, respectively."
   ]
  },
  {
   "cell_type": "code",
   "execution_count": 283,
   "metadata": {
    "hidden": true,
    "init_cell": true
   },
   "outputs": [],
   "source": [
    "cubes = [intervals[i][j] for i,j in enumerate([1,0,1])]"
   ]
  },
  {
   "cell_type": "code",
   "execution_count": 11,
   "metadata": {
    "hidden": true
   },
   "outputs": [
    {
     "data": {
      "text/plain": [
       "[(0.1, inf), (-inf, 0.2), (0.3, inf)]"
      ]
     },
     "execution_count": 11,
     "metadata": {},
     "output_type": "execute_result"
    }
   ],
   "source": [
    "cubes"
   ]
  },
  {
   "cell_type": "markdown",
   "metadata": {
    "hidden": true
   },
   "source": [
    "Transpose using `zip`"
   ]
  },
  {
   "cell_type": "code",
   "execution_count": 12,
   "metadata": {
    "hidden": true
   },
   "outputs": [],
   "source": [
    "[lower,upper] = list(zip(*cubes))"
   ]
  },
  {
   "cell_type": "code",
   "execution_count": 13,
   "metadata": {
    "hidden": true
   },
   "outputs": [
    {
     "data": {
      "text/plain": [
       "[(0.1, -inf, 0.3), (inf, 0.2, inf)]"
      ]
     },
     "execution_count": 13,
     "metadata": {},
     "output_type": "execute_result"
    }
   ],
   "source": [
    "[lower,upper]"
   ]
  },
  {
   "cell_type": "markdown",
   "metadata": {
    "heading_collapsed": true
   },
   "source": [
    "### Finished `buildOrthants`"
   ]
  },
  {
   "cell_type": "markdown",
   "metadata": {
    "hidden": true
   },
   "source": [
    "Each orthant is a hypercube, defined by a pair of points, namely two of its corners (closest & furthest from the origin) (`lower,upper)`."
   ]
  },
  {
   "cell_type": "code",
   "execution_count": 247,
   "metadata": {
    "hidden": true
   },
   "outputs": [],
   "source": [
    "def getOrthantIds(n):\n",
    "    \"\"\"Find the 2^n orthant indentifiers as a list of tuples [(0,0,0),(0,0,1),...], where 0/1 = lower/upper\"\"\"\n",
    "    orthantIds=[i for i in itertools.product([0,1],repeat=n)]\n",
    "    return(pd.DataFrame(np.transpose([orthantIds]),columns = [\"OrthantId\"]))"
   ]
  },
  {
   "cell_type": "code",
   "execution_count": 249,
   "metadata": {
    "hidden": true
   },
   "outputs": [],
   "source": [
    "# Not yet working!?!\n",
    "# orthantIds3 = getOrthantIds(3)"
   ]
  },
  {
   "cell_type": "code",
   "execution_count": 284,
   "metadata": {
    "hidden": true,
    "init_cell": true
   },
   "outputs": [],
   "source": [
    "def buildOrthants(thresholds):\n",
    "    \"\"\"Build 2^n orthants, of the form [(l0,u0),(l1,u1),...] from a list of n thresholds.\"\"\"\n",
    "    n=len(thresholds)\n",
    "    # Each orthant is a choice of 0/1 = lower/upper for each of n dimensions [(0, 0),(0,1),..]\n",
    "    orthantIds = [i for i in itertools.product([0,1],repeat=n)] # 0/1 = lower/uppper  Dims = 2^n\n",
    "    intervals = [((-np.inf,x),(x,np.inf)) for x in thresholds] # Dims = n\n",
    "    def getCube(orthantId):\n",
    "        cubes = [intervals[i][j] for i,j in enumerate(orthantId)]\n",
    "        [lower,upper] = list(zip(*cubes))\n",
    "        return([lower,upper])\n",
    "    return([getCube(oid) for oid in orthantIds])"
   ]
  },
  {
   "cell_type": "code",
   "execution_count": 187,
   "metadata": {
    "hidden": true
   },
   "outputs": [
    {
     "data": {
      "text/plain": [
       "[[(-inf, -inf, -inf), (0.1, 0.2, 0.3)],\n",
       " [(-inf, -inf, 0.3), (0.1, 0.2, inf)],\n",
       " [(-inf, 0.2, -inf), (0.1, inf, 0.3)],\n",
       " [(-inf, 0.2, 0.3), (0.1, inf, inf)],\n",
       " [(0.1, -inf, -inf), (inf, 0.2, 0.3)],\n",
       " [(0.1, -inf, 0.3), (inf, 0.2, inf)],\n",
       " [(0.1, 0.2, -inf), (inf, inf, 0.3)],\n",
       " [(0.1, 0.2, 0.3), (inf, inf, inf)]]"
      ]
     },
     "execution_count": 187,
     "metadata": {},
     "output_type": "execute_result"
    }
   ],
   "source": [
    "buildOrthants([0.1,0.2,0.3],getOrthantIds(3))"
   ]
  },
  {
   "cell_type": "markdown",
   "metadata": {
    "heading_collapsed": true
   },
   "source": [
    "### Probabilities for orthants"
   ]
  },
  {
   "cell_type": "markdown",
   "metadata": {
    "heading_collapsed": true,
    "hidden": true
   },
   "source": [
    "#### Step by step"
   ]
  },
  {
   "cell_type": "markdown",
   "metadata": {
    "hidden": true
   },
   "source": [
    "Map `mvnormcdf` over the orthants to get probabilities (which should total to one)."
   ]
  },
  {
   "cell_type": "code",
   "execution_count": 285,
   "metadata": {
    "hidden": true,
    "init_cell": true
   },
   "outputs": [],
   "source": [
    "probabilities = [mvnormcdf(upper,mu, Sigma,lower) for [lower,upper] in buildOrthants([0.1,0.2,0.3])]"
   ]
  },
  {
   "cell_type": "code",
   "execution_count": 51,
   "metadata": {
    "hidden": true
   },
   "outputs": [
    {
     "data": {
      "text/plain": [
       "1.0"
      ]
     },
     "execution_count": 51,
     "metadata": {},
     "output_type": "execute_result"
    }
   ],
   "source": [
    "sum(probabilities)"
   ]
  },
  {
   "cell_type": "markdown",
   "metadata": {
    "hidden": true
   },
   "source": [
    "#### `calcProbs`"
   ]
  },
  {
   "cell_type": "code",
   "execution_count": 286,
   "metadata": {
    "hidden": true,
    "init_cell": true
   },
   "outputs": [],
   "source": [
    "def calcProbs(mu,Sigma,thresholds):\n",
    "    \"\"\"Calculate a dataframe of the prior probabilities for each orthant\"\"\"\n",
    "    # For each of the n dimensions\n",
    "    n=len(thresholds)\n",
    "    intervals = [((-np.inf,x),(x,np.inf)) for x in thresholds] # Dims = n\n",
    "    # For each of the 2^n orthants\n",
    "    def buildOrthantCube(orthantId):\n",
    "        cubes = [intervals[i][j] for i,j in enumerate(orthantId)]\n",
    "        [lower,upper] = list(zip(*cubes))\n",
    "        return([lower,upper])\n",
    "    orthantIds = [i for i in itertools.product([0,1],repeat=n)] # 0/1 = lower/uppper  Dims = 2^n\n",
    "    cubes = [buildOrthantCube(i) for i in orthantIds]\n",
    "    probs = [mvnormcdf(upper,mu, Sigma,lower) for [lower,upper] in cubes]\n",
    "    return(pd.DataFrame(np.transpose([orthantIds,probs]),columns = [\"OrthantId\",\"Probability\"]).set_index(\"OrthantId\"))"
   ]
  },
  {
   "cell_type": "code",
   "execution_count": 287,
   "metadata": {
    "hidden": true,
    "init_cell": true
   },
   "outputs": [],
   "source": [
    "probs2 = calcProbs([.2,.3],[[1,0],[0,1]],[0.1,0.2])\n",
    "probs3 = calcProbs(mu,Sigma,[0.1,0.2,0.3])"
   ]
  },
  {
   "cell_type": "code",
   "execution_count": 288,
   "metadata": {
    "hidden": true,
    "init_cell": true
   },
   "outputs": [
    {
     "name": "stdout",
     "output_type": "stream",
     "text": [
      "1.0\n"
     ]
    },
    {
     "data": {
      "text/html": [
       "<div>\n",
       "<style>\n",
       "    .dataframe thead tr:only-child th {\n",
       "        text-align: right;\n",
       "    }\n",
       "\n",
       "    .dataframe thead th {\n",
       "        text-align: left;\n",
       "    }\n",
       "\n",
       "    .dataframe tbody tr th {\n",
       "        vertical-align: top;\n",
       "    }\n",
       "</style>\n",
       "<table border=\"1\" class=\"dataframe\">\n",
       "  <thead>\n",
       "    <tr style=\"text-align: right;\">\n",
       "      <th></th>\n",
       "      <th>Probability</th>\n",
       "    </tr>\n",
       "    <tr>\n",
       "      <th>OrthantId</th>\n",
       "      <th></th>\n",
       "    </tr>\n",
       "  </thead>\n",
       "  <tbody>\n",
       "    <tr>\n",
       "      <th>(0, 0, 0)</th>\n",
       "      <td>0.193221</td>\n",
       "    </tr>\n",
       "    <tr>\n",
       "      <th>(0, 0, 1)</th>\n",
       "      <td>0.119479</td>\n",
       "    </tr>\n",
       "    <tr>\n",
       "      <th>(0, 1, 0)</th>\n",
       "      <td>0.140345</td>\n",
       "    </tr>\n",
       "    <tr>\n",
       "      <th>(0, 1, 1)</th>\n",
       "      <td>0.0867828</td>\n",
       "    </tr>\n",
       "    <tr>\n",
       "      <th>(1, 0, 0)</th>\n",
       "      <td>0.16471</td>\n",
       "    </tr>\n",
       "    <tr>\n",
       "      <th>(1, 0, 1)</th>\n",
       "      <td>0.101849</td>\n",
       "    </tr>\n",
       "    <tr>\n",
       "      <th>(1, 1, 0)</th>\n",
       "      <td>0.119636</td>\n",
       "    </tr>\n",
       "    <tr>\n",
       "      <th>(1, 1, 1)</th>\n",
       "      <td>0.0739773</td>\n",
       "    </tr>\n",
       "  </tbody>\n",
       "</table>\n",
       "</div>"
      ],
      "text/plain": [
       "          Probability\n",
       "OrthantId            \n",
       "(0, 0, 0)    0.193221\n",
       "(0, 0, 1)    0.119479\n",
       "(0, 1, 0)    0.140345\n",
       "(0, 1, 1)   0.0867828\n",
       "(1, 0, 0)     0.16471\n",
       "(1, 0, 1)    0.101849\n",
       "(1, 1, 0)    0.119636\n",
       "(1, 1, 1)   0.0739773"
      ]
     },
     "execution_count": 288,
     "metadata": {},
     "output_type": "execute_result"
    }
   ],
   "source": [
    "print(probs3.Probability.sum())\n",
    "probs3"
   ]
  },
  {
   "cell_type": "markdown",
   "metadata": {
    "heading_collapsed": true
   },
   "source": [
    "### Sum orthants over upper half in each dimension"
   ]
  },
  {
   "cell_type": "markdown",
   "metadata": {
    "hidden": true
   },
   "source": [
    "A number of possible ways to implement the sums, using dataframe filtering or groupby, dict, or numpy matrix multiplication."
   ]
  },
  {
   "cell_type": "code",
   "execution_count": 270,
   "metadata": {
    "hidden": true,
    "init_cell": true
   },
   "outputs": [],
   "source": [
    "def upperLayerSums(probs,n,colname=\"Probability\"):\n",
    "    \"\"\"Sum orthants over upper half in each dimension\"\"\"\n",
    "    return([probs[colname][[k[i]==1 for k in probs.index.values]].sum() for i in np.arange(n)])\n",
    "    # === Alternative implementation using groupby:===\n",
    "    # lower,upper=0,1\n",
    "    # return([probs.groupby(lambda z:z[i]).sum().values[upper,0] for i in np.arange(3)])"
   ]
  },
  {
   "cell_type": "code",
   "execution_count": 272,
   "metadata": {
    "hidden": true
   },
   "outputs": [
    {
     "data": {
      "text/plain": [
       "[0.460172162722971, 0.4207402905608969, 0.38208857781104744]"
      ]
     },
     "execution_count": 272,
     "metadata": {},
     "output_type": "execute_result"
    }
   ],
   "source": [
    "upperLayerSums(probs3,3,\"Probability\")"
   ]
  },
  {
   "cell_type": "markdown",
   "metadata": {
    "hidden": true
   },
   "source": [
    "#### Filter dataframe using `.item` and string of booleans"
   ]
  },
  {
   "cell_type": "code",
   "execution_count": 66,
   "metadata": {
    "hidden": true
   },
   "outputs": [
    {
     "data": {
      "text/plain": [
       "[0.460172162722971, 0.4207402905608969, 0.38208857781104744]"
      ]
     },
     "execution_count": 66,
     "metadata": {},
     "output_type": "execute_result"
    }
   ],
   "source": [
    "[probs3[\"Probability\"][[k[i]==1 for k in probs3.index.values]].sum() for i in [0,1,2]]"
   ]
  },
  {
   "cell_type": "markdown",
   "metadata": {
    "hidden": true
   },
   "source": [
    "#### Use dictionary"
   ]
  },
  {
   "cell_type": "code",
   "execution_count": 263,
   "metadata": {
    "hidden": true
   },
   "outputs": [
    {
     "data": {
      "text/plain": [
       "[0.460172162722971, 0.4207402905608969, 0.38208857781104744]"
      ]
     },
     "execution_count": 263,
     "metadata": {},
     "output_type": "execute_result"
    }
   ],
   "source": [
    "probsDict3=probs3.to_dict()[\"Probability\"]\n",
    "[np.sum([probsDict3.get(k) for k in probs3.index.values if k[i]]) for i in [0,1,2]]"
   ]
  },
  {
   "cell_type": "markdown",
   "metadata": {
    "hidden": true
   },
   "source": [
    "#### Use matrix multiplication"
   ]
  },
  {
   "cell_type": "code",
   "execution_count": 106,
   "metadata": {
    "hidden": true
   },
   "outputs": [
    {
     "data": {
      "text/plain": [
       "array([0.46017216, 0.42074029, 0.38208858])"
      ]
     },
     "execution_count": 106,
     "metadata": {},
     "output_type": "execute_result"
    }
   ],
   "source": [
    "np.dot(\n",
    "    np.array(probs3.values.flatten().tolist()),\n",
    "    np.array(probs3.index.values.tolist())\n",
    "    )"
   ]
  },
  {
   "cell_type": "markdown",
   "metadata": {
    "hidden": true
   },
   "source": [
    "#### Use `groupby`"
   ]
  },
  {
   "cell_type": "code",
   "execution_count": 127,
   "metadata": {
    "hidden": true
   },
   "outputs": [
    {
     "data": {
      "text/plain": [
       "[0.460172162722971, 0.4207402905608969, 0.38208857781104744]"
      ]
     },
     "execution_count": 127,
     "metadata": {},
     "output_type": "execute_result"
    }
   ],
   "source": [
    "[probs3.groupby(lambda z:z[i]).sum().values[1,0] for i in np.arange(3)]"
   ]
  },
  {
   "cell_type": "markdown",
   "metadata": {
    "heading_collapsed": true
   },
   "source": [
    "### Find sets of orthants for the upper half in each dimension - RECYCLE?"
   ]
  },
  {
   "cell_type": "code",
   "execution_count": 289,
   "metadata": {
    "hidden": true,
    "init_cell": true
   },
   "outputs": [],
   "source": [
    "def topOrthants(cases):\n",
    "    \"\"\"Given an array of 2^n cases, filters into n subsets containing the 2^(n-1) orthants in the top half in each dimension.\\\n",
    "       The dimensionality is (n,2^(n-1),n)\"\"\"\n",
    "    below,above=0,1\n",
    "    return(orthantLayer(cases,above))"
   ]
  },
  {
   "cell_type": "code",
   "execution_count": 17,
   "metadata": {
    "hidden": true
   },
   "outputs": [],
   "source": [
    "tops2 = topOrthants(cases2)\n",
    "tops3 = topOrthants(cases3)"
   ]
  },
  {
   "cell_type": "code",
   "execution_count": 71,
   "metadata": {
    "hidden": true
   },
   "outputs": [],
   "source": [
    "tops3 = np.array([cases3[cases3[:,i]==1] for i in np.arange(3)])"
   ]
  },
  {
   "cell_type": "code",
   "execution_count": 290,
   "metadata": {
    "hidden": true,
    "init_cell": true
   },
   "outputs": [],
   "source": [
    "def orthantLayer(cases,side):\n",
    "    \"\"\"Given an array of 2^n cases, filters into n subsets containing the 2^(n-1) orthants in the top or bottom half in each dimension.\\\n",
    "       The dimensionality is (n,2^(n-1),n)\n",
    "       Side is 0/1 for below/above.\"\"\"\n",
    "    return(np.array([cases[cases[:,i]==side] for i in np.arange(len(cases[1]))]))"
   ]
  },
  {
   "cell_type": "markdown",
   "metadata": {
    "heading_collapsed": true
   },
   "source": [
    "### Root search"
   ]
  },
  {
   "cell_type": "markdown",
   "metadata": {
    "hidden": true
   },
   "source": [
    "https://docs.scipy.org/doc/scipy/reference/generated/scipy.optimize.root.html"
   ]
  },
  {
   "cell_type": "code",
   "execution_count": 26,
   "metadata": {
    "hidden": true
   },
   "outputs": [
    {
     "data": {
      "text/plain": [
       "array([0.8411639, 0.1588361])"
      ]
     },
     "execution_count": 26,
     "metadata": {},
     "output_type": "execute_result"
    }
   ],
   "source": [
    "from scipy import optimize\n",
    "sol = optimize.root(fun, [0, 0], jac=jac, method='hybr')\n",
    "sol.x"
   ]
  },
  {
   "cell_type": "markdown",
   "metadata": {
    "hidden": true
   },
   "source": [
    "#### Define root search function manually"
   ]
  },
  {
   "cell_type": "code",
   "execution_count": 124,
   "metadata": {
    "hidden": true
   },
   "outputs": [],
   "source": [
    "def fun2dManual(x):\n",
    "    return [ #0.25*(exp(-(1+x[0]))+exp(-(1+x[0]+x[1]))+exp(-(1+x[0]+x[2]))+exp(-(1+x[0]+x[1]+x[2])))-1,\n",
    "            0.25*(exp(-(1+x[0]+x[1]))+exp(-(1+x[0]+x[1]+x[2])))-0.2,\n",
    "            0.25*(exp(-(1+x[0]+x[2]))+exp(-(1+x[0]+x[1]+x[2])))-0.3]"
   ]
  },
  {
   "cell_type": "markdown",
   "metadata": {
    "heading_collapsed": true,
    "hidden": true
   },
   "source": [
    "#### RECYCLE?"
   ]
  },
  {
   "cell_type": "code",
   "execution_count": 133,
   "metadata": {
    "hidden": true
   },
   "outputs": [],
   "source": [
    "# How to prepend the total prob expression to the PoD ones.\n",
    "test = tops2.tolist()\n",
    "test.insert(0,[[1, 0], [1, 1]])"
   ]
  },
  {
   "cell_type": "code",
   "execution_count": 18,
   "metadata": {
    "hidden": true
   },
   "outputs": [],
   "source": [
    "# Can apply expression based on columns with \"axis=1\"\n",
    "# probs3.apply(lambda x: 10*sum(x[\"OrthantId\"])+ x[\"Probability\"] ,axis=1)"
   ]
  },
  {
   "cell_type": "code",
   "execution_count": 144,
   "metadata": {
    "hidden": true
   },
   "outputs": [],
   "source": [
    "def fun3(x):\n",
    "    mu, *lambdas = x # (head, *tail)\n",
    "    lhs = np.array([np.sum(np.exp(-(1+mu+np.dot(top,lambdas)))) for top in tops2])\n",
    "    rhs = np.array([0.2,0.3])\n",
    "    return (lhs - rhs)"
   ]
  },
  {
   "cell_type": "markdown",
   "metadata": {
    "heading_collapsed": true
   },
   "source": [
    "### Posterior probabilities as a function of Lagrange multipliers `posteriorProbs`"
   ]
  },
  {
   "cell_type": "code",
   "execution_count": 255,
   "metadata": {
    "hidden": true
   },
   "outputs": [],
   "source": [
    "def posteriorProbs(probs,lagrange_multipliers):\n",
    "    \"\"\"Posterior probabilities p(x) given prior probs q(x) & Lagrange multipliers\"\"\"\n",
    "    mu, *lambdas = lagrange_multipliers # (head, *tail)\n",
    "    probs[\"ScaleFactor\"] = probs.index.to_series().apply(lambda id: np.exp(-(1 + mu + np.dot(id,lambdas))))\n",
    "    probs[\"Posterior\"] = probs[\"Probability\"] * probs[\"ScaleFactor\"]\n",
    "    #vals = [probs.apply(lambda x: x[x['OrthantId'][j] == 1]['Product'].sum()) for j in np.arange(3)]\n",
    "    return (probs)"
   ]
  },
  {
   "cell_type": "code",
   "execution_count": 298,
   "metadata": {
    "hidden": true
   },
   "outputs": [],
   "source": [
    "def fun(lagrange_multipliers):\n",
    "    # Parameters\n",
    "    mu,Sigma = [0,0,0],np.identity(3)\n",
    "    thresholds = [0.1,0.2,0.3]\n",
    "    pods = [0.1,0.2,0.3]\n",
    "    # Calculations\n",
    "    prior_prob = calcProbs(mu,Sigma,thresholds)\n",
    "    posterior_prob = posteriorProbs(prior_prob,lagrange_multipliers)\n",
    "    fullSum = prior_prob[\"Posterior\"].sum()\n",
    "    podSums = upperLayerSums(prior_prob,3,\"Posterior\")\n",
    "    lhs = np.insert(podSums,0,fullSum )\n",
    "    rhs = np.insert(pods,0,1)\n",
    "    return(rhs-lhs)"
   ]
  },
  {
   "cell_type": "code",
   "execution_count": 299,
   "metadata": {
    "hidden": true
   },
   "outputs": [
    {
     "data": {
      "text/plain": [
       "array([ 0.7055598 , -0.99285476, -0.89285476, -0.79285476])"
      ]
     },
     "execution_count": 299,
     "metadata": {},
     "output_type": "execute_result"
    }
   ],
   "source": [
    "fun([0.1,0.1,0.1,0.1])"
   ]
  },
  {
   "cell_type": "markdown",
   "metadata": {
    "heading_collapsed": true
   },
   "source": [
    "### `optimize.root`"
   ]
  },
  {
   "cell_type": "code",
   "execution_count": 300,
   "metadata": {
    "hidden": true
   },
   "outputs": [
    {
     "data": {
      "text/plain": [
       "array([-2.56403994,  3.96229085,  3.24994098,  2.8248972 ])"
      ]
     },
     "execution_count": 300,
     "metadata": {},
     "output_type": "execute_result"
    }
   ],
   "source": [
    "sol = optimize.root(fun, [0.1,0.1,0.1,0.1], method='hybr')\n",
    "sol.x"
   ]
  },
  {
   "cell_type": "code",
   "execution_count": 301,
   "metadata": {
    "hidden": true
   },
   "outputs": [
    {
     "data": {
      "text/plain": [
       "array([-1.54498636e-10,  8.55303467e-11,  6.58100241e-11,  7.57178764e-11])"
      ]
     },
     "execution_count": 301,
     "metadata": {},
     "output_type": "execute_result"
    }
   ],
   "source": [
    "fun(sol.x)"
   ]
  },
  {
   "cell_type": "markdown",
   "metadata": {},
   "source": [
    "## Recycle"
   ]
  }
 ],
 "metadata": {
  "celltoolbar": "Initialization Cell",
  "kernelspec": {
   "display_name": "Python 3.6",
   "language": "python",
   "name": "python36"
  },
  "language_info": {
   "codemirror_mode": {
    "name": "ipython",
    "version": 3
   },
   "file_extension": ".py",
   "mimetype": "text/x-python",
   "name": "python",
   "nbconvert_exporter": "python",
   "pygments_lexer": "ipython3",
   "version": "3.6.3"
  }
 },
 "nbformat": 4,
 "nbformat_minor": 2
}
