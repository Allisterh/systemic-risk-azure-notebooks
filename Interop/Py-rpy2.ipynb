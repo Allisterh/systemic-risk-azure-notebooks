{
 "cells": [
  {
   "cell_type": "markdown",
   "metadata": {
    "collapsed": true
   },
   "source": [
    "# Py - `rpy2` (Python 2 kernel)"
   ]
  },
  {
   "cell_type": "markdown",
   "metadata": {
    "collapsed": true
   },
   "source": [
    "https://rpy2.bitbucket.io/  \n",
    "`rpy2` is an interface to R running embedded in a Python process.  \n",
    "This notebook is for **Python 2** and **`rpy2` 2.8.6.**  \n",
    "**Problems:** Cannot find function `sd`. Why???!!!  \n",
    "Won't work for Python 3 or Python 3.6. See other notebook for sample output."
   ]
  },
  {
   "cell_type": "markdown",
   "metadata": {},
   "source": [
    "`unable to load shared object '/opt/microsoft/ropen/3.4.1/lib64/R/library/stats/libs/stats.so':\n",
    "  libRlapack.so: cannot open shared object file: No such file or directory`"
   ]
  },
  {
   "cell_type": "markdown",
   "metadata": {
    "collapsed": true
   },
   "source": [
    "### Purpose:\n",
    "Mix python & R code in a single notebook.  \n",
    "https://stackoverflow.com/questions/39008069/r-and-python-in-one-jupyter-notebook  \n",
    "https://rpy2.github.io/doc/v2.9.x/html/interactive.html?highlight=magic#overview   "
   ]
  },
  {
   "cell_type": "markdown",
   "metadata": {
    "collapsed": true
   },
   "source": [
    "#### Problems\n",
    "On Azure notebooks, only works for Python 2? https://github.com/Microsoft/AzureNotebooks/issues/35 \n",
    "https://stats.stackexchange.com/questions/6056/problems-with-librblas-so-on-ubuntu-with-rpy2  "
   ]
  },
  {
   "cell_type": "markdown",
   "metadata": {},
   "source": [
    "### Install & load library"
   ]
  },
  {
   "cell_type": "code",
   "execution_count": 1,
   "metadata": {
    "init_cell": true
   },
   "outputs": [
    {
     "name": "stdout",
     "output_type": "stream",
     "text": [
      "Requirement already satisfied: rpy2 in /home/nbuser/anaconda2_501/lib/python2.7/site-packages\r\n",
      "Requirement already satisfied: six in /home/nbuser/anaconda2_501/lib/python2.7/site-packages (from rpy2)\r\n",
      "Requirement already satisfied: singledispatch in /home/nbuser/anaconda2_501/lib/python2.7/site-packages (from rpy2)\r\n"
     ]
    }
   ],
   "source": [
    "!pip install rpy2"
   ]
  },
  {
   "cell_type": "code",
   "execution_count": 6,
   "metadata": {
    "init_cell": true
   },
   "outputs": [
    {
     "data": {
      "text/plain": [
       "['/home/nbuser/anaconda2_501/lib/python2.7/site-packages/rpy2']"
      ]
     },
     "execution_count": 6,
     "metadata": {},
     "output_type": "execute_result"
    }
   ],
   "source": [
    "import rpy2\n",
    "rpy2.__path__"
   ]
  },
  {
   "cell_type": "code",
   "execution_count": 7,
   "metadata": {
    "init_cell": true
   },
   "outputs": [
    {
     "name": "stdout",
     "output_type": "stream",
     "text": [
      "2.8.6\n"
     ]
    }
   ],
   "source": [
    "print(rpy2.__version__)"
   ]
  },
  {
   "cell_type": "markdown",
   "metadata": {},
   "source": [
    "### AzureNotebooks/issues/35\n",
    "https://github.com/Microsoft/AzureNotebooks/issues/35 "
   ]
  },
  {
   "cell_type": "code",
   "execution_count": 13,
   "metadata": {},
   "outputs": [
    {
     "name": "stdout",
     "output_type": "stream",
     "text": [
      "/usr/lib64/MRO-3.3.0/R-3.3.0/lib/R/lib/\r\n"
     ]
    }
   ],
   "source": [
    "!echo $LD_LIBRARY_PATH"
   ]
  },
  {
   "cell_type": "code",
   "execution_count": 14,
   "metadata": {},
   "outputs": [],
   "source": [
    "import os\n",
    "os.environ[\"LD_LIBRARY_PATH\"] = \"/usr/lib64/MRO-3.3.0/R-3.3.0/lib/R/lib/\""
   ]
  },
  {
   "cell_type": "code",
   "execution_count": 9,
   "metadata": {},
   "outputs": [
    {
     "name": "stderr",
     "output_type": "stream",
     "text": [
      "/home/nbuser/anaconda2_501/lib/python2.7/site-packages/rpy2/rinterface/__init__.py:186: RRuntimeWarning: Error: package or namespace load failed for ‘stats’ in dyn.load(file, DLLpath = DLLpath, ...):\n",
      " unable to load shared object '/opt/microsoft/ropen/3.4.1/lib64/R/library/stats/libs/stats.so':\n",
      "  libRlapack.so: cannot open shared object file: No such file or directory\n",
      "\n",
      "  warnings.warn(x, RRuntimeWarning)\n",
      "/home/nbuser/anaconda2_501/lib/python2.7/site-packages/rpy2/rinterface/__init__.py:186: RRuntimeWarning: During startup - \n",
      "  warnings.warn(x, RRuntimeWarning)\n",
      "/home/nbuser/anaconda2_501/lib/python2.7/site-packages/rpy2/rinterface/__init__.py:186: RRuntimeWarning: Warning message:\n",
      "\n",
      "  warnings.warn(x, RRuntimeWarning)\n",
      "/home/nbuser/anaconda2_501/lib/python2.7/site-packages/rpy2/rinterface/__init__.py:186: RRuntimeWarning: package ‘stats’ in options(\"defaultPackages\") was not found \n",
      "\n",
      "  warnings.warn(x, RRuntimeWarning)\n"
     ]
    }
   ],
   "source": [
    "%load_ext rpy2.ipython"
   ]
  },
  {
   "cell_type": "code",
   "execution_count": 10,
   "metadata": {},
   "outputs": [
    {
     "name": "stdout",
     "output_type": "stream",
     "text": [
      "\n",
      "Error in La_library() : LAPACK routines cannot be loaded\n"
     ]
    },
    {
     "name": "stderr",
     "output_type": "stream",
     "text": [
      "/home/nbuser/anaconda2_501/lib/python2.7/site-packages/rpy2/rinterface/__init__.py:186: RRuntimeWarning: Error in La_library() : LAPACK routines cannot be loaded\n",
      "\n",
      "  warnings.warn(x, RRuntimeWarning)\n",
      "/home/nbuser/anaconda2_501/lib/python2.7/site-packages/rpy2/rinterface/__init__.py:186: RRuntimeWarning: In addition: \n",
      "  warnings.warn(x, RRuntimeWarning)\n",
      "/home/nbuser/anaconda2_501/lib/python2.7/site-packages/rpy2/rinterface/__init__.py:186: RRuntimeWarning: In La_library() :\n",
      "  warnings.warn(x, RRuntimeWarning)\n",
      "/home/nbuser/anaconda2_501/lib/python2.7/site-packages/rpy2/rinterface/__init__.py:186: RRuntimeWarning: \n",
      " \n",
      "  warnings.warn(x, RRuntimeWarning)\n",
      "/home/nbuser/anaconda2_501/lib/python2.7/site-packages/rpy2/rinterface/__init__.py:186: RRuntimeWarning:  unable to load shared object '/opt/microsoft/ropen/3.4.1/lib64/R/modules//lapack.so':\n",
      "  libRlapack.so: cannot open shared object file: No such file or directory\n",
      "\n",
      "  warnings.warn(x, RRuntimeWarning)\n"
     ]
    }
   ],
   "source": [
    "%R sessionInfo()"
   ]
  },
  {
   "cell_type": "code",
   "execution_count": null,
   "metadata": {
    "slideshow": {
     "slide_type": "subslide"
    }
   },
   "outputs": [],
   "source": [
    "version 3.4.1 (2017-06-30)\n",
    "Platform: x86_64-pc-linux-gnu (64-bit)\n",
    "Running under: Ubuntu 16.04.3 LTS\n",
    "\n",
    "Matrix products: default\n",
    "BLAS: /opt/microsoft/ropen/3.4.1/lib64/R/lib/libRblas.so\n",
    "LAPACK: /opt/microsoft/ropen/3.4.1/lib64/R/lib/libRlapack.so\n",
    "\n",
    "locale:\n",
    " [1] LC_CTYPE=en_US.UTF-8       LC_NUMERIC=C\n",
    " [3] LC_TIME=en_US.UTF-8        LC_COLLATE=en_US.UTF-8\n",
    " [5] LC_MONETARY=en_US.UTF-8    LC_MESSAGES=en_US.UTF-8\n",
    " [7] LC_PAPER=en_US.UTF-8       LC_NAME=C\n",
    " [9] LC_ADDRESS=C               LC_TELEPHONE=C\n",
    "[11] LC_MEASUREMENT=en_US.UTF-8 LC_IDENTIFICATION=C\n",
    "\n",
    "attached base packages:\n",
    "[1] stats     graphics  grDevices utils     datasets  methods   base\n",
    "\n",
    "loaded via a namespace (and not attached):\n",
    "[1] compiler_3.4.1\n",
    ">"
   ]
  },
  {
   "cell_type": "markdown",
   "metadata": {},
   "source": [
    "### `robjects`"
   ]
  },
  {
   "cell_type": "code",
   "execution_count": 17,
   "metadata": {},
   "outputs": [],
   "source": [
    "import rpy2.robjects as robjects"
   ]
  },
  {
   "cell_type": "markdown",
   "metadata": {},
   "source": [
    "#### Package module"
   ]
  },
  {
   "cell_type": "code",
   "execution_count": 19,
   "metadata": {},
   "outputs": [
    {
     "data": {
      "text/plain": [
       "rpy2.rinterface.NULL"
      ]
     },
     "execution_count": 19,
     "metadata": {},
     "output_type": "execute_result"
    }
   ],
   "source": [
    "# import rpy2's package module\n",
    "import rpy2.robjects.packages as rpackages\n",
    "\n",
    "# import R's utility package\n",
    "utils = rpackages.importr('utils')\n",
    "\n",
    "# select a mirror for R packages\n",
    "utils.chooseCRANmirror(ind=1) # select the first mirror in the list"
   ]
  },
  {
   "cell_type": "code",
   "execution_count": 23,
   "metadata": {},
   "outputs": [],
   "source": [
    "# stats = rpackages.importr('stats')"
   ]
  },
  {
   "cell_type": "markdown",
   "metadata": {},
   "source": [
    "### Installed packages"
   ]
  },
  {
   "cell_type": "code",
   "execution_count": 24,
   "metadata": {},
   "outputs": [
    {
     "name": "stdout",
     "output_type": "stream",
     "text": [
      "AzureML     deployrRserve  igraph      mgcv\t   repr\t\t  stringr\r\n",
      "base\t    devtools\t   IRdisplay   MicrosoftR  RevoIOQ\t  survival\r\n",
      "base64enc   digest\t   IRkernel    mime\t   RevoMods\t  tcltk\r\n",
      "bitops\t    doParallel\t   irlba       miniCRAN    RevoUtils\t  tools\r\n",
      "boot\t    evaluate\t   iterators   nlme\t   RevoUtilsMath  translations\r\n",
      "checkpoint  foreach\t   jsonlite    nnet\t   rpart\t  utils\r\n",
      "class\t    foreign\t   KernSmooth  openssl\t   rstudioapi\t  uuid\r\n",
      "cluster     git2r\t   lattice     parallel    RUnit\t  webapi\r\n",
      "codetools   glue\t   magrittr    pbdZMQ\t   spatial\t  whisker\r\n",
      "compiler    graphics\t   MASS        pkgconfig   splines\t  withr\r\n",
      "crayon\t    grDevices\t   Matrix      png\t   stats\t  XML\r\n",
      "curl\t    grid\t   memoise     R6\t   stats4\r\n",
      "datasets    httr\t   methods     RCurl\t   stringi\r\n"
     ]
    }
   ],
   "source": [
    "!ls /opt/microsoft/ropen/3.4.1/lib64/R/library/"
   ]
  },
  {
   "cell_type": "markdown",
   "metadata": {},
   "source": [
    "### Magics"
   ]
  },
  {
   "cell_type": "markdown",
   "metadata": {},
   "source": [
    "https://rpy2.github.io/doc/v2.9.x/html/interactive.html?highlight=magic#module-rpy2.ipython.rmagic"
   ]
  },
  {
   "cell_type": "code",
   "execution_count": 25,
   "metadata": {},
   "outputs": [
    {
     "name": "stdout",
     "output_type": "stream",
     "text": [
      "The rpy2.ipython extension is already loaded. To reload it, use:\n",
      "  %reload_ext rpy2.ipython\n"
     ]
    }
   ],
   "source": [
    "%load_ext rpy2.ipython"
   ]
  },
  {
   "cell_type": "code",
   "execution_count": 26,
   "metadata": {},
   "outputs": [
    {
     "data": {
      "text/plain": [
       "array([ 1.,  4.,  5.,  7.])"
      ]
     },
     "execution_count": 26,
     "metadata": {},
     "output_type": "execute_result"
    }
   ],
   "source": [
    "%R X=c(1,4,5,7)"
   ]
  },
  {
   "cell_type": "code",
   "execution_count": 27,
   "metadata": {},
   "outputs": [
    {
     "data": {
      "text/plain": [
       "[1] 2.5\n"
      ]
     },
     "metadata": {},
     "output_type": "display_data"
    }
   ],
   "source": [
    "%%R\n",
    "X2=c(1,2,3,4)\n",
    "mean(X2)"
   ]
  },
  {
   "cell_type": "code",
   "execution_count": 28,
   "metadata": {},
   "outputs": [
    {
     "data": {
      "text/plain": [
       "array([ 4.25])"
      ]
     },
     "execution_count": 28,
     "metadata": {},
     "output_type": "execute_result"
    }
   ],
   "source": [
    "%R mean(X)"
   ]
  },
  {
   "cell_type": "code",
   "execution_count": 29,
   "metadata": {},
   "outputs": [
    {
     "name": "stdout",
     "output_type": "stream",
     "text": [
      "\n",
      "Error in dyn.load(file, DLLpath = DLLpath, ...) : \n",
      "  unable to load shared object '/opt/microsoft/ropen/3.4.1/lib64/R/library/stats/libs/stats.so':\n",
      "  libRlapack.so: cannot open shared object file: No such file or directory\n"
     ]
    }
   ],
   "source": [
    "%%R\n",
    "Y = c(2,4,3,9)\n",
    "summary(stats::lm(Y~X))"
   ]
  },
  {
   "cell_type": "code",
   "execution_count": 30,
   "metadata": {},
   "outputs": [
    {
     "name": "stdout",
     "output_type": "stream",
     "text": [
      "\n",
      "Error in sd(X) : could not find function \"sd\"\n"
     ]
    },
    {
     "name": "stderr",
     "output_type": "stream",
     "text": [
      "/home/nbuser/anaconda2_501/lib/python2.7/site-packages/rpy2/rinterface/__init__.py:186: RRuntimeWarning: Error in sd(X) : could not find function \"sd\"\n",
      "\n",
      "  warnings.warn(x, RRuntimeWarning)\n"
     ]
    }
   ],
   "source": [
    "%R sd(X)"
   ]
  },
  {
   "cell_type": "markdown",
   "metadata": {},
   "source": [
    "### Trying to fix `Error in sd(X) : could not find function \"sd\"` "
   ]
  },
  {
   "cell_type": "code",
   "execution_count": 31,
   "metadata": {},
   "outputs": [
    {
     "name": "stdout",
     "output_type": "stream",
     "text": [
      "\n",
      "Error: package or namespace load failed for ‘stats’ in dyn.load(file, DLLpath = DLLpath, ...):\n",
      " unable to load shared object '/opt/microsoft/ropen/3.4.1/lib64/R/library/stats/libs/stats.so':\n",
      "  libRlapack.so: cannot open shared object file: No such file or directory\n"
     ]
    }
   ],
   "source": [
    "%R library(stats)"
   ]
  },
  {
   "cell_type": "code",
   "execution_count": 32,
   "metadata": {},
   "outputs": [
    {
     "data": {
      "text/plain": [
       "array([], dtype=float64)"
      ]
     },
     "execution_count": 32,
     "metadata": {},
     "output_type": "execute_result"
    }
   ],
   "source": [
    "%R find(\"stats:sd\") "
   ]
  },
  {
   "cell_type": "code",
   "execution_count": 33,
   "metadata": {},
   "outputs": [
    {
     "name": "stdout",
     "output_type": "stream",
     "text": [
      "\n",
      "Error in dyn.load(file, DLLpath = DLLpath, ...) : \n",
      "  unable to load shared object '/opt/microsoft/ropen/3.4.1/lib64/R/library/stats/libs/stats.so':\n",
      "  libRlapack.so: cannot open shared object file: No such file or directory\n"
     ]
    }
   ],
   "source": [
    "%R stats::sd(X)"
   ]
  },
  {
   "cell_type": "code",
   "execution_count": 34,
   "metadata": {},
   "outputs": [
    {
     "name": "stdout",
     "output_type": "stream",
     "text": [
      "AzureML     deployrRserve  igraph      mgcv\t   repr\t\t  stringr\r\n",
      "base\t    devtools\t   IRdisplay   MicrosoftR  RevoIOQ\t  survival\r\n",
      "base64enc   digest\t   IRkernel    mime\t   RevoMods\t  tcltk\r\n",
      "bitops\t    doParallel\t   irlba       miniCRAN    RevoUtils\t  tools\r\n",
      "boot\t    evaluate\t   iterators   nlme\t   RevoUtilsMath  translations\r\n",
      "checkpoint  foreach\t   jsonlite    nnet\t   rpart\t  utils\r\n",
      "class\t    foreign\t   KernSmooth  openssl\t   rstudioapi\t  uuid\r\n",
      "cluster     git2r\t   lattice     parallel    RUnit\t  webapi\r\n",
      "codetools   glue\t   magrittr    pbdZMQ\t   spatial\t  whisker\r\n",
      "compiler    graphics\t   MASS        pkgconfig   splines\t  withr\r\n",
      "crayon\t    grDevices\t   Matrix      png\t   stats\t  XML\r\n",
      "curl\t    grid\t   memoise     R6\t   stats4\r\n",
      "datasets    httr\t   methods     RCurl\t   stringi\r\n"
     ]
    }
   ],
   "source": [
    "!ls /opt/microsoft/ropen/3.4.1/lib64/R/library/"
   ]
  },
  {
   "cell_type": "code",
   "execution_count": 35,
   "metadata": {},
   "outputs": [
    {
     "name": "stdout",
     "output_type": "stream",
     "text": [
      "/usr/lib64/MRO-3.3.0/R-3.3.0/lib/R/lib/\r\n"
     ]
    }
   ],
   "source": [
    "!echo $LD_LIBRARY_PATH"
   ]
  },
  {
   "cell_type": "code",
   "execution_count": 36,
   "metadata": {},
   "outputs": [
    {
     "name": "stdout",
     "output_type": "stream",
     "text": [
      "ls: cannot access '/usr/lib64/MRO-3.3.0/R-3.3.0/lib/R/lib/': No such file or directory\r\n"
     ]
    }
   ],
   "source": [
    "!ls /usr/lib64/MRO-3.3.0/R-3.3.0/lib/R/lib/"
   ]
  },
  {
   "cell_type": "code",
   "execution_count": 38,
   "metadata": {},
   "outputs": [],
   "source": [
    "#!ls /usr/lib"
   ]
  },
  {
   "cell_type": "code",
   "execution_count": 39,
   "metadata": {},
   "outputs": [],
   "source": [
    "!export LD_LIBRARY_PATH=\"/opt/microsoft/ropen/3.4.1/lib64/R/library:$LD_LIBRARY_PATH\""
   ]
  },
  {
   "cell_type": "code",
   "execution_count": 40,
   "metadata": {},
   "outputs": [
    {
     "name": "stdout",
     "output_type": "stream",
     "text": [
      "\n",
      "Error in La_library() : LAPACK routines cannot be loaded\n"
     ]
    }
   ],
   "source": [
    "%R sessionInfo()"
   ]
  },
  {
   "cell_type": "markdown",
   "metadata": {},
   "source": [
    "### Matloff"
   ]
  },
  {
   "cell_type": "markdown",
   "metadata": {},
   "source": [
    "http://heather.cs.ucdavis.edu/~matloff/rpy2.html"
   ]
  },
  {
   "cell_type": "code",
   "execution_count": 41,
   "metadata": {},
   "outputs": [
    {
     "name": "stderr",
     "output_type": "stream",
     "text": [
      "/home/nbuser/anaconda2_501/lib/python2.7/site-packages/rpy2/rinterface/__init__.py:186: RRuntimeWarning: Error in rnorm(100) : could not find function \"rnorm\"\n",
      "\n",
      "  warnings.warn(x, RRuntimeWarning)\n"
     ]
    },
    {
     "ename": "RRuntimeError",
     "evalue": "Error in rnorm(100) : could not find function \"rnorm\"\n",
     "output_type": "error",
     "traceback": [
      "\u001b[0;31m\u001b[0m",
      "\u001b[0;31mRRuntimeError\u001b[0mTraceback (most recent call last)",
      "\u001b[0;32m<ipython-input-41-239e95962284>\u001b[0m in \u001b[0;36m<module>\u001b[0;34m()\u001b[0m\n\u001b[1;32m      1\u001b[0m \u001b[0;32mfrom\u001b[0m \u001b[0mrpy2\u001b[0m\u001b[0;34m.\u001b[0m\u001b[0mrobjects\u001b[0m \u001b[0;32mimport\u001b[0m \u001b[0mr\u001b[0m\u001b[0;34m\u001b[0m\u001b[0m\n\u001b[0;32m----> 2\u001b[0;31m \u001b[0mr\u001b[0m\u001b[0;34m(\u001b[0m\u001b[0;34m'x <- rnorm(100)'\u001b[0m\u001b[0;34m)\u001b[0m  \u001b[0;31m# generate x at R\u001b[0m\u001b[0;34m\u001b[0m\u001b[0m\n\u001b[0m\u001b[1;32m      3\u001b[0m \u001b[0mr\u001b[0m\u001b[0;34m(\u001b[0m\u001b[0;34m'y <- x + rnorm(100,sd=0.5)'\u001b[0m\u001b[0;34m)\u001b[0m  \u001b[0;31m# generate y at R\u001b[0m\u001b[0;34m\u001b[0m\u001b[0m\n\u001b[1;32m      4\u001b[0m \u001b[0mr\u001b[0m\u001b[0;34m(\u001b[0m\u001b[0;34m'plot(x,y)'\u001b[0m\u001b[0;34m)\u001b[0m  \u001b[0;31m# have R plot them\u001b[0m\u001b[0;34m\u001b[0m\u001b[0m\n\u001b[1;32m      5\u001b[0m \u001b[0mr\u001b[0m\u001b[0;34m(\u001b[0m\u001b[0;34m'lmout <- lm(y~x)'\u001b[0m\u001b[0;34m)\u001b[0m  \u001b[0;31m# run the regression\u001b[0m\u001b[0;34m\u001b[0m\u001b[0m\n",
      "\u001b[0;32m/home/nbuser/anaconda2_501/lib/python2.7/site-packages/rpy2/robjects/__init__.pyc\u001b[0m in \u001b[0;36m__call__\u001b[0;34m(self, string)\u001b[0m\n\u001b[1;32m    360\u001b[0m     \u001b[0;32mdef\u001b[0m \u001b[0m__call__\u001b[0m\u001b[0;34m(\u001b[0m\u001b[0mself\u001b[0m\u001b[0;34m,\u001b[0m \u001b[0mstring\u001b[0m\u001b[0;34m)\u001b[0m\u001b[0;34m:\u001b[0m\u001b[0;34m\u001b[0m\u001b[0m\n\u001b[1;32m    361\u001b[0m         \u001b[0mp\u001b[0m \u001b[0;34m=\u001b[0m \u001b[0m_rparse\u001b[0m\u001b[0;34m(\u001b[0m\u001b[0mtext\u001b[0m\u001b[0;34m=\u001b[0m\u001b[0mStrSexpVector\u001b[0m\u001b[0;34m(\u001b[0m\u001b[0;34m(\u001b[0m\u001b[0mstring\u001b[0m\u001b[0;34m,\u001b[0m\u001b[0;34m)\u001b[0m\u001b[0;34m)\u001b[0m\u001b[0;34m)\u001b[0m\u001b[0;34m\u001b[0m\u001b[0m\n\u001b[0;32m--> 362\u001b[0;31m         \u001b[0mres\u001b[0m \u001b[0;34m=\u001b[0m \u001b[0mself\u001b[0m\u001b[0;34m.\u001b[0m\u001b[0meval\u001b[0m\u001b[0;34m(\u001b[0m\u001b[0mp\u001b[0m\u001b[0;34m)\u001b[0m\u001b[0;34m\u001b[0m\u001b[0m\n\u001b[0m\u001b[1;32m    363\u001b[0m         \u001b[0;32mreturn\u001b[0m \u001b[0mconversion\u001b[0m\u001b[0;34m.\u001b[0m\u001b[0mri2py\u001b[0m\u001b[0;34m(\u001b[0m\u001b[0mres\u001b[0m\u001b[0;34m)\u001b[0m\u001b[0;34m\u001b[0m\u001b[0m\n\u001b[1;32m    364\u001b[0m \u001b[0;34m\u001b[0m\u001b[0m\n",
      "\u001b[0;32m/home/nbuser/anaconda2_501/lib/python2.7/site-packages/rpy2/robjects/functions.pyc\u001b[0m in \u001b[0;36m__call__\u001b[0;34m(self, *args, **kwargs)\u001b[0m\n\u001b[1;32m    176\u001b[0m                 \u001b[0mv\u001b[0m \u001b[0;34m=\u001b[0m \u001b[0mkwargs\u001b[0m\u001b[0;34m.\u001b[0m\u001b[0mpop\u001b[0m\u001b[0;34m(\u001b[0m\u001b[0mk\u001b[0m\u001b[0;34m)\u001b[0m\u001b[0;34m\u001b[0m\u001b[0m\n\u001b[1;32m    177\u001b[0m                 \u001b[0mkwargs\u001b[0m\u001b[0;34m[\u001b[0m\u001b[0mr_k\u001b[0m\u001b[0;34m]\u001b[0m \u001b[0;34m=\u001b[0m \u001b[0mv\u001b[0m\u001b[0;34m\u001b[0m\u001b[0m\n\u001b[0;32m--> 178\u001b[0;31m         \u001b[0;32mreturn\u001b[0m \u001b[0msuper\u001b[0m\u001b[0;34m(\u001b[0m\u001b[0mSignatureTranslatedFunction\u001b[0m\u001b[0;34m,\u001b[0m \u001b[0mself\u001b[0m\u001b[0;34m)\u001b[0m\u001b[0;34m.\u001b[0m\u001b[0m__call__\u001b[0m\u001b[0;34m(\u001b[0m\u001b[0;34m*\u001b[0m\u001b[0margs\u001b[0m\u001b[0;34m,\u001b[0m \u001b[0;34m**\u001b[0m\u001b[0mkwargs\u001b[0m\u001b[0;34m)\u001b[0m\u001b[0;34m\u001b[0m\u001b[0m\n\u001b[0m\u001b[1;32m    179\u001b[0m \u001b[0;34m\u001b[0m\u001b[0m\n\u001b[1;32m    180\u001b[0m \u001b[0mpattern_link\u001b[0m \u001b[0;34m=\u001b[0m \u001b[0mre\u001b[0m\u001b[0;34m.\u001b[0m\u001b[0mcompile\u001b[0m\u001b[0;34m(\u001b[0m\u001b[0;34mr'\\\\link\\{(.+?)\\}'\u001b[0m\u001b[0;34m)\u001b[0m\u001b[0;34m\u001b[0m\u001b[0m\n",
      "\u001b[0;32m/home/nbuser/anaconda2_501/lib/python2.7/site-packages/rpy2/robjects/functions.pyc\u001b[0m in \u001b[0;36m__call__\u001b[0;34m(self, *args, **kwargs)\u001b[0m\n\u001b[1;32m    104\u001b[0m         \u001b[0;32mfor\u001b[0m \u001b[0mk\u001b[0m\u001b[0;34m,\u001b[0m \u001b[0mv\u001b[0m \u001b[0;32min\u001b[0m \u001b[0mkwargs\u001b[0m\u001b[0;34m.\u001b[0m\u001b[0mitems\u001b[0m\u001b[0;34m(\u001b[0m\u001b[0;34m)\u001b[0m\u001b[0;34m:\u001b[0m\u001b[0;34m\u001b[0m\u001b[0m\n\u001b[1;32m    105\u001b[0m             \u001b[0mnew_kwargs\u001b[0m\u001b[0;34m[\u001b[0m\u001b[0mk\u001b[0m\u001b[0;34m]\u001b[0m \u001b[0;34m=\u001b[0m \u001b[0mconversion\u001b[0m\u001b[0;34m.\u001b[0m\u001b[0mpy2ri\u001b[0m\u001b[0;34m(\u001b[0m\u001b[0mv\u001b[0m\u001b[0;34m)\u001b[0m\u001b[0;34m\u001b[0m\u001b[0m\n\u001b[0;32m--> 106\u001b[0;31m         \u001b[0mres\u001b[0m \u001b[0;34m=\u001b[0m \u001b[0msuper\u001b[0m\u001b[0;34m(\u001b[0m\u001b[0mFunction\u001b[0m\u001b[0;34m,\u001b[0m \u001b[0mself\u001b[0m\u001b[0;34m)\u001b[0m\u001b[0;34m.\u001b[0m\u001b[0m__call__\u001b[0m\u001b[0;34m(\u001b[0m\u001b[0;34m*\u001b[0m\u001b[0mnew_args\u001b[0m\u001b[0;34m,\u001b[0m \u001b[0;34m**\u001b[0m\u001b[0mnew_kwargs\u001b[0m\u001b[0;34m)\u001b[0m\u001b[0;34m\u001b[0m\u001b[0m\n\u001b[0m\u001b[1;32m    107\u001b[0m         \u001b[0mres\u001b[0m \u001b[0;34m=\u001b[0m \u001b[0mconversion\u001b[0m\u001b[0;34m.\u001b[0m\u001b[0mri2ro\u001b[0m\u001b[0;34m(\u001b[0m\u001b[0mres\u001b[0m\u001b[0;34m)\u001b[0m\u001b[0;34m\u001b[0m\u001b[0m\n\u001b[1;32m    108\u001b[0m         \u001b[0;32mreturn\u001b[0m \u001b[0mres\u001b[0m\u001b[0;34m\u001b[0m\u001b[0m\n",
      "\u001b[0;31mRRuntimeError\u001b[0m: Error in rnorm(100) : could not find function \"rnorm\"\n"
     ]
    }
   ],
   "source": [
    "from rpy2.robjects import r\n",
    "r('x <- rnorm(100)')  # generate x at R\n",
    "r('y <- x + rnorm(100,sd=0.5)')  # generate y at R\n",
    "r('plot(x,y)')  # have R plot them\n",
    "r('lmout <- lm(y~x)')  # run the regression\n",
    "r('print(lmout)')  # print from R\n",
    "loclmout = r('lmout') # download lmout from R to Python\n",
    "print(loclmout)  # print locally\n",
    "print(loclmout.r['coefficients'])  # print one component"
   ]
  },
  {
   "cell_type": "markdown",
   "metadata": {},
   "source": [
    "### Plotting example"
   ]
  },
  {
   "cell_type": "markdown",
   "metadata": {},
   "source": [
    "https://stackoverflow.com/questions/39008069/r-and-python-in-one-jupyter-notebook"
   ]
  },
  {
   "cell_type": "code",
   "execution_count": 42,
   "metadata": {},
   "outputs": [
    {
     "name": "stdout",
     "output_type": "stream",
     "text": [
      "The rpy2.ipython extension is already loaded. To reload it, use:\n",
      "  %reload_ext rpy2.ipython\n"
     ]
    }
   ],
   "source": [
    "# enables the %%R magic, not necessary if you've already done this\n",
    "%load_ext rpy2.ipython\n",
    "\n",
    "import pandas as pd\n",
    "df = pd.DataFrame({\n",
    "    'cups_of_coffee': [0, 1, 2, 3, 4, 5, 6, 7, 8, 9],\n",
    "    'productivity': [2, 5, 6, 8, 9, 8, 0, 1, 0, -1]\n",
    "})"
   ]
  },
  {
   "cell_type": "code",
   "execution_count": 44,
   "metadata": {},
   "outputs": [],
   "source": [
    "# import df from global environment\n",
    "# make default figure size 5 by 5 inches with 200 dpi resolution\n",
    "# Note that %%R has to be at start of cell!!!"
   ]
  },
  {
   "cell_type": "code",
   "execution_count": 43,
   "metadata": {},
   "outputs": [
    {
     "name": "stdout",
     "output_type": "stream",
     "text": [
      "\n",
      "Error: package or namespace load failed for ‘ggplot2’ in dyn.load(file, DLLpath = DLLpath, ...):\n",
      " unable to load shared object '/opt/microsoft/ropen/3.4.1/lib64/R/library/stats/libs/stats.so':\n",
      "  libRlapack.so: cannot open shared object file: No such file or directory\n"
     ]
    },
    {
     "name": "stderr",
     "output_type": "stream",
     "text": [
      "/home/nbuser/anaconda2_501/lib/python2.7/site-packages/rpy2/rinterface/__init__.py:186: RRuntimeWarning: Error: package or namespace load failed for ‘ggplot2’ in dyn.load(file, DLLpath = DLLpath, ...):\n",
      " unable to load shared object '/opt/microsoft/ropen/3.4.1/lib64/R/library/stats/libs/stats.so':\n",
      "  libRlapack.so: cannot open shared object file: No such file or directory\n",
      "\n",
      "  warnings.warn(x, RRuntimeWarning)\n"
     ]
    }
   ],
   "source": [
    "%%R -i df -w 5 -h 5 --units in -r 200\n",
    "install.packages(\"ggplot2\", repos='http://cran.us.r-project.org', quiet=TRUE)\n",
    "library(ggplot2)\n",
    "ggplot(df, aes(x=cups_of_coffee, y=productivity)) + geom_line()"
   ]
  },
  {
   "cell_type": "code",
   "execution_count": null,
   "metadata": {},
   "outputs": [],
   "source": []
  }
 ],
 "metadata": {
  "kernelspec": {
   "display_name": "Python 2",
   "language": "python",
   "name": "python2"
  },
  "language_info": {
   "codemirror_mode": {
    "name": "ipython",
    "version": 2
   },
   "file_extension": ".py",
   "mimetype": "text/x-python",
   "name": "python",
   "nbconvert_exporter": "python",
   "pygments_lexer": "ipython2",
   "version": "2.7.14"
  }
 },
 "nbformat": 4,
 "nbformat_minor": 2
}
