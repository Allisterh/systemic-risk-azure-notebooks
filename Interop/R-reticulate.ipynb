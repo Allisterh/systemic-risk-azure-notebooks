{
 "cells": [
  {
   "cell_type": "markdown",
   "metadata": {
    "collapsed": true
   },
   "source": [
    "# R-reticulate"
   ]
  },
  {
   "cell_type": "markdown",
   "metadata": {},
   "source": [
    "https://rstudio.github.io/reticulate/index.html"
   ]
  },
  {
   "cell_type": "code",
   "execution_count": 1,
   "metadata": {},
   "outputs": [
    {
     "name": "stderr",
     "output_type": "stream",
     "text": [
      "Installing package into ‘/home/nbuser/R’\n",
      "(as ‘lib’ is unspecified)\n"
     ]
    }
   ],
   "source": [
    "install.packages(\"reticulate\")"
   ]
  },
  {
   "cell_type": "code",
   "execution_count": 2,
   "metadata": {},
   "outputs": [
    {
     "data": {
      "text/html": [
       "<strong>python:</strong> '/usr/bin/python'"
      ],
      "text/latex": [
       "\\textbf{python:} '/usr/bin/python'"
      ],
      "text/markdown": [
       "**python:** '/usr/bin/python'"
      ],
      "text/plain": [
       "           python \n",
       "\"/usr/bin/python\" "
      ]
     },
     "metadata": {},
     "output_type": "display_data"
    }
   ],
   "source": [
    "Sys.which(\"python\")"
   ]
  },
  {
   "cell_type": "code",
   "execution_count": 4,
   "metadata": {},
   "outputs": [],
   "source": [
    "library(reticulate)"
   ]
  },
  {
   "cell_type": "markdown",
   "metadata": {},
   "source": [
    "## Importing Python modules"
   ]
  },
  {
   "cell_type": "code",
   "execution_count": 5,
   "metadata": {},
   "outputs": [
    {
     "data": {
      "text/html": [
       "<ol class=list-inline>\n",
       "\t<li>'output'</li>\n",
       "\t<li>'.ipynb_checkpoints'</li>\n",
       "\t<li>'Py-sfc_models.ipynb'</li>\n",
       "\t<li>'Py-networkx--TO-DO.ipynb'</li>\n",
       "\t<li>'Py-igraph--TO-DO.ipynb'</li>\n",
       "\t<li>'R-SRISK.ipynb'</li>\n",
       "\t<li>'R-igraph-TO-DO.ipynb'</li>\n",
       "\t<li>'R-TEMPLATE.ipynb'</li>\n",
       "\t<li>'Py-SRISK.ipynb'</li>\n",
       "\t<li>'SRISK'</li>\n",
       "\t<li>'R-ndtv-d3--TO-DO.ipynb'</li>\n",
       "\t<li>'R-reticulate.ipynb'</li>\n",
       "\t<li>'data'</li>\n",
       "\t<li>'R-ccgarch.ipynb'</li>\n",
       "\t<li>'R-NetworkRiskMeasures.ipynb'</li>\n",
       "\t<li>'Py-rpy2.ipynb'</li>\n",
       "\t<li>'Sheppard--Python-for-econometrics--Example_GJR-GARCH.ipynb'</li>\n",
       "\t<li>'Py-clustergrammer--TO-DO.ipynb'</li>\n",
       "\t<li>'azure-notebook-github-integration.md'</li>\n",
       "\t<li>'Local'</li>\n",
       "\t<li>'neva'</li>\n",
       "\t<li>'Links'</li>\n",
       "\t<li>'.git'</li>\n",
       "\t<li>'result'</li>\n",
       "\t<li>'Py-Gordon-Reid--Interbank-network-sim.ipynb'</li>\n",
       "\t<li>'README.md'</li>\n",
       "\t<li>'.nb.logs'</li>\n",
       "\t<li>'Py-ABCE--Tutorial.ipynb'</li>\n",
       "\t<li>'Py-rpy2-Python3.ipynb'</li>\n",
       "\t<li>'Py-neva--Network-based-stress-testing.ipynb'</li>\n",
       "\t<li>'R-ndtv.ipynb'</li>\n",
       "\t<li>'R-mFilter.ipynb'</li>\n",
       "\t<li>'R-systemicrisk--Bayesian-network-reconstruction.ipynb'</li>\n",
       "</ol>\n"
      ],
      "text/latex": [
       "\\begin{enumerate*}\n",
       "\\item 'output'\n",
       "\\item '.ipynb\\_checkpoints'\n",
       "\\item 'Py-sfc\\_models.ipynb'\n",
       "\\item 'Py-networkx--TO-DO.ipynb'\n",
       "\\item 'Py-igraph--TO-DO.ipynb'\n",
       "\\item 'R-SRISK.ipynb'\n",
       "\\item 'R-igraph-TO-DO.ipynb'\n",
       "\\item 'R-TEMPLATE.ipynb'\n",
       "\\item 'Py-SRISK.ipynb'\n",
       "\\item 'SRISK'\n",
       "\\item 'R-ndtv-d3--TO-DO.ipynb'\n",
       "\\item 'R-reticulate.ipynb'\n",
       "\\item 'data'\n",
       "\\item 'R-ccgarch.ipynb'\n",
       "\\item 'R-NetworkRiskMeasures.ipynb'\n",
       "\\item 'Py-rpy2.ipynb'\n",
       "\\item 'Sheppard--Python-for-econometrics--Example\\_GJR-GARCH.ipynb'\n",
       "\\item 'Py-clustergrammer--TO-DO.ipynb'\n",
       "\\item 'azure-notebook-github-integration.md'\n",
       "\\item 'Local'\n",
       "\\item 'neva'\n",
       "\\item 'Links'\n",
       "\\item '.git'\n",
       "\\item 'result'\n",
       "\\item 'Py-Gordon-Reid--Interbank-network-sim.ipynb'\n",
       "\\item 'README.md'\n",
       "\\item '.nb.logs'\n",
       "\\item 'Py-ABCE--Tutorial.ipynb'\n",
       "\\item 'Py-rpy2-Python3.ipynb'\n",
       "\\item 'Py-neva--Network-based-stress-testing.ipynb'\n",
       "\\item 'R-ndtv.ipynb'\n",
       "\\item 'R-mFilter.ipynb'\n",
       "\\item 'R-systemicrisk--Bayesian-network-reconstruction.ipynb'\n",
       "\\end{enumerate*}\n"
      ],
      "text/markdown": [
       "1. 'output'\n",
       "2. '.ipynb_checkpoints'\n",
       "3. 'Py-sfc_models.ipynb'\n",
       "4. 'Py-networkx--TO-DO.ipynb'\n",
       "5. 'Py-igraph--TO-DO.ipynb'\n",
       "6. 'R-SRISK.ipynb'\n",
       "7. 'R-igraph-TO-DO.ipynb'\n",
       "8. 'R-TEMPLATE.ipynb'\n",
       "9. 'Py-SRISK.ipynb'\n",
       "10. 'SRISK'\n",
       "11. 'R-ndtv-d3--TO-DO.ipynb'\n",
       "12. 'R-reticulate.ipynb'\n",
       "13. 'data'\n",
       "14. 'R-ccgarch.ipynb'\n",
       "15. 'R-NetworkRiskMeasures.ipynb'\n",
       "16. 'Py-rpy2.ipynb'\n",
       "17. 'Sheppard--Python-for-econometrics--Example_GJR-GARCH.ipynb'\n",
       "18. 'Py-clustergrammer--TO-DO.ipynb'\n",
       "19. 'azure-notebook-github-integration.md'\n",
       "20. 'Local'\n",
       "21. 'neva'\n",
       "22. 'Links'\n",
       "23. '.git'\n",
       "24. 'result'\n",
       "25. 'Py-Gordon-Reid--Interbank-network-sim.ipynb'\n",
       "26. 'README.md'\n",
       "27. '.nb.logs'\n",
       "28. 'Py-ABCE--Tutorial.ipynb'\n",
       "29. 'Py-rpy2-Python3.ipynb'\n",
       "30. 'Py-neva--Network-based-stress-testing.ipynb'\n",
       "31. 'R-ndtv.ipynb'\n",
       "32. 'R-mFilter.ipynb'\n",
       "33. 'R-systemicrisk--Bayesian-network-reconstruction.ipynb'\n",
       "\n",
       "\n"
      ],
      "text/plain": [
       " [1] \"output\"                                                    \n",
       " [2] \".ipynb_checkpoints\"                                        \n",
       " [3] \"Py-sfc_models.ipynb\"                                       \n",
       " [4] \"Py-networkx--TO-DO.ipynb\"                                  \n",
       " [5] \"Py-igraph--TO-DO.ipynb\"                                    \n",
       " [6] \"R-SRISK.ipynb\"                                             \n",
       " [7] \"R-igraph-TO-DO.ipynb\"                                      \n",
       " [8] \"R-TEMPLATE.ipynb\"                                          \n",
       " [9] \"Py-SRISK.ipynb\"                                            \n",
       "[10] \"SRISK\"                                                     \n",
       "[11] \"R-ndtv-d3--TO-DO.ipynb\"                                    \n",
       "[12] \"R-reticulate.ipynb\"                                        \n",
       "[13] \"data\"                                                      \n",
       "[14] \"R-ccgarch.ipynb\"                                           \n",
       "[15] \"R-NetworkRiskMeasures.ipynb\"                               \n",
       "[16] \"Py-rpy2.ipynb\"                                             \n",
       "[17] \"Sheppard--Python-for-econometrics--Example_GJR-GARCH.ipynb\"\n",
       "[18] \"Py-clustergrammer--TO-DO.ipynb\"                            \n",
       "[19] \"azure-notebook-github-integration.md\"                      \n",
       "[20] \"Local\"                                                     \n",
       "[21] \"neva\"                                                      \n",
       "[22] \"Links\"                                                     \n",
       "[23] \".git\"                                                      \n",
       "[24] \"result\"                                                    \n",
       "[25] \"Py-Gordon-Reid--Interbank-network-sim.ipynb\"               \n",
       "[26] \"README.md\"                                                 \n",
       "[27] \".nb.logs\"                                                  \n",
       "[28] \"Py-ABCE--Tutorial.ipynb\"                                   \n",
       "[29] \"Py-rpy2-Python3.ipynb\"                                     \n",
       "[30] \"Py-neva--Network-based-stress-testing.ipynb\"               \n",
       "[31] \"R-ndtv.ipynb\"                                              \n",
       "[32] \"R-mFilter.ipynb\"                                           \n",
       "[33] \"R-systemicrisk--Bayesian-network-reconstruction.ipynb\"     "
      ]
     },
     "metadata": {},
     "output_type": "display_data"
    }
   ],
   "source": [
    "os <- import(\"os\")\n",
    "os$listdir(\".\")"
   ]
  },
  {
   "cell_type": "markdown",
   "metadata": {},
   "source": [
    "## Python REPL"
   ]
  },
  {
   "cell_type": "code",
   "execution_count": 12,
   "metadata": {},
   "outputs": [
    {
     "ename": "ERROR",
     "evalue": "Error in parse(text = x, srcfile = src): <text>:2:8: unexpected symbol\n1: repl_python()\n2: import pandas\n          ^\n",
     "output_type": "error",
     "traceback": [
      "Error in parse(text = x, srcfile = src): <text>:2:8: unexpected symbol\n1: repl_python()\n2: import pandas\n          ^\nTraceback:\n"
     ]
    }
   ],
   "source": [
    "repl_python()"
   ]
  },
  {
   "cell_type": "code",
   "execution_count": null,
   "metadata": {},
   "outputs": [],
   "source": []
  }
 ],
 "metadata": {
  "kernelspec": {
   "display_name": "R",
   "language": "R",
   "name": "r"
  },
  "language_info": {
   "codemirror_mode": "r",
   "file_extension": ".r",
   "mimetype": "text/x-r-source",
   "name": "R",
   "pygments_lexer": "r",
   "version": "3.4.1"
  }
 },
 "nbformat": 4,
 "nbformat_minor": 2
}
