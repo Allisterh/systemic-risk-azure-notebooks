{
 "cells": [
  {
   "cell_type": "markdown",
   "metadata": {},
   "source": [
    "# R-igraph\n",
    "https://cran.r-project.org/web/packages/igraph/index.html  \n",
    "http://igraph.org/r/  \n",
    "https://github.com/igraph/rigraph   \n",
    "**WORK IN PROGRESS**"
   ]
  },
  {
   "cell_type": "code",
   "execution_count": 1,
   "metadata": {
    "collapsed": true
   },
   "outputs": [
    {
     "name": "stderr",
     "output_type": "stream",
     "text": [
      "Installing package into '/home/nbuser/R'\n",
      "(as 'lib' is unspecified)\n",
      "Warning message in install.packages(\"igraph\"):\n",
      "\"installation of package 'igraph' had non-zero exit status\""
     ]
    }
   ],
   "source": [
    "## Download and install the package\n",
    "install.packages(\"igraph\")"
   ]
  },
  {
   "cell_type": "code",
   "execution_count": 2,
   "metadata": {
    "collapsed": true
   },
   "outputs": [
    {
     "name": "stderr",
     "output_type": "stream",
     "text": [
      "Warning message:\n",
      "\"S3 methods '$.igraph', '$.igraph.es', '$.igraph.vs', '$<-.igraph', '$<-.igraph.es', '$<-.igraph.vs', '*.igraph', '+.igraph', '-.igraph', '[.communities', '[.igraph', '[.igraph.es', '[.igraph.vs', '[<-.igraph', '[<-.igraph.es', '[<-.igraph.vs', '[[.communities', '[[.igraph', '[[.igraph.es', '[[.igraph.vs', '[[<-.igraph.es', '[[<-.igraph.vs', 'as.dendrogram.communities', 'as.hclust.communities', 'as.igraph.igraphHRG', 'as_ids.igraph.es', 'as_ids.igraph.vs', 'as_phylo.communities', 'c.igraph.es', 'c.igraph.vs', 'cohesion.cohesiveBlocks', 'cohesion.igraph', 'compare.communities', 'compare.default', 'compare.membership', 'difference.igraph', 'difference.igraph.es', 'difference.igraph.vs', 'graph_id.igraph', 'graph_id.igraph.es', 'graph_id.igraph.vs', 'groups.communities', 'groups.default', 'intersection.igraph', 'intersection.igraph.es', 'intersection.igraph.vs', 'length.cohesiveBlocks', 'length.communities', 'median.sir', 'modularity.communities', 'modularity.igraph', 'plot.cohesiveBlocks', 'plot.communities', 'plot.igraph', 'plot.sir', 'plot_dendrogram.communities', 'plot_dendrogram.igraphHRG', 'print.cohesiveBlocks', 'print.communities', 'print.igraph', 'print.igraph.es', 'print.igraph.vs', 'print.igraphHRG', 'print.igraphHRGConsensus', 'print.igraph_layout_modifier', 'print.igraph_layout_spec', 'print.membership', 'quantile.sir', 'rep.igraph', 'rev.igraph.es', 'rev.igraph.vs', 'rglplot.igraph', 'scg.Matrix', 'scg.igraph', 'scg.matrix', 'summary.cohesiveBlocks', 'summary.igraph', 'time_bins.sir', 'union.default', 'union.igraph', 'union.igraph.es', 'union.igraph.vs', 'unique.igraph.es', 'unique.igraph.vs' were declared in NAMESPACE but not found\""
     ]
    },
    {
     "ename": "ERROR",
     "evalue": "Error: package or namespace load failed for 'igraph' in library.dynam(lib, package, package.lib):\n shared object 'igraph.so' not found\n",
     "output_type": "error",
     "traceback": [
      "Error: package or namespace load failed for 'igraph' in library.dynam(lib, package, package.lib):\n shared object 'igraph.so' not found\nTraceback:\n",
      "1. library(igraph)",
      "2. tryCatch({\n .     attr(package, \"LibPath\") <- which.lib.loc\n .     ns <- loadNamespace(package, lib.loc)\n .     env <- attachNamespace(ns, pos = pos, deps)\n . }, error = function(e) {\n .     P <- if (!is.null(cc <- conditionCall(e))) \n .         paste(\" in\", deparse(cc)[1L])\n .     else \"\"\n .     msg <- gettextf(\"package or namespace load failed for %s%s:\\n %s\", \n .         sQuote(package), P, conditionMessage(e))\n .     if (logical.return) \n .         message(paste(\"Error:\", msg), domain = NA)\n .     else stop(msg, call. = FALSE, domain = NA)\n . })",
      "3. tryCatchList(expr, classes, parentenv, handlers)",
      "4. tryCatchOne(expr, names, parentenv, handlers[[1L]])",
      "5. value[[3L]](cond)",
      "6. stop(msg, call. = FALSE, domain = NA)"
     ]
    }
   ],
   "source": [
    "## Load package\n",
    "library(igraph)"
   ]
  },
  {
   "cell_type": "markdown",
   "metadata": {},
   "source": [
    "Also consider using??\n",
    "* https://plot.ly/r/network-graphs/  \n",
    "* http://srdas.github.io/Presentations/DynamicRiskNetworks_slides_MIT_2016_09.pdf  \n",
    "* https://github.com/briatte/awesome-network-analysis \n",
    "* https://cran.r-project.org/web/packages/NetworkRiskMeasures/index.html "
   ]
  },
  {
   "cell_type": "code",
   "execution_count": null,
   "metadata": {},
   "outputs": [],
   "source": []
  }
 ],
 "metadata": {
  "kernelspec": {
   "display_name": "R",
   "language": "R",
   "name": "r"
  },
  "language_info": {
   "codemirror_mode": "r",
   "file_extension": ".r",
   "mimetype": "text/x-r-source",
   "name": "R",
   "pygments_lexer": "r",
   "version": "3.4.1"
  }
 },
 "nbformat": 4,
 "nbformat_minor": 2
}
