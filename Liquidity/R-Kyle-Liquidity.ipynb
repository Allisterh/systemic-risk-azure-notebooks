{
 "cells": [
  {
   "cell_type": "markdown",
   "metadata": {
    "collapsed": true
   },
   "source": [
    "# Kyle Liquidity Model"
   ]
  },
  {
   "cell_type": "markdown",
   "metadata": {},
   "source": [
    "Author: Dale Rosenthal ([dale.rosenthal@gmail.com](mailto:dale.rosenthal@gmail.com))  \n",
    "https://sites.google.com/site/dalerosenthal/teaching/market-microstructure    \n",
    "http://past.rinfinance.com/agenda/2009/microstructure-tutorial.pdf    "
   ]
  },
  {
   "cell_type": "markdown",
   "metadata": {},
   "source": [
    "### Measuring market impact"
   ]
  },
  {
   "cell_type": "markdown",
   "metadata": {},
   "source": [
    "Source: https://en.wikipedia.org/wiki/Market_impact"
   ]
  },
  {
   "cell_type": "markdown",
   "metadata": {},
   "source": [
    "Several statistical measures exist. The most common and simplest is Kyle's Lambda, defined as the slope from **regressing absolute returns to volume over some time window** (often as short as 15 minutes). For very short periods, this reduces to simply"
   ]
  },
  {
   "cell_type": "markdown",
   "metadata": {},
   "source": [
    "$${\\displaystyle \\lambda ={\\frac {|\\Delta \\mathrm {Price} _{t}|}{\\mathrm {Volume} _{t}}}} \\lambda ={\\frac  {|\\Delta {\\mathrm  {Price}}_{t}|}{{\\mathrm  {Volume}}_{t}}}$$"
   ]
  },
  {
   "cell_type": "markdown",
   "metadata": {},
   "source": [
    "Volume is typically measured as turn-over or the value of shares traded, not the number. Under this measure, a highly liquid stock is one that experiences a small price change for a given level of trading volume.\n",
    "\n",
    "Kyle's lambda is named from Pete Kyle's famous paper on market microstructure."
   ]
  },
  {
   "cell_type": "markdown",
   "metadata": {},
   "source": [
    "Kyle, Albert (1985). \"Continuous Auctions and Insider Trading\". Econometrica. 53 (6): 1315–35. doi:10.2307/1913210."
   ]
  },
  {
   "cell_type": "markdown",
   "metadata": {},
   "source": [
    "### Kyle Lambda"
   ]
  },
  {
   "cell_type": "markdown",
   "metadata": {},
   "source": [
    "Source: http://past.rinfinance.com/agenda/2009/microstructure-tutorial.pdf"
   ]
  },
  {
   "cell_type": "markdown",
   "metadata": {},
   "source": [
    "* Kyle (1985) proposed a model with a single informed trader.\n",
    "* The informed trader:\n",
    " * Considers price impact in setting trade size;\n",
    " * Learns security’s terminal value $v$; and,\n",
    " * Submits order for quantity $x$.\n",
    "* Liquidity (“noise”) traders submit net order $u$.\n",
    "* The single market maker (MM):\n",
    " * Observes total order $y = x + u$;\n",
    " * Makes up the difference; and,\n",
    " * Sets the market clearing price $p$.\n",
    "* All trades happen at one price; no bid-ask spread.\n",
    "* All trading occurs in one period."
   ]
  },
  {
   "cell_type": "markdown",
   "metadata": {},
   "source": [
    "## Code"
   ]
  },
  {
   "cell_type": "markdown",
   "metadata": {},
   "source": [
    "Source: https://sites.google.com/site/dalerosenthal/teaching/market-microstructure  "
   ]
  },
  {
   "cell_type": "code",
   "execution_count": null,
   "metadata": {},
   "outputs": [],
   "source": [
    "# This code does a single simulation of the multi-period\n",
    "# Kyle (1985) model. Using Cardano's formula provides a\n",
    "# significant speed gain over using a root-finding optimizer.\n",
    "#\n",
    "# (c) Copyright Dale W.R. Rosenthal, 7 October 2008.\n",
    "# This software may be used in an academic context with\n",
    "# attribution. It may not be used otherwise nor distributed\n",
    "# without express permission. dale.rosenthal@gmail.com"
   ]
  },
  {
   "cell_type": "code",
   "execution_count": 1,
   "metadata": {},
   "outputs": [],
   "source": [
    "# Cardano's formula for three real roots (returned in sorted order)\n",
    "cardano <- function(a,b,c,d) {\n",
    "  p <- b^2/(3*a^2) - c/a\n",
    "  q <- 2*b^3/(27*a^3) - b*c/(3*a^2) + d/a\n",
    "  Q <- as.complex(p/3)\n",
    "  R <- as.complex(q/2)\n",
    "  theta <- acos(R/sqrt(Q^3))\n",
    "  #D <- as.complex((p/3)^3 + (q/2)^2)\n",
    "  #u <- (-q/2 + sqrt(D))^(1/3)\n",
    "  #v <- (-q/2 - sqrt(D))^(1/3)\n",
    "  #root.1 <- as.numeric(u+v)\n",
    "  #root.2 <- as.numeric(-(u+v)/2 + (u-v)*sqrt(3)*1i/2)\n",
    "  #root.3 <- as.numeric(-(u+v)/2 - (u-v)*sqrt(3)*1i/2)\n",
    "  root.1 <- as.numeric(-2*sqrt(Q)*cos(theta/3) - b/(3*a))\n",
    "  root.2 <- as.numeric(-2*sqrt(Q)*cos((theta+2*pi)/3) - b/(3*a))\n",
    "  root.3 <- as.numeric(-2*sqrt(Q)*cos((theta-2*pi)/3) - b/(3*a))\n",
    "  roots <- c(root.1, root.2, root.3)\n",
    "  return(sort(roots))\n",
    "}"
   ]
  },
  {
   "cell_type": "code",
   "execution_count": 2,
   "metadata": {},
   "outputs": [],
   "source": [
    "numsteps <- 50\n",
    "sigma.u <- .5\n",
    "Sigma.0 <- 0.4"
   ]
  },
  {
   "cell_type": "markdown",
   "metadata": {},
   "source": [
    "### `kyle.sim`"
   ]
  },
  {
   "cell_type": "code",
   "execution_count": 3,
   "metadata": {},
   "outputs": [],
   "source": [
    "kyle.sim <- function(Sigma.N) {\n",
    "  if (Sigma.N <= 0) {\n",
    "    return(list(sqdiff=99e99))\n",
    "  }\n",
    "  delta.t <- 1/numsteps  # could also be vector if irregularly-spaced trades\n",
    "  Sigma  <- numeric(numsteps+1)\n",
    "  alpha  <- numeric(numsteps+1)\n",
    "  delta  <- numeric(numsteps+1)\n",
    "  lambda <- numeric(numsteps+1)\n",
    "  beta   <- numeric(numsteps+1)\n",
    "\n",
    "  Sigma[numsteps+1] <- Sigma.N\n",
    "  alpha[numsteps+1] <- 0\n",
    "  delta[numsteps+1] <- 0\n",
    "  lambda[numsteps+1] <- sqrt(Sigma[numsteps+1])/(sigma.u*sqrt(2*delta.t))\n",
    "\n",
    "  for (i in numsteps:1) {\n",
    "    beta[i+1] <- (1-2*alpha[i+1]*lambda[i+1])/\n",
    "      (2*lambda[i+1]*(1-alpha[i+1]*lambda[i+1])*delta.t)\n",
    "    Sigma[i] <- Sigma[i+1]/(1-beta[i+1]*lambda[i+1]*delta.t)\n",
    "    alpha[i] <- 1/(4*lambda[i+1]*(1-alpha[i+1]*lambda[i+1]))\n",
    "    delta[i] <- delta[i+1] + alpha[i+1]*lambda[i+1]^2*sigma.u^2*delta.t\n",
    "    a <- alpha[i]*sigma.u^2*delta.t/Sigma[i]\n",
    "    b <- -sigma.u^2*delta.t/Sigma[i]\n",
    "    c <- -alpha[i]\n",
    "    d <- 1/2\n",
    "    # solve lambda cubic -- which has three real roots\n",
    "    lambda[i] <- (cardano(a, b, c, d))[2]  # pick the middle root\n",
    "  }\n",
    "  beta[1] <- (1-2*alpha[1]*lambda[1])/\n",
    "    (2*lambda[1]*(1-alpha[1]*lambda[1])*delta.t)\n",
    "  return(list(sqdiff=(Sigma[1] - Sigma.0)^2,\n",
    "              Sigma=Sigma,alpha=alpha,delta=delta,\n",
    "              lambda=lambda,beta=beta))\n",
    "}"
   ]
  },
  {
   "cell_type": "markdown",
   "metadata": {},
   "source": [
    "### `kyle.sim.wrapper`"
   ]
  },
  {
   "cell_type": "code",
   "execution_count": 4,
   "metadata": {},
   "outputs": [],
   "source": [
    "# the wrapper function stores the various vectors we want\n",
    "# (Sigma, delta, alpha, lambda, beta) when we move closer\n",
    "# to the target Sigma.0 -- while passing the squared\n",
    "# divergence back to the optimizer.  Devious!\n",
    "kyle.sim.wrapper <- function(...) {\n",
    "  parent.env(environment())\n",
    "  results <- kyle.sim(...)\n",
    "  if (results$sqdiff < minsqdiff) {\n",
    "    assign(\"minsqdiff\", results$sqdiff, inherits=TRUE)\n",
    "    assign(\"Sigma\",  results$Sigma, inherits=TRUE)\n",
    "    assign(\"alpha\",  results$alpha, inherits=TRUE)\n",
    "    assign(\"delta\",  results$delta, inherits=TRUE)\n",
    "    assign(\"lambda\", results$lambda, inherits=TRUE)\n",
    "    assign(\"beta\",   results$beta, inherits=TRUE)\n",
    "  }\n",
    "  return(results$sqdiff)\n",
    "}"
   ]
  },
  {
   "cell_type": "code",
   "execution_count": 6,
   "metadata": {},
   "outputs": [
    {
     "ename": "ERROR",
     "evalue": "Error in assign(\"beta\", results$beta, inherits = TRUE): cannot change value of locked binding for 'beta'\n",
     "output_type": "error",
     "traceback": [
      "Error in assign(\"beta\", results$beta, inherits = TRUE): cannot change value of locked binding for 'beta'\nTraceback:\n",
      "1. optim(Sigma.N.start, kyle.sim.wrapper, , method = \"BFGS\")",
      "2. (function (par) \n . fn(par, ...))(0.3)",
      "3. fn(par, ...)",
      "4. assign(\"beta\", results$beta, inherits = TRUE)   # at line 14 of file <text>"
     ]
    }
   ],
   "source": [
    "minsqdiff <- 99e99\n",
    "Sigma.N.start <- 0.3\n",
    "optim.out <- optim(Sigma.N.start, kyle.sim.wrapper,, method=\"BFGS\")"
   ]
  },
  {
   "cell_type": "code",
   "execution_count": 5,
   "metadata": {},
   "outputs": [
    {
     "ename": "ERROR",
     "evalue": "Error in assign(\"beta\", results$beta, inherits = TRUE): cannot change value of locked binding for 'beta'\n",
     "output_type": "error",
     "traceback": [
      "Error in assign(\"beta\", results$beta, inherits = TRUE): cannot change value of locked binding for 'beta'\nTraceback:\n",
      "1. optim(Sigma.N.start, kyle.sim.wrapper, , method = \"BFGS\")",
      "2. (function (par) \n . fn(par, ...))(0.3)",
      "3. fn(par, ...)",
      "4. assign(\"beta\", results$beta, inherits = TRUE)   # at line 14 of file <text>"
     ]
    }
   ],
   "source": [
    "delta.p <- numeric(numsteps)\n",
    "p <- numeric(numsteps+1)\n",
    "p[1] <- 2\n",
    "v <- rnorm(1, p[1], Sigma.0)\n",
    "delta.u <- rnorm(numsteps, 0, sigma.u/sqrt(numsteps))\n",
    "delta.x <- numeric(numsteps)\n",
    "for (i in 1:numsteps) {\n",
    "  delta.x[i] <- beta[i]*(v-p[i])/numsteps\n",
    "  delta.p[i] <- lambda[i]*(delta.x[i]+delta.u[i])\n",
    "  p[i+1] <- p[i]+delta.p[i]\n",
    "}"
   ]
  },
  {
   "cell_type": "markdown",
   "metadata": {},
   "source": [
    "### Plots"
   ]
  },
  {
   "cell_type": "code",
   "execution_count": null,
   "metadata": {},
   "outputs": [],
   "source": [
    "plot(0:numsteps, Sigma, xlim=c(0, numsteps), xlab=\"Time\",\n",
    "     ylab=\"Sigma\", type='p')\n",
    "\n",
    "plot(0:numsteps, lambda, xlim=c(0, numsteps), xlab=\"Time\",\n",
    "     ylab=\"lambda\", type='p')\n",
    "\n",
    "plot(0:numsteps, delta, xlim=c(0, numsteps), xlab=\"Time\",\n",
    "     ylab=\"delta\", type='p')\n",
    "\n",
    "plot(0:numsteps, alpha, xlim=c(0, numsteps), xlab=\"Time\",\n",
    "     ylab=\"alpha\", type='p')\n",
    "\n",
    "plot(0:numsteps, beta, xlim=c(0, numsteps), xlab=\"Time\",\n",
    "     ylab=\"beta\", type='p')\n",
    "\n",
    "plot(1:numsteps, delta.u, xlim=c(0, numsteps), xlab=\"Time\",\n",
    "     ylab=\"Orders\", type='p', pch=\"u\")\n",
    "points(1:numsteps, delta.x, pch=\"i\")\n",
    "abline(h=0)\n",
    "\n",
    "plot(0:numsteps, p, xlab=\"Time\", ylab=\"Trade Prices\",\n",
    "     xlim=c(0, numsteps), ylim=c(p[1], max(p[numsteps+1],v)),\n",
    "     type='l')\n",
    "points(0:numsteps, p, pch=\".\")\n",
    "abline(h=v, lty=3)\n",
    "text(10, v, \"True Price\")"
   ]
  }
 ],
 "metadata": {
  "kernelspec": {
   "display_name": "R",
   "language": "R",
   "name": "r"
  },
  "language_info": {
   "codemirror_mode": "r",
   "file_extension": ".r",
   "mimetype": "text/x-r-source",
   "name": "R",
   "pygments_lexer": "r",
   "version": "3.4.1"
  }
 },
 "nbformat": 4,
 "nbformat_minor": 2
}
