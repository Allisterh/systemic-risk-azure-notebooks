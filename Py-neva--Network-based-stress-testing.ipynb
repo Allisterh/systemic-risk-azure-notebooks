{
 "cells": [
  {
   "cell_type": "markdown",
   "metadata": {
    "collapsed": true
   },
   "source": [
    "# Network-based stress testing \n",
    "Network-based stress testing using the Network Valuation in financial systems (NEVA) framework.\n",
    "https://github.com/marcobardoscia/neva  \n",
    "https://github.com/marcobardoscia/neva/blob/master/README.md  \n",
    "For [Bardoscia's slides](https://paolobaruccadb.files.wordpress.com/2017/01/bdf-tutorials-network-based-stress-testing.pdf) on the theory, see [4]."
   ]
  },
  {
   "cell_type": "markdown",
   "metadata": {},
   "source": [
    "## Overview"
   ]
  },
  {
   "cell_type": "markdown",
   "metadata": {},
   "source": [
    "Channels of financial contagion that cause systemic risk include solvency, distress & liquidity contagion."
   ]
  },
  {
   "cell_type": "markdown",
   "metadata": {},
   "source": [
    "Define a simple financial system composed of institutions with balance sheets:\n",
    "* external assets\n",
    "* external liabilities\n",
    "* interbank liabilities (matrix)"
   ]
  },
  {
   "cell_type": "markdown",
   "metadata": {},
   "source": [
    "Mechanisms of financial contagion:\n",
    "* Furfine\n",
    "* Eisenberg-Noe \n",
    "* Rogers-Veraart\n",
    "* DebtRank\n",
    "* Endogenous DebtRank"
   ]
  },
  {
   "cell_type": "markdown",
   "metadata": {},
   "source": [
    "|Model\t|Valuation time\t|Network propagation\t|Default losses\t|Endogenous Recovery\t|\n",
    "|:------ |:----- |:----- |:----- |:----- |\n",
    "|Merton\t|Ex-ante\t|None\t|None\t|None\t|\n",
    "|Eisenberg Noe\t|Ex-post\t|Local\t|None\t|Full\t|\n",
    "|Rogers Veraart\t|Ex-post\t|Local\t|Present\t|Full\t|\n",
    "|Linear DebtRank|Ex-ante\t|Local\t|Present\t|None\t|\n",
    "|Fischer Model\t|Ex-ante\t|Global\t|None\t|Full\t|\n",
    "|NEVA\t|Ex-ante\t|Local\t|Present\t|Full\t|\n"
   ]
  },
  {
   "cell_type": "markdown",
   "metadata": {},
   "source": [
    "The Network Valuation in financial systems (NEVA) framework \n",
    "* asks the question: \"What is the net value of a financial institution in a network?\". \n",
    "* takes into account at the same time interdependencies (as in Furfine 1999, Eisenberg and Noe 2001) and uncertainty (as in Merton 1974) with local exchange of information."
   ]
  },
  {
   "cell_type": "markdown",
   "metadata": {},
   "source": [
    "### Install package from github - first time only!"
   ]
  },
  {
   "cell_type": "markdown",
   "metadata": {},
   "source": [
    "This only needs to be done the first time that you run the notebook after cloning the notebook into your own account. "
   ]
  },
  {
   "cell_type": "markdown",
   "metadata": {},
   "source": [
    "Clone git repository to Azure. Output should say:  \n",
    "    `Cloning into 'neva'...  \n",
    "    Checking out files: 100% (23/23), done.`"
   ]
  },
  {
   "cell_type": "code",
   "execution_count": 32,
   "metadata": {
    "collapsed": true
   },
   "outputs": [
    {
     "name": "stdout",
     "output_type": "stream",
     "text": [
      "Cloning into 'neva'...\n",
      "remote: Counting objects: 32, done.\u001b[K\n",
      "remote: Total 32 (delta 0), reused 0 (delta 0), pack-reused 32\u001b[K\n",
      "Receiving objects: 100% (32/32), 25.06 KiB | 0 bytes/s, done.\n",
      "Resolving deltas: 100% (4/4), done.\n",
      "Checking connectivity... done.\n",
      "Checking out files: 100% (23/23), done.\n"
     ]
    }
   ],
   "source": [
    "!git clone git://github.com/marcobardoscia/neva.git"
   ]
  },
  {
   "cell_type": "markdown",
   "metadata": {
    "slideshow": {
     "slide_type": "slide"
    }
   },
   "source": [
    "Change directory into the newly-created `neva` folder, to run the script to install the `neva` package, ready for use by the python code in the notebook."
   ]
  },
  {
   "cell_type": "code",
   "execution_count": 33,
   "metadata": {
    "collapsed": true
   },
   "outputs": [
    {
     "name": "stdout",
     "output_type": "stream",
     "text": [
      "/home/nbuser/library/neva/data/neva\n",
      "running install\n",
      "running bdist_egg\n",
      "running egg_info\n",
      "creating neva.egg-info\n",
      "writing neva.egg-info/PKG-INFO\n",
      "writing dependency_links to neva.egg-info/dependency_links.txt\n",
      "writing top-level names to neva.egg-info/top_level.txt\n",
      "writing manifest file 'neva.egg-info/SOURCES.txt'\n",
      "reading manifest file 'neva.egg-info/SOURCES.txt'\n",
      "reading manifest template 'MANIFEST.in'\n",
      "warning: no files found matching 'Readme.md'\n",
      "writing manifest file 'neva.egg-info/SOURCES.txt'\n",
      "installing library code to build/bdist.linux-x86_64/egg\n",
      "running install_lib\n",
      "running build_py\n",
      "creating build\n",
      "creating build/lib\n",
      "creating build/lib/neva\n",
      "copying neva/ibeval_lender.py -> build/lib/neva\n",
      "copying neva/exteval.py -> build/lib/neva\n",
      "copying neva/bankingsystem.py -> build/lib/neva\n",
      "copying neva/utils.py -> build/lib/neva\n",
      "copying neva/adjust.py -> build/lib/neva\n",
      "copying neva/__init__.py -> build/lib/neva\n",
      "copying neva/bank.py -> build/lib/neva\n",
      "copying neva/parse.py -> build/lib/neva\n",
      "copying neva/gbm.py -> build/lib/neva\n",
      "copying neva/ibeval.py -> build/lib/neva\n",
      "creating build/bdist.linux-x86_64\n",
      "creating build/bdist.linux-x86_64/egg\n",
      "creating build/bdist.linux-x86_64/egg/neva\n",
      "copying build/lib/neva/ibeval_lender.py -> build/bdist.linux-x86_64/egg/neva\n",
      "copying build/lib/neva/exteval.py -> build/bdist.linux-x86_64/egg/neva\n",
      "copying build/lib/neva/bankingsystem.py -> build/bdist.linux-x86_64/egg/neva\n",
      "copying build/lib/neva/utils.py -> build/bdist.linux-x86_64/egg/neva\n",
      "copying build/lib/neva/adjust.py -> build/bdist.linux-x86_64/egg/neva\n",
      "copying build/lib/neva/__init__.py -> build/bdist.linux-x86_64/egg/neva\n",
      "copying build/lib/neva/bank.py -> build/bdist.linux-x86_64/egg/neva\n",
      "copying build/lib/neva/parse.py -> build/bdist.linux-x86_64/egg/neva\n",
      "copying build/lib/neva/gbm.py -> build/bdist.linux-x86_64/egg/neva\n",
      "copying build/lib/neva/ibeval.py -> build/bdist.linux-x86_64/egg/neva\n",
      "byte-compiling build/bdist.linux-x86_64/egg/neva/ibeval_lender.py to ibeval_lender.cpython-36.pyc\n",
      "byte-compiling build/bdist.linux-x86_64/egg/neva/exteval.py to exteval.cpython-36.pyc\n",
      "byte-compiling build/bdist.linux-x86_64/egg/neva/bankingsystem.py to bankingsystem.cpython-36.pyc\n",
      "byte-compiling build/bdist.linux-x86_64/egg/neva/utils.py to utils.cpython-36.pyc\n",
      "byte-compiling build/bdist.linux-x86_64/egg/neva/adjust.py to adjust.cpython-36.pyc\n",
      "byte-compiling build/bdist.linux-x86_64/egg/neva/__init__.py to __init__.cpython-36.pyc\n",
      "byte-compiling build/bdist.linux-x86_64/egg/neva/bank.py to bank.cpython-36.pyc\n",
      "byte-compiling build/bdist.linux-x86_64/egg/neva/parse.py to parse.cpython-36.pyc\n",
      "byte-compiling build/bdist.linux-x86_64/egg/neva/gbm.py to gbm.cpython-36.pyc\n",
      "byte-compiling build/bdist.linux-x86_64/egg/neva/ibeval.py to ibeval.cpython-36.pyc\n",
      "creating build/bdist.linux-x86_64/egg/EGG-INFO\n",
      "copying neva.egg-info/PKG-INFO -> build/bdist.linux-x86_64/egg/EGG-INFO\n",
      "copying neva.egg-info/SOURCES.txt -> build/bdist.linux-x86_64/egg/EGG-INFO\n",
      "copying neva.egg-info/dependency_links.txt -> build/bdist.linux-x86_64/egg/EGG-INFO\n",
      "copying neva.egg-info/not-zip-safe -> build/bdist.linux-x86_64/egg/EGG-INFO\n",
      "copying neva.egg-info/top_level.txt -> build/bdist.linux-x86_64/egg/EGG-INFO\n",
      "creating dist\n",
      "creating 'dist/neva-0.1-py3.6.egg' and adding 'build/bdist.linux-x86_64/egg' to it\n",
      "removing 'build/bdist.linux-x86_64/egg' (and everything under it)\n",
      "Processing neva-0.1-py3.6.egg\n",
      "removing '/home/nbuser/anaconda3_501/lib/python3.6/site-packages/neva-0.1-py3.6.egg' (and everything under it)\n",
      "creating /home/nbuser/anaconda3_501/lib/python3.6/site-packages/neva-0.1-py3.6.egg\n",
      "Extracting neva-0.1-py3.6.egg to /home/nbuser/anaconda3_501/lib/python3.6/site-packages\n",
      "neva 0.1 is already the active version in easy-install.pth\n",
      "\n",
      "Installed /home/nbuser/anaconda3_501/lib/python3.6/site-packages/neva-0.1-py3.6.egg\n",
      "Processing dependencies for neva==0.1\n",
      "Finished processing dependencies for neva==0.1\n",
      "[Errno 2] No such file or directory: '/home/nbuser/library # Move back up to /home/nbuser/library'\n",
      "/home/nbuser/library/neva/data/neva\n"
     ]
    }
   ],
   "source": [
    "%cd neva\n",
    "!python setup.py install\n",
    "%cd /home/nbuser/library   # Move back up to /home/nbuser/library"
   ]
  },
  {
   "cell_type": "code",
   "execution_count": 16,
   "metadata": {},
   "outputs": [],
   "source": [
    "# Append the package to the path\n",
    "# import sys\n",
    "# sys.path.append(\"/home/nbuser/library/neva/data\") # Still can't find the data. Have to cd there!\n",
    "# sys.path.append('/home/nbuser/anaconda3_501/lib/python3.6/site-packages/neva-0.1-py3.6.egg')"
   ]
  },
  {
   "cell_type": "code",
   "execution_count": 21,
   "metadata": {},
   "outputs": [
    {
     "name": "stdout",
     "output_type": "stream",
     "text": [
      "/home/nbuser/library/neva/data\n"
     ]
    }
   ],
   "source": [
    "# Change directory to where the neva data files are\n",
    "%cd /home/nbuser/library/neva/data"
   ]
  },
  {
   "cell_type": "markdown",
   "metadata": {},
   "source": [
    "## Simplest example - Eisenberg and Noe\n",
    "In the simplest example we will run the Eisenberg and Noe algorithm without \n",
    "any shocks to equities."
   ]
  },
  {
   "cell_type": "code",
   "execution_count": 5,
   "metadata": {},
   "outputs": [],
   "source": [
    "import neva"
   ]
  },
  {
   "cell_type": "code",
   "execution_count": 6,
   "metadata": {
    "collapsed": true
   },
   "outputs": [
    {
     "name": "stdout",
     "output_type": "stream",
     "text": [
      "Help on package neva:\n",
      "\n",
      "NAME\n",
      "    neva\n",
      "\n",
      "PACKAGE CONTENTS\n",
      "    adjust\n",
      "    bank\n",
      "    bankingsystem\n",
      "    exteval\n",
      "    gbm\n",
      "    ibeval\n",
      "    ibeval_lender\n",
      "    parse\n",
      "    utils\n",
      "\n",
      "FILE\n",
      "    /home/nbuser/anaconda3_501/lib/python3.6/site-packages/neva-0.1-py3.6.egg/neva/__init__.py\n",
      "\n",
      "\n"
     ]
    }
   ],
   "source": [
    "help(neva)"
   ]
  },
  {
   "cell_type": "markdown",
   "metadata": {},
   "source": [
    "See:\n",
    "* [balance_sheets.csv](https://github.com/marcobardoscia/neva/blob/master/data/balance_sheets.csv),  \n",
    "* [exposures_table.csv](https://github.com/marcobardoscia/neva/blob/master/data/exposures_table.csv)"
   ]
  },
  {
   "cell_type": "code",
   "execution_count": 22,
   "metadata": {},
   "outputs": [],
   "source": [
    "# parsing data\n",
    "bsys, params = neva.parse_csv('balance_sheets.csv', 'exposures_table.csv')"
   ]
  },
  {
   "cell_type": "code",
   "execution_count": 23,
   "metadata": {},
   "outputs": [],
   "source": [
    "# running Eisenberg and Noe (without any shock to equities)\n",
    "equity_shock = [0.0 for _ in bsys]\n",
    "neva.shock_and_solve(bsys, equity_shock, method='eisenberg_noe', solve_assets=False)"
   ]
  },
  {
   "cell_type": "code",
   "execution_count": 24,
   "metadata": {},
   "outputs": [],
   "source": [
    "# reading final equities\n",
    "equity_final = bsys.history[-1]"
   ]
  },
  {
   "cell_type": "code",
   "execution_count": 25,
   "metadata": {},
   "outputs": [
    {
     "data": {
      "text/plain": [
       "[1.0, 1.0, 1.0]"
      ]
     },
     "execution_count": 25,
     "metadata": {},
     "output_type": "execute_result"
    }
   ],
   "source": [
    "equity_final"
   ]
  },
  {
   "cell_type": "code",
   "execution_count": 26,
   "metadata": {},
   "outputs": [],
   "source": [
    "# computing payment vectors\n",
    "pay_vec = [bnk.ibliabtot if bnk.equity >= 0 else\n",
    "           max(bnk.equity + bnk.ibliabtot, 0.0) for bnk in bsys]"
   ]
  },
  {
   "cell_type": "code",
   "execution_count": 12,
   "metadata": {},
   "outputs": [
    {
     "data": {
      "text/plain": [
       "[0.5, 0.5, 0.5]"
      ]
     },
     "execution_count": 12,
     "metadata": {},
     "output_type": "execute_result"
    }
   ],
   "source": [
    "pay_vec"
   ]
  },
  {
   "cell_type": "markdown",
   "metadata": {},
   "source": [
    "## A more complex example\n",
    "Here we run an analysis similar to that run in [2]."
   ]
  },
  {
   "cell_type": "code",
   "execution_count": 27,
   "metadata": {},
   "outputs": [
    {
     "name": "stdout",
     "output_type": "stream",
     "text": [
      "/home/nbuser/library/neva/data\n"
     ]
    }
   ],
   "source": [
    "# Change directory to where the neva data files are\n",
    "%cd /home/nbuser/library/neva/data"
   ]
  },
  {
   "cell_type": "markdown",
   "metadata": {},
   "source": [
    "See:\n",
    "* [balance_sheets.csv](https://github.com/marcobardoscia/neva/blob/master/data/balance_sheets.csv),  \n",
    "* [exposures_table.csv](https://github.com/marcobardoscia/neva/blob/master/data/exposures_table.csv)"
   ]
  },
  {
   "cell_type": "code",
   "execution_count": 14,
   "metadata": {},
   "outputs": [],
   "source": [
    "import neva\n",
    "\n",
    "# parsing data\n",
    "bsys, params = neva.parse_csv('balance_sheets.csv', 'exposures_table.csv')\n",
    "\n",
    "# Geometric Browianian Motion on external assets, whose volatility is\n",
    "# estimated via the volatility of equities.\n",
    "sigma_equity = [float(params[bnk]['sigma_equity']) for bnk in params]\n",
    "bsys = neva.BankingSystemGBMse.with_sigma_equity(bsys, sigma_equity)\n",
    "    \n",
    "# storing initial equity\n",
    "equity_start = bsys.get_equity()\n",
    "\n",
    "# shocks to initial equity: 50%\n",
    "equity_delta = equity_start[:]\n",
    "equity_delta = [e * 0.5 for e in equity_start]\n",
    "\n",
    "# running ex-ante Black and Cox, as in [2] \n",
    "# with recovery rate equal to 60%\n",
    "recovery_rate = [0.6 for _ in bsys] \n",
    "neva.shock_and_solve(bsys, equity_delta, 'exante_en_blackcox_gbm', \n",
    "                     solve_assets=False, recovery_rate=recovery_rate)\n",
    "\n",
    "# reading equities after one round and after all rounds   \n",
    "equity_direct = bsys.history[1]\n",
    "equity_final = bsys.history[-1]"
   ]
  },
  {
   "cell_type": "markdown",
   "metadata": {},
   "source": [
    "# Further reading"
   ]
  },
  {
   "cell_type": "markdown",
   "metadata": {},
   "source": [
    "[1] Barucca, Paolo, Marco Bardoscia, Fabio Caccioli, Marco D’Errico, Gabriele Visentin, Stefano Battiston, and Guido Caldarelli. “Network Valuation in Financial Systems.” SSRN Scholarly Paper. Rochester, NY: Social Science Research Network, June 14, 2016. https://papers.ssrn.com/abstract=2795583.  \n",
    "[2] Bardoscia, Marco, Paolo Barucca, Adam Brinley Codd, and John Hill. “The Decline of Solvency Contagion Risk.” SSRN Scholarly Paper. Rochester, NY: Social Science Research Network, June 30, 2017. https://papers.ssrn.com/abstract=2996689.    \n",
    "[3] Bardoscia, Marco. Neva: Network Valuation in Financial Systems. Python, 2017. https://github.com/marcobardoscia/neva.  \n",
    "[4] Barucca, Paolo. “BDF Tutorials: Network Based Stress Testing.” Asymptotic Freedom (blog), January 6, 2017. https://paolobarucca.com/courses/bdf-tutorials-network-based-stress-testing/.  \n",
    "[5] ———. “Network Valuation in Financial Systems.” 2017. https://icspconference.files.wordpress.com/2016/12/28_barucca.pdf.  \n",
    "[6] rayohauno. Nonlinear_debt_rank: This Is (the Essential) Part of the Code Used to Run the Simulations for \"Distress Propagation in Complex Networks: The Case of Non-Linear DebtRank\", M. Bardoscia, F.. Python, 2016. https://github.com/rayohauno/nonlinear_debt_rank.  "
   ]
  },
  {
   "cell_type": "markdown",
   "metadata": {},
   "source": [
    "Barucca, Paolo. “BDF Tutorials: Network Based Stress Testing.” 2017. https://paolobaruccadb.files.wordpress.com/2017/01/bdf-tutorials-network-based-stress-testing.pdf.  \n",
    "———. “BDF Tutorials: Network Based Stress Testing.” Asymptotic Freedom (blog), January 6, 2017. https://paolobarucca.com/courses/bdf-tutorials-network-based-stress-testing/.  \n",
    "———. Debtrank: Matlab Implementation of the Algorithm Described in Battiston et Al. 2012. Matlab, 2017. https://github.com/paolobarucca/debtrank.  \n",
    "———. Eisenbergnoe: Matlab Implementation of the Algorithm Described in Eisenberg and Noe 2001. Matlab, 2017. https://github.com/paolobarucca/eisenbergnoe.  \n",
    "———. Endogenousdebtrank: Matlab Implementation of the Algorithm Described in Barucca et Al. 2016. Matlab, 2017. https://github.com/paolobarucca/endogenousdebtrank.  \n",
    "———. Furfine: Matlab Implementation of the Algorithm Described in Furfine 1999. Matlab, 2017. https://github.com/paolobarucca/furfine.  \n",
    "———. Neva: Matlab Implementation of the General Framework Described in Barucca et Al. 2016. Matlab, 2017. https://github.com/paolobarucca/neva.  \n",
    "———. Rogersveraart: Matlab Implementation of the Algorithm Described in Rogers and Veraart 2013. Matlab, 2017. https://github.com/paolobarucca/rogersveraart.  \n",
    "“Big Data Finance 2017: Network-Based Stress Testing - Exercises.” Accessed July 18, 2017. https://paolobaruccadb.files.wordpress.com/2017/01/exercises.pdf.  "
   ]
  },
  {
   "cell_type": "code",
   "execution_count": null,
   "metadata": {},
   "outputs": [],
   "source": []
  }
 ],
 "metadata": {
  "kernelspec": {
   "display_name": "Python 3.6",
   "language": "python",
   "name": "python36"
  },
  "language_info": {
   "codemirror_mode": {
    "name": "ipython",
    "version": 3
   },
   "file_extension": ".py",
   "mimetype": "text/x-python",
   "name": "python",
   "nbconvert_exporter": "python",
   "pygments_lexer": "ipython3",
   "version": "3.6.3"
  }
 },
 "nbformat": 4,
 "nbformat_minor": 2
}
