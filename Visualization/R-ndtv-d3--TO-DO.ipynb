{
 "cells": [
  {
   "cell_type": "markdown",
   "metadata": {
    "collapsed": true
   },
   "source": [
    "# R - `ndtv-d3`\n",
    "http://michalgm.github.io/ndtv-d3/   \n",
    "https://github.com/michalgm/ndtv-d3    \n",
    "http://statnet.csde.washington.edu/workshops/SUNBELT/current/ndtv/ndtv-d3_vignette.html    \n",
    "\n",
    "`NDTV-D3` - \n",
    "Interactive Network Graph Visualization for NDTV-generated graphs using D3 animation"
   ]
  },
  {
   "cell_type": "markdown",
   "metadata": {
    "collapsed": true,
    "slideshow": {
     "slide_type": "fragment"
    }
   },
   "source": [
    "### Purpose:\n",
    "Create animations of dynamically evolving graphs."
   ]
  },
  {
   "cell_type": "markdown",
   "metadata": {},
   "source": [
    "### Install & load library"
   ]
  },
  {
   "cell_type": "code",
   "execution_count": 2,
   "metadata": {},
   "outputs": [
    {
     "name": "stderr",
     "output_type": "stream",
     "text": [
      "Warning message in if (!loaded) {:\n",
      "\"the condition has length > 1 and only the first element will be used\"c(\"Loading required package: -\", \"Loading required package: ndtv\", \"Loading required package: d3\")\n",
      "Installing package into '/home/nbuser/R'\n",
      "(as 'lib' is unspecified)\n",
      "Warning message:\n",
      "\"package 'ndtv-d3' is not available (for R version 3.4.1)\""
     ]
    },
    {
     "ename": "ERROR",
     "evalue": "Error in library(ndtv - d3): 'package' must be of length 1\n",
     "output_type": "error",
     "traceback": [
      "Error in library(ndtv - d3): 'package' must be of length 1\nTraceback:\n",
      "1. library(ndtv - d3)   # at line 3 of file <text>",
      "2. stop(\"'package' must be of length 1\")"
     ]
    }
   ],
   "source": [
    "if(!require(ndtv-d3)){\n",
    "    install.packages(\"ndtv-d3\")\n",
    "    library(ndtv-d3)\n",
    "};"
   ]
  },
  {
   "cell_type": "code",
   "execution_count": 3,
   "metadata": {},
   "outputs": [
    {
     "name": "stderr",
     "output_type": "stream",
     "text": [
      "Installing package into '/home/nbuser/R'\n",
      "(as 'lib' is unspecified)\n",
      "Warning message:\n",
      "\"package 'ndtv-d3' is not available (for R version 3.4.1)\""
     ]
    }
   ],
   "source": [
    "install.packages(\"ndtv-d3\")"
   ]
  },
  {
   "cell_type": "code",
   "execution_count": 4,
   "metadata": {},
   "outputs": [
    {
     "name": "stderr",
     "output_type": "stream",
     "text": [
      "Installing package into '/home/nbuser/R'\n",
      "(as 'lib' is unspecified)\n",
      "also installing the dependencies 'networkDynamic', 'base64'\n",
      "\n"
     ]
    }
   ],
   "source": [
    "install.packages('ndtv')"
   ]
  },
  {
   "cell_type": "code",
   "execution_count": null,
   "metadata": {},
   "outputs": [],
   "source": []
  }
 ],
 "metadata": {
  "kernelspec": {
   "display_name": "R",
   "language": "R",
   "name": "r"
  },
  "language_info": {
   "codemirror_mode": "r",
   "file_extension": ".r",
   "mimetype": "text/x-r-source",
   "name": "R",
   "pygments_lexer": "r",
   "version": "3.4.1"
  }
 },
 "nbformat": 4,
 "nbformat_minor": 2
}
