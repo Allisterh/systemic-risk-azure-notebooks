{
 "cells": [
  {
   "cell_type": "markdown",
   "metadata": {
    "collapsed": true
   },
   "source": [
    "# Py-igraph\n",
    "https://github.com/igraph/python-igraph   \n",
    "http://igraph.org/python/    \n",
    "** WORK IN PROGRESS!!! **"
   ]
  },
  {
   "cell_type": "code",
   "execution_count": 2,
   "metadata": {},
   "outputs": [
    {
     "name": "stdout",
     "output_type": "stream",
     "text": [
      "Collecting python-igraph\n",
      "  Downloading python-igraph-0.7.1.post6.tar.gz (377kB)\n",
      "\u001b[K    100% |################################| 378kB 2.5MB/s eta 0:00:01  16% |#####                           | 61kB 2.2MB/s eta 0:00:01\n",
      "\u001b[?25hBuilding wheels for collected packages: python-igraph\n",
      "  Running setup.py bdist_wheel for python-igraph ... \u001b[?25ldone\n",
      "\u001b[?25h  Stored in directory: /home/nbuser/.cache/pip/wheels/2b/9b/50/34d9d2b8f74c7a1c70f6337686d66f8fc8bbab6d2f196fe6ef\n",
      "Successfully built python-igraph\n",
      "Installing collected packages: python-igraph\n",
      "Successfully installed python-igraph-0.7.1.post6\n"
     ]
    }
   ],
   "source": [
    "!pip install python-igraph"
   ]
  },
  {
   "cell_type": "code",
   "execution_count": 4,
   "metadata": {},
   "outputs": [
    {
     "name": "stdout",
     "output_type": "stream",
     "text": [
      "0.7.1\n"
     ]
    }
   ],
   "source": [
    "import igraph\n",
    "print(igraph.__version__ )"
   ]
  },
  {
   "cell_type": "markdown",
   "metadata": {},
   "source": [
    "To do: take examples from http://igraph.org/python/doc/tutorial/tutorial.html \n",
    "Also consider using??\n",
    "* https://plot.ly/r/network-graphs/ \n",
    "* https://plot.ly/python/igraph-networkx-comparison/ \n",
    "* https://github.com/graphistry/pygraphistry???  \n",
    "* http://srdas.github.io/Presentations/DynamicRiskNetworks_slides_MIT_2016_09.pdf  \n",
    "* https://github.com/briatte/awesome-network-analysis \n",
    "* https://cran.r-project.org/web/packages/NetworkRiskMeasures/index.html "
   ]
  },
  {
   "cell_type": "code",
   "execution_count": null,
   "metadata": {},
   "outputs": [],
   "source": []
  }
 ],
 "metadata": {
  "kernelspec": {
   "display_name": "Python 3.6",
   "language": "python",
   "name": "python36"
  },
  "language_info": {
   "codemirror_mode": {
    "name": "ipython",
    "version": 3
   },
   "file_extension": ".py",
   "mimetype": "text/x-python",
   "name": "python",
   "nbconvert_exporter": "python",
   "pygments_lexer": "ipython3",
   "version": "3.6.3"
  }
 },
 "nbformat": 4,
 "nbformat_minor": 2
}
