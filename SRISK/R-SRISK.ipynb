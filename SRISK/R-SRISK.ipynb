{
  "cells": [
    {
      "metadata": {
        "collapsed": true
      },
      "cell_type": "markdown",
      "source": "# SRISK - R"
    },
    {
      "metadata": {},
      "cell_type": "markdown",
      "source": "#### Goals"
    },
    {
      "metadata": {},
      "cell_type": "markdown",
      "source": "* Translate existing code for SRISK from Matlab to R\n* Use the `ccgarch` package for the DCC-GARCH model at the heart of SRISK \n* Experiment with the Tidyverse\n* Write the code in a modular way with `data_frame`s as inputs & outputs to all functions, with a view to hosting the R (or alternatively python) functions in [R](https://docs.microsoft.com/en-us/azure/machine-learning/studio-module-reference/r-language-modules) / [python](https://docs.microsoft.com/en-us/azure/machine-learning/studio-module-reference/python-language-modules) language modules in [Azure Machine Learning Studio](https://studio.azureml.net/). \n* Similar python code can be found in [Py-SRISK](https://notebooks.azure.com/ian-buckley/libraries/systemic-risk/html/Py-SRISK.ipynb)"
    },
    {
      "metadata": {},
      "cell_type": "markdown",
      "source": "For a **live SRISK dashboard** see **V-Lab** at NYU Stern school: https://vlab.stern.nyu.edu/welcome/risk/, with [SRISK documentation](https://vlab.stern.nyu.edu/doc/40?topic=mdls)."
    },
    {
      "metadata": {},
      "cell_type": "markdown",
      "source": "##### Notebook extensions\nBecause this is a long notebook, & a mixture of valuable code & less valuable experiments, it is a really good idea to turn on a couple of notebook extensions **Edit > nbextensions config** to open a new browser tab, & then select the following extensions:\n* Collapsible headings\n* Intitialization cells (allows you to conveniently run only specific cells   \n\nHaving selected those check boxes, reload the tab containing this notebook for the changes to take effect."
    },
    {
      "metadata": {},
      "cell_type": "markdown",
      "source": "##### Sources for Matlab code"
    },
    {
      "metadata": {},
      "cell_type": "markdown",
      "source": "Belluzzo, Tommaso. SystemicRisk: A Framework for Systemic Risk Valuation and Analysis. Matlab, 2018. https://github.com/TommasoBelluzzo/SystemicRisk.  \nBisias, Dimitrios, Mark D. Flood, Andrew W. Lo, and Stavros Valavanis. A Survey of Systemic Risk Analytics. Matlab, 2012. https://financialresearch.gov/working-papers/files/OFRwp0001_BisiasFloodLoValavanis_MatlabCode-v0_3.zip.\n———. “A Survey of Systemic Risk Analytics.” SSRN Scholarly Paper. Rochester, NY: Social Science Research Network, January 11, 2012. http://papers.ssrn.com/abstract=2747882.  \nDube, Qobolwakhe. SA-Systemic-Risk: Systemic Risk Ranking of South Africa’s Financial Institutions. Matlab, 2017. https://github.com/qobolwakhe/SA-systemic-risk.  \nPerignon, Christophe, Sylvain Benoit, Christophe Hurlin, and Gilbert Colletaz. Run My Code - A Theoretical and Empirical Comparison of Systemic Risk Measures. Accessed July 11, 2016. http://www.runmycode.org/companion/view/175.  \nV-Lab Stern NYU. “GARCH-DCC Documentation.” V-Lab. Accessed May 8, 2018. https://vlab.stern.nyu.edu/doc/13?topic=mdls.  \n"
    },
    {
      "metadata": {},
      "cell_type": "markdown",
      "source": "## Libraries"
    },
    {
      "metadata": {},
      "cell_type": "markdown",
      "source": "### Libraries - install"
    },
    {
      "metadata": {
        "heading_collapsed": true
      },
      "cell_type": "markdown",
      "source": "#### DCC GARCH  "
    },
    {
      "metadata": {
        "collapsed": true,
        "hidden": true
      },
      "cell_type": "markdown",
      "source": "Dynamic conditional correlation (DCC) generalized autoregressive conditional heteroskedastic (GARCH) model  \nThis is required to estimate the *marginal expected shortfall* (MES) and from that SRISK."
    },
    {
      "metadata": {
        "hidden": true
      },
      "cell_type": "markdown",
      "source": "https://vlab.stern.nyu.edu/doc/13?topic=mdls  \nhttps://www.stat.ncsu.edu/people/bloomfield/courses/ST810J/slides/mv-garch.pdf"
    },
    {
      "metadata": {
        "hidden": true,
        "init_cell": true,
        "trusted": true
      },
      "cell_type": "code",
      "source": "if(!require(ccgarch)){\n    install.packages(\"ccgarch\")\n    library(ccgarch)\n}",
      "execution_count": 1,
      "outputs": [
        {
          "name": "stderr",
          "output_type": "stream",
          "text": "Loading required package: ccgarch\nWarning message in library(package, lib.loc = lib.loc, character.only = TRUE, logical.return = TRUE, :\n“there is no package called ‘ccgarch’”Installing package into ‘/home/nbuser/R’\n(as ‘lib’ is unspecified)\n"
        }
      ]
    },
    {
      "metadata": {},
      "cell_type": "markdown",
      "source": "### Libraries - load"
    },
    {
      "metadata": {
        "init_cell": true,
        "trusted": true
      },
      "cell_type": "code",
      "source": "library(tibble)\nlibrary(dplyr)\nlibrary(purrr)\nlibrary(tidyr) # Reshape using `gather` and `spread`\nlibrary(lubridate)",
      "execution_count": 2,
      "outputs": [
        {
          "name": "stderr",
          "output_type": "stream",
          "text": "\nAttaching package: ‘dplyr’\n\nThe following objects are masked from ‘package:stats’:\n\n    filter, lag\n\nThe following objects are masked from ‘package:base’:\n\n    intersect, setdiff, setequal, union\n\n\nAttaching package: ‘lubridate’\n\nThe following object is masked from ‘package:base’:\n\n    date\n\n"
        }
      ]
    },
    {
      "metadata": {},
      "cell_type": "markdown",
      "source": "### Notes"
    },
    {
      "metadata": {
        "collapsed": true,
        "heading_collapsed": true
      },
      "cell_type": "markdown",
      "source": "#### `ccgarch`"
    },
    {
      "metadata": {
        "collapsed": true,
        "hidden": true
      },
      "cell_type": "markdown",
      "source": "https://cran.r-project.org/web/packages/ccgarch/  \nhttps://github.com/cran/ccgarch    \nhttps://www.r-project.org/conferences/useR-2008/slides/Nakatani.pdf  "
    },
    {
      "metadata": {
        "collapsed": true,
        "heading_collapsed": true
      },
      "cell_type": "markdown",
      "source": "#### `rmgarch`"
    },
    {
      "metadata": {
        "collapsed": true,
        "hidden": true
      },
      "cell_type": "markdown",
      "source": "https://cran.r-project.org/web/packages/rmgarch/     \nhttp://www.unstarched.net/2013/01/03/the-garch-dcc-model-and-2-stage-dccmvt-estimation/    \n(Unable to install `rmgarch` on Azure.)"
    },
    {
      "metadata": {
        "hidden": true,
        "trusted": true
      },
      "cell_type": "code",
      "source": "# install.packages(\"rugarch\")",
      "execution_count": null,
      "outputs": []
    },
    {
      "metadata": {},
      "cell_type": "markdown",
      "source": "## SRISK"
    },
    {
      "metadata": {},
      "cell_type": "markdown",
      "source": "### General strategy"
    },
    {
      "metadata": {},
      "cell_type": "markdown",
      "source": "Because this project started out as a means to test-case the Azure Machine Learning Studio (AMLS), the main functions are designed to accept `data_frame`s as the primary data type for input arguments & outputs. The `ccgarch` function `dcc.estimation` breaks that rule because its output is a list (~dict) with elements: `h`, `DCC`, `std.resid` etc.  \nThe main control structure of the calculation is a loop over firms (banks). In R this is achieved by using `group_by` & `mutate`. However, in AMLS, the data-frames being passed between steps are for all firms at once, so the loop over firms has to be duplicated in all steps that contain aggregate functions and are therefore required to be firm specific (namely estimation, quantiles, sums etc.). Obviously, we need to get the same result whether or not we compose the functions for each step of the calculation & then loop, or loop over each step individually, & then compose."
    },
    {
      "metadata": {},
      "cell_type": "markdown",
      "source": "| Step | In   | Out   | Parameters   |  Notes |\n|------|------|------|---------------|\n|  ccgarch  | returns| h, DCC| NA     |     |\n|  MES  | h,DCC | MES,LRMES| Market shock (40%), Confidence level (95%)     |     |\n|  SRISK  | LRMES, Assets, Liabilities | SRISK| NA     |     |"
    },
    {
      "metadata": {
        "heading_collapsed": true
      },
      "cell_type": "markdown",
      "source": "### Generate data"
    },
    {
      "metadata": {
        "hidden": true,
        "init_cell": true,
        "trusted": true
      },
      "cell_type": "code",
      "source": "dates3=ymd(\"2018-03-01\", \"2018-03-02\", \"2018-03-03\")\ndates50 <- seq(today()-ddays(50-1), today(), by='days')\nbig5_rics = c(\"RY.TO\",\"TD.TO\",\"BNS.TO\",\"BMO.TO\",\"CM.TO\")\n#big5_names = c(\"Royal Bank of Canada\",\"Toronto-Dominion Bank\",\"Bank of Nova Scotia\",\n#              \"Bank of Montreal\",\"Canadian Imperial Bank of Commerce\")\nmarket_ric = \".GSPTSE\"",
      "execution_count": 3,
      "outputs": []
    },
    {
      "metadata": {
        "hidden": true,
        "init_cell": true,
        "trusted": true
      },
      "cell_type": "code",
      "source": "generate_data <- function (firms, dates, fields) \n{\n    nfirms <- length(firms)\n    ndates <- length(dates)\n    nfields <- length(fields)\n    row_ids <- crossing(Date = dates, RIC = firms)[, c(\"RIC\", \n        \"Date\")]\n    values <- data.frame(matrix(rnorm(nfirms * ndates * nfields), \n        ncol = nfields))\n    colnames(values) <- fields\n    return(cbind(row_ids, values))\n}",
      "execution_count": 4,
      "outputs": []
    },
    {
      "metadata": {
        "hidden": true,
        "trusted": true
      },
      "cell_type": "code",
      "source": "firm_data = generate_data(big5_rics,dates3,c(\"Return\",\"Total Liabilities\",\"Market Cap\"))\nmarket_data = generate_data(market_ric,dates3,c(\"Price\"))",
      "execution_count": 20,
      "outputs": []
    },
    {
      "metadata": {
        "heading_collapsed": true
      },
      "cell_type": "markdown",
      "source": "### Munge data, calc market return"
    },
    {
      "metadata": {
        "hidden": true,
        "trusted": true
      },
      "cell_type": "code",
      "source": "returns_all <- merge(\n    firm_data %>% \n        rename(ret_x = Return) %>%\n        mutate(ret0_x = ret_x - mean(ret_x)),\n    market_data %>% \n        mutate(ret_m = (Price / lag(Price)) -1) %>%\n        replace_na(list(ret_m = 0)) %>% \n        mutate(ret0_m = ret_m - mean(ret_m)) %>%\n        select(-RIC,-Price) , \n    by =\"Date\" ) %>% \n    arrange(RIC,Date) ",
      "execution_count": 43,
      "outputs": []
    },
    {
      "metadata": {
        "hidden": true,
        "trusted": true
      },
      "cell_type": "code",
      "source": "returns_all %>% head",
      "execution_count": 44,
      "outputs": [
        {
          "data": {
            "text/html": "<table>\n<thead><tr><th scope=col>Date</th><th scope=col>RIC</th><th scope=col>ret_x</th><th scope=col>Total Liabilities</th><th scope=col>Market Cap</th><th scope=col>ret0_x</th><th scope=col>ret_m</th><th scope=col>ret0_m</th></tr></thead>\n<tbody>\n\t<tr><td>2018-03-01  </td><td>RY.TO       </td><td>-0.893430975</td><td> 1.04942459 </td><td> 0.2313125  </td><td>-0.6475614  </td><td> 0.000000   </td><td> 2.5136250  </td></tr>\n\t<tr><td>2018-03-02  </td><td>RY.TO       </td><td> 0.544043380</td><td> 2.01914958 </td><td> 0.6288523  </td><td> 0.7899129  </td><td>-4.782511   </td><td>-2.2688858  </td></tr>\n\t<tr><td>2018-03-03  </td><td>RY.TO       </td><td>-1.542441021</td><td>-1.56483272 </td><td> 1.0573473  </td><td>-1.2965715  </td><td>-2.758364   </td><td>-0.2447392  </td></tr>\n\t<tr><td>2018-03-01  </td><td>TD.TO       </td><td>-0.468147219</td><td>-0.07482964 </td><td>-0.9134220  </td><td>-0.2222777  </td><td> 0.000000   </td><td> 2.5136250  </td></tr>\n\t<tr><td>2018-03-02  </td><td>TD.TO       </td><td> 0.004224587</td><td>-0.30323669 </td><td>-0.6371521  </td><td> 0.2500941  </td><td>-4.782511   </td><td>-2.2688858  </td></tr>\n\t<tr><td>2018-03-03  </td><td>TD.TO       </td><td>-0.703234423</td><td> 0.82985470 </td><td>-0.3376910  </td><td>-0.4573649  </td><td>-2.758364   </td><td>-0.2447392  </td></tr>\n</tbody>\n</table>\n",
            "text/latex": "\\begin{tabular}{r|llllllll}\n Date & RIC & ret\\_x & Total Liabilities & Market Cap & ret0\\_x & ret\\_m & ret0\\_m\\\\\n\\hline\n\t 2018-03-01   & RY.TO        & -0.893430975 &  1.04942459  &  0.2313125   & -0.6475614   &  0.000000    &  2.5136250  \\\\\n\t 2018-03-02   & RY.TO        &  0.544043380 &  2.01914958  &  0.6288523   &  0.7899129   & -4.782511    & -2.2688858  \\\\\n\t 2018-03-03   & RY.TO        & -1.542441021 & -1.56483272  &  1.0573473   & -1.2965715   & -2.758364    & -0.2447392  \\\\\n\t 2018-03-01   & TD.TO        & -0.468147219 & -0.07482964  & -0.9134220   & -0.2222777   &  0.000000    &  2.5136250  \\\\\n\t 2018-03-02   & TD.TO        &  0.004224587 & -0.30323669  & -0.6371521   &  0.2500941   & -4.782511    & -2.2688858  \\\\\n\t 2018-03-03   & TD.TO        & -0.703234423 &  0.82985470  & -0.3376910   & -0.4573649   & -2.758364    & -0.2447392  \\\\\n\\end{tabular}\n",
            "text/markdown": "\nDate | RIC | ret_x | Total Liabilities | Market Cap | ret0_x | ret_m | ret0_m | \n|---|---|---|---|---|---|\n| 2018-03-01   | RY.TO        | -0.893430975 |  1.04942459  |  0.2313125   | -0.6475614   |  0.000000    |  2.5136250   | \n| 2018-03-02   | RY.TO        |  0.544043380 |  2.01914958  |  0.6288523   |  0.7899129   | -4.782511    | -2.2688858   | \n| 2018-03-03   | RY.TO        | -1.542441021 | -1.56483272  |  1.0573473   | -1.2965715   | -2.758364    | -0.2447392   | \n| 2018-03-01   | TD.TO        | -0.468147219 | -0.07482964  | -0.9134220   | -0.2222777   |  0.000000    |  2.5136250   | \n| 2018-03-02   | TD.TO        |  0.004224587 | -0.30323669  | -0.6371521   |  0.2500941   | -4.782511    | -2.2688858   | \n| 2018-03-03   | TD.TO        | -0.703234423 |  0.82985470  | -0.3376910   | -0.4573649   | -2.758364    | -0.2447392   | \n\n\n",
            "text/plain": "  Date       RIC   ret_x        Total Liabilities Market Cap ret0_x    \n1 2018-03-01 RY.TO -0.893430975  1.04942459        0.2313125 -0.6475614\n2 2018-03-02 RY.TO  0.544043380  2.01914958        0.6288523  0.7899129\n3 2018-03-03 RY.TO -1.542441021 -1.56483272        1.0573473 -1.2965715\n4 2018-03-01 TD.TO -0.468147219 -0.07482964       -0.9134220 -0.2222777\n5 2018-03-02 TD.TO  0.004224587 -0.30323669       -0.6371521  0.2500941\n6 2018-03-03 TD.TO -0.703234423  0.82985470       -0.3376910 -0.4573649\n  ret_m     ret0_m    \n1  0.000000  2.5136250\n2 -4.782511 -2.2688858\n3 -2.758364 -0.2447392\n4  0.000000  2.5136250\n5 -4.782511 -2.2688858\n6 -2.758364 -0.2447392"
          },
          "metadata": {},
          "output_type": "display_data"
        }
      ]
    },
    {
      "metadata": {},
      "cell_type": "markdown",
      "source": "### DCC-GARCH"
    },
    {
      "metadata": {
        "heading_collapsed": true
      },
      "cell_type": "markdown",
      "source": "##### Remarks, experiments"
    },
    {
      "metadata": {
        "hidden": true
      },
      "cell_type": "markdown",
      "source": "Another approach would be to define a function that builds the arguments for `dcc.estimation` as a `list` & then use `do.call`.  \n`result = do.call('dcc.estimation', list(arg1, arg2, etc, etc))`"
    },
    {
      "metadata": {
        "hidden": true,
        "trusted": true
      },
      "cell_type": "code",
      "source": "dcc_arg_builder <- function (dvar, model = \"extended\", method = \"BFGS\", message = 0) \n{\n    N <- dim(dvar)[2]\n    a <- numeric(N)\n    A <- diag(N)\n    B <- diag(N)\n    ini.dcc <- rep(0.01, 2)\n    return(list(inia = a, iniA = A, iniB = B, ini.dcc = ini.dcc, \n        dvar = dvar, model = model, method = method, message = message))\n}",
      "execution_count": 91,
      "outputs": []
    },
    {
      "metadata": {
        "hidden": true,
        "trusted": true
      },
      "cell_type": "code",
      "source": "dcc_estimation <- function (dvar, model = \"extended\", method = \"BFGS\", message = 0) \n{\n    #' Estimate DCC GARCH model using ccgarch package \n    #'\n    #' Wraps ccgarch::dcc.estimation, making data the first argument for piping.\n    a <- numeric(N)\n    A <- diag(N)\n    B <- diag(N)\n    ini.dcc <- rep(0.01, 2)\n    return(dcc.estimation(inia = a, iniA = A, iniB = B, ini.dcc = ini.dcc, \n        dvar = dvar, model = model, method = method, message = message) %>% \n        {\n            .[c(\"h\", \"DCC\", \"std.resid\")] # Select required outputs from list\n        })\n}",
      "execution_count": 56,
      "outputs": []
    },
    {
      "metadata": {},
      "cell_type": "markdown",
      "source": "##### Prepare inputs, estimate, transform results"
    },
    {
      "metadata": {},
      "cell_type": "markdown",
      "source": "What is the challenge? The `group_by(RIC)` operation is followed by a function with three tasks to perform for each firm:\n* Prepare default inputs for `dcc.estimation`\n* The `dcc.estimation` estimation itself\n* Selecting & transforming the (`list`) output into a `data_frame`\n* Using `std.resid` to calculate the Value at Risk (VaR) for the firm. NOT USED!"
    },
    {
      "metadata": {},
      "cell_type": "markdown",
      "source": "Add a new variable for the quantile of the (standardized) return."
    },
    {
      "metadata": {
        "init_cell": true,
        "trusted": true
      },
      "cell_type": "code",
      "source": "dcc_estimation <- function (df, model = \"extended\", method = \"BFGS\", message = 0, var_quantile = 0.05) \n{\n    #' Estimate DCC GARCH model using ccgarch package \n    #'\n    #' Wraps ccgarch::dcc.estimation, making data the first argument for piping.\n    # 1. Prepare default inputs for `dcc.estimation`\n    # 2. The `dcc.estimation` estimation itself\n    # 3. Selecting & transforming the (`list`) output into a `data_frame`\n    # 4. Using `std.resid` to calculate the Value at Risk (VaR) for the firm. NOT USED!\n    \n    # ===1=== Prepare inputs, including initial values\n    N <- dim(df)[2]\n    a <- numeric(N)\n    A <- diag(N)\n    B <- diag(N)\n    ini.dcc <- rep(0.01, 2)\n    # ===2=== Estimate DCC_GARCH model\n    results_df <- \n        dcc.estimation(inia = a, iniA = A, iniB = B, ini.dcc = ini.dcc, \n            dvar = df, model = model, method = method, message = message) %>%\n    # ===3=== Select & transform the required outputs from the list    \n        {data_frame( \n                s_m = sqrt(.$h[,1]), \n                s_x = sqrt(.$h[,2]), \n                p_mx = .$DCC[,2])              } %>% \n                #,var_x = quantile(.$std.resid[,2], var_quantile))  # Firm VaR                            \n        # Define beta\n        mutate(beta_x = p_mx * (s_x / s_m))\n    return(results_df)   # Return type is data_frame\n}",
      "execution_count": 5,
      "outputs": []
    },
    {
      "metadata": {},
      "cell_type": "markdown",
      "source": "#### All steps"
    },
    {
      "metadata": {
        "trusted": true
      },
      "cell_type": "code",
      "source": "srisk_main <- function (df,a=0.05, d=0.4,l=0.08){\n    df %>%\n        dcc_estimation %>%\n        mes(a=a, d=d) %>%\n        srisk(l=l) \n}",
      "execution_count": 38,
      "outputs": []
    },
    {
      "metadata": {
        "trusted": true
      },
      "cell_type": "code",
      "source": "estimation_results <-\n    bind_cols(\n        # === Inputs\n        returns_all,\n        # === Firm dccgarch  \n        returns_all[c(\"RIC\",\"ret0_m\",\"ret0_x\")] %>%\n            group_by(RIC) %>%\n            # Call ccgarch; estimate firm by firm; result is list of vectors\n            {dcc_estimation(.[c(\"ret0_m\",\"ret0_x\")])}) ",
      "execution_count": 47,
      "outputs": []
    },
    {
      "metadata": {
        "trusted": true
      },
      "cell_type": "code",
      "source": "estimation_results %>% head",
      "execution_count": 48,
      "outputs": [
        {
          "data": {
            "text/html": "<table>\n<thead><tr><th scope=col>Date</th><th scope=col>RIC</th><th scope=col>ret_x</th><th scope=col>Total Liabilities</th><th scope=col>Market Cap</th><th scope=col>ret0_x</th><th scope=col>ret_m</th><th scope=col>ret0_m</th><th scope=col>s_m</th><th scope=col>s_x</th><th scope=col>p_mx</th><th scope=col>beta_x</th></tr></thead>\n<tbody>\n\t<tr><td>2018-03-01  </td><td>RY.TO       </td><td>-0.893430975</td><td> 1.04942459 </td><td> 0.2313125  </td><td>-0.6475614  </td><td> 0.000000   </td><td> 2.5136250  </td><td>1.953332    </td><td>0.7456752   </td><td>-0.27343669 </td><td>-0.10438315 </td></tr>\n\t<tr><td>2018-03-02  </td><td>RY.TO       </td><td> 0.544043380</td><td> 2.01914958 </td><td> 0.6288523  </td><td> 0.7899129  </td><td>-4.782511   </td><td>-2.2688858  </td><td>1.946583    </td><td>0.7474155   </td><td>-0.64972289 </td><td>-0.24946942 </td></tr>\n\t<tr><td>2018-03-03  </td><td>RY.TO       </td><td>-1.542441021</td><td>-1.56483272 </td><td> 1.0573473  </td><td>-1.2965715  </td><td>-2.758364   </td><td>-0.2447392  </td><td>1.939857    </td><td>0.7491608   </td><td>-0.67685564 </td><td>-0.26139753 </td></tr>\n\t<tr><td>2018-03-01  </td><td>TD.TO       </td><td>-0.468147219</td><td>-0.07482964 </td><td>-0.9134220  </td><td>-0.2222777  </td><td> 0.000000   </td><td> 2.5136250  </td><td>1.933149    </td><td>0.7509148   </td><td>-0.02517544 </td><td>-0.00977918 </td></tr>\n\t<tr><td>2018-03-02  </td><td>TD.TO       </td><td> 0.004224587</td><td>-0.30323669 </td><td>-0.6371521  </td><td> 0.2500941  </td><td>-4.782511   </td><td>-2.2688858  </td><td>1.926470    </td><td>0.7526658   </td><td>-0.39093860 </td><td>-0.15273846 </td></tr>\n\t<tr><td>2018-03-03  </td><td>TD.TO       </td><td>-0.703234423</td><td> 0.82985470 </td><td>-0.3376910  </td><td>-0.4573649  </td><td>-2.758364   </td><td>-0.2447392  </td><td>1.919813    </td><td>0.7544209   </td><td>-0.41427818 </td><td>-0.16279713 </td></tr>\n</tbody>\n</table>\n",
            "text/latex": "\\begin{tabular}{r|llllllllllll}\n Date & RIC & ret\\_x & Total Liabilities & Market Cap & ret0\\_x & ret\\_m & ret0\\_m & s\\_m & s\\_x & p\\_mx & beta\\_x\\\\\n\\hline\n\t 2018-03-01   & RY.TO        & -0.893430975 &  1.04942459  &  0.2313125   & -0.6475614   &  0.000000    &  2.5136250   & 1.953332     & 0.7456752    & -0.27343669  & -0.10438315 \\\\\n\t 2018-03-02   & RY.TO        &  0.544043380 &  2.01914958  &  0.6288523   &  0.7899129   & -4.782511    & -2.2688858   & 1.946583     & 0.7474155    & -0.64972289  & -0.24946942 \\\\\n\t 2018-03-03   & RY.TO        & -1.542441021 & -1.56483272  &  1.0573473   & -1.2965715   & -2.758364    & -0.2447392   & 1.939857     & 0.7491608    & -0.67685564  & -0.26139753 \\\\\n\t 2018-03-01   & TD.TO        & -0.468147219 & -0.07482964  & -0.9134220   & -0.2222777   &  0.000000    &  2.5136250   & 1.933149     & 0.7509148    & -0.02517544  & -0.00977918 \\\\\n\t 2018-03-02   & TD.TO        &  0.004224587 & -0.30323669  & -0.6371521   &  0.2500941   & -4.782511    & -2.2688858   & 1.926470     & 0.7526658    & -0.39093860  & -0.15273846 \\\\\n\t 2018-03-03   & TD.TO        & -0.703234423 &  0.82985470  & -0.3376910   & -0.4573649   & -2.758364    & -0.2447392   & 1.919813     & 0.7544209    & -0.41427818  & -0.16279713 \\\\\n\\end{tabular}\n",
            "text/markdown": "\nDate | RIC | ret_x | Total Liabilities | Market Cap | ret0_x | ret_m | ret0_m | s_m | s_x | p_mx | beta_x | \n|---|---|---|---|---|---|\n| 2018-03-01   | RY.TO        | -0.893430975 |  1.04942459  |  0.2313125   | -0.6475614   |  0.000000    |  2.5136250   | 1.953332     | 0.7456752    | -0.27343669  | -0.10438315  | \n| 2018-03-02   | RY.TO        |  0.544043380 |  2.01914958  |  0.6288523   |  0.7899129   | -4.782511    | -2.2688858   | 1.946583     | 0.7474155    | -0.64972289  | -0.24946942  | \n| 2018-03-03   | RY.TO        | -1.542441021 | -1.56483272  |  1.0573473   | -1.2965715   | -2.758364    | -0.2447392   | 1.939857     | 0.7491608    | -0.67685564  | -0.26139753  | \n| 2018-03-01   | TD.TO        | -0.468147219 | -0.07482964  | -0.9134220   | -0.2222777   |  0.000000    |  2.5136250   | 1.933149     | 0.7509148    | -0.02517544  | -0.00977918  | \n| 2018-03-02   | TD.TO        |  0.004224587 | -0.30323669  | -0.6371521   |  0.2500941   | -4.782511    | -2.2688858   | 1.926470     | 0.7526658    | -0.39093860  | -0.15273846  | \n| 2018-03-03   | TD.TO        | -0.703234423 |  0.82985470  | -0.3376910   | -0.4573649   | -2.758364    | -0.2447392   | 1.919813     | 0.7544209    | -0.41427818  | -0.16279713  | \n\n\n",
            "text/plain": "  Date       RIC   ret_x        Total Liabilities Market Cap ret0_x    \n1 2018-03-01 RY.TO -0.893430975  1.04942459        0.2313125 -0.6475614\n2 2018-03-02 RY.TO  0.544043380  2.01914958        0.6288523  0.7899129\n3 2018-03-03 RY.TO -1.542441021 -1.56483272        1.0573473 -1.2965715\n4 2018-03-01 TD.TO -0.468147219 -0.07482964       -0.9134220 -0.2222777\n5 2018-03-02 TD.TO  0.004224587 -0.30323669       -0.6371521  0.2500941\n6 2018-03-03 TD.TO -0.703234423  0.82985470       -0.3376910 -0.4573649\n  ret_m     ret0_m     s_m      s_x       p_mx        beta_x     \n1  0.000000  2.5136250 1.953332 0.7456752 -0.27343669 -0.10438315\n2 -4.782511 -2.2688858 1.946583 0.7474155 -0.64972289 -0.24946942\n3 -2.758364 -0.2447392 1.939857 0.7491608 -0.67685564 -0.26139753\n4  0.000000  2.5136250 1.933149 0.7509148 -0.02517544 -0.00977918\n5 -4.782511 -2.2688858 1.926470 0.7526658 -0.39093860 -0.15273846\n6 -2.758364 -0.2447392 1.919813 0.7544209 -0.41427818 -0.16279713"
          },
          "metadata": {},
          "output_type": "display_data"
        }
      ]
    },
    {
      "metadata": {
        "heading_collapsed": true
      },
      "cell_type": "markdown",
      "source": "##### `main_pro.m`"
    },
    {
      "metadata": {
        "hidden": true
      },
      "cell_type": "markdown",
      "source": "https://github.com/TommasoBelluzzo/SystemicRisk/blob/master/ScriptsProbabilistic/main_pro.m "
    },
    {
      "metadata": {
        "hidden": true,
        "trusted": true
      },
      "cell_type": "code",
      "source": "# THIS IS MATLAB - DO NOT RUN!\nret0_x = ret_x - mean(ret_x);\n\n#% Supply 2 series of returns (with means subtracted)\n[p,s] = dcc_gjrgarch([ret0_m ret0_x]);\n#% p       = An n-by-n-by-t matrix of floats containing the DCC coefficients.\n#% s       = A t-by-n matrix of floats containing the conditional variances.\ns_m = sqrt(s(:,1));\ns_x = sqrt(s(:,2));\np_mx = squeeze(p(1,2,:)); #% Pull out the off-diagonal correlation (between market & firm)\n\nbeta_x = p_mx .* (s_x ./ s_m);\nvar_x = s_x * quantile((ret0_x ./ s_x),data.A); #% Find the value at risk of the firm? (optional)\n\n[mes,lrmes] = calculate_mes(ret0_m,s_m,ret0_x,s_x,beta_x,p_mx,data.A,data.D); #% Hopefully R package ccgarch can do this step?\nsrisk = calculate_srisk(lrmes,data.FrmsLia(:,i),data.FrmsCap(:,i),data.L); #% SRISK needs the (LR)MES + balance sheet data + crash level (e.g. 40%)",
      "execution_count": null,
      "outputs": []
    },
    {
      "metadata": {},
      "cell_type": "markdown",
      "source": "### `mes`"
    },
    {
      "metadata": {},
      "cell_type": "markdown",
      "source": "https://github.com/TommasoBelluzzo/SystemicRisk/blob/master/ScriptsProbabilistic/calculate_mes.m"
    },
    {
      "metadata": {
        "init_cell": true,
        "trusted": true
      },
      "cell_type": "code",
      "source": "mes <- function(df, a=0.05, d=0.4){\n    #' Calculate marginal expected shortfall (MES) & long range MES (LRMES)\n    #'\n    #' Input data_frame must contain: ret0_m, s_m, ret0_x, s_x, beta_x, p_mx\n    #' Author: Tommaso Belluzzo (Matlab)\n    #' In python, vectors are pandas series objects\n    #' The input series must be for a single firm only!\n    #' :param ret0_m: Demeaned market index log returns.\n    #' :param s_m: Volatilities of the market index log returns.\n    #' :param ret0_x: Demeaned firm log returns.\n    #' :param s_x: Volatilities of the firm log returns.\n    #' :param beta_x: Firm CAPM betas.\n    #' :param p_mx: DCC coefficients.\n    #' :param a: A float [0.01,0.10] representing the complement to 1 of the confidence level (optional, default=0.05).\n    #' :param d: A float representing the six-month crisis threshold for the market index decline used to calculate LRMES (optional, default=0.40).\n    return(\n        df %>%\n            mutate(\n                c = quantile(ret0_m,a),\n                h = length(ret0_m) ** (-0.2),\n                u = ret0_m / s_m    ,          # Standardize\n                x_den = sqrt(1 - p_mx**2),\n                x_num = (ret0_x / s_x) - (p_mx * u),\n                x = x_den / x_num,\n                f = pnorm(((c / s_m) - u) / h),   # Normal CDF\n                f_sum = sum(f),\n                k1 = sum(u * f) /  sum(f),       \n                k2 =  sum(x * f) / sum(f) ,\n                mes = (s_x * p_mx * k1) + (s_x * x_den * k2),\n                lrmes = 1 - exp(log(1 - d) * beta_x) )  %>%\n            select() )}",
      "execution_count": 6,
      "outputs": []
    },
    {
      "metadata": {
        "trusted": true
      },
      "cell_type": "code",
      "source": "estimation_results %>% \n    group_by(RIC) %>% \n    mes",
      "execution_count": 49,
      "outputs": [
        {
          "name": "stderr",
          "output_type": "stream",
          "text": "Adding missing grouping variables: `RIC`\n"
        },
        {
          "data": {
            "text/html": "<table>\n<thead><tr><th scope=col>RIC</th></tr></thead>\n<tbody>\n\t<tr><td>RY.TO </td></tr>\n\t<tr><td>RY.TO </td></tr>\n\t<tr><td>RY.TO </td></tr>\n\t<tr><td>TD.TO </td></tr>\n\t<tr><td>TD.TO </td></tr>\n\t<tr><td>TD.TO </td></tr>\n\t<tr><td>BNS.TO</td></tr>\n\t<tr><td>BNS.TO</td></tr>\n\t<tr><td>BNS.TO</td></tr>\n\t<tr><td>BMO.TO</td></tr>\n\t<tr><td>BMO.TO</td></tr>\n\t<tr><td>BMO.TO</td></tr>\n\t<tr><td>CM.TO </td></tr>\n\t<tr><td>CM.TO </td></tr>\n\t<tr><td>CM.TO </td></tr>\n</tbody>\n</table>\n",
            "text/latex": "\\begin{tabular}{r|l}\n RIC\\\\\n\\hline\n\t RY.TO \\\\\n\t RY.TO \\\\\n\t RY.TO \\\\\n\t TD.TO \\\\\n\t TD.TO \\\\\n\t TD.TO \\\\\n\t BNS.TO\\\\\n\t BNS.TO\\\\\n\t BNS.TO\\\\\n\t BMO.TO\\\\\n\t BMO.TO\\\\\n\t BMO.TO\\\\\n\t CM.TO \\\\\n\t CM.TO \\\\\n\t CM.TO \\\\\n\\end{tabular}\n",
            "text/markdown": "\nRIC | \n|---|---|---|---|---|---|---|---|---|---|---|---|---|---|---|\n| RY.TO  | \n| RY.TO  | \n| RY.TO  | \n| TD.TO  | \n| TD.TO  | \n| TD.TO  | \n| BNS.TO | \n| BNS.TO | \n| BNS.TO | \n| BMO.TO | \n| BMO.TO | \n| BMO.TO | \n| CM.TO  | \n| CM.TO  | \n| CM.TO  | \n\n\n",
            "text/plain": "   RIC   \n1  RY.TO \n2  RY.TO \n3  RY.TO \n4  TD.TO \n5  TD.TO \n6  TD.TO \n7  BNS.TO\n8  BNS.TO\n9  BNS.TO\n10 BMO.TO\n11 BMO.TO\n12 BMO.TO\n13 CM.TO \n14 CM.TO \n15 CM.TO "
          },
          "metadata": {},
          "output_type": "display_data"
        }
      ]
    },
    {
      "metadata": {},
      "cell_type": "markdown",
      "source": "### `srisk`"
    },
    {
      "metadata": {},
      "cell_type": "markdown",
      "source": "https://github.com/TommasoBelluzzo/SystemicRisk/blob/master/ScriptsProbabilistic/calculate_srisk.m"
    },
    {
      "metadata": {
        "init_cell": true,
        "trusted": true
      },
      "cell_type": "code",
      "source": "srisk <- function(df,l=0.08){\n    #' Calculate the SRISK measure of systemic risk\n    #' \n    #' Data frame must contain fields: (lrmes,tl_x,mc_x)\n    #' Author: Tommaso Belluzzo (Matlab)\n    #' In python, input vectors are pandas series objects; output type is pandas dataframe\n    #' :param lrmes:   A vector of floats containing the LRMES values.\n    #' :param tl_x:    A numeric vector containing the firm total liabilities.\n    #' :param mc_x:    A numeric vector containing the firm market capitalization.\n    #' :param l:       A float [0.05,0.20] representing the capital adequacy ratio (optional, default=0.08).\n    #' :return srisk:  A dict of series including SRISK.\n    return(\n        df %>%\n            rename(tl_x = \"Total Liabilities\", mc_x = \"Market Capitalization\") %>%\n            mutate(srisk = (l * tl_x) - ((1 - l) * (1 - lrmes) * mc_x) %>%\n                                  {ifelse(. < 0, 0,.)})) \n    }",
      "execution_count": 7,
      "outputs": []
    },
    {
      "metadata": {},
      "cell_type": "markdown",
      "source": "# Package `ccgarch` sample code"
    },
    {
      "metadata": {
        "heading_collapsed": true
      },
      "cell_type": "markdown",
      "source": "## Simulation - `dcc.sim`"
    },
    {
      "metadata": {
        "hidden": true
      },
      "cell_type": "markdown",
      "source": "Simulating data from the original DCC-GARCH(1,1) process  \nSee **P11** of https://cran.r-project.org/web/packages/ccgarch/ccgarch.pdf  \nhttps://www.rdocumentation.org/packages/ccgarch/versions/0.2.3/topics/dcc.sim  "
    },
    {
      "metadata": {
        "hidden": true,
        "trusted": true
      },
      "cell_type": "code",
      "source": "  nobs <- 50\n  a <- c(0.003, 0.005, 0.001)\n  A <- diag(c(0.2,0.3,0.15))\n  B <- diag(c(0.75, 0.6, 0.8))\n  uncR <- matrix(c(1.0, 0.4, 0.3, 0.4, 1.0, 0.12, 0.3, 0.12, 1.0),3,3)\n  dcc_para <- c(0.01,0.98)\n  dcc_data <- dcc.sim(nobs, a, A, B, uncR, dcc_para, model=\"diagonal\")",
      "execution_count": 21,
      "outputs": []
    },
    {
      "metadata": {
        "hidden": true
      },
      "cell_type": "markdown",
      "source": "Outputs are matrices:\n* `z`\n* `std.z`\n* `dcc`\n* `h`\n* `eps`"
    },
    {
      "metadata": {
        "hidden": true,
        "trusted": true
      },
      "cell_type": "code",
      "source": "#lapply(dcc_data,head)",
      "execution_count": 28,
      "outputs": []
    },
    {
      "metadata": {},
      "cell_type": "markdown",
      "source": "## Estimation - `dcc.estimation`"
    },
    {
      "metadata": {
        "heading_collapsed": true
      },
      "cell_type": "markdown",
      "source": "#### Simple demo"
    },
    {
      "metadata": {
        "hidden": true
      },
      "cell_type": "markdown",
      "source": "Estimating a DCC-GARCH(1,1) model  \nSee **P6** of https://cran.r-project.org/web/packages/ccgarch/ccgarch.pdf   \nhttps://www.rdocumentation.org/packages/ccgarch/versions/0.2.3/topics/dcc.estimation  "
    },
    {
      "metadata": {
        "hidden": true
      },
      "cell_type": "markdown",
      "source": "**`inia`** - a vector of initial values for the constants in the GARCH equation `length(inia)=N`  \n**`iniA`** - a matrix of initial values for the ARCH parameter matrix (N×N)  \n**`iniB`** - a matrix of initial values for the GARCH parameter matrix (N×N)  \n**`ini.dcc`** - a vector of initial values for the DCC parameters (2×1)  \n**`dvar`** - a matrix of the data (T×N)  \n**`model`** - a character string describing the model. \"diagonal\" for the diagonal model and \"extended\" for the extended    \n**`method`** - a character string specifying the optimisation method in optim.   \n**`gradient`** - a switch variable that determines the optimisation algorithm in the second stage optimisation.  \n**`message`** - a switch variable to turn off the display of the message   "
    },
    {
      "metadata": {
        "hidden": true,
        "trusted": true
      },
      "cell_type": "code",
      "source": "dcc_results <- dcc.estimation(inia=a, iniA=A, iniB=B, ini.dcc=dcc_para, \n        dvar=dcc_data$eps, model=\"extended\")  # or model=\"diagonal\"",
      "execution_count": 31,
      "outputs": [
        {
          "name": "stdout",
          "output_type": "stream",
          "text": "****************************************************************\n*  Estimation has been completed.                              *\n*  The outputs are saved in a list with components:            *\n*    out    : the estimates and their standard errors          *\n*    loglik : the value of the log-likelihood at the estimates *\n*    h      : a matrix of estimated conditional variances      *\n*    DCC    : a matrix of DCC estimates                        *\n*    std.resid : a matrix of the standardised residuals        *\n*    first  : the results of the first stage estimation        *\n*    second : the results of the second stage estimation       *\n****************************************************************\n"
        }
      ]
    },
    {
      "metadata": {
        "hidden": true
      },
      "cell_type": "markdown",
      "source": "Outputs are:\n* `out` - parameter estimates and their standard errors: vector `a`, matrices `A` & `B`\n* `loglik` - the value of the log-likelihood at the estimates (scalar)\n* `h` - estimated conditional variances ($T\\times N$)\n* `DCC` - a matrix of DCC estimates  ($T\\times N^2$)\n* `std.resid` a matrix of the standardised residuals ($T\\times N$)\n* `first `\n* `second`"
    },
    {
      "metadata": {
        "heading_collapsed": true
      },
      "cell_type": "markdown",
      "source": "#### Results of estimation"
    },
    {
      "metadata": {
        "hidden": true,
        "trusted": true
      },
      "cell_type": "code",
      "source": "#lapply(dcc_results,class)\n#lapply(dcc_results,print)\ndcc_results[c(\"h\",\"DCC\",\"std.resid\")] %>% map(head)",
      "execution_count": 292,
      "outputs": [
        {
          "data": {
            "text/html": "<dl>\n\t<dt>$h</dt>\n\t\t<dd><table>\n<tbody>\n\t<tr><td>0.04842365</td><td>0.03602246</td></tr>\n\t<tr><td>0.04502395</td><td>0.02629809</td></tr>\n\t<tr><td>0.04706470</td><td>0.02865784</td></tr>\n\t<tr><td>0.05945404</td><td>0.05630532</td></tr>\n\t<tr><td>0.05568064</td><td>0.05682818</td></tr>\n\t<tr><td>0.05141020</td><td>0.04838037</td></tr>\n</tbody>\n</table>\n</dd>\n\t<dt>$DCC</dt>\n\t\t<dd><table>\n<tbody>\n\t<tr><td>1        </td><td>0.6332127</td><td>0.6332127</td><td>1        </td></tr>\n\t<tr><td>1        </td><td>0.6332127</td><td>0.6332127</td><td>1        </td></tr>\n\t<tr><td>1        </td><td>0.6332127</td><td>0.6332127</td><td>1        </td></tr>\n\t<tr><td>1        </td><td>0.6332127</td><td>0.6332127</td><td>1        </td></tr>\n\t<tr><td>1        </td><td>0.6332127</td><td>0.6332127</td><td>1        </td></tr>\n\t<tr><td>1        </td><td>0.6332127</td><td>0.6332127</td><td>1        </td></tr>\n</tbody>\n</table>\n</dd>\n\t<dt>$std.resid</dt>\n\t\t<dd><table>\n<tbody>\n\t<tr><td>-0.2330431</td><td>-0.0824776</td></tr>\n\t<tr><td>-1.1632722</td><td>-0.5824885</td></tr>\n\t<tr><td> 2.0026542</td><td> 1.9644564</td></tr>\n\t<tr><td> 0.5818376</td><td>-1.4136188</td></tr>\n\t<tr><td> 0.3460547</td><td> 1.1971921</td></tr>\n\t<tr><td> 0.1706414</td><td> 0.3600510</td></tr>\n</tbody>\n</table>\n</dd>\n</dl>\n",
            "text/latex": "\\begin{description}\n\\item[\\$h] \\begin{tabular}{ll}\n\t 0.04842365 & 0.03602246\\\\\n\t 0.04502395 & 0.02629809\\\\\n\t 0.04706470 & 0.02865784\\\\\n\t 0.05945404 & 0.05630532\\\\\n\t 0.05568064 & 0.05682818\\\\\n\t 0.05141020 & 0.04838037\\\\\n\\end{tabular}\n\n\\item[\\$DCC] \\begin{tabular}{llll}\n\t 1         & 0.6332127 & 0.6332127 & 1        \\\\\n\t 1         & 0.6332127 & 0.6332127 & 1        \\\\\n\t 1         & 0.6332127 & 0.6332127 & 1        \\\\\n\t 1         & 0.6332127 & 0.6332127 & 1        \\\\\n\t 1         & 0.6332127 & 0.6332127 & 1        \\\\\n\t 1         & 0.6332127 & 0.6332127 & 1        \\\\\n\\end{tabular}\n\n\\item[\\$std.resid] \\begin{tabular}{ll}\n\t -0.2330431 & -0.0824776\\\\\n\t -1.1632722 & -0.5824885\\\\\n\t  2.0026542 &  1.9644564\\\\\n\t  0.5818376 & -1.4136188\\\\\n\t  0.3460547 &  1.1971921\\\\\n\t  0.1706414 &  0.3600510\\\\\n\\end{tabular}\n\n\\end{description}\n",
            "text/markdown": "$h\n:   \n| 0.04842365 | 0.03602246 | \n| 0.04502395 | 0.02629809 | \n| 0.04706470 | 0.02865784 | \n| 0.05945404 | 0.05630532 | \n| 0.05568064 | 0.05682818 | \n| 0.05141020 | 0.04838037 | \n\n\n\n$DCC\n:   \n| 1         | 0.6332127 | 0.6332127 | 1         | \n| 1         | 0.6332127 | 0.6332127 | 1         | \n| 1         | 0.6332127 | 0.6332127 | 1         | \n| 1         | 0.6332127 | 0.6332127 | 1         | \n| 1         | 0.6332127 | 0.6332127 | 1         | \n| 1         | 0.6332127 | 0.6332127 | 1         | \n\n\n\n$std.resid\n:   \n| -0.2330431 | -0.0824776 | \n| -1.1632722 | -0.5824885 | \n|  2.0026542 |  1.9644564 | \n|  0.5818376 | -1.4136188 | \n|  0.3460547 |  1.1971921 | \n|  0.1706414 |  0.3600510 | \n\n\n\n\n\n",
            "text/plain": "$h\n           [,1]       [,2]\n[1,] 0.04842365 0.03602246\n[2,] 0.04502395 0.02629809\n[3,] 0.04706470 0.02865784\n[4,] 0.05945404 0.05630532\n[5,] 0.05568064 0.05682818\n[6,] 0.05141020 0.04838037\n\n$DCC\n     [,1]      [,2]      [,3] [,4]\n[1,]    1 0.6332127 0.6332127    1\n[2,]    1 0.6332127 0.6332127    1\n[3,]    1 0.6332127 0.6332127    1\n[4,]    1 0.6332127 0.6332127    1\n[5,]    1 0.6332127 0.6332127    1\n[6,]    1 0.6332127 0.6332127    1\n\n$std.resid\n           [,1]       [,2]\n[1,] -0.2330431 -0.0824776\n[2,] -1.1632722 -0.5824885\n[3,]  2.0026542  1.9644564\n[4,]  0.5818376 -1.4136188\n[5,]  0.3460547  1.1971921\n[6,]  0.1706414  0.3600510\n"
          },
          "metadata": {},
          "output_type": "display_data"
        }
      ]
    },
    {
      "metadata": {
        "heading_collapsed": true
      },
      "cell_type": "markdown",
      "source": "#### DCC estimates - `dcc.results$DCC` - reshape the `DCC` matrix"
    },
    {
      "metadata": {
        "hidden": true,
        "slideshow": {
          "slide_type": "slide"
        }
      },
      "cell_type": "markdown",
      "source": "Instead of a 3-d $T\\times N\\times N$ `array`, the `DCC` result is a 2-d $T\\times N^2$ `matrix`, so we have to reshape it."
    },
    {
      "metadata": {
        "hidden": true,
        "trusted": true
      },
      "cell_type": "code",
      "source": "array(dcc_results$DCC, dim = c(50,3,3))[1,,]",
      "execution_count": 296,
      "outputs": [
        {
          "data": {
            "text/html": "<table>\n<tbody>\n\t<tr><td>1.0000000</td><td>1.0000000</td><td>0.6332127</td></tr>\n\t<tr><td>0.6332127</td><td>1.0000000</td><td>1.0000000</td></tr>\n\t<tr><td>0.6332127</td><td>0.6332127</td><td>1.0000000</td></tr>\n</tbody>\n</table>\n",
            "text/latex": "\\begin{tabular}{lll}\n\t 1.0000000 & 1.0000000 & 0.6332127\\\\\n\t 0.6332127 & 1.0000000 & 1.0000000\\\\\n\t 0.6332127 & 0.6332127 & 1.0000000\\\\\n\\end{tabular}\n",
            "text/markdown": "\n| 1.0000000 | 1.0000000 | 0.6332127 | \n| 0.6332127 | 1.0000000 | 1.0000000 | \n| 0.6332127 | 0.6332127 | 1.0000000 | \n\n\n",
            "text/plain": "     [,1]      [,2]      [,3]     \n[1,] 1.0000000 1.0000000 0.6332127\n[2,] 0.6332127 1.0000000 1.0000000\n[3,] 0.6332127 0.6332127 1.0000000"
          },
          "metadata": {},
          "output_type": "display_data"
        }
      ]
    },
    {
      "metadata": {
        "heading_collapsed": true,
        "hidden": true
      },
      "cell_type": "markdown",
      "source": "##### Steps"
    },
    {
      "metadata": {
        "hidden": true,
        "trusted": true
      },
      "cell_type": "code",
      "source": "head(dcc_results$DCC)",
      "execution_count": 47,
      "outputs": [
        {
          "data": {
            "text/html": "<table>\n<tbody>\n\t<tr><td>1         </td><td>0.4153004 </td><td>0.09603502</td><td>0.4153004 </td><td>1         </td><td>0.1762781 </td><td>0.09603502</td><td>0.1762781 </td><td>1         </td></tr>\n\t<tr><td>1         </td><td>0.4153004 </td><td>0.09603502</td><td>0.4153004 </td><td>1         </td><td>0.1762781 </td><td>0.09603502</td><td>0.1762781 </td><td>1         </td></tr>\n\t<tr><td>1         </td><td>0.4153004 </td><td>0.09603502</td><td>0.4153004 </td><td>1         </td><td>0.1762781 </td><td>0.09603502</td><td>0.1762781 </td><td>1         </td></tr>\n\t<tr><td>1         </td><td>0.4153004 </td><td>0.09603502</td><td>0.4153004 </td><td>1         </td><td>0.1762781 </td><td>0.09603502</td><td>0.1762781 </td><td>1         </td></tr>\n\t<tr><td>1         </td><td>0.4153004 </td><td>0.09603502</td><td>0.4153004 </td><td>1         </td><td>0.1762781 </td><td>0.09603502</td><td>0.1762781 </td><td>1         </td></tr>\n\t<tr><td>1         </td><td>0.4153004 </td><td>0.09603502</td><td>0.4153004 </td><td>1         </td><td>0.1762781 </td><td>0.09603502</td><td>0.1762781 </td><td>1         </td></tr>\n</tbody>\n</table>\n",
            "text/latex": "\\begin{tabular}{lllllllll}\n\t 1          & 0.4153004  & 0.09603502 & 0.4153004  & 1          & 0.1762781  & 0.09603502 & 0.1762781  & 1         \\\\\n\t 1          & 0.4153004  & 0.09603502 & 0.4153004  & 1          & 0.1762781  & 0.09603502 & 0.1762781  & 1         \\\\\n\t 1          & 0.4153004  & 0.09603502 & 0.4153004  & 1          & 0.1762781  & 0.09603502 & 0.1762781  & 1         \\\\\n\t 1          & 0.4153004  & 0.09603502 & 0.4153004  & 1          & 0.1762781  & 0.09603502 & 0.1762781  & 1         \\\\\n\t 1          & 0.4153004  & 0.09603502 & 0.4153004  & 1          & 0.1762781  & 0.09603502 & 0.1762781  & 1         \\\\\n\t 1          & 0.4153004  & 0.09603502 & 0.4153004  & 1          & 0.1762781  & 0.09603502 & 0.1762781  & 1         \\\\\n\\end{tabular}\n",
            "text/markdown": "\n| 1          | 0.4153004  | 0.09603502 | 0.4153004  | 1          | 0.1762781  | 0.09603502 | 0.1762781  | 1          | \n| 1          | 0.4153004  | 0.09603502 | 0.4153004  | 1          | 0.1762781  | 0.09603502 | 0.1762781  | 1          | \n| 1          | 0.4153004  | 0.09603502 | 0.4153004  | 1          | 0.1762781  | 0.09603502 | 0.1762781  | 1          | \n| 1          | 0.4153004  | 0.09603502 | 0.4153004  | 1          | 0.1762781  | 0.09603502 | 0.1762781  | 1          | \n| 1          | 0.4153004  | 0.09603502 | 0.4153004  | 1          | 0.1762781  | 0.09603502 | 0.1762781  | 1          | \n| 1          | 0.4153004  | 0.09603502 | 0.4153004  | 1          | 0.1762781  | 0.09603502 | 0.1762781  | 1          | \n\n\n",
            "text/plain": "     [,1] [,2]      [,3]       [,4]      [,5] [,6]      [,7]       [,8]     \n[1,] 1    0.4153004 0.09603502 0.4153004 1    0.1762781 0.09603502 0.1762781\n[2,] 1    0.4153004 0.09603502 0.4153004 1    0.1762781 0.09603502 0.1762781\n[3,] 1    0.4153004 0.09603502 0.4153004 1    0.1762781 0.09603502 0.1762781\n[4,] 1    0.4153004 0.09603502 0.4153004 1    0.1762781 0.09603502 0.1762781\n[5,] 1    0.4153004 0.09603502 0.4153004 1    0.1762781 0.09603502 0.1762781\n[6,] 1    0.4153004 0.09603502 0.4153004 1    0.1762781 0.09603502 0.1762781\n     [,9]\n[1,] 1   \n[2,] 1   \n[3,] 1   \n[4,] 1   \n[5,] 1   \n[6,] 1   "
          },
          "metadata": {},
          "output_type": "display_data"
        }
      ]
    },
    {
      "metadata": {
        "hidden": true,
        "trusted": true
      },
      "cell_type": "code",
      "source": "dim(dcc_results$DCC)",
      "execution_count": 48,
      "outputs": [
        {
          "data": {
            "text/html": "<ol class=list-inline>\n\t<li>50</li>\n\t<li>9</li>\n</ol>\n",
            "text/latex": "\\begin{enumerate*}\n\\item 50\n\\item 9\n\\end{enumerate*}\n",
            "text/markdown": "1. 50\n2. 9\n\n\n",
            "text/plain": "[1] 50  9"
          },
          "metadata": {},
          "output_type": "display_data"
        }
      ]
    },
    {
      "metadata": {
        "hidden": true,
        "trusted": true
      },
      "cell_type": "code",
      "source": "class(dcc_results$DCC)",
      "execution_count": 49,
      "outputs": [
        {
          "data": {
            "text/html": "'matrix'",
            "text/latex": "'matrix'",
            "text/markdown": "'matrix'",
            "text/plain": "[1] \"matrix\""
          },
          "metadata": {},
          "output_type": "display_data"
        }
      ]
    },
    {
      "metadata": {
        "hidden": true,
        "trusted": true
      },
      "cell_type": "code",
      "source": "dcc_results$DCC[1,]",
      "execution_count": 26,
      "outputs": [
        {
          "data": {
            "text/html": "<ol class=list-inline>\n\t<li>1</li>\n\t<li>0.483259265127785</li>\n\t<li>0.350141878367488</li>\n\t<li>0.483259265127785</li>\n\t<li>1</li>\n\t<li>0.411633667841446</li>\n\t<li>0.350141878367488</li>\n\t<li>0.411633667841446</li>\n\t<li>1</li>\n</ol>\n",
            "text/latex": "\\begin{enumerate*}\n\\item 1\n\\item 0.483259265127785\n\\item 0.350141878367488\n\\item 0.483259265127785\n\\item 1\n\\item 0.411633667841446\n\\item 0.350141878367488\n\\item 0.411633667841446\n\\item 1\n\\end{enumerate*}\n",
            "text/markdown": "1. 1\n2. 0.483259265127785\n3. 0.350141878367488\n4. 0.483259265127785\n5. 1\n6. 0.411633667841446\n7. 0.350141878367488\n8. 0.411633667841446\n9. 1\n\n\n",
            "text/plain": "[1] 1.0000000 0.4832593 0.3501419 0.4832593 1.0000000 0.4116337 0.3501419\n[8] 0.4116337 1.0000000"
          },
          "metadata": {},
          "output_type": "display_data"
        }
      ]
    },
    {
      "metadata": {
        "hidden": true,
        "trusted": true
      },
      "cell_type": "code",
      "source": "matrix(dcc_results$DCC[1,],nrow = 3,ncol = 3)",
      "execution_count": 27,
      "outputs": [
        {
          "data": {
            "text/html": "<table>\n<tbody>\n\t<tr><td>1.0000000</td><td>0.4832593</td><td>0.3501419</td></tr>\n\t<tr><td>0.4832593</td><td>1.0000000</td><td>0.4116337</td></tr>\n\t<tr><td>0.3501419</td><td>0.4116337</td><td>1.0000000</td></tr>\n</tbody>\n</table>\n",
            "text/latex": "\\begin{tabular}{lll}\n\t 1.0000000 & 0.4832593 & 0.3501419\\\\\n\t 0.4832593 & 1.0000000 & 0.4116337\\\\\n\t 0.3501419 & 0.4116337 & 1.0000000\\\\\n\\end{tabular}\n",
            "text/markdown": "\n| 1.0000000 | 0.4832593 | 0.3501419 | \n| 0.4832593 | 1.0000000 | 0.4116337 | \n| 0.3501419 | 0.4116337 | 1.0000000 | \n\n\n",
            "text/plain": "     [,1]      [,2]      [,3]     \n[1,] 1.0000000 0.4832593 0.3501419\n[2,] 0.4832593 1.0000000 0.4116337\n[3,] 0.3501419 0.4116337 1.0000000"
          },
          "metadata": {},
          "output_type": "display_data"
        }
      ]
    },
    {
      "metadata": {
        "hidden": true,
        "trusted": true
      },
      "cell_type": "code",
      "source": "matrix(dcc_results$DCC[1,],nrow = 3,ncol = 3)",
      "execution_count": 32,
      "outputs": [
        {
          "data": {
            "text/html": "<table>\n<tbody>\n\t<tr><td>1.0000000</td><td>0.4832593</td><td>0.3501419</td></tr>\n\t<tr><td>0.4832593</td><td>1.0000000</td><td>0.4116337</td></tr>\n\t<tr><td>0.3501419</td><td>0.4116337</td><td>1.0000000</td></tr>\n</tbody>\n</table>\n",
            "text/latex": "\\begin{tabular}{lll}\n\t 1.0000000 & 0.4832593 & 0.3501419\\\\\n\t 0.4832593 & 1.0000000 & 0.4116337\\\\\n\t 0.3501419 & 0.4116337 & 1.0000000\\\\\n\\end{tabular}\n",
            "text/markdown": "\n| 1.0000000 | 0.4832593 | 0.3501419 | \n| 0.4832593 | 1.0000000 | 0.4116337 | \n| 0.3501419 | 0.4116337 | 1.0000000 | \n\n\n",
            "text/plain": "     [,1]      [,2]      [,3]     \n[1,] 1.0000000 0.4832593 0.3501419\n[2,] 0.4832593 1.0000000 0.4116337\n[3,] 0.3501419 0.4116337 1.0000000"
          },
          "metadata": {},
          "output_type": "display_data"
        }
      ]
    },
    {
      "metadata": {
        "heading_collapsed": true
      },
      "cell_type": "markdown",
      "source": "#### Define `dcc_estimation` - pared-down `dcc.estimation`"
    },
    {
      "metadata": {
        "hidden": true
      },
      "cell_type": "markdown",
      "source": "https://www.rdocumentation.org/packages/ccgarch/versions/0.2.3/topics/dcc.estimation"
    },
    {
      "metadata": {
        "hidden": true,
        "trusted": true
      },
      "cell_type": "code",
      "source": "# returns1 = generate_data(c(\"A\",\"B\",\"C\",\"D\"),dates3,c(\"return_mkt\",\"return_firm\"))",
      "execution_count": 26,
      "outputs": []
    },
    {
      "metadata": {
        "hidden": true,
        "trusted": true
      },
      "cell_type": "code",
      "source": "dcc_estimation <- function (dvar, model = \"extended\", method = \"BFGS\", message = 0) \n{\n    N <- dim(dvar)[2]\n    a <- numeric(N)\n    A <- diag(N)\n    B <- diag(N)\n    ini.dcc <- rep(0.01, 2)\n    return(dcc.estimation(inia = a, iniA = A, iniB = B, ini.dcc = ini.dcc, \n        dvar = dvar, model = model, method = method, message = message) %>% \n        {\n            .[c(\"h\", \"DCC\")]\n        })\n}",
      "execution_count": 83,
      "outputs": []
    },
    {
      "metadata": {
        "hidden": true,
        "init_cell": true,
        "trusted": true
      },
      "cell_type": "code",
      "source": "data_market <- generate_data(c(\"TSX\"),dates50,c(\"Price\")) \ndata_firms <- generate_data(big5_rics,dates50,c(\"Return\",\"Equity\",\"Bond\"))",
      "execution_count": 8,
      "outputs": []
    },
    {
      "metadata": {
        "hidden": true,
        "init_cell": true,
        "trusted": true
      },
      "cell_type": "code",
      "source": "returns_all <- merge(\n    data_firms %>% \n        rename(return_firm = Return),\n    data_market %>% \n        mutate(return_mkt = (Price / lag(Price)) -1) %>%\n    replace_na(list(return_mkt = 0))%>% \n        select(-RIC,-Price) , \n    by =\"Date\" ) %>% \n    arrange(RIC,Date) ",
      "execution_count": 9,
      "outputs": []
    },
    {
      "metadata": {
        "hidden": true,
        "trusted": true
      },
      "cell_type": "code",
      "source": "returns_all %>% head(10)",
      "execution_count": 57,
      "outputs": [
        {
          "data": {
            "text/html": "<table>\n<thead><tr><th scope=col>Date</th><th scope=col>RIC</th><th scope=col>return_firm</th><th scope=col>Equity</th><th scope=col>Bond</th><th scope=col>return_mkt</th></tr></thead>\n<tbody>\n\t<tr><td>2018-02-23 </td><td>RY.TO      </td><td> 1.06806278</td><td> 1.25109463</td><td> 1.0484841 </td><td>0.000000   </td></tr>\n\t<tr><td>2018-02-23 </td><td>TD.TO      </td><td>-0.72786421</td><td> 0.42168109</td><td>-1.0579882 </td><td>0.000000   </td></tr>\n\t<tr><td>2018-02-23 </td><td>BNS.TO     </td><td>-0.24959535</td><td>-0.88489474</td><td>-1.3966640 </td><td>0.000000   </td></tr>\n\t<tr><td>2018-02-23 </td><td>BMO.TO     </td><td>-0.09460314</td><td>-0.94489995</td><td>-0.3218193 </td><td>0.000000   </td></tr>\n\t<tr><td>2018-02-23 </td><td>CM.TO      </td><td> 0.29930143</td><td>-0.02178584</td><td>-0.3202923 </td><td>0.000000   </td></tr>\n\t<tr><td>2018-02-24 </td><td>RY.TO      </td><td> 1.99680917</td><td>-1.33614968</td><td>-0.6541031 </td><td>2.936656   </td></tr>\n\t<tr><td>2018-02-24 </td><td>TD.TO      </td><td> 1.13307361</td><td>-1.14996412</td><td>-0.4109774 </td><td>2.936656   </td></tr>\n\t<tr><td>2018-02-24 </td><td>BNS.TO     </td><td>-0.34823941</td><td> 0.09843343</td><td> 0.4104379 </td><td>2.936656   </td></tr>\n\t<tr><td>2018-02-24 </td><td>BMO.TO     </td><td> 0.55162127</td><td>-1.78962246</td><td> 0.4118535 </td><td>2.936656   </td></tr>\n\t<tr><td>2018-02-24 </td><td>CM.TO      </td><td>-0.52932741</td><td> 0.41205111</td><td> 0.3254376 </td><td>2.936656   </td></tr>\n</tbody>\n</table>\n",
            "text/latex": "\\begin{tabular}{r|llllll}\n Date & RIC & return\\_firm & Equity & Bond & return\\_mkt\\\\\n\\hline\n\t 2018-02-23  & RY.TO       &  1.06806278 &  1.25109463 &  1.0484841  & 0.000000   \\\\\n\t 2018-02-23  & TD.TO       & -0.72786421 &  0.42168109 & -1.0579882  & 0.000000   \\\\\n\t 2018-02-23  & BNS.TO      & -0.24959535 & -0.88489474 & -1.3966640  & 0.000000   \\\\\n\t 2018-02-23  & BMO.TO      & -0.09460314 & -0.94489995 & -0.3218193  & 0.000000   \\\\\n\t 2018-02-23  & CM.TO       &  0.29930143 & -0.02178584 & -0.3202923  & 0.000000   \\\\\n\t 2018-02-24  & RY.TO       &  1.99680917 & -1.33614968 & -0.6541031  & 2.936656   \\\\\n\t 2018-02-24  & TD.TO       &  1.13307361 & -1.14996412 & -0.4109774  & 2.936656   \\\\\n\t 2018-02-24  & BNS.TO      & -0.34823941 &  0.09843343 &  0.4104379  & 2.936656   \\\\\n\t 2018-02-24  & BMO.TO      &  0.55162127 & -1.78962246 &  0.4118535  & 2.936656   \\\\\n\t 2018-02-24  & CM.TO       & -0.52932741 &  0.41205111 &  0.3254376  & 2.936656   \\\\\n\\end{tabular}\n",
            "text/markdown": "\nDate | RIC | return_firm | Equity | Bond | return_mkt | \n|---|---|---|---|---|---|---|---|---|---|\n| 2018-02-23  | RY.TO       |  1.06806278 |  1.25109463 |  1.0484841  | 0.000000    | \n| 2018-02-23  | TD.TO       | -0.72786421 |  0.42168109 | -1.0579882  | 0.000000    | \n| 2018-02-23  | BNS.TO      | -0.24959535 | -0.88489474 | -1.3966640  | 0.000000    | \n| 2018-02-23  | BMO.TO      | -0.09460314 | -0.94489995 | -0.3218193  | 0.000000    | \n| 2018-02-23  | CM.TO       |  0.29930143 | -0.02178584 | -0.3202923  | 0.000000    | \n| 2018-02-24  | RY.TO       |  1.99680917 | -1.33614968 | -0.6541031  | 2.936656    | \n| 2018-02-24  | TD.TO       |  1.13307361 | -1.14996412 | -0.4109774  | 2.936656    | \n| 2018-02-24  | BNS.TO      | -0.34823941 |  0.09843343 |  0.4104379  | 2.936656    | \n| 2018-02-24  | BMO.TO      |  0.55162127 | -1.78962246 |  0.4118535  | 2.936656    | \n| 2018-02-24  | CM.TO       | -0.52932741 |  0.41205111 |  0.3254376  | 2.936656    | \n\n\n",
            "text/plain": "   Date       RIC    return_firm Equity      Bond       return_mkt\n1  2018-02-23 RY.TO   1.06806278  1.25109463  1.0484841 0.000000  \n2  2018-02-23 TD.TO  -0.72786421  0.42168109 -1.0579882 0.000000  \n3  2018-02-23 BNS.TO -0.24959535 -0.88489474 -1.3966640 0.000000  \n4  2018-02-23 BMO.TO -0.09460314 -0.94489995 -0.3218193 0.000000  \n5  2018-02-23 CM.TO   0.29930143 -0.02178584 -0.3202923 0.000000  \n6  2018-02-24 RY.TO   1.99680917 -1.33614968 -0.6541031 2.936656  \n7  2018-02-24 TD.TO   1.13307361 -1.14996412 -0.4109774 2.936656  \n8  2018-02-24 BNS.TO -0.34823941  0.09843343  0.4104379 2.936656  \n9  2018-02-24 BMO.TO  0.55162127 -1.78962246  0.4118535 2.936656  \n10 2018-02-24 CM.TO  -0.52932741  0.41205111  0.3254376 2.936656  "
          },
          "metadata": {},
          "output_type": "display_data"
        }
      ]
    },
    {
      "metadata": {
        "hidden": true,
        "trusted": true
      },
      "cell_type": "code",
      "source": "returns_all[c(\"return_mkt\",\"return_firm\")] %>%\n    dcc_estimation %>%\n    {list(h_mkt = .$h[,1], h_firm = .$h[,2], corr = .$DCC[,2])} %>%\n    {bind_cols(returns_all,.)} %>%\n    head",
      "execution_count": 73,
      "outputs": [
        {
          "data": {
            "text/html": "<table>\n<thead><tr><th scope=col>Date</th><th scope=col>RIC</th><th scope=col>return_firm</th><th scope=col>Debt</th><th scope=col>Equity</th><th scope=col>return_mkt</th><th scope=col>h_mkt</th><th scope=col>h_firm</th><th scope=col>corr</th></tr></thead>\n<tbody>\n\t<tr><td>2018-03-01 </td><td>RY.TO      </td><td>-0.1053584 </td><td> 0.26612120</td><td>-0.8798710 </td><td> 0.0000000 </td><td>1.246866   </td><td>1.096180   </td><td>0.01041874 </td></tr>\n\t<tr><td>2018-03-02 </td><td>RY.TO      </td><td>-0.4432634 </td><td>-1.68650993</td><td> 0.1618463 </td><td>-1.7539523 </td><td>1.249435   </td><td>1.107421   </td><td>0.01041874 </td></tr>\n\t<tr><td>2018-03-03 </td><td>RY.TO      </td><td>-0.3457550 </td><td> 0.49937650</td><td>-0.4893690 </td><td> 0.8102618 </td><td>1.252037   </td><td>1.118778   </td><td>0.01041874 </td></tr>\n\t<tr><td>2018-03-01 </td><td>TD.TO      </td><td>-0.7206326 </td><td>-0.27909894</td><td>-0.3634839 </td><td> 0.0000000 </td><td>1.254623   </td><td>1.130251   </td><td>0.01041874 </td></tr>\n\t<tr><td>2018-03-02 </td><td>TD.TO      </td><td>-1.8897634 </td><td>-0.06550758</td><td> 0.9047119 </td><td>-1.7539523 </td><td>1.257209   </td><td>1.141843   </td><td>0.01041874 </td></tr>\n\t<tr><td>2018-03-03 </td><td>TD.TO      </td><td>-1.6234864 </td><td>-1.26107744</td><td>-2.6898497 </td><td> 0.8102618 </td><td>1.259827   </td><td>1.153556   </td><td>0.01041876 </td></tr>\n</tbody>\n</table>\n",
            "text/latex": "\\begin{tabular}{r|lllllllll}\n Date & RIC & return\\_firm & Debt & Equity & return\\_mkt & h\\_mkt & h\\_firm & corr\\\\\n\\hline\n\t 2018-03-01  & RY.TO       & -0.1053584  &  0.26612120 & -0.8798710  &  0.0000000  & 1.246866    & 1.096180    & 0.01041874 \\\\\n\t 2018-03-02  & RY.TO       & -0.4432634  & -1.68650993 &  0.1618463  & -1.7539523  & 1.249435    & 1.107421    & 0.01041874 \\\\\n\t 2018-03-03  & RY.TO       & -0.3457550  &  0.49937650 & -0.4893690  &  0.8102618  & 1.252037    & 1.118778    & 0.01041874 \\\\\n\t 2018-03-01  & TD.TO       & -0.7206326  & -0.27909894 & -0.3634839  &  0.0000000  & 1.254623    & 1.130251    & 0.01041874 \\\\\n\t 2018-03-02  & TD.TO       & -1.8897634  & -0.06550758 &  0.9047119  & -1.7539523  & 1.257209    & 1.141843    & 0.01041874 \\\\\n\t 2018-03-03  & TD.TO       & -1.6234864  & -1.26107744 & -2.6898497  &  0.8102618  & 1.259827    & 1.153556    & 0.01041876 \\\\\n\\end{tabular}\n",
            "text/markdown": "\nDate | RIC | return_firm | Debt | Equity | return_mkt | h_mkt | h_firm | corr | \n|---|---|---|---|---|---|\n| 2018-03-01  | RY.TO       | -0.1053584  |  0.26612120 | -0.8798710  |  0.0000000  | 1.246866    | 1.096180    | 0.01041874  | \n| 2018-03-02  | RY.TO       | -0.4432634  | -1.68650993 |  0.1618463  | -1.7539523  | 1.249435    | 1.107421    | 0.01041874  | \n| 2018-03-03  | RY.TO       | -0.3457550  |  0.49937650 | -0.4893690  |  0.8102618  | 1.252037    | 1.118778    | 0.01041874  | \n| 2018-03-01  | TD.TO       | -0.7206326  | -0.27909894 | -0.3634839  |  0.0000000  | 1.254623    | 1.130251    | 0.01041874  | \n| 2018-03-02  | TD.TO       | -1.8897634  | -0.06550758 |  0.9047119  | -1.7539523  | 1.257209    | 1.141843    | 0.01041874  | \n| 2018-03-03  | TD.TO       | -1.6234864  | -1.26107744 | -2.6898497  |  0.8102618  | 1.259827    | 1.153556    | 0.01041876  | \n\n\n",
            "text/plain": "  Date       RIC   return_firm Debt        Equity     return_mkt h_mkt   \n1 2018-03-01 RY.TO -0.1053584   0.26612120 -0.8798710  0.0000000 1.246866\n2 2018-03-02 RY.TO -0.4432634  -1.68650993  0.1618463 -1.7539523 1.249435\n3 2018-03-03 RY.TO -0.3457550   0.49937650 -0.4893690  0.8102618 1.252037\n4 2018-03-01 TD.TO -0.7206326  -0.27909894 -0.3634839  0.0000000 1.254623\n5 2018-03-02 TD.TO -1.8897634  -0.06550758  0.9047119 -1.7539523 1.257209\n6 2018-03-03 TD.TO -1.6234864  -1.26107744 -2.6898497  0.8102618 1.259827\n  h_firm   corr      \n1 1.096180 0.01041874\n2 1.107421 0.01041874\n3 1.118778 0.01041874\n4 1.130251 0.01041874\n5 1.141843 0.01041874\n6 1.153556 0.01041876"
          },
          "metadata": {},
          "output_type": "display_data"
        }
      ]
    },
    {
      "metadata": {
        "heading_collapsed": true
      },
      "cell_type": "markdown",
      "source": "#### Two-dimensional example"
    },
    {
      "metadata": {
        "hidden": true,
        "init_cell": true,
        "trusted": true
      },
      "cell_type": "code",
      "source": "random_matrix <- function(N,T){\n    return(matrix(rnorm(N * T, 0, 1), N, T))}",
      "execution_count": 10,
      "outputs": []
    },
    {
      "metadata": {
        "hidden": true,
        "trusted": true
      },
      "cell_type": "code",
      "source": "dcc_paras_sim = \n    list(nobs = 50,\n        a = c(0.003, 0.005),\n        A = diag(c(0.2,0.3)),\n        B = diag(c(0.75, 0.6)),\n        R = matrix(c(1.0, 0.4, 0.4, 1.0),2,2),\n        dcc.para = c(0.01,0.98), \n        model=\"diagonal\")",
      "execution_count": 119,
      "outputs": []
    },
    {
      "metadata": {
        "hidden": true,
        "trusted": true
      },
      "cell_type": "code",
      "source": "dcc_data <- do.call(dcc.sim,dcc_paras_sim)",
      "execution_count": 120,
      "outputs": []
    },
    {
      "metadata": {
        "hidden": true,
        "trusted": true
      },
      "cell_type": "code",
      "source": "# returns_2d = random_matrix(50,2)\ndcc_results <- dcc.estimation(inia=a, iniA=A, iniB=B, ini.dcc=dcc_para, \n        dvar= dcc_data$eps , model=\"extended\") ",
      "execution_count": 181,
      "outputs": [
        {
          "name": "stdout",
          "output_type": "stream",
          "text": "****************************************************************\n*  Estimation has been completed.                              *\n*  The outputs are saved in a list with components:            *\n*    out    : the estimates and their standard errors          *\n*    loglik : the value of the log-likelihood at the estimates *\n*    h      : a matrix of estimated conditional variances      *\n*    DCC    : a matrix of DCC estimates                        *\n*    std.resid : a matrix of the standardised residuals        *\n*    first  : the results of the first stage estimation        *\n*    second : the results of the second stage estimation       *\n****************************************************************\n"
        }
      ]
    },
    {
      "metadata": {
        "hidden": true,
        "trusted": true
      },
      "cell_type": "code",
      "source": "returns = data.frame(\n    date = seq(today()-ddays(nobs-1), today(), 1), \n    return_mkt = dcc_data$eps[,1], \n    return_firm = dcc_data$eps[,2] ) ",
      "execution_count": 173,
      "outputs": []
    },
    {
      "metadata": {
        "hidden": true,
        "trusted": true
      },
      "cell_type": "code",
      "source": "return_data = data.frame(\n    date = seq(today()-ddays(nobs-1), today(), 1), \n    returns = dcc_data$eps ) ",
      "execution_count": 174,
      "outputs": []
    },
    {
      "metadata": {
        "hidden": true
      },
      "cell_type": "markdown",
      "source": "Unpack the `matrix` elements of the `list` & create a `data.frame`"
    },
    {
      "metadata": {
        "hidden": true,
        "trusted": true
      },
      "cell_type": "code",
      "source": "dcc_results %>%\n    {data.frame(h_mkt = .$h[1], h_firm = .$h[2], corr = .$DCC[,2])} %>%\n     head",
      "execution_count": 180,
      "outputs": [
        {
          "data": {
            "text/html": "<table>\n<thead><tr><th scope=col>h_mkt</th><th scope=col>h_firm</th><th scope=col>corr</th></tr></thead>\n<tbody>\n\t<tr><td>0.08948357</td><td>0.06093694</td><td>0.09773793</td></tr>\n\t<tr><td>0.08948357</td><td>0.06093694</td><td>0.09773793</td></tr>\n\t<tr><td>0.08948357</td><td>0.06093694</td><td>0.09773795</td></tr>\n\t<tr><td>0.08948357</td><td>0.06093694</td><td>0.09773793</td></tr>\n\t<tr><td>0.08948357</td><td>0.06093694</td><td>0.09773791</td></tr>\n\t<tr><td>0.08948357</td><td>0.06093694</td><td>0.09773776</td></tr>\n</tbody>\n</table>\n",
            "text/latex": "\\begin{tabular}{r|lll}\n h\\_mkt & h\\_firm & corr\\\\\n\\hline\n\t 0.08948357 & 0.06093694 & 0.09773793\\\\\n\t 0.08948357 & 0.06093694 & 0.09773793\\\\\n\t 0.08948357 & 0.06093694 & 0.09773795\\\\\n\t 0.08948357 & 0.06093694 & 0.09773793\\\\\n\t 0.08948357 & 0.06093694 & 0.09773791\\\\\n\t 0.08948357 & 0.06093694 & 0.09773776\\\\\n\\end{tabular}\n",
            "text/markdown": "\nh_mkt | h_firm | corr | \n|---|---|---|---|---|---|\n| 0.08948357 | 0.06093694 | 0.09773793 | \n| 0.08948357 | 0.06093694 | 0.09773793 | \n| 0.08948357 | 0.06093694 | 0.09773795 | \n| 0.08948357 | 0.06093694 | 0.09773793 | \n| 0.08948357 | 0.06093694 | 0.09773791 | \n| 0.08948357 | 0.06093694 | 0.09773776 | \n\n\n",
            "text/plain": "  h_mkt      h_firm     corr      \n1 0.08948357 0.06093694 0.09773793\n2 0.08948357 0.06093694 0.09773793\n3 0.08948357 0.06093694 0.09773795\n4 0.08948357 0.06093694 0.09773793\n5 0.08948357 0.06093694 0.09773791\n6 0.08948357 0.06093694 0.09773776"
          },
          "metadata": {},
          "output_type": "display_data"
        }
      ]
    },
    {
      "metadata": {},
      "cell_type": "markdown",
      "source": "# Calling DCC-GARCH"
    },
    {
      "metadata": {},
      "cell_type": "markdown",
      "source": "### Overview of SRISK calculation"
    },
    {
      "metadata": {},
      "cell_type": "markdown",
      "source": "| Step | In   | Out   | Parameters   |  Notes |\n|------|------|------|---------------|\n|  ccgarch  | returns| h, DCC| NA     |     |\n|  MES  | h,DCC | MES,LRMES| Market shock (40%), Confidence level (95%)     |     |\n|  SRISK  | LRMES, Assets, Liabilities | SRISK| NA     |     |"
    },
    {
      "metadata": {
        "heading_collapsed": true
      },
      "cell_type": "markdown",
      "source": "### Universe & market index - RICs, names"
    },
    {
      "metadata": {
        "hidden": true,
        "init_cell": true,
        "trusted": true
      },
      "cell_type": "code",
      "source": "big5_rics = c(\"RY.TO\",\"TD.TO\",\"BNS.TO\",\"BMO.TO\",\"CM.TO\")\nbig5_names = c(\"Royal Bank of Canada\",\"Toronto-Dominion Bank\",\"Bank of Nova Scotia\",\n              \"Bank of Montreal\",\"Canadian Imperial Bank of Commerce\")\nmarket_ric = \".GSPTSE\"",
      "execution_count": 11,
      "outputs": []
    },
    {
      "metadata": {},
      "cell_type": "markdown",
      "source": "### Generating fictitious returns data"
    },
    {
      "metadata": {},
      "cell_type": "markdown",
      "source": "http://clayford.github.io/dwir/dwr_12_generating_data.html "
    },
    {
      "metadata": {
        "heading_collapsed": true
      },
      "cell_type": "markdown",
      "source": "#### Parameters"
    },
    {
      "metadata": {
        "hidden": true,
        "init_cell": true,
        "trusted": true
      },
      "cell_type": "code",
      "source": "dates3 <- as.Date(c(\"2018-03-01\", \"2018-03-02\", \"2018-03-03\"))\ndates50 <- seq(today()-ddays(50-1), today(), by='days')\nfirms5 <- c(\"A\",\"B\",\"C\",\"D\",\"E\")\nfields2 <-  paste(\"Field\",1:2,sep=\"\")",
      "execution_count": 12,
      "outputs": []
    },
    {
      "metadata": {
        "heading_collapsed": true
      },
      "cell_type": "markdown",
      "source": "#### `generate.data`   "
    },
    {
      "metadata": {
        "hidden": true
      },
      "cell_type": "markdown",
      "source": "The function `generate.data` generates random data with a pair of row indices: date & firm, & any number of fields in each column."
    },
    {
      "metadata": {
        "hidden": true,
        "init_cell": true,
        "trusted": true
      },
      "cell_type": "code",
      "source": "generate_data = function(firms,dates,fields) {\n    nfirms <- length(firms)\n    ndates <- length(dates)\n    nfields <- length(fields)\n    row_ids <- expand.grid(Date=dates,RIC=firms)[,c(\"RIC\",\"Date\")]\n    values <- data.frame(matrix(rnorm(nfirms * ndates * nfields),ncol=nfields))\n    colnames(values) <- fields\n    # row.names(row_ids) <- paste(row_ids$\"RIC\",row_ids$\"Date\", sep=\"/\") # See add_rownames_ric_date\n    return(cbind(row_ids,values))\n}",
      "execution_count": 13,
      "outputs": []
    },
    {
      "metadata": {
        "hidden": true,
        "init_cell": true,
        "trusted": true
      },
      "cell_type": "code",
      "source": "add_rownames_ric_date = function(df) {\n    row.names(df) <- paste(df$RIC,df$Date, sep=\"/\")\n    return(df)\n}",
      "execution_count": 14,
      "outputs": []
    },
    {
      "metadata": {
        "heading_collapsed": true
      },
      "cell_type": "markdown",
      "source": "#### Test it"
    },
    {
      "metadata": {
        "collapsed": true,
        "hidden": true,
        "trusted": true
      },
      "cell_type": "code",
      "source": "generate_data(firms5,dates3,fields2) %>% add_rownames_ric_date %>% head(5)",
      "execution_count": 188,
      "outputs": [
        {
          "data": {
            "text/html": "<table>\n<thead><tr><th></th><th scope=col>RIC</th><th scope=col>Date</th><th scope=col>Field1</th><th scope=col>Field2</th></tr></thead>\n<tbody>\n\t<tr><th scope=row>A/2018-03-01</th><td>A         </td><td>2018-03-01</td><td> 0.1571562</td><td> 0.9744708</td></tr>\n\t<tr><th scope=row>A/2018-03-02</th><td>A         </td><td>2018-03-02</td><td>-0.7067523</td><td>-0.2198407</td></tr>\n\t<tr><th scope=row>A/2018-03-03</th><td>A         </td><td>2018-03-03</td><td>-1.9192296</td><td>-0.9474985</td></tr>\n\t<tr><th scope=row>B/2018-03-01</th><td>B         </td><td>2018-03-01</td><td> 1.2384404</td><td> 0.3319440</td></tr>\n\t<tr><th scope=row>B/2018-03-02</th><td>B         </td><td>2018-03-02</td><td> 0.1974105</td><td>-0.5227953</td></tr>\n</tbody>\n</table>\n",
            "text/latex": "\\begin{tabular}{r|llll}\n  & RIC & Date & Field1 & Field2\\\\\n\\hline\n\tA/2018-03-01 & A          & 2018-03-01 &  0.1571562 &  0.9744708\\\\\n\tA/2018-03-02 & A          & 2018-03-02 & -0.7067523 & -0.2198407\\\\\n\tA/2018-03-03 & A          & 2018-03-03 & -1.9192296 & -0.9474985\\\\\n\tB/2018-03-01 & B          & 2018-03-01 &  1.2384404 &  0.3319440\\\\\n\tB/2018-03-02 & B          & 2018-03-02 &  0.1974105 & -0.5227953\\\\\n\\end{tabular}\n",
            "text/markdown": "\n| <!--/--> | RIC | Date | Field1 | Field2 | \n|---|---|---|---|---|\n| A/2018-03-01 | A          | 2018-03-01 |  0.1571562 |  0.9744708 | \n| A/2018-03-02 | A          | 2018-03-02 | -0.7067523 | -0.2198407 | \n| A/2018-03-03 | A          | 2018-03-03 | -1.9192296 | -0.9474985 | \n| B/2018-03-01 | B          | 2018-03-01 |  1.2384404 |  0.3319440 | \n| B/2018-03-02 | B          | 2018-03-02 |  0.1974105 | -0.5227953 | \n\n\n",
            "text/plain": "             RIC Date       Field1     Field2    \nA/2018-03-01 A   2018-03-01  0.1571562  0.9744708\nA/2018-03-02 A   2018-03-02 -0.7067523 -0.2198407\nA/2018-03-03 A   2018-03-03 -1.9192296 -0.9474985\nB/2018-03-01 B   2018-03-01  1.2384404  0.3319440\nB/2018-03-02 B   2018-03-02  0.1974105 -0.5227953"
          },
          "metadata": {},
          "output_type": "display_data"
        }
      ]
    },
    {
      "metadata": {
        "hidden": true,
        "init_cell": true,
        "trusted": true
      },
      "cell_type": "code",
      "source": "firm_data = generate_data(big5_rics,dates3,c(\"Return\",\"Debt\",\"Equity\"))\nmarket_data = generate_data(market_ric,dates3,c(\"Price\"))",
      "execution_count": 15,
      "outputs": []
    },
    {
      "metadata": {},
      "cell_type": "markdown",
      "source": "### Transforming series"
    },
    {
      "metadata": {
        "heading_collapsed": true
      },
      "cell_type": "markdown",
      "source": "#### Overview"
    },
    {
      "metadata": {
        "hidden": true
      },
      "cell_type": "markdown",
      "source": "* Create new fields / series from old using `mutate`  \n* Create new aggregate fields / series using `group_by` and `summarise`  \n* Alternative is to use `split` (to create a `list` of `data.frames`) and `map`"
    },
    {
      "metadata": {
        "heading_collapsed": true,
        "hidden": true
      },
      "cell_type": "markdown",
      "source": "##### Creating new fields using `mutate`"
    },
    {
      "metadata": {
        "hidden": true,
        "trusted": true
      },
      "cell_type": "code",
      "source": "f=function(x,y){return(x^2+exp(y))} # Elementwise operations on vectors.",
      "execution_count": 253,
      "outputs": []
    },
    {
      "metadata": {
        "hidden": true,
        "trusted": true
      },
      "cell_type": "code",
      "source": "firm_data %>% \n    mutate(\n        d2e = Debt / Equity, \n        cumsum_debt = cumsum(Debt), \n        dot_product = Debt %*% Equity,\n        fn_result = f(Debt,Equity)) %>%\n    add_rownames_ric_date %>%\n    head(5) ",
      "execution_count": 255,
      "outputs": [
        {
          "data": {
            "text/html": "<table>\n<thead><tr><th></th><th scope=col>RIC</th><th scope=col>Date</th><th scope=col>Return</th><th scope=col>Debt</th><th scope=col>Equity</th><th scope=col>d2e</th><th scope=col>cumsum_debt</th><th scope=col>dot_product</th><th scope=col>fn_result</th></tr></thead>\n<tbody>\n\t<tr><th scope=row>RY.TO/2018-03-01</th><td>RY.TO       </td><td>2018-03-01  </td><td>-0.9458976  </td><td>-0.6189730  </td><td>-0.18836422 </td><td>   3.2860433</td><td>-0.618973   </td><td>-4.506824   </td><td>1.2114405   </td></tr>\n\t<tr><th scope=row>RY.TO/2018-03-02</th><td>RY.TO       </td><td>2018-03-02  </td><td> 0.6132129  </td><td>-1.4864735  </td><td> 0.01217025 </td><td>-122.1399003</td><td>-2.105446   </td><td>-4.506824   </td><td>3.2218480   </td></tr>\n\t<tr><th scope=row>RY.TO/2018-03-03</th><td>RY.TO       </td><td>2018-03-03  </td><td> 0.6737050  </td><td>-0.1550855  </td><td>-1.17686898 </td><td>   0.1317781</td><td>-2.260532   </td><td>-4.506824   </td><td>0.3322939   </td></tr>\n\t<tr><th scope=row>TD.TO/2018-03-01</th><td>TD.TO       </td><td>2018-03-01  </td><td>-0.9730841  </td><td> 0.2733288  </td><td>-0.08121659 </td><td>  -3.3654307</td><td>-1.987203   </td><td>-4.506824   </td><td>0.9967026   </td></tr>\n\t<tr><th scope=row>TD.TO/2018-03-02</th><td>TD.TO       </td><td>2018-03-02  </td><td>-0.2943303  </td><td>-1.1159619  </td><td> 1.90865224 </td><td>  -0.5846858</td><td>-3.103165   </td><td>-4.506824   </td><td>7.9893643   </td></tr>\n</tbody>\n</table>\n",
            "text/latex": "\\begin{tabular}{r|lllllllll}\n  & RIC & Date & Return & Debt & Equity & d2e & cumsum\\_debt & dot\\_product & fn\\_result\\\\\n\\hline\n\tRY.TO/2018-03-01 & RY.TO        & 2018-03-01   & -0.9458976   & -0.6189730   & -0.18836422  &    3.2860433 & -0.618973    & -4.506824    & 1.2114405   \\\\\n\tRY.TO/2018-03-02 & RY.TO        & 2018-03-02   &  0.6132129   & -1.4864735   &  0.01217025  & -122.1399003 & -2.105446    & -4.506824    & 3.2218480   \\\\\n\tRY.TO/2018-03-03 & RY.TO        & 2018-03-03   &  0.6737050   & -0.1550855   & -1.17686898  &    0.1317781 & -2.260532    & -4.506824    & 0.3322939   \\\\\n\tTD.TO/2018-03-01 & TD.TO        & 2018-03-01   & -0.9730841   &  0.2733288   & -0.08121659  &   -3.3654307 & -1.987203    & -4.506824    & 0.9967026   \\\\\n\tTD.TO/2018-03-02 & TD.TO        & 2018-03-02   & -0.2943303   & -1.1159619   &  1.90865224  &   -0.5846858 & -3.103165    & -4.506824    & 7.9893643   \\\\\n\\end{tabular}\n",
            "text/markdown": "\n| <!--/--> | RIC | Date | Return | Debt | Equity | d2e | cumsum_debt | dot_product | fn_result | \n|---|---|---|---|---|\n| RY.TO/2018-03-01 | RY.TO        | 2018-03-01   | -0.9458976   | -0.6189730   | -0.18836422  |    3.2860433 | -0.618973    | -4.506824    | 1.2114405    | \n| RY.TO/2018-03-02 | RY.TO        | 2018-03-02   |  0.6132129   | -1.4864735   |  0.01217025  | -122.1399003 | -2.105446    | -4.506824    | 3.2218480    | \n| RY.TO/2018-03-03 | RY.TO        | 2018-03-03   |  0.6737050   | -0.1550855   | -1.17686898  |    0.1317781 | -2.260532    | -4.506824    | 0.3322939    | \n| TD.TO/2018-03-01 | TD.TO        | 2018-03-01   | -0.9730841   |  0.2733288   | -0.08121659  |   -3.3654307 | -1.987203    | -4.506824    | 0.9967026    | \n| TD.TO/2018-03-02 | TD.TO        | 2018-03-02   | -0.2943303   | -1.1159619   |  1.90865224  |   -0.5846858 | -3.103165    | -4.506824    | 7.9893643    | \n\n\n",
            "text/plain": "                 RIC   Date       Return     Debt       Equity     \nRY.TO/2018-03-01 RY.TO 2018-03-01 -0.9458976 -0.6189730 -0.18836422\nRY.TO/2018-03-02 RY.TO 2018-03-02  0.6132129 -1.4864735  0.01217025\nRY.TO/2018-03-03 RY.TO 2018-03-03  0.6737050 -0.1550855 -1.17686898\nTD.TO/2018-03-01 TD.TO 2018-03-01 -0.9730841  0.2733288 -0.08121659\nTD.TO/2018-03-02 TD.TO 2018-03-02 -0.2943303 -1.1159619  1.90865224\n                 d2e          cumsum_debt dot_product fn_result\nRY.TO/2018-03-01    3.2860433 -0.618973   -4.506824   1.2114405\nRY.TO/2018-03-02 -122.1399003 -2.105446   -4.506824   3.2218480\nRY.TO/2018-03-03    0.1317781 -2.260532   -4.506824   0.3322939\nTD.TO/2018-03-01   -3.3654307 -1.987203   -4.506824   0.9967026\nTD.TO/2018-03-02   -0.5846858 -3.103165   -4.506824   7.9893643"
          },
          "metadata": {},
          "output_type": "display_data"
        }
      ]
    },
    {
      "metadata": {},
      "cell_type": "markdown",
      "source": "#### Creating new aggregate fields using `group_by`, `do` & `summarise`"
    },
    {
      "metadata": {
        "heading_collapsed": true
      },
      "cell_type": "markdown",
      "source": "##### Using `group_by` and `do`"
    },
    {
      "metadata": {
        "hidden": true,
        "trusted": true
      },
      "cell_type": "code",
      "source": "firm_data %>% group_by(RIC) %>% do(head(.,1))",
      "execution_count": 97,
      "outputs": [
        {
          "data": {
            "text/html": "<table>\n<thead><tr><th scope=col>RIC</th><th scope=col>Date</th><th scope=col>Return</th><th scope=col>Debt</th><th scope=col>Equity</th></tr></thead>\n<tbody>\n\t<tr><td>RY.TO       </td><td>2018-03-01  </td><td> 0.5598490  </td><td> 0.9948460  </td><td> 0.138256382</td></tr>\n\t<tr><td>TD.TO       </td><td>2018-03-01  </td><td> 0.1393961  </td><td> 1.3550318  </td><td>-0.001701984</td></tr>\n\t<tr><td>BNS.TO      </td><td>2018-03-01  </td><td> 1.0825320  </td><td> 1.0663013  </td><td>-0.799954415</td></tr>\n\t<tr><td>BMO.TO      </td><td>2018-03-01  </td><td>-1.8760219  </td><td> 0.0297518  </td><td>-0.755924374</td></tr>\n\t<tr><td>CM.TO       </td><td>2018-03-01  </td><td> 0.4919617  </td><td>-0.9827256  </td><td> 1.548481889</td></tr>\n</tbody>\n</table>\n",
            "text/latex": "\\begin{tabular}{r|lllll}\n RIC & Date & Return & Debt & Equity\\\\\n\\hline\n\t RY.TO        & 2018-03-01   &  0.5598490   &  0.9948460   &  0.138256382\\\\\n\t TD.TO        & 2018-03-01   &  0.1393961   &  1.3550318   & -0.001701984\\\\\n\t BNS.TO       & 2018-03-01   &  1.0825320   &  1.0663013   & -0.799954415\\\\\n\t BMO.TO       & 2018-03-01   & -1.8760219   &  0.0297518   & -0.755924374\\\\\n\t CM.TO        & 2018-03-01   &  0.4919617   & -0.9827256   &  1.548481889\\\\\n\\end{tabular}\n",
            "text/markdown": "\nRIC | Date | Return | Debt | Equity | \n|---|---|---|---|---|\n| RY.TO        | 2018-03-01   |  0.5598490   |  0.9948460   |  0.138256382 | \n| TD.TO        | 2018-03-01   |  0.1393961   |  1.3550318   | -0.001701984 | \n| BNS.TO       | 2018-03-01   |  1.0825320   |  1.0663013   | -0.799954415 | \n| BMO.TO       | 2018-03-01   | -1.8760219   |  0.0297518   | -0.755924374 | \n| CM.TO        | 2018-03-01   |  0.4919617   | -0.9827256   |  1.548481889 | \n\n\n",
            "text/plain": "  RIC    Date       Return     Debt       Equity      \n1 RY.TO  2018-03-01  0.5598490  0.9948460  0.138256382\n2 TD.TO  2018-03-01  0.1393961  1.3550318 -0.001701984\n3 BNS.TO 2018-03-01  1.0825320  1.0663013 -0.799954415\n4 BMO.TO 2018-03-01 -1.8760219  0.0297518 -0.755924374\n5 CM.TO  2018-03-01  0.4919617 -0.9827256  1.548481889"
          },
          "metadata": {},
          "output_type": "display_data"
        }
      ]
    },
    {
      "metadata": {
        "hidden": true,
        "trusted": true
      },
      "cell_type": "code",
      "source": "firm_data %>% group_by(RIC) %>% do(new = .$Debt/.$Equity)",
      "execution_count": 99,
      "outputs": [
        {
          "data": {
            "text/html": "<table>\n<thead><tr><th scope=col>RIC</th><th scope=col>new</th></tr></thead>\n<tbody>\n\t<tr><td>RY.TO                           </td><td>7.1956606, 0.2021058, -0.3793467</td></tr>\n\t<tr><td>TD.TO                           </td><td>-796.148268, -1.528699, 6.578500</td></tr>\n\t<tr><td>BNS.TO                        </td><td>-1.332953, -1.971871, 2.016039</td></tr>\n\t<tr><td>BMO.TO                              </td><td>-0.03935817, 0.14923994, -1.06347798</td></tr>\n\t<tr><td>CM.TO                            </td><td>-0.6346381, 1.1187117, -0.3102249</td></tr>\n</tbody>\n</table>\n",
            "text/latex": "\\begin{tabular}{r|ll}\n RIC & new\\\\\n\\hline\n\t RY.TO                            & 7.1956606, 0.2021058, -0.3793467\\\\\n\t TD.TO                            & -796.148268, -1.528699, 6.578500\\\\\n\t BNS.TO                         & -1.332953, -1.971871, 2.016039\\\\\n\t BMO.TO                               & -0.03935817, 0.14923994, -1.06347798\\\\\n\t CM.TO                             & -0.6346381, 1.1187117, -0.3102249\\\\\n\\end{tabular}\n",
            "text/markdown": "\nRIC | new | \n|---|---|---|---|---|\n| RY.TO                            | 7.1956606, 0.2021058, -0.3793467 | \n| TD.TO                            | -796.148268, -1.528699, 6.578500 | \n| BNS.TO                         | -1.332953, -1.971871, 2.016039 | \n| BMO.TO                               | -0.03935817, 0.14923994, -1.06347798 | \n| CM.TO                             | -0.6346381, 1.1187117, -0.3102249 | \n\n\n",
            "text/plain": "  RIC    new                                 \n1 RY.TO  7.1956606, 0.2021058, -0.3793467    \n2 TD.TO  -796.148268, -1.528699, 6.578500    \n3 BNS.TO -1.332953, -1.971871, 2.016039      \n4 BMO.TO -0.03935817, 0.14923994, -1.06347798\n5 CM.TO  -0.6346381, 1.1187117, -0.3102249   "
          },
          "metadata": {},
          "output_type": "display_data"
        }
      ]
    },
    {
      "metadata": {
        "hidden": true
      },
      "cell_type": "markdown",
      "source": "https://www.r-bloggers.com/dplyr-do-some-tips-for-using-and-programming/"
    },
    {
      "metadata": {
        "hidden": true,
        "trusted": true
      },
      "cell_type": "code",
      "source": "my_fun <- function(x, y){\n  res_x = mean(x) + 2\n  res_y = mean(y) * 5 \n  return(data.frame(res_x, res_y))\n}",
      "execution_count": 102,
      "outputs": []
    },
    {
      "metadata": {
        "hidden": true,
        "trusted": true
      },
      "cell_type": "code",
      "source": "# Apply my_fun() function to ds by group\nfirm_data %>% group_by(RIC) %>% do(my_fun(.$Debt, .$Equity))",
      "execution_count": 106,
      "outputs": [
        {
          "data": {
            "text/html": "<table>\n<thead><tr><th scope=col>RIC</th><th scope=col>res_x</th><th scope=col>res_y</th></tr></thead>\n<tbody>\n\t<tr><td>RY.TO     </td><td>2.055879  </td><td> 1.5023396</td></tr>\n\t<tr><td>TD.TO     </td><td>2.685327  </td><td> 1.4187041</td></tr>\n\t<tr><td>BNS.TO    </td><td>2.370475  </td><td>-0.8308779</td></tr>\n\t<tr><td>BMO.TO    </td><td>2.119288  </td><td>-4.5232735</td></tr>\n\t<tr><td>CM.TO     </td><td>1.383114  </td><td> 3.3227209</td></tr>\n</tbody>\n</table>\n",
            "text/latex": "\\begin{tabular}{r|lll}\n RIC & res\\_x & res\\_y\\\\\n\\hline\n\t RY.TO      & 2.055879   &  1.5023396\\\\\n\t TD.TO      & 2.685327   &  1.4187041\\\\\n\t BNS.TO     & 2.370475   & -0.8308779\\\\\n\t BMO.TO     & 2.119288   & -4.5232735\\\\\n\t CM.TO      & 1.383114   &  3.3227209\\\\\n\\end{tabular}\n",
            "text/markdown": "\nRIC | res_x | res_y | \n|---|---|---|---|---|\n| RY.TO      | 2.055879   |  1.5023396 | \n| TD.TO      | 2.685327   |  1.4187041 | \n| BNS.TO     | 2.370475   | -0.8308779 | \n| BMO.TO     | 2.119288   | -4.5232735 | \n| CM.TO      | 1.383114   |  3.3227209 | \n\n\n",
            "text/plain": "  RIC    res_x    res_y     \n1 RY.TO  2.055879  1.5023396\n2 TD.TO  2.685327  1.4187041\n3 BNS.TO 2.370475 -0.8308779\n4 BMO.TO 2.119288 -4.5232735\n5 CM.TO  1.383114  3.3227209"
          },
          "metadata": {},
          "output_type": "display_data"
        }
      ]
    },
    {
      "metadata": {
        "heading_collapsed": true
      },
      "cell_type": "markdown",
      "source": "##### Using `group_by` and `summarise`"
    },
    {
      "metadata": {
        "hidden": true,
        "trusted": true
      },
      "cell_type": "code",
      "source": "firm_data %>%\n    group_by(RIC) %>%\n    summarise(avg_debt = mean(Debt), \n              min_equity = min(Equity),\n              dot_product = sum(Debt * Equity) ) %>%\n    left_join( firm_data, . , by = c(\"RIC\"=\"RIC\")) %>% # Merge with inputs\n    # left_join( firm.data %>% rownames_to_column('rownames'), . ) %>%\n    # column_to_rownames('rownames') %>%\n    head(5)",
      "execution_count": 17,
      "outputs": [
        {
          "data": {
            "text/html": "<table>\n<thead><tr><th scope=col>RIC</th><th scope=col>avg_debt</th><th scope=col>min_equity</th><th scope=col>dot_product</th></tr></thead>\n<tbody>\n\t<tr><td>RY.TO      </td><td> 0.8580499 </td><td>-0.47987191</td><td> 3.8731630 </td></tr>\n\t<tr><td>TD.TO      </td><td> 0.1990649 </td><td>-2.11770332</td><td>-0.2116659 </td></tr>\n\t<tr><td>BNS.TO     </td><td> 0.2217307 </td><td>-0.07531833</td><td>-0.5978766 </td></tr>\n\t<tr><td>BMO.TO     </td><td>-0.1442535 </td><td> 0.03197080</td><td>-0.5826413 </td></tr>\n\t<tr><td>CM.TO      </td><td>-0.8334507 </td><td>-2.32975937</td><td> 1.1116275 </td></tr>\n</tbody>\n</table>\n",
            "text/latex": "\\begin{tabular}{r|llll}\n RIC & avg\\_debt & min\\_equity & dot\\_product\\\\\n\\hline\n\t RY.TO       &  0.8580499  & -0.47987191 &  3.8731630 \\\\\n\t TD.TO       &  0.1990649  & -2.11770332 & -0.2116659 \\\\\n\t BNS.TO      &  0.2217307  & -0.07531833 & -0.5978766 \\\\\n\t BMO.TO      & -0.1442535  &  0.03197080 & -0.5826413 \\\\\n\t CM.TO       & -0.8334507  & -2.32975937 &  1.1116275 \\\\\n\\end{tabular}\n",
            "text/markdown": "\nRIC | avg_debt | min_equity | dot_product | \n|---|---|---|---|---|\n| RY.TO       |  0.8580499  | -0.47987191 |  3.8731630  | \n| TD.TO       |  0.1990649  | -2.11770332 | -0.2116659  | \n| BNS.TO      |  0.2217307  | -0.07531833 | -0.5978766  | \n| BMO.TO      | -0.1442535  |  0.03197080 | -0.5826413  | \n| CM.TO       | -0.8334507  | -2.32975937 |  1.1116275  | \n\n\n",
            "text/plain": "  RIC    avg_debt   min_equity  dot_product\n1 RY.TO   0.8580499 -0.47987191  3.8731630 \n2 TD.TO   0.1990649 -2.11770332 -0.2116659 \n3 BNS.TO  0.2217307 -0.07531833 -0.5978766 \n4 BMO.TO -0.1442535  0.03197080 -0.5826413 \n5 CM.TO  -0.8334507 -2.32975937  1.1116275 "
          },
          "metadata": {},
          "output_type": "display_data"
        }
      ]
    },
    {
      "metadata": {
        "heading_collapsed": true
      },
      "cell_type": "markdown",
      "source": "##### `group_by` & `summarize`"
    },
    {
      "metadata": {
        "hidden": true,
        "trusted": true
      },
      "cell_type": "code",
      "source": "returns_all[c(\"RIC\",\"ret_m\",\"ret_x\")] %>%\n    group_by(RIC) %>%\n    summarize(var_x = quantile(.$ret_m,0.1) )",
      "execution_count": 168,
      "outputs": [
        {
          "data": {
            "text/html": "<table>\n<thead><tr><th scope=col>RIC</th><th scope=col>var_x</th></tr></thead>\n<tbody>\n\t<tr><td>RY.TO     </td><td>-0.5894609</td></tr>\n\t<tr><td>TD.TO     </td><td>-0.5894609</td></tr>\n\t<tr><td>BNS.TO    </td><td>-0.5894609</td></tr>\n\t<tr><td>BMO.TO    </td><td>-0.5894609</td></tr>\n\t<tr><td>CM.TO     </td><td>-0.5894609</td></tr>\n</tbody>\n</table>\n",
            "text/latex": "\\begin{tabular}{r|ll}\n RIC & var\\_x\\\\\n\\hline\n\t RY.TO      & -0.5894609\\\\\n\t TD.TO      & -0.5894609\\\\\n\t BNS.TO     & -0.5894609\\\\\n\t BMO.TO     & -0.5894609\\\\\n\t CM.TO      & -0.5894609\\\\\n\\end{tabular}\n",
            "text/markdown": "\nRIC | var_x | \n|---|---|---|---|---|\n| RY.TO      | -0.5894609 | \n| TD.TO      | -0.5894609 | \n| BNS.TO     | -0.5894609 | \n| BMO.TO     | -0.5894609 | \n| CM.TO      | -0.5894609 | \n\n\n",
            "text/plain": "  RIC    var_x     \n1 RY.TO  -0.5894609\n2 TD.TO  -0.5894609\n3 BNS.TO -0.5894609\n4 BMO.TO -0.5894609\n5 CM.TO  -0.5894609"
          },
          "metadata": {},
          "output_type": "display_data"
        }
      ]
    },
    {
      "metadata": {
        "heading_collapsed": true
      },
      "cell_type": "markdown",
      "source": "#### Using `split` & `map` (from `purrr`)"
    },
    {
      "metadata": {
        "hidden": true
      },
      "cell_type": "markdown",
      "source": "This could be an alternative to using `group_by` & `summarize`.  \nThe idea is to `split` the data-frame into a `list` of data-frames, over which we can `map` a function. Tilde `~` is necessary for non-standard evaluation of functions. "
    },
    {
      "metadata": {
        "hidden": true,
        "trusted": true
      },
      "cell_type": "code",
      "source": "firm_data %>%\n    split(.$RIC)  %>%   # This yields a list of dfs; use ~ for non-standard evaluation\n    map(~left_join( ., market_data %>% select(-RIC) , by = c(\"Date\"=\"Date\"))) %>%\n    map(~mutate(.,new = Debt + Equity)) %>%\n    .[1:2]",
      "execution_count": 19,
      "outputs": [
        {
          "data": {
            "text/html": "<dl>\n\t<dt>$RY.TO</dt>\n\t\t<dd><table>\n<thead><tr><th scope=col>RIC</th><th scope=col>Date</th><th scope=col>Return</th><th scope=col>Debt</th><th scope=col>Equity</th><th scope=col>Price</th><th scope=col>new</th></tr></thead>\n<tbody>\n\t<tr><td>RY.TO      </td><td>2018-03-01 </td><td> 1.20034231</td><td>-0.9431565 </td><td>-0.4798719 </td><td>-0.9219300 </td><td>-1.423028  </td></tr>\n\t<tr><td>RY.TO      </td><td>2018-03-02 </td><td> 0.05597288</td><td> 1.4167669 </td><td> 0.1731779 </td><td> 0.3036474 </td><td> 1.589945  </td></tr>\n\t<tr><td>RY.TO      </td><td>2018-03-03 </td><td>-0.74644365</td><td> 2.1005394 </td><td> 1.5116193 </td><td> 0.6797938 </td><td> 3.612159  </td></tr>\n</tbody>\n</table>\n</dd>\n\t<dt>$TD.TO</dt>\n\t\t<dd><table>\n<thead><tr><th scope=col>RIC</th><th scope=col>Date</th><th scope=col>Return</th><th scope=col>Debt</th><th scope=col>Equity</th><th scope=col>Price</th><th scope=col>new</th></tr></thead>\n<tbody>\n\t<tr><td>TD.TO     </td><td>2018-03-01</td><td> 0.4934651</td><td> 0.4360902</td><td>-1.6811713</td><td>-0.9219300</td><td>-1.2450811</td></tr>\n\t<tr><td>TD.TO     </td><td>2018-03-02</td><td> 0.9282905</td><td>-0.1506060</td><td>-2.1177033</td><td> 0.3036474</td><td>-2.2683093</td></tr>\n\t<tr><td>TD.TO     </td><td>2018-03-03</td><td>-0.3876854</td><td> 0.3117105</td><td> 0.6497621</td><td> 0.6797938</td><td> 0.9614726</td></tr>\n</tbody>\n</table>\n</dd>\n</dl>\n",
            "text/latex": "\\begin{description}\n\\item[\\$RY.TO] \\begin{tabular}{r|lllllll}\n RIC & Date & Return & Debt & Equity & Price & new\\\\\n\\hline\n\t RY.TO       & 2018-03-01  &  1.20034231 & -0.9431565  & -0.4798719  & -0.9219300  & -1.423028  \\\\\n\t RY.TO       & 2018-03-02  &  0.05597288 &  1.4167669  &  0.1731779  &  0.3036474  &  1.589945  \\\\\n\t RY.TO       & 2018-03-03  & -0.74644365 &  2.1005394  &  1.5116193  &  0.6797938  &  3.612159  \\\\\n\\end{tabular}\n\n\\item[\\$TD.TO] \\begin{tabular}{r|lllllll}\n RIC & Date & Return & Debt & Equity & Price & new\\\\\n\\hline\n\t TD.TO      & 2018-03-01 &  0.4934651 &  0.4360902 & -1.6811713 & -0.9219300 & -1.2450811\\\\\n\t TD.TO      & 2018-03-02 &  0.9282905 & -0.1506060 & -2.1177033 &  0.3036474 & -2.2683093\\\\\n\t TD.TO      & 2018-03-03 & -0.3876854 &  0.3117105 &  0.6497621 &  0.6797938 &  0.9614726\\\\\n\\end{tabular}\n\n\\end{description}\n",
            "text/markdown": "$RY.TO\n:   \nRIC | Date | Return | Debt | Equity | Price | new | \n|---|---|---|\n| RY.TO       | 2018-03-01  |  1.20034231 | -0.9431565  | -0.4798719  | -0.9219300  | -1.423028   | \n| RY.TO       | 2018-03-02  |  0.05597288 |  1.4167669  |  0.1731779  |  0.3036474  |  1.589945   | \n| RY.TO       | 2018-03-03  | -0.74644365 |  2.1005394  |  1.5116193  |  0.6797938  |  3.612159   | \n\n\n\n$TD.TO\n:   \nRIC | Date | Return | Debt | Equity | Price | new | \n|---|---|---|\n| TD.TO      | 2018-03-01 |  0.4934651 |  0.4360902 | -1.6811713 | -0.9219300 | -1.2450811 | \n| TD.TO      | 2018-03-02 |  0.9282905 | -0.1506060 | -2.1177033 |  0.3036474 | -2.2683093 | \n| TD.TO      | 2018-03-03 | -0.3876854 |  0.3117105 |  0.6497621 |  0.6797938 |  0.9614726 | \n\n\n\n\n\n",
            "text/plain": "$RY.TO\n    RIC       Date      Return       Debt     Equity      Price       new\n1 RY.TO 2018-03-01  1.20034231 -0.9431565 -0.4798719 -0.9219300 -1.423028\n2 RY.TO 2018-03-02  0.05597288  1.4167669  0.1731779  0.3036474  1.589945\n3 RY.TO 2018-03-03 -0.74644365  2.1005394  1.5116193  0.6797938  3.612159\n\n$TD.TO\n    RIC       Date     Return       Debt     Equity      Price        new\n1 TD.TO 2018-03-01  0.4934651  0.4360902 -1.6811713 -0.9219300 -1.2450811\n2 TD.TO 2018-03-02  0.9282905 -0.1506060 -2.1177033  0.3036474 -2.2683093\n3 TD.TO 2018-03-03 -0.3876854  0.3117105  0.6497621  0.6797938  0.9614726\n"
          },
          "metadata": {},
          "output_type": "display_data"
        }
      ]
    },
    {
      "metadata": {
        "heading_collapsed": true
      },
      "cell_type": "markdown",
      "source": "### Tidyverse examples"
    },
    {
      "metadata": {
        "heading_collapsed": true,
        "hidden": true
      },
      "cell_type": "markdown",
      "source": "#### Testing `select` and `rename`"
    },
    {
      "metadata": {
        "hidden": true,
        "trusted": true
      },
      "cell_type": "code",
      "source": "market_data %>% select(!!c(\"Date\",\"Close price\"))",
      "execution_count": 50,
      "outputs": [
        {
          "data": {
            "text/html": "<table>\n<thead><tr><th scope=col>Date</th><th scope=col>Close price</th></tr></thead>\n<tbody>\n\t<tr><td>2018-03-01</td><td>-0.9781007</td></tr>\n\t<tr><td>2018-03-02</td><td>-1.0658338</td></tr>\n\t<tr><td>2018-03-03</td><td> 0.3797031</td></tr>\n</tbody>\n</table>\n",
            "text/latex": "\\begin{tabular}{r|ll}\n Date & Close price\\\\\n\\hline\n\t 2018-03-01 & -0.9781007\\\\\n\t 2018-03-02 & -1.0658338\\\\\n\t 2018-03-03 &  0.3797031\\\\\n\\end{tabular}\n",
            "text/markdown": "\nDate | Close price | \n|---|---|---|\n| 2018-03-01 | -0.9781007 | \n| 2018-03-02 | -1.0658338 | \n| 2018-03-03 |  0.3797031 | \n\n\n",
            "text/plain": "  Date       Close price\n1 2018-03-01 -0.9781007 \n2 2018-03-02 -1.0658338 \n3 2018-03-03  0.3797031 "
          },
          "metadata": {},
          "output_type": "display_data"
        }
      ]
    },
    {
      "metadata": {
        "hidden": true,
        "trusted": true
      },
      "cell_type": "code",
      "source": "market_data %>% select(-RIC)",
      "execution_count": 55,
      "outputs": [
        {
          "data": {
            "text/html": "<table>\n<thead><tr><th scope=col>Date</th><th scope=col>Close price</th></tr></thead>\n<tbody>\n\t<tr><td>2018-03-01</td><td>-0.9781007</td></tr>\n\t<tr><td>2018-03-02</td><td>-1.0658338</td></tr>\n\t<tr><td>2018-03-03</td><td> 0.3797031</td></tr>\n</tbody>\n</table>\n",
            "text/latex": "\\begin{tabular}{r|ll}\n Date & Close price\\\\\n\\hline\n\t 2018-03-01 & -0.9781007\\\\\n\t 2018-03-02 & -1.0658338\\\\\n\t 2018-03-03 &  0.3797031\\\\\n\\end{tabular}\n",
            "text/markdown": "\nDate | Close price | \n|---|---|---|\n| 2018-03-01 | -0.9781007 | \n| 2018-03-02 | -1.0658338 | \n| 2018-03-03 |  0.3797031 | \n\n\n",
            "text/plain": "  Date       Close price\n1 2018-03-01 -0.9781007 \n2 2018-03-02 -1.0658338 \n3 2018-03-03  0.3797031 "
          },
          "metadata": {},
          "output_type": "display_data"
        }
      ]
    },
    {
      "metadata": {
        "hidden": true,
        "trusted": true
      },
      "cell_type": "code",
      "source": "market_data %>% rename(Market = \"RIC\")",
      "execution_count": 56,
      "outputs": [
        {
          "data": {
            "text/html": "<table>\n<thead><tr><th scope=col>Market</th><th scope=col>Date</th><th scope=col>Close price</th></tr></thead>\n<tbody>\n\t<tr><td>.GSPTSE   </td><td>2018-03-01</td><td>-0.9781007</td></tr>\n\t<tr><td>.GSPTSE   </td><td>2018-03-02</td><td>-1.0658338</td></tr>\n\t<tr><td>.GSPTSE   </td><td>2018-03-03</td><td> 0.3797031</td></tr>\n</tbody>\n</table>\n",
            "text/latex": "\\begin{tabular}{r|lll}\n Market & Date & Close price\\\\\n\\hline\n\t .GSPTSE    & 2018-03-01 & -0.9781007\\\\\n\t .GSPTSE    & 2018-03-02 & -1.0658338\\\\\n\t .GSPTSE    & 2018-03-03 &  0.3797031\\\\\n\\end{tabular}\n",
            "text/markdown": "\nMarket | Date | Close price | \n|---|---|---|\n| .GSPTSE    | 2018-03-01 | -0.9781007 | \n| .GSPTSE    | 2018-03-02 | -1.0658338 | \n| .GSPTSE    | 2018-03-03 |  0.3797031 | \n\n\n",
            "text/plain": "  Market  Date       Close price\n1 .GSPTSE 2018-03-01 -0.9781007 \n2 .GSPTSE 2018-03-02 -1.0658338 \n3 .GSPTSE 2018-03-03  0.3797031 "
          },
          "metadata": {},
          "output_type": "display_data"
        }
      ]
    },
    {
      "metadata": {
        "heading_collapsed": true
      },
      "cell_type": "markdown",
      "source": "### Putting it all together"
    },
    {
      "metadata": {
        "hidden": true,
        "trusted": true
      },
      "cell_type": "code",
      "source": "firm_data %>%\n    left_join( (market_data %>% select(-RIC)), . , by = c(\"Date\"=\"Date\")) %>%\n    group_by(RIC) %>%\n    summarise(avg_debt = mean(Debt), \n              min_equity = min(Equity),\n              dot_product = sum(Price * Equity) ) %>%\n    left_join( firm_data, . , by = c(\"RIC\"=\"RIC\")) %>%  # Join with inputs\n    head(5)",
      "execution_count": 13,
      "outputs": [
        {
          "data": {
            "text/html": "<table>\n<thead><tr><th scope=col>RIC</th><th scope=col>Date</th><th scope=col>Return</th><th scope=col>Debt</th><th scope=col>Equity</th><th scope=col>avg_debt</th><th scope=col>min_equity</th><th scope=col>dot_product</th></tr></thead>\n<tbody>\n\t<tr><td>RY.TO     </td><td>2018-03-01</td><td> 1.0499078</td><td> 1.6019564</td><td> 0.5659224</td><td>-0.1412319</td><td>-0.5903469</td><td>-2.171131 </td></tr>\n\t<tr><td>RY.TO     </td><td>2018-03-02</td><td> 1.8156609</td><td>-1.3938039</td><td>-0.5903469</td><td>-0.1412319</td><td>-0.5903469</td><td>-2.171131 </td></tr>\n\t<tr><td>RY.TO     </td><td>2018-03-03</td><td>-0.8194842</td><td>-0.6318483</td><td> 2.1585673</td><td>-0.1412319</td><td>-0.5903469</td><td>-2.171131 </td></tr>\n\t<tr><td>TD.TO     </td><td>2018-03-01</td><td>-0.3877224</td><td>-0.9503588</td><td>-1.9986268</td><td> 1.1574392</td><td>-1.9986268</td><td> 2.017711 </td></tr>\n\t<tr><td>TD.TO     </td><td>2018-03-02</td><td>-1.1840824</td><td> 2.7635235</td><td>-1.3338509</td><td> 1.1574392</td><td>-1.9986268</td><td> 2.017711 </td></tr>\n</tbody>\n</table>\n",
            "text/latex": "\\begin{tabular}{r|llllllll}\n RIC & Date & Return & Debt & Equity & avg\\_debt & min\\_equity & dot\\_product\\\\\n\\hline\n\t RY.TO      & 2018-03-01 &  1.0499078 &  1.6019564 &  0.5659224 & -0.1412319 & -0.5903469 & -2.171131 \\\\\n\t RY.TO      & 2018-03-02 &  1.8156609 & -1.3938039 & -0.5903469 & -0.1412319 & -0.5903469 & -2.171131 \\\\\n\t RY.TO      & 2018-03-03 & -0.8194842 & -0.6318483 &  2.1585673 & -0.1412319 & -0.5903469 & -2.171131 \\\\\n\t TD.TO      & 2018-03-01 & -0.3877224 & -0.9503588 & -1.9986268 &  1.1574392 & -1.9986268 &  2.017711 \\\\\n\t TD.TO      & 2018-03-02 & -1.1840824 &  2.7635235 & -1.3338509 &  1.1574392 & -1.9986268 &  2.017711 \\\\\n\\end{tabular}\n",
            "text/markdown": "\nRIC | Date | Return | Debt | Equity | avg_debt | min_equity | dot_product | \n|---|---|---|---|---|\n| RY.TO      | 2018-03-01 |  1.0499078 |  1.6019564 |  0.5659224 | -0.1412319 | -0.5903469 | -2.171131  | \n| RY.TO      | 2018-03-02 |  1.8156609 | -1.3938039 | -0.5903469 | -0.1412319 | -0.5903469 | -2.171131  | \n| RY.TO      | 2018-03-03 | -0.8194842 | -0.6318483 |  2.1585673 | -0.1412319 | -0.5903469 | -2.171131  | \n| TD.TO      | 2018-03-01 | -0.3877224 | -0.9503588 | -1.9986268 |  1.1574392 | -1.9986268 |  2.017711  | \n| TD.TO      | 2018-03-02 | -1.1840824 |  2.7635235 | -1.3338509 |  1.1574392 | -1.9986268 |  2.017711  | \n\n\n",
            "text/plain": "  RIC   Date       Return     Debt       Equity     avg_debt   min_equity\n1 RY.TO 2018-03-01  1.0499078  1.6019564  0.5659224 -0.1412319 -0.5903469\n2 RY.TO 2018-03-02  1.8156609 -1.3938039 -0.5903469 -0.1412319 -0.5903469\n3 RY.TO 2018-03-03 -0.8194842 -0.6318483  2.1585673 -0.1412319 -0.5903469\n4 TD.TO 2018-03-01 -0.3877224 -0.9503588 -1.9986268  1.1574392 -1.9986268\n5 TD.TO 2018-03-02 -1.1840824  2.7635235 -1.3338509  1.1574392 -1.9986268\n  dot_product\n1 -2.171131  \n2 -2.171131  \n3 -2.171131  \n4  2.017711  \n5  2.017711  "
          },
          "metadata": {},
          "output_type": "display_data"
        }
      ]
    },
    {
      "metadata": {
        "heading_collapsed": true
      },
      "cell_type": "markdown",
      "source": "### Process firms with `do_firm`, combine with input df using `bind_cols`"
    },
    {
      "metadata": {
        "hidden": true
      },
      "cell_type": "markdown",
      "source": "In python pandas it is possible to have a function that accepts series, & returns series, some of which can be (the repeated values of) aggregate functions. The assumption is that the input series are already firm specific, so a call such as `x.sum()` will be summing over dates for a single firm. "
    },
    {
      "metadata": {
        "hidden": true
      },
      "cell_type": "markdown",
      "source": "In pandas the series conveniently retain their indices. The closest to an index in R is `row.names`, but \n* multi-index is not supported, so have to use `paste` to build a composite string!\n* these get lost under most `dplyr` operations, so row names have to be copied over to a temporary field & then copied back   \n\nAnother option is to ignore the RIC & Date indices & just work with bare series, & just rely on them staying present & in the same order."
    },
    {
      "metadata": {
        "hidden": true,
        "init_cell": true,
        "trusted": true
      },
      "cell_type": "code",
      "source": "# Create a dataframe of sample data with two fields\ndata_xy = generate_data(big5_rics,dates3,c(\"x\",\"y\")) ",
      "execution_count": 16,
      "outputs": []
    },
    {
      "metadata": {
        "hidden": true
      },
      "cell_type": "markdown",
      "source": "Would it better to have `do_firm` return a `data.frame` instead of `list`? Not much difference. The functions to `merge`/`cbind`/`bind_cols` are `list`/`data.frame` agnostic."
    },
    {
      "metadata": {
        "hidden": true,
        "init_cell": true,
        "trusted": true
      },
      "cell_type": "code",
      "source": "do_firm <- function(x,y){\n    #Function of multiple numeric vectors. Returns list (~dict) of series. No aggregate functions.\n    return(list(u = x, v = y))}",
      "execution_count": 17,
      "outputs": []
    },
    {
      "metadata": {
        "hidden": true
      },
      "cell_type": "markdown",
      "source": "This function creates a pair of completely random vectors of the same length as the inputs. (Just to check that the operations are not done row-wise.)"
    },
    {
      "metadata": {
        "hidden": true,
        "init_cell": true,
        "trusted": true
      },
      "cell_type": "code",
      "source": "do_firm_rnd <- function(x,y){\n    # Return 2 random vectors: u,v\n    return(length(x) %>%\n            {matrix(rnorm(. * 2),ncol=2)} %>%\n            data_frame %>%\n            rename(u=X1,v=X2)\n          )}   ",
      "execution_count": 18,
      "outputs": []
    },
    {
      "metadata": {
        "hidden": true
      },
      "cell_type": "markdown",
      "source": "Can `merge` `data.frame`s with `list`s??!"
    },
    {
      "metadata": {
        "hidden": true,
        "trusted": true
      },
      "cell_type": "code",
      "source": "data_xy %>% \n    {do_firm(.$x, .$y)} %>% \n    bind_cols( data_xy, . ) %>%\n    head",
      "execution_count": 290,
      "outputs": [
        {
          "data": {
            "text/html": "<table>\n<thead><tr><th scope=col>RIC</th><th scope=col>Date</th><th scope=col>x</th><th scope=col>y</th><th scope=col>u</th><th scope=col>v</th></tr></thead>\n<tbody>\n\t<tr><td>RY.TO       </td><td>2018-03-01  </td><td> 0.008667789</td><td> 0.7217674  </td><td> 0.008667789</td><td> 0.7217674  </td></tr>\n\t<tr><td>RY.TO       </td><td>2018-03-02  </td><td>-0.385569363</td><td> 0.2137734  </td><td>-0.385569363</td><td> 0.2137734  </td></tr>\n\t<tr><td>RY.TO       </td><td>2018-03-03  </td><td> 2.589840823</td><td>-1.4053111  </td><td> 2.589840823</td><td>-1.4053111  </td></tr>\n\t<tr><td>TD.TO       </td><td>2018-03-01  </td><td> 0.446101201</td><td>-0.6425107  </td><td> 0.446101201</td><td>-0.6425107  </td></tr>\n\t<tr><td>TD.TO       </td><td>2018-03-02  </td><td>-1.199868225</td><td> 0.5515122  </td><td>-1.199868225</td><td> 0.5515122  </td></tr>\n\t<tr><td>TD.TO       </td><td>2018-03-03  </td><td> 0.820693460</td><td>-0.8019894  </td><td> 0.820693460</td><td>-0.8019894  </td></tr>\n</tbody>\n</table>\n",
            "text/latex": "\\begin{tabular}{r|llllll}\n RIC & Date & x & y & u & v\\\\\n\\hline\n\t RY.TO        & 2018-03-01   &  0.008667789 &  0.7217674   &  0.008667789 &  0.7217674  \\\\\n\t RY.TO        & 2018-03-02   & -0.385569363 &  0.2137734   & -0.385569363 &  0.2137734  \\\\\n\t RY.TO        & 2018-03-03   &  2.589840823 & -1.4053111   &  2.589840823 & -1.4053111  \\\\\n\t TD.TO        & 2018-03-01   &  0.446101201 & -0.6425107   &  0.446101201 & -0.6425107  \\\\\n\t TD.TO        & 2018-03-02   & -1.199868225 &  0.5515122   & -1.199868225 &  0.5515122  \\\\\n\t TD.TO        & 2018-03-03   &  0.820693460 & -0.8019894   &  0.820693460 & -0.8019894  \\\\\n\\end{tabular}\n",
            "text/markdown": "\nRIC | Date | x | y | u | v | \n|---|---|---|---|---|---|\n| RY.TO        | 2018-03-01   |  0.008667789 |  0.7217674   |  0.008667789 |  0.7217674   | \n| RY.TO        | 2018-03-02   | -0.385569363 |  0.2137734   | -0.385569363 |  0.2137734   | \n| RY.TO        | 2018-03-03   |  2.589840823 | -1.4053111   |  2.589840823 | -1.4053111   | \n| TD.TO        | 2018-03-01   |  0.446101201 | -0.6425107   |  0.446101201 | -0.6425107   | \n| TD.TO        | 2018-03-02   | -1.199868225 |  0.5515122   | -1.199868225 |  0.5515122   | \n| TD.TO        | 2018-03-03   |  0.820693460 | -0.8019894   |  0.820693460 | -0.8019894   | \n\n\n",
            "text/plain": "  RIC   Date       x            y          u            v         \n1 RY.TO 2018-03-01  0.008667789  0.7217674  0.008667789  0.7217674\n2 RY.TO 2018-03-02 -0.385569363  0.2137734 -0.385569363  0.2137734\n3 RY.TO 2018-03-03  2.589840823 -1.4053111  2.589840823 -1.4053111\n4 TD.TO 2018-03-01  0.446101201 -0.6425107  0.446101201 -0.6425107\n5 TD.TO 2018-03-02 -1.199868225  0.5515122 -1.199868225  0.5515122\n6 TD.TO 2018-03-03  0.820693460 -0.8019894  0.820693460 -0.8019894"
          },
          "metadata": {},
          "output_type": "display_data"
        }
      ]
    },
    {
      "metadata": {},
      "cell_type": "markdown",
      "source": "# MES & SRISK for systemic risk"
    },
    {
      "metadata": {},
      "cell_type": "markdown",
      "source": "https://vlab.stern.nyu.edu/analysis/RISK.USFIN-MR.MES  "
    },
    {
      "metadata": {
        "heading_collapsed": true
      },
      "cell_type": "markdown",
      "source": "## Benoit Sylvain - Comparison of measures  - Matlab / Octave "
    },
    {
      "metadata": {
        "hidden": true
      },
      "cell_type": "markdown",
      "source": "http://www.runmycode.org/companion/view/175  \nhttps://papers.ssrn.com/sol3/papers.cfm?abstract_id=1973950  "
    },
    {
      "metadata": {
        "heading_collapsed": true,
        "hidden": true
      },
      "cell_type": "markdown",
      "source": "### `call_fct`"
    },
    {
      "metadata": {
        "hidden": true,
        "trusted": true
      },
      "cell_type": "code",
      "source": "# % Returns for the market index & the given asset\ndata = [index asset];\ndata = data(~isnan(data(:,2).*data(:,1)),:); #% select only elements which are not NaN\ndata_center = data - ones(size(data,1),1)*mean(data); #%demeaned returns\n\n# %% GJR-GARCH and DCC\n[parameters, loglikelihood, Ht, Rt, Qt, stdresid, likelihoods, stderrors, A,B, jointscores, H]\n    =dcc_mvgarch(data_center,1,1,1,1);\nht_m=sqrt(H(:,1)); #%market conditional volatility\nht_i=sqrt(H(:,2)); #%asset conditional volatility\nrho=squeeze(Rt(1,2,:)); #%conditional correlation\nc = quantile(data_center(:,1),alpha); # % HS VaR (nonparametric), it's our systemic event, it's a scalar here\nMES = - fct_MES(data_center,c,ht_m,ht_i,rho);\nLRMES = (1-exp(-18.*MES)); # %without simulation\nSRISK = k.*LTQ - (1-k).*(1-LRMES).*MV;",
      "execution_count": null,
      "outputs": []
    },
    {
      "metadata": {
        "heading_collapsed": true,
        "hidden": true
      },
      "cell_type": "markdown",
      "source": "### `dcc_mvgarch`"
    },
    {
      "metadata": {
        "hidden": true
      },
      "cell_type": "markdown",
      "source": "#### Purpose:"
    },
    {
      "metadata": {
        "hidden": true
      },
      "cell_type": "markdown",
      "source": "Estimates a multivariate GARCH model using the DCC estimator of Engle and Sheppard"
    },
    {
      "metadata": {
        "hidden": true
      },
      "cell_type": "markdown",
      "source": "#### Usage:"
    },
    {
      "metadata": {
        "hidden": true,
        "trusted": true
      },
      "cell_type": "code",
      "source": "[parameters, loglikelihood, Ht, Rt, Qt, likelihoods, stdresid, stderrors, A,B, jointscores] \n    = dcc_mvgarch(data,dccQ,dccP,archQ,garchP)",
      "execution_count": null,
      "outputs": []
    },
    {
      "metadata": {
        "heading_collapsed": true,
        "hidden": true
      },
      "cell_type": "markdown",
      "source": "#### Inputs:"
    },
    {
      "metadata": {
        "hidden": true
      },
      "cell_type": "markdown",
      "source": "`data          = A zero mean t by k (asset number) vector of residuals from some filtration [t by k]\ndccQ          = The lag length of the innovation term in the DCC estimator (a scalar)\ndccP          = The lag length of the lagged correlation matrices in the DCC estimator (a scalar)\narchQ         = One of two things:     A scalar, q     in which case a p innovation model is estimated for each series\n                                       A k by 1 vector in which case the ith series has innovation terms p=archP(i)\ngarchP        = One of two things:     A scalar, p     in which case a q GARCH lags is used in estimation for each series\n                                       A k by 1 vector in which case the ith series has lagged variance terms q=archQ(i)`"
    },
    {
      "metadata": {
        "hidden": true
      },
      "cell_type": "markdown",
      "source": "#### Outputs:"
    },
    {
      "metadata": {
        "hidden": true
      },
      "cell_type": "markdown",
      "source": "`parameters    = A vector of parameters estimated from the model of the form    \n                    [GarchParams(1) GarchParams(2) ... GarchParams(k) DCCParams]    \n                    where the Garch Parameters from each estimation are of the form    \n                    [omega(i) alpha(i1) alpha(i2) ... alpha(ip(i)) beta(i1) beta(i2) ... beta(iq(i))]    \nloglikelihood = The log likelihood evaluated at the optimum    \nHt            = A k by k by t array of conditional variances    \nRt            = A k by k by t array of Rt elements    \nQt            = A k by k by t array of Qt elements   \nstdresid      = A [t by k] matrix of standardized residuals   \nlikelihoods   = the estimated likelihoods t by 1   \nstderrors     = A length(parameters)^2 matrix of estimated correct standard errors   \nA             = The estimated A from the robust standard errors    \nB             = The estimated B from the standard errors   \njointscores   = The estimated scores of the likelihood t by length(parameters)   \nH             = Conditional Volatility univariate   `"
    },
    {
      "metadata": {
        "heading_collapsed": true,
        "hidden": true
      },
      "cell_type": "markdown",
      "source": "### `fct_MES`"
    },
    {
      "metadata": {
        "hidden": true,
        "trusted": true
      },
      "cell_type": "code",
      "source": "function [MES] = fct_MES(data,c,ht_m,ht_i,rho)\n    em=(data(:,1))./ht_m; %market first column\n    xi=((data(:,2)./ht_i)-rho.*em)./ sqrt(1-rho.^2); %asset second column\n    bwd=1*(size(data,1)^(-0.2)); # Scaillet's bwd p21, I put 1 instead of the standard deviation because our shocks are iid with unit variance\n    K1=sum(em.*(normcdf(((c./ht_m)-em)./bwd)))./(sum(normcdf(((c./ht_m)-em)./bwd)));\n    K2=sum(xi.*(normcdf(((c./ht_m)-em)./bwd)))./(sum(normcdf(((c./ht_m)-em)./bwd)));\n    MES = (ht_i.*rho.*K1) + (ht_i.*sqrt(1-rho.^2).*K2);",
      "execution_count": null,
      "outputs": []
    },
    {
      "metadata": {},
      "cell_type": "markdown",
      "source": "## `TommasoBelluzzo/SystemicRisk` - Matlab / Octave"
    },
    {
      "metadata": {},
      "cell_type": "markdown",
      "source": "This code uses the Glosten-Jagannathan-Runkle (GJR) DCC Model   \nhttps://vlab.stern.nyu.edu/doc/3?topic=mdls  \nhttps://vlab.stern.nyu.edu/doc/14?topic=mdls  "
    },
    {
      "metadata": {},
      "cell_type": "markdown",
      "source": "### `main_pro.m`"
    },
    {
      "metadata": {},
      "cell_type": "markdown",
      "source": "https://github.com/TommasoBelluzzo/SystemicRisk/blob/master/ScriptsProbabilistic/main_pro.m    "
    },
    {
      "metadata": {
        "trusted": true
      },
      "cell_type": "code",
      "source": "#% Supply 2 series of returns (with means subtracted)\n[p,s] = dcc_gjrgarch([ret0_m ret0_x]);\n#% p       = An n-by-n-by-t matrix of floats containing the DCC coefficients.\n#% s       = A t-by-n matrix of floats containing the conditional variances.\ns_m = sqrt(s(:,1));\ns_x = sqrt(s(:,2));\np_mx = squeeze(p(1,2,:)); #% Pull out the off-diagonal correlation (between market & firm)\n\nbeta_x = p_mx .* (s_x ./ s_m);\nvar_x = s_x * quantile((ret0_x ./ s_x),data.A); #% Find the VaR of the firm? NOT USED!\n\n[mes,lrmes] = calculate_mes(ret0_m,s_m,ret0_x,s_x,beta_x,p_mx,data.A,data.D); #% Hopefully R package ccgarch can do this step?\nsrisk = calculate_srisk(lrmes,data.FrmsLia(:,i),data.FrmsCap(:,i),data.L); #% SRISK needs the (LR)MES + balance sheet data + crash level (e.g. 40%)",
      "execution_count": null,
      "outputs": []
    },
    {
      "metadata": {},
      "cell_type": "markdown",
      "source": "### `calculate_mes_internal`"
    },
    {
      "metadata": {},
      "cell_type": "markdown",
      "source": "https://github.com/TommasoBelluzzo/SystemicRisk/blob/master/ScriptsProbabilistic/calculate_mes.m"
    },
    {
      "metadata": {
        "trusted": true
      },
      "cell_type": "code",
      "source": "function [mes,lrmes] = calculate_mes_internal(ret0_m,s_m,ret0_x,s_x,beta_x,p_mx,a,d)\n    c = quantile(ret0_m,a);\n    h = 1 * (length(ret0_m) ^ (-0.2));\n    u = ret0_m ./ s_m;\n    x_den = sqrt(1 - (p_mx .^ 2));\n    x_num = (ret0_x ./ s_x) - (p_mx .* u);\n    x = x_num ./ x_den;\n    f = normcdf(((c ./ s_m) - u) ./ h);\n    k1 = sum(u .* f) ./ sum(f);\n    k2 = sum(x .* f) ./ sum(f);\n    mes = (s_x .* p_mx .* k1) + (s_x .* x_den .* k2);\n    lrmes = 1 - exp(log(1 - d) .* beta_x);",
      "execution_count": null,
      "outputs": []
    },
    {
      "metadata": {},
      "cell_type": "markdown",
      "source": "### `calculate_srisk_internal` \nhttps://github.com/TommasoBelluzzo/SystemicRisk/blob/master/ScriptsProbabilistic/calculate_srisk.m  "
    },
    {
      "metadata": {
        "trusted": true
      },
      "cell_type": "code",
      "source": "function srisk = calculate_srisk_internal(lrmes,tl_x,mc_x,l)\n    srisk = (l .* tl_x) - ((1 - l) .* (1 - lrmes) .* mc_x);\n    srisk(srisk < 0) = 0;",
      "execution_count": null,
      "outputs": []
    },
    {
      "metadata": {},
      "cell_type": "markdown",
      "source": "### `dcc_gjrgarch`"
    },
    {
      "metadata": {
        "heading_collapsed": true
      },
      "cell_type": "markdown",
      "source": "#### Inputs"
    },
    {
      "metadata": {
        "hidden": true,
        "trusted": true
      },
      "cell_type": "code",
      "source": "data    = A numeric t-by-n matrix containing the input data.\ndcc_q   = An integer representing the lag of the innovation term in the DCC estimator (optional, default=1).  \ndcc_p   = An integer representing the lag of the lagged correlation matrices in the DCC estimator (optional, default=1). \narch_q  = Optional argument (default=1) with two possible types:\n           - An integer representing the lag of the innovation terms in the ARCH estimator. \n           - A vector of integers, of length n, containing the lag of each innovation term in the ARCH estimator.   \ngarch_p = Optional argument (default=1) with two possible types:\n           - An integer representing the lag of the innovation terms in the GARCH estimator.\n           - A vector of integers, of length n, containing the lag of each innovation term in the GARCH estimator ",
      "execution_count": null,
      "outputs": []
    },
    {
      "metadata": {
        "heading_collapsed": true
      },
      "cell_type": "markdown",
      "source": "#### Outputs"
    },
    {
      "metadata": {
        "hidden": true
      },
      "cell_type": "markdown",
      "source": "`p       = An n-by-n-by-t matrix of floats containing the DCC coefficients.\ns       = A t-by-n matrix of floats containing the conditional variances.`"
    }
  ],
  "metadata": {
    "celltoolbar": "Initialization Cell",
    "kernelspec": {
      "name": "r",
      "display_name": "R",
      "language": "R"
    },
    "language_info": {
      "mimetype": "text/x-r-source",
      "name": "R",
      "pygments_lexer": "r",
      "version": "3.4.1",
      "file_extension": ".r",
      "codemirror_mode": "r"
    },
    "toc": {
      "nav_menu": {},
      "number_sections": true,
      "sideBar": true,
      "skip_h1_title": false,
      "toc_cell": false,
      "toc_position": {},
      "toc_section_display": "block",
      "toc_window_display": false
    }
  },
  "nbformat": 4,
  "nbformat_minor": 2
}