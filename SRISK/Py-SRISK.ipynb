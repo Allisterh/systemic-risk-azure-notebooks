{
  "cells": [
    {
      "metadata": {
        "collapsed": true
      },
      "cell_type": "markdown",
      "source": "# SRISK - python"
    },
    {
      "metadata": {},
      "cell_type": "markdown",
      "source": "#### Goals"
    },
    {
      "metadata": {},
      "cell_type": "markdown",
      "source": "The python modules & parameters for the SRISK Azure Machine Learning Studio (AMLS) experiment to calculate the SRISK systemic risk measure. "
    },
    {
      "metadata": {},
      "cell_type": "markdown",
      "source": "Currently, the core of the SRISK model, the DCC-GARCH model, is implemented in R only (using the `ccgarch` package). The easier parts of the calculation, namely MES & SRISK are implemented below (translated from Matlab). The original intention was to connect the R & python parts using Azure ML Studio, or [`rpy2`](https://rpy2.github.io/doc/latest/html/introduction.html#), `reticulate` etc."
    },
    {
      "metadata": {},
      "cell_type": "markdown",
      "source": "https://github.com/TommasoBelluzzo/SystemicRisk/blob/master/ScriptsProbabilistic/calculate_mes.m \nhttps://github.com/TommasoBelluzzo/SystemicRisk/blob/master/ScriptsProbabilistic/calculate_srisk.m\nhttps://github.com/TommasoBelluzzo/SystemicRisk/blob/master/ScriptsProbabilistic/main_pro.m  (see `main_pro_internal`)"
    },
    {
      "metadata": {},
      "cell_type": "markdown",
      "source": "#### Hosting on Azure"
    },
    {
      "metadata": {},
      "cell_type": "markdown",
      "source": "This notebook can be [hosted on Azure](https://notebooks.azure.com/). It is necessary to sign in to Microsoft (perhaps using a (free) Hotmail or Outlook account), & to clone the notebook, in order to run it. Or it can be run locally or on another Jupyter notebook hosting service."
    },
    {
      "metadata": {},
      "cell_type": "markdown",
      "source": "Notebooks using multi-index pandas dataframes do not render properly in preview mode on Azure."
    },
    {
      "metadata": {},
      "cell_type": "markdown",
      "source": "##### Sources for Matlab code"
    },
    {
      "metadata": {},
      "cell_type": "markdown",
      "source": "Belluzzo, Tommaso. SystemicRisk: A Framework for Systemic Risk Valuation and Analysis. Matlab, 2018. https://github.com/TommasoBelluzzo/SystemicRisk.  \nBisias, Dimitrios, Mark D. Flood, Andrew W. Lo, and Stavros Valavanis. A Survey of Systemic Risk Analytics. Matlab, 2012. https://financialresearch.gov/working-papers/files/OFRwp0001_BisiasFloodLoValavanis_MatlabCode-v0_3.zip.\n———. “A Survey of Systemic Risk Analytics.” SSRN Scholarly Paper. Rochester, NY: Social Science Research Network, January 11, 2012. http://papers.ssrn.com/abstract=2747882.  \nDube, Qobolwakhe. SA-Systemic-Risk: Systemic Risk Ranking of South Africa’s Financial Institutions. Matlab, 2017. https://github.com/qobolwakhe/SA-systemic-risk.  \nPerignon, Christophe, Sylvain Benoit, Christophe Hurlin, and Gilbert Colletaz. Run My Code - A Theoretical and Empirical Comparison of Systemic Risk Measures. Accessed July 11, 2016. http://www.runmycode.org/companion/view/175.  \nV-Lab Stern NYU. “GARCH-DCC Documentation.” V-Lab. Accessed May 8, 2018. https://vlab.stern.nyu.edu/doc/13?topic=mdls.  "
    },
    {
      "metadata": {},
      "cell_type": "markdown",
      "source": "## Libraries"
    },
    {
      "metadata": {
        "init_cell": true,
        "trusted": true
      },
      "cell_type": "code",
      "source": "import datetime\nimport pandas as pd\nimport numpy as np",
      "execution_count": 1,
      "outputs": []
    },
    {
      "metadata": {
        "heading_collapsed": true
      },
      "cell_type": "markdown",
      "source": "## `generate_data`"
    },
    {
      "metadata": {
        "hidden": true
      },
      "cell_type": "markdown",
      "source": "### Some string lists for sample data generation"
    },
    {
      "metadata": {
        "hidden": true,
        "init_cell": true,
        "trusted": true
      },
      "cell_type": "code",
      "source": "firms = [\"RY.TO\",\"TD.TO\",\"BNS.TO\",\"BMO.TO\",\"CM.TO\"]\ndates = [\"2018-03-01\", \"2018-03-02\", \"2018-03-03\"]\nfields = [\"Field1\",\"Field2\",\"Field3\"]\n[nfirms,ndates,nfields] = [len(z) for z in [firms,dates,fields]]\ndates2 = [d.date() for d in pd.to_datetime(dates)] # Convert\ndates3 = pd.date_range('2018-03-01', periods=3)   # Pandas date_range",
      "execution_count": 2,
      "outputs": []
    },
    {
      "metadata": {
        "hidden": true
      },
      "cell_type": "markdown",
      "source": "### `generate_data`"
    },
    {
      "metadata": {
        "hidden": true,
        "init_cell": true,
        "trusted": true
      },
      "cell_type": "code",
      "source": "def generate_data(firms,dates,fields):\n    [nfirms,ndates,nfields] = [len(z) for z in [firms,dates,fields]]\n    dates2 = [d.date() for d in pd.to_datetime(dates)]  # Convert strings to datetimes\n    firm_date_index = pd.MultiIndex.from_product([firms, dates2], names=['Firm', 'Date'])\n    df = pd.DataFrame( np.random.randn(ndates * nfirms, nfields), index = firm_date_index, columns=fields)\n    return(df)",
      "execution_count": 3,
      "outputs": []
    },
    {
      "metadata": {
        "hidden": true,
        "trusted": true
      },
      "cell_type": "code",
      "source": "sample_data = generate_data(firms,dates,fields)",
      "execution_count": null,
      "outputs": []
    },
    {
      "metadata": {
        "heading_collapsed": true,
        "hidden": true
      },
      "cell_type": "markdown",
      "source": "### Manipulate dataframe with multi-index using `index`, `.loc`, `unstack`"
    },
    {
      "metadata": {
        "hidden": true
      },
      "cell_type": "markdown",
      "source": "Experiments extracting MultiIndex info from a dataframe"
    },
    {
      "metadata": {
        "heading_collapsed": true,
        "hidden": true
      },
      "cell_type": "markdown",
      "source": "#### `.index`"
    },
    {
      "metadata": {
        "hidden": true,
        "trusted": true
      },
      "cell_type": "code",
      "source": "sample_data.index",
      "execution_count": 11,
      "outputs": [
        {
          "data": {
            "text/plain": "MultiIndex(levels=[['BMO.TO', 'BNS.TO', 'CM.TO', 'RY.TO', 'TD.TO'], [2018-03-01 00:00:00, 2018-03-02 00:00:00, 2018-03-03 00:00:00]],\n           labels=[[3, 3, 3, 4, 4, 4, 1, 1, 1, 0, 0, 0, 2, 2, 2], [0, 1, 2, 0, 1, 2, 0, 1, 2, 0, 1, 2, 0, 1, 2]],\n           names=['Firm', 'Date'])"
          },
          "execution_count": 11,
          "metadata": {},
          "output_type": "execute_result"
        }
      ]
    },
    {
      "metadata": {
        "heading_collapsed": true,
        "hidden": true
      },
      "cell_type": "markdown",
      "source": "#### `.index.levels[0].values`"
    },
    {
      "metadata": {
        "hidden": true,
        "trusted": true
      },
      "cell_type": "code",
      "source": "sample_data.index.levels[0].values",
      "execution_count": 13,
      "outputs": [
        {
          "data": {
            "text/plain": "array(['BMO.TO', 'BNS.TO', 'CM.TO', 'RY.TO', 'TD.TO'], dtype=object)"
          },
          "execution_count": 13,
          "metadata": {},
          "output_type": "execute_result"
        }
      ]
    },
    {
      "metadata": {
        "heading_collapsed": true,
        "hidden": true
      },
      "cell_type": "markdown",
      "source": "#### `.loc[]` for selecting rows, `[]` for selecting columns"
    },
    {
      "metadata": {
        "hidden": true,
        "trusted": true
      },
      "cell_type": "code",
      "source": "sample_data.loc['BMO.TO']['Field1']",
      "execution_count": 90,
      "outputs": [
        {
          "data": {
            "text/plain": "Date\n2018-03-01    0.972150\n2018-03-02   -0.288688\n2018-03-03    0.825964\nName: Field1, dtype: float64"
          },
          "execution_count": 90,
          "metadata": {},
          "output_type": "execute_result"
        }
      ]
    },
    {
      "metadata": {
        "heading_collapsed": true,
        "hidden": true
      },
      "cell_type": "markdown",
      "source": "#### Splitting dataframe into a list of individual records."
    },
    {
      "metadata": {
        "hidden": true,
        "trusted": true
      },
      "cell_type": "code",
      "source": "[sample_data.loc[[i]] for i in sample_data.index][:2]",
      "execution_count": 14,
      "outputs": [
        {
          "data": {
            "text/plain": "[                    Field1    Field2   Field3\n Firm  Date                                   \n RY.TO 2018-03-01 -0.510618  0.360086 -0.41942,\n                     Field1   Field2    Field3\n Firm  Date                                   \n RY.TO 2018-03-02 -0.838906  0.79444  0.304467]"
          },
          "execution_count": 14,
          "metadata": {},
          "output_type": "execute_result"
        }
      ]
    },
    {
      "metadata": {
        "hidden": true
      },
      "cell_type": "markdown",
      "source": "#### `.unstack`"
    },
    {
      "metadata": {
        "hidden": true,
        "trusted": true
      },
      "cell_type": "code",
      "source": "sample_data.unstack(level='Firm')",
      "execution_count": 15,
      "outputs": [
        {
          "data": {
            "text/html": "<div>\n<style>\n    .dataframe thead tr:only-child th {\n        text-align: right;\n    }\n\n    .dataframe thead th {\n        text-align: left;\n    }\n\n    .dataframe tbody tr th {\n        vertical-align: top;\n    }\n</style>\n<table border=\"1\" class=\"dataframe\">\n  <thead>\n    <tr>\n      <th></th>\n      <th colspan=\"5\" halign=\"left\">Field1</th>\n      <th colspan=\"5\" halign=\"left\">Field2</th>\n      <th colspan=\"5\" halign=\"left\">Field3</th>\n    </tr>\n    <tr>\n      <th>Firm</th>\n      <th>BMO.TO</th>\n      <th>BNS.TO</th>\n      <th>CM.TO</th>\n      <th>RY.TO</th>\n      <th>TD.TO</th>\n      <th>BMO.TO</th>\n      <th>BNS.TO</th>\n      <th>CM.TO</th>\n      <th>RY.TO</th>\n      <th>TD.TO</th>\n      <th>BMO.TO</th>\n      <th>BNS.TO</th>\n      <th>CM.TO</th>\n      <th>RY.TO</th>\n      <th>TD.TO</th>\n    </tr>\n    <tr>\n      <th>Date</th>\n      <th></th>\n      <th></th>\n      <th></th>\n      <th></th>\n      <th></th>\n      <th></th>\n      <th></th>\n      <th></th>\n      <th></th>\n      <th></th>\n      <th></th>\n      <th></th>\n      <th></th>\n      <th></th>\n      <th></th>\n    </tr>\n  </thead>\n  <tbody>\n    <tr>\n      <th>2018-03-01</th>\n      <td>0.039434</td>\n      <td>-0.134752</td>\n      <td>0.447877</td>\n      <td>-0.510618</td>\n      <td>1.399231</td>\n      <td>-0.330408</td>\n      <td>-0.303180</td>\n      <td>-0.582555</td>\n      <td>0.360086</td>\n      <td>0.736067</td>\n      <td>0.160092</td>\n      <td>0.196177</td>\n      <td>-0.380699</td>\n      <td>-0.419420</td>\n      <td>1.543249</td>\n    </tr>\n    <tr>\n      <th>2018-03-02</th>\n      <td>-0.764024</td>\n      <td>-1.290992</td>\n      <td>-1.125049</td>\n      <td>-0.838906</td>\n      <td>-1.775888</td>\n      <td>-1.403676</td>\n      <td>1.970138</td>\n      <td>0.621628</td>\n      <td>0.794440</td>\n      <td>-0.696343</td>\n      <td>0.390696</td>\n      <td>-0.330183</td>\n      <td>-0.407283</td>\n      <td>0.304467</td>\n      <td>0.791402</td>\n    </tr>\n    <tr>\n      <th>2018-03-03</th>\n      <td>0.299869</td>\n      <td>-1.067755</td>\n      <td>0.577828</td>\n      <td>0.403372</td>\n      <td>1.937433</td>\n      <td>-0.756984</td>\n      <td>-1.091377</td>\n      <td>-0.152663</td>\n      <td>0.774011</td>\n      <td>-0.427033</td>\n      <td>0.484912</td>\n      <td>1.614040</td>\n      <td>-0.151665</td>\n      <td>-1.195967</td>\n      <td>1.234595</td>\n    </tr>\n  </tbody>\n</table>\n</div>",
            "text/plain": "              Field1                                            Field2  \\\nFirm          BMO.TO    BNS.TO     CM.TO     RY.TO     TD.TO    BMO.TO   \nDate                                                                     \n2018-03-01  0.039434 -0.134752  0.447877 -0.510618  1.399231 -0.330408   \n2018-03-02 -0.764024 -1.290992 -1.125049 -0.838906 -1.775888 -1.403676   \n2018-03-03  0.299869 -1.067755  0.577828  0.403372  1.937433 -0.756984   \n\n                                                      Field3            \\\nFirm          BNS.TO     CM.TO     RY.TO     TD.TO    BMO.TO    BNS.TO   \nDate                                                                     \n2018-03-01 -0.303180 -0.582555  0.360086  0.736067  0.160092  0.196177   \n2018-03-02  1.970138  0.621628  0.794440 -0.696343  0.390696 -0.330183   \n2018-03-03 -1.091377 -0.152663  0.774011 -0.427033  0.484912  1.614040   \n\n                                          \nFirm           CM.TO     RY.TO     TD.TO  \nDate                                      \n2018-03-01 -0.380699 -0.419420  1.543249  \n2018-03-02 -0.407283  0.304467  0.791402  \n2018-03-03 -0.151665 -1.195967  1.234595  "
          },
          "execution_count": 15,
          "metadata": {},
          "output_type": "execute_result"
        }
      ]
    },
    {
      "metadata": {
        "heading_collapsed": true
      },
      "cell_type": "markdown",
      "source": "## Sample data"
    },
    {
      "metadata": {
        "hidden": true
      },
      "cell_type": "markdown",
      "source": "Best not to use hyphen `-` in names or else not possible to use `df.field_name` construct. Underscores `_` are OK."
    },
    {
      "metadata": {
        "hidden": true,
        "init_cell": true,
        "trusted": true
      },
      "cell_type": "code",
      "source": "df_firm_returns = generate_data(firms,dates,['Return'])\ndf_dcc_garch =    generate_data(firms,dates,['ConditionalVariance_h','ConditionalCorrelation_R'])\ndf_mes =          generate_data(firms,dates,['LRMES','MES','Beta'])\n\ndf_market_price = generate_data(['.GSPTSE'],dates,['Close'])",
      "execution_count": null,
      "outputs": []
    },
    {
      "metadata": {
        "hidden": true
      },
      "cell_type": "markdown",
      "source": "### Create new series from existing ones"
    },
    {
      "metadata": {
        "hidden": true
      },
      "cell_type": "markdown",
      "source": "https://kaijento.github.io/2017/04/22/pandas-create-new-column-sum/ gives some simple examples."
    },
    {
      "metadata": {
        "hidden": true,
        "trusted": true
      },
      "cell_type": "code",
      "source": "def add2(x,y): return x + y  \ndef add3(x,y,z): return x + y + z",
      "execution_count": 44,
      "outputs": []
    },
    {
      "metadata": {
        "hidden": true
      },
      "cell_type": "markdown",
      "source": "Dataframes support vectorized operations, so applying a function to multiple fields to create a new field is trivial. Scalar parameters can be mixed in with series without fuss. The function is applied at the row level."
    },
    {
      "metadata": {
        "hidden": true,
        "trusted": true
      },
      "cell_type": "code",
      "source": "df = generate_data(firms,dates,['x','y'])\ndf['new'] = add2(df.x ,df.y)\ndf['new2'] = add3(df.x ,df.y,-999)    # x,y are series, z is a scalar\ndf",
      "execution_count": 53,
      "outputs": [
        {
          "data": {
            "text/html": "<div>\n<style>\n    .dataframe thead tr:only-child th {\n        text-align: right;\n    }\n\n    .dataframe thead th {\n        text-align: left;\n    }\n\n    .dataframe tbody tr th {\n        vertical-align: top;\n    }\n</style>\n<table border=\"1\" class=\"dataframe\">\n  <thead>\n    <tr style=\"text-align: right;\">\n      <th></th>\n      <th></th>\n      <th>x</th>\n      <th>y</th>\n      <th>new</th>\n      <th>new2</th>\n    </tr>\n    <tr>\n      <th>Firm</th>\n      <th>Date</th>\n      <th></th>\n      <th></th>\n      <th></th>\n      <th></th>\n    </tr>\n  </thead>\n  <tbody>\n    <tr>\n      <th rowspan=\"3\" valign=\"top\">RY.TO</th>\n      <th>2018-03-01</th>\n      <td>-0.980510</td>\n      <td>0.737289</td>\n      <td>-0.243221</td>\n      <td>-999.243221</td>\n    </tr>\n    <tr>\n      <th>2018-03-02</th>\n      <td>-1.075726</td>\n      <td>-0.005682</td>\n      <td>-1.081408</td>\n      <td>-1000.081408</td>\n    </tr>\n    <tr>\n      <th>2018-03-03</th>\n      <td>-0.810852</td>\n      <td>-0.917874</td>\n      <td>-1.728726</td>\n      <td>-1000.728726</td>\n    </tr>\n    <tr>\n      <th rowspan=\"3\" valign=\"top\">TD.TO</th>\n      <th>2018-03-01</th>\n      <td>1.215862</td>\n      <td>0.798152</td>\n      <td>2.014014</td>\n      <td>-996.985986</td>\n    </tr>\n    <tr>\n      <th>2018-03-02</th>\n      <td>0.412340</td>\n      <td>-0.288999</td>\n      <td>0.123341</td>\n      <td>-998.876659</td>\n    </tr>\n    <tr>\n      <th>2018-03-03</th>\n      <td>-0.817653</td>\n      <td>-1.371886</td>\n      <td>-2.189539</td>\n      <td>-1001.189539</td>\n    </tr>\n    <tr>\n      <th rowspan=\"3\" valign=\"top\">BNS.TO</th>\n      <th>2018-03-01</th>\n      <td>1.934915</td>\n      <td>0.214242</td>\n      <td>2.149157</td>\n      <td>-996.850843</td>\n    </tr>\n    <tr>\n      <th>2018-03-02</th>\n      <td>-1.734872</td>\n      <td>0.862594</td>\n      <td>-0.872278</td>\n      <td>-999.872278</td>\n    </tr>\n    <tr>\n      <th>2018-03-03</th>\n      <td>-0.694934</td>\n      <td>1.186807</td>\n      <td>0.491873</td>\n      <td>-998.508127</td>\n    </tr>\n    <tr>\n      <th rowspan=\"3\" valign=\"top\">BMO.TO</th>\n      <th>2018-03-01</th>\n      <td>1.761474</td>\n      <td>-0.650017</td>\n      <td>1.111458</td>\n      <td>-997.888542</td>\n    </tr>\n    <tr>\n      <th>2018-03-02</th>\n      <td>1.687945</td>\n      <td>-1.194315</td>\n      <td>0.493630</td>\n      <td>-998.506370</td>\n    </tr>\n    <tr>\n      <th>2018-03-03</th>\n      <td>0.031241</td>\n      <td>1.222282</td>\n      <td>1.253523</td>\n      <td>-997.746477</td>\n    </tr>\n    <tr>\n      <th rowspan=\"3\" valign=\"top\">CM.TO</th>\n      <th>2018-03-01</th>\n      <td>-0.310028</td>\n      <td>-0.442118</td>\n      <td>-0.752146</td>\n      <td>-999.752146</td>\n    </tr>\n    <tr>\n      <th>2018-03-02</th>\n      <td>-0.091769</td>\n      <td>-1.794422</td>\n      <td>-1.886191</td>\n      <td>-1000.886191</td>\n    </tr>\n    <tr>\n      <th>2018-03-03</th>\n      <td>-0.440788</td>\n      <td>0.523035</td>\n      <td>0.082248</td>\n      <td>-998.917752</td>\n    </tr>\n  </tbody>\n</table>\n</div>",
            "text/plain": "                          x         y       new         new2\nFirm   Date                                                 \nRY.TO  2018-03-01 -0.980510  0.737289 -0.243221  -999.243221\n       2018-03-02 -1.075726 -0.005682 -1.081408 -1000.081408\n       2018-03-03 -0.810852 -0.917874 -1.728726 -1000.728726\nTD.TO  2018-03-01  1.215862  0.798152  2.014014  -996.985986\n       2018-03-02  0.412340 -0.288999  0.123341  -998.876659\n       2018-03-03 -0.817653 -1.371886 -2.189539 -1001.189539\nBNS.TO 2018-03-01  1.934915  0.214242  2.149157  -996.850843\n       2018-03-02 -1.734872  0.862594 -0.872278  -999.872278\n       2018-03-03 -0.694934  1.186807  0.491873  -998.508127\nBMO.TO 2018-03-01  1.761474 -0.650017  1.111458  -997.888542\n       2018-03-02  1.687945 -1.194315  0.493630  -998.506370\n       2018-03-03  0.031241  1.222282  1.253523  -997.746477\nCM.TO  2018-03-01 -0.310028 -0.442118 -0.752146  -999.752146\n       2018-03-02 -0.091769 -1.794422 -1.886191 -1000.886191\n       2018-03-03 -0.440788  0.523035  0.082248  -998.917752"
          },
          "execution_count": 53,
          "metadata": {},
          "output_type": "execute_result"
        }
      ]
    },
    {
      "metadata": {
        "hidden": true,
        "init_cell": true,
        "trusted": true
      },
      "cell_type": "code",
      "source": "def calc_firm_ccgarch(firm):\n    firm_return = df_firm_returns.loc[firm]['Return'] # Firm is row index (1/2); Return is col index.\n    market_return = df_market_price.loc['.GSPTSE']['Close'].pct_change(1)\n    pair_return = pd.concat([market_return,firm_return],axis=1)\n    return pair_return    ",
      "execution_count": 5,
      "outputs": []
    },
    {
      "metadata": {
        "hidden": true,
        "scrolled": true,
        "trusted": true
      },
      "cell_type": "code",
      "source": "calc_firm_ccgarch('BMO.TO')",
      "execution_count": 26,
      "outputs": [
        {
          "data": {
            "text/html": "<div>\n<style>\n    .dataframe thead tr:only-child th {\n        text-align: right;\n    }\n\n    .dataframe thead th {\n        text-align: left;\n    }\n\n    .dataframe tbody tr th {\n        vertical-align: top;\n    }\n</style>\n<table border=\"1\" class=\"dataframe\">\n  <thead>\n    <tr style=\"text-align: right;\">\n      <th></th>\n      <th>Close</th>\n      <th>Return</th>\n    </tr>\n    <tr>\n      <th>Date</th>\n      <th></th>\n      <th></th>\n    </tr>\n  </thead>\n  <tbody>\n    <tr>\n      <th>2018-03-01</th>\n      <td>NaN</td>\n      <td>-1.264835</td>\n    </tr>\n    <tr>\n      <th>2018-03-02</th>\n      <td>-1.435059</td>\n      <td>-0.979102</td>\n    </tr>\n    <tr>\n      <th>2018-03-03</th>\n      <td>3.555761</td>\n      <td>-0.198070</td>\n    </tr>\n  </tbody>\n</table>\n</div>",
            "text/plain": "               Close    Return\nDate                          \n2018-03-01       NaN -1.264835\n2018-03-02 -1.435059 -0.979102\n2018-03-03  3.555761 -0.198070"
          },
          "execution_count": 26,
          "metadata": {},
          "output_type": "execute_result"
        }
      ]
    },
    {
      "metadata": {
        "hidden": true,
        "trusted": true
      },
      "cell_type": "code",
      "source": "bmo_return = df_firm_returns.loc['BMO.TO']['Return']\nmarket_close = df_market_price.loc['.GSPTSE']['Close']",
      "execution_count": 18,
      "outputs": []
    },
    {
      "metadata": {
        "hidden": true,
        "trusted": true
      },
      "cell_type": "code",
      "source": "market_return = df_market_price.loc['.GSPTSE']['Close'].pct_change(1)\nmarket_return",
      "execution_count": 19,
      "outputs": [
        {
          "data": {
            "text/plain": "Date\n2018-03-01         NaN\n2018-03-02   -1.435059\n2018-03-03    3.555761\nName: Close, dtype: float64"
          },
          "execution_count": 19,
          "metadata": {},
          "output_type": "execute_result"
        }
      ]
    },
    {
      "metadata": {
        "hidden": true
      },
      "cell_type": "markdown",
      "source": "### Looping over multiindex dataframes"
    },
    {
      "metadata": {
        "hidden": true
      },
      "cell_type": "markdown",
      "source": "#### Loop over firms using `for` and `df.groupby`"
    },
    {
      "metadata": {
        "hidden": true,
        "init_cell": true,
        "trusted": true
      },
      "cell_type": "code",
      "source": "all_firms_df = generate_data(firms,dates,['x','y','z'])",
      "execution_count": 6,
      "outputs": []
    },
    {
      "metadata": {
        "hidden": true
      },
      "cell_type": "markdown",
      "source": "Standard loop with side effects:"
    },
    {
      "metadata": {
        "hidden": true,
        "trusted": true
      },
      "cell_type": "code",
      "source": "for key, sub_df in all_firms_df.groupby(level=0):\n     print(key)",
      "execution_count": 21,
      "outputs": [
        {
          "name": "stdout",
          "output_type": "stream",
          "text": "BMO.TO\nBNS.TO\nCM.TO\nRY.TO\nTD.TO\n"
        }
      ]
    },
    {
      "metadata": {
        "hidden": true
      },
      "cell_type": "markdown",
      "source": "Dictionary comprehension:"
    },
    {
      "metadata": {
        "hidden": true,
        "trusted": true
      },
      "cell_type": "code",
      "source": "dict_from_multiindex_df = {firm: sub_df for firm, sub_df in all_firms_df.groupby(level=0)}",
      "execution_count": 22,
      "outputs": []
    },
    {
      "metadata": {
        "hidden": true
      },
      "cell_type": "markdown",
      "source": "#### Split multiindex dataframe into list using `groupby` & restore to dataframe using `concat`"
    },
    {
      "metadata": {
        "hidden": true
      },
      "cell_type": "markdown",
      "source": "In fact, a cleaner approach is to use `.apply` and `.assign`"
    },
    {
      "metadata": {
        "hidden": true,
        "trusted": true
      },
      "cell_type": "code",
      "source": "list_from_multiindex_df = [sub_df for firm, sub_df in all_firms_df.groupby(level=0)]",
      "execution_count": 23,
      "outputs": []
    },
    {
      "metadata": {
        "hidden": true,
        "trusted": true
      },
      "cell_type": "code",
      "source": "list_from_multiindex_df[0:2]",
      "execution_count": 24,
      "outputs": [
        {
          "data": {
            "text/plain": "[                          x         y         z\n Firm   Date                                    \n BMO.TO 2018-03-01 -0.389149  0.959650 -1.365241\n        2018-03-02  0.896308 -0.377102 -0.558298\n        2018-03-03  0.963550 -0.186580 -1.765016,\n                           x         y         z\n Firm   Date                                    \n BNS.TO 2018-03-01 -1.123153  0.394552 -1.068644\n        2018-03-02  0.287074  2.709269 -1.120250\n        2018-03-03  1.095091  0.983898 -0.309522]"
          },
          "execution_count": 24,
          "metadata": {},
          "output_type": "execute_result"
        }
      ]
    },
    {
      "metadata": {
        "hidden": true
      },
      "cell_type": "markdown",
      "source": "And, drum roll, restore the sub-frames back into a frame using `concat`"
    },
    {
      "metadata": {
        "hidden": true,
        "trusted": true
      },
      "cell_type": "code",
      "source": "pd.concat(list_from_multiindex_df)[0:6]",
      "execution_count": 25,
      "outputs": [
        {
          "data": {
            "text/html": "<div>\n<style>\n    .dataframe thead tr:only-child th {\n        text-align: right;\n    }\n\n    .dataframe thead th {\n        text-align: left;\n    }\n\n    .dataframe tbody tr th {\n        vertical-align: top;\n    }\n</style>\n<table border=\"1\" class=\"dataframe\">\n  <thead>\n    <tr style=\"text-align: right;\">\n      <th></th>\n      <th></th>\n      <th>x</th>\n      <th>y</th>\n      <th>z</th>\n    </tr>\n    <tr>\n      <th>Firm</th>\n      <th>Date</th>\n      <th></th>\n      <th></th>\n      <th></th>\n    </tr>\n  </thead>\n  <tbody>\n    <tr>\n      <th rowspan=\"3\" valign=\"top\">BMO.TO</th>\n      <th>2018-03-01</th>\n      <td>-0.389149</td>\n      <td>0.959650</td>\n      <td>-1.365241</td>\n    </tr>\n    <tr>\n      <th>2018-03-02</th>\n      <td>0.896308</td>\n      <td>-0.377102</td>\n      <td>-0.558298</td>\n    </tr>\n    <tr>\n      <th>2018-03-03</th>\n      <td>0.963550</td>\n      <td>-0.186580</td>\n      <td>-1.765016</td>\n    </tr>\n    <tr>\n      <th rowspan=\"3\" valign=\"top\">BNS.TO</th>\n      <th>2018-03-01</th>\n      <td>-1.123153</td>\n      <td>0.394552</td>\n      <td>-1.068644</td>\n    </tr>\n    <tr>\n      <th>2018-03-02</th>\n      <td>0.287074</td>\n      <td>2.709269</td>\n      <td>-1.120250</td>\n    </tr>\n    <tr>\n      <th>2018-03-03</th>\n      <td>1.095091</td>\n      <td>0.983898</td>\n      <td>-0.309522</td>\n    </tr>\n  </tbody>\n</table>\n</div>",
            "text/plain": "                          x         y         z\nFirm   Date                                    \nBMO.TO 2018-03-01 -0.389149  0.959650 -1.365241\n       2018-03-02  0.896308 -0.377102 -0.558298\n       2018-03-03  0.963550 -0.186580 -1.765016\nBNS.TO 2018-03-01 -1.123153  0.394552 -1.068644\n       2018-03-02  0.287074  2.709269 -1.120250\n       2018-03-03  1.095091  0.983898 -0.309522"
          },
          "execution_count": 25,
          "metadata": {},
          "output_type": "execute_result"
        }
      ]
    },
    {
      "metadata": {
        "hidden": true
      },
      "cell_type": "markdown",
      "source": "#### Apply operation to the dataframe at the firm level "
    },
    {
      "metadata": {
        "hidden": true
      },
      "cell_type": "markdown",
      "source": "1. Create a dataframe of sample data with multi-index `(firm, date)`, & two fields `x`, `y` \n2. Define a function `do_firm` with arguments of type `pandas.Series`.  \n3. Split the input data into sub-frames for each firm & apply the function to the sub-series. \n4. Assign the result to a new time-series (field) `z`\n4. Join the outputs from individual firms back into a single data frame for the full universe."
    },
    {
      "metadata": {
        "hidden": true,
        "trusted": true
      },
      "cell_type": "code",
      "source": "# Create a dataframe of sample data with two fields\nall_firms = generate_data(firms,dates,['x','y'])\n\ndef do_firm(x,y): \n    '''Function of multiple series. Returns dict of series.'''\n    return {'u':2*x + y.sum(),'v':x.corr(y)}\n\n# Looping over firms logic is a one-liner!\nall_firms \\\n    .groupby(['Firm']) \\\n    .apply(lambda d: d.assign(**do_firm(d.x,d.y))) # Loop over firm sub dataframes (\"d\") ",
      "execution_count": 53,
      "outputs": [
        {
          "data": {
            "text/html": "<div>\n<style>\n    .dataframe thead tr:only-child th {\n        text-align: right;\n    }\n\n    .dataframe thead th {\n        text-align: left;\n    }\n\n    .dataframe tbody tr th {\n        vertical-align: top;\n    }\n</style>\n<table border=\"1\" class=\"dataframe\">\n  <thead>\n    <tr style=\"text-align: right;\">\n      <th></th>\n      <th></th>\n      <th>x</th>\n      <th>y</th>\n      <th>u</th>\n      <th>v</th>\n    </tr>\n    <tr>\n      <th>Firm</th>\n      <th>Date</th>\n      <th></th>\n      <th></th>\n      <th></th>\n      <th></th>\n    </tr>\n  </thead>\n  <tbody>\n    <tr>\n      <th rowspan=\"3\" valign=\"top\">RY.TO</th>\n      <th>2018-03-01</th>\n      <td>-0.900286</td>\n      <td>-0.299401</td>\n      <td>-2.203310</td>\n      <td>-0.343481</td>\n    </tr>\n    <tr>\n      <th>2018-03-02</th>\n      <td>0.714358</td>\n      <td>1.336465</td>\n      <td>1.025978</td>\n      <td>-0.343481</td>\n    </tr>\n    <tr>\n      <th>2018-03-03</th>\n      <td>1.977944</td>\n      <td>-1.439802</td>\n      <td>3.553149</td>\n      <td>-0.343481</td>\n    </tr>\n    <tr>\n      <th rowspan=\"3\" valign=\"top\">TD.TO</th>\n      <th>2018-03-01</th>\n      <td>0.531077</td>\n      <td>-0.172637</td>\n      <td>1.229492</td>\n      <td>0.377449</td>\n    </tr>\n    <tr>\n      <th>2018-03-02</th>\n      <td>0.563808</td>\n      <td>0.406482</td>\n      <td>1.294953</td>\n      <td>0.377449</td>\n    </tr>\n    <tr>\n      <th>2018-03-03</th>\n      <td>-0.230629</td>\n      <td>-0.066507</td>\n      <td>-0.293920</td>\n      <td>0.377449</td>\n    </tr>\n    <tr>\n      <th rowspan=\"3\" valign=\"top\">BNS.TO</th>\n      <th>2018-03-01</th>\n      <td>0.256004</td>\n      <td>0.911004</td>\n      <td>-0.444059</td>\n      <td>-0.485625</td>\n    </tr>\n    <tr>\n      <th>2018-03-02</th>\n      <td>1.349226</td>\n      <td>-1.078178</td>\n      <td>1.742384</td>\n      <td>-0.485625</td>\n    </tr>\n    <tr>\n      <th>2018-03-03</th>\n      <td>0.044629</td>\n      <td>-0.788894</td>\n      <td>-0.866810</td>\n      <td>-0.485625</td>\n    </tr>\n    <tr>\n      <th rowspan=\"3\" valign=\"top\">BMO.TO</th>\n      <th>2018-03-01</th>\n      <td>-0.425230</td>\n      <td>-0.691610</td>\n      <td>-1.575482</td>\n      <td>0.951139</td>\n    </tr>\n    <tr>\n      <th>2018-03-02</th>\n      <td>0.655729</td>\n      <td>-0.260999</td>\n      <td>0.586436</td>\n      <td>0.951139</td>\n    </tr>\n    <tr>\n      <th>2018-03-03</th>\n      <td>1.022452</td>\n      <td>0.227587</td>\n      <td>1.319881</td>\n      <td>0.951139</td>\n    </tr>\n    <tr>\n      <th rowspan=\"3\" valign=\"top\">CM.TO</th>\n      <th>2018-03-01</th>\n      <td>-0.444619</td>\n      <td>0.344477</td>\n      <td>-1.755420</td>\n      <td>-0.937611</td>\n    </tr>\n    <tr>\n      <th>2018-03-02</th>\n      <td>-0.194508</td>\n      <td>-1.515299</td>\n      <td>-1.255198</td>\n      <td>-0.937611</td>\n    </tr>\n    <tr>\n      <th>2018-03-03</th>\n      <td>-0.571135</td>\n      <td>0.304640</td>\n      <td>-2.008451</td>\n      <td>-0.937611</td>\n    </tr>\n  </tbody>\n</table>\n</div>",
            "text/plain": "                          x         y         u         v\nFirm   Date                                              \nRY.TO  2018-03-01 -0.900286 -0.299401 -2.203310 -0.343481\n       2018-03-02  0.714358  1.336465  1.025978 -0.343481\n       2018-03-03  1.977944 -1.439802  3.553149 -0.343481\nTD.TO  2018-03-01  0.531077 -0.172637  1.229492  0.377449\n       2018-03-02  0.563808  0.406482  1.294953  0.377449\n       2018-03-03 -0.230629 -0.066507 -0.293920  0.377449\nBNS.TO 2018-03-01  0.256004  0.911004 -0.444059 -0.485625\n       2018-03-02  1.349226 -1.078178  1.742384 -0.485625\n       2018-03-03  0.044629 -0.788894 -0.866810 -0.485625\nBMO.TO 2018-03-01 -0.425230 -0.691610 -1.575482  0.951139\n       2018-03-02  0.655729 -0.260999  0.586436  0.951139\n       2018-03-03  1.022452  0.227587  1.319881  0.951139\nCM.TO  2018-03-01 -0.444619  0.344477 -1.755420 -0.937611\n       2018-03-02 -0.194508 -1.515299 -1.255198 -0.937611\n       2018-03-03 -0.571135  0.304640 -2.008451 -0.937611"
          },
          "execution_count": 53,
          "metadata": {},
          "output_type": "execute_result"
        }
      ]
    },
    {
      "metadata": {
        "hidden": true
      },
      "cell_type": "markdown",
      "source": "Alternative using list comprehension, requires `concat`"
    },
    {
      "metadata": {
        "hidden": true,
        "trusted": true
      },
      "cell_type": "code",
      "source": "pd.concat([df.assign(**do_firm_dict(df.x,df.y)) for k,df in all_firms.groupby(['Firm'])])[0:6]",
      "execution_count": 54,
      "outputs": [
        {
          "data": {
            "text/html": "<div>\n<style>\n    .dataframe thead tr:only-child th {\n        text-align: right;\n    }\n\n    .dataframe thead th {\n        text-align: left;\n    }\n\n    .dataframe tbody tr th {\n        vertical-align: top;\n    }\n</style>\n<table border=\"1\" class=\"dataframe\">\n  <thead>\n    <tr style=\"text-align: right;\">\n      <th></th>\n      <th></th>\n      <th>x</th>\n      <th>y</th>\n      <th>u</th>\n      <th>v</th>\n    </tr>\n    <tr>\n      <th>Firm</th>\n      <th>Date</th>\n      <th></th>\n      <th></th>\n      <th></th>\n      <th></th>\n    </tr>\n  </thead>\n  <tbody>\n    <tr>\n      <th rowspan=\"3\" valign=\"top\">BMO.TO</th>\n      <th>2018-03-01</th>\n      <td>-0.425230</td>\n      <td>-0.691610</td>\n      <td>-1.575482</td>\n      <td>0.951139</td>\n    </tr>\n    <tr>\n      <th>2018-03-02</th>\n      <td>0.655729</td>\n      <td>-0.260999</td>\n      <td>0.586436</td>\n      <td>0.951139</td>\n    </tr>\n    <tr>\n      <th>2018-03-03</th>\n      <td>1.022452</td>\n      <td>0.227587</td>\n      <td>1.319881</td>\n      <td>0.951139</td>\n    </tr>\n    <tr>\n      <th rowspan=\"3\" valign=\"top\">BNS.TO</th>\n      <th>2018-03-01</th>\n      <td>0.256004</td>\n      <td>0.911004</td>\n      <td>-0.444059</td>\n      <td>-0.485625</td>\n    </tr>\n    <tr>\n      <th>2018-03-02</th>\n      <td>1.349226</td>\n      <td>-1.078178</td>\n      <td>1.742384</td>\n      <td>-0.485625</td>\n    </tr>\n    <tr>\n      <th>2018-03-03</th>\n      <td>0.044629</td>\n      <td>-0.788894</td>\n      <td>-0.866810</td>\n      <td>-0.485625</td>\n    </tr>\n  </tbody>\n</table>\n</div>",
            "text/plain": "                          x         y         u         v\nFirm   Date                                              \nBMO.TO 2018-03-01 -0.425230 -0.691610 -1.575482  0.951139\n       2018-03-02  0.655729 -0.260999  0.586436  0.951139\n       2018-03-03  1.022452  0.227587  1.319881  0.951139\nBNS.TO 2018-03-01  0.256004  0.911004 -0.444059 -0.485625\n       2018-03-02  1.349226 -1.078178  1.742384 -0.485625\n       2018-03-03  0.044629 -0.788894 -0.866810 -0.485625"
          },
          "execution_count": 54,
          "metadata": {},
          "output_type": "execute_result"
        }
      ]
    },
    {
      "metadata": {},
      "cell_type": "markdown",
      "source": "## Translated code"
    },
    {
      "metadata": {},
      "cell_type": "markdown",
      "source": "See  \nhttps://github.com/TommasoBelluzzo/SystemicRisk/blob/master/ScriptsProbabilistic/calculate_mes.m  \nhttps://github.com/TommasoBelluzzo/SystemicRisk/blob/master/ScriptsProbabilistic/calculate_srisk.m  "
    },
    {
      "metadata": {
        "init_cell": true,
        "trusted": true
      },
      "cell_type": "code",
      "source": "import math\nfrom scipy.stats import norm",
      "execution_count": 7,
      "outputs": []
    },
    {
      "metadata": {},
      "cell_type": "markdown",
      "source": "### `mes`"
    },
    {
      "metadata": {},
      "cell_type": "markdown",
      "source": "https://github.com/TommasoBelluzzo/SystemicRisk/blob/master/ScriptsProbabilistic/calculate_mes.m"
    },
    {
      "metadata": {},
      "cell_type": "markdown",
      "source": "The required series are explicitly listed as arguments (as in the orginal Matlab code).   \nAn alternative would be to accept a single dataframe as an argument containing all required series & select them as required within the function. "
    },
    {
      "metadata": {},
      "cell_type": "markdown",
      "source": "Is this very inefficient because the calculations are being done row by row, & the `sum`, `norm` etc. operations are being repeated for each row / record??"
    },
    {
      "metadata": {
        "init_cell": true,
        "trusted": true
      },
      "cell_type": "code",
      "source": "def mes(ret0_m, s_m, ret0_x, s_x, beta_x, p_mx, a=0.05, d=0.4, debug=False):\n    '''\n    Calculate marginal expected shortfall (MES) & long range MES (LRMES)\n    Author: Tommaso Belluzzo (Matlab)\n    In python, vectors are pandas series objects\n    The input series must be for a single firm only!\n    :param ret0_m: Demeaned market index log returns.\n    :param s_m: Volatilities of the market index log returns.\n    :param ret0_x: Demeaned firm log returns.\n    :param s_x: Volatilities of the firm log returns.\n    :param beta_x: Firm CAPM betas.\n    :param p_mx: DCC coefficients.\n    :param a: A float [0.01,0.10] representing the complement to 1 of the confidence level (optional, default=0.05).\n    :param d: A float representing the six-month crisis threshold for the market index decline used to calculate LRMES (optional, default=0.40).\n    :type ret0_m: Pandas series of floats\n    :type s_m: Pandas series of floats\n    :type ret0_x: Pandas series of floats\n    :type s_x: Pandas series of floats \n    :type beta_x: Pandas series of floats \n    :type p_mx: Pandas series of floats\n    :type a: Scalar float\n    :type d: Scalar float\n    :type: A dataframe containing MES & LRMES values\n    :rtype: Dict of pandas series\n    '''\n    c = np.percentile(ret0_m,a)\n    h = len(ret0_m) ** (-0.2)\n    u = ret0_m / s_m              # Standardize\n    x_den = np.sqrt(1 - p_mx**2)\n    x_num = (ret0_x / s_x) - (p_mx * u)\n    x = x_den / x_num\n    f = norm.cdf(((c / s_m) - u) / h)\n    f_sum = f.sum()\n    k1 = (u * f).sum() / f.sum()          \n    k2 =  (x * f).sum() / f.sum()\n    mes = (s_x * p_mx * k1) + (s_x * x_den * k2)\n    lrmes = 1 - np.exp(np.log(1 - d) * beta_x) \n    \n    return_series = {'mes':mes,'lrmes':lrmes}\n    debug_series = {'c':c,'h':h,'u':u,'x':x,'f':f,'f_sum':f_sum,'k1':k1,'k2':k2} \n    return {**return_series,**debug_series} if debug else return_series",
      "execution_count": 8,
      "outputs": []
    },
    {
      "metadata": {
        "heading_collapsed": true
      },
      "cell_type": "markdown",
      "source": "#### Test for single firm"
    },
    {
      "metadata": {
        "hidden": true,
        "trusted": true
      },
      "cell_type": "code",
      "source": "mes_data = generate_data(firms,dates,['ret0_m','s_m','ret0_x','s_x','beta_x','p_mx'])\ndf = mes_data.loc['RY.TO']  # Important to select a sub dataframe for a single firm!\ndf.assign(**mes(df.ret0_m, df.s_m, df.ret0_x, df.s_x, df.beta_x, df.p_mx, 0.05, 0.4,debug=True))",
      "execution_count": 70,
      "outputs": [
        {
          "data": {
            "text/html": "<div>\n<style>\n    .dataframe thead tr:only-child th {\n        text-align: right;\n    }\n\n    .dataframe thead th {\n        text-align: left;\n    }\n\n    .dataframe tbody tr th {\n        vertical-align: top;\n    }\n</style>\n<table border=\"1\" class=\"dataframe\">\n  <thead>\n    <tr style=\"text-align: right;\">\n      <th></th>\n      <th>ret0_m</th>\n      <th>s_m</th>\n      <th>ret0_x</th>\n      <th>s_x</th>\n      <th>beta_x</th>\n      <th>p_mx</th>\n      <th>c</th>\n      <th>f</th>\n      <th>f_sum</th>\n      <th>h</th>\n      <th>k1</th>\n      <th>k2</th>\n      <th>lrmes</th>\n      <th>mes</th>\n      <th>u</th>\n      <th>x</th>\n    </tr>\n    <tr>\n      <th>Date</th>\n      <th></th>\n      <th></th>\n      <th></th>\n      <th></th>\n      <th></th>\n      <th></th>\n      <th></th>\n      <th></th>\n      <th></th>\n      <th></th>\n      <th></th>\n      <th></th>\n      <th></th>\n      <th></th>\n      <th></th>\n      <th></th>\n    </tr>\n  </thead>\n  <tbody>\n    <tr>\n      <th>2018-03-01</th>\n      <td>-0.159180</td>\n      <td>1.075699</td>\n      <td>0.697702</td>\n      <td>1.494221</td>\n      <td>-0.096814</td>\n      <td>0.080335</td>\n      <td>-2.249517</td>\n      <td>0.007744</td>\n      <td>1.51056</td>\n      <td>0.802742</td>\n      <td>-0.063153</td>\n      <td>-0.325169</td>\n      <td>-0.050699</td>\n      <td>-0.491885</td>\n      <td>-0.147978</td>\n      <td>2.081711</td>\n    </tr>\n    <tr>\n      <th>2018-03-02</th>\n      <td>-0.414205</td>\n      <td>-0.121921</td>\n      <td>1.217606</td>\n      <td>1.410365</td>\n      <td>0.649527</td>\n      <td>0.739019</td>\n      <td>-2.249517</td>\n      <td>1.000000</td>\n      <td>1.51056</td>\n      <td>0.802742</td>\n      <td>-0.063153</td>\n      <td>-0.325169</td>\n      <td>0.282366</td>\n      <td>-0.374780</td>\n      <td>3.397330</td>\n      <td>-0.408946</td>\n    </tr>\n    <tr>\n      <th>2018-03-03</th>\n      <td>-2.251354</td>\n      <td>0.324213</td>\n      <td>-1.077036</td>\n      <td>-0.461747</td>\n      <td>-0.802593</td>\n      <td>-0.788582</td>\n      <td>-2.249517</td>\n      <td>0.502816</td>\n      <td>1.51056</td>\n      <td>0.802742</td>\n      <td>-0.063153</td>\n      <td>-0.325169</td>\n      <td>-0.506795</td>\n      <td>0.069333</td>\n      <td>-6.944053</td>\n      <td>-0.195624</td>\n    </tr>\n  </tbody>\n</table>\n</div>",
            "text/plain": "              ret0_m       s_m    ret0_x       s_x    beta_x      p_mx  \\\nDate                                                                     \n2018-03-01 -0.159180  1.075699  0.697702  1.494221 -0.096814  0.080335   \n2018-03-02 -0.414205 -0.121921  1.217606  1.410365  0.649527  0.739019   \n2018-03-03 -2.251354  0.324213 -1.077036 -0.461747 -0.802593 -0.788582   \n\n                   c         f    f_sum         h        k1        k2  \\\nDate                                                                    \n2018-03-01 -2.249517  0.007744  1.51056  0.802742 -0.063153 -0.325169   \n2018-03-02 -2.249517  1.000000  1.51056  0.802742 -0.063153 -0.325169   \n2018-03-03 -2.249517  0.502816  1.51056  0.802742 -0.063153 -0.325169   \n\n               lrmes       mes         u         x  \nDate                                                \n2018-03-01 -0.050699 -0.491885 -0.147978  2.081711  \n2018-03-02  0.282366 -0.374780  3.397330 -0.408946  \n2018-03-03 -0.506795  0.069333 -6.944053 -0.195624  "
          },
          "execution_count": 70,
          "metadata": {},
          "output_type": "execute_result"
        }
      ]
    },
    {
      "metadata": {},
      "cell_type": "markdown",
      "source": "#### Loop over all firms using `.groupby`, `.apply` and `.assign`"
    },
    {
      "metadata": {},
      "cell_type": "markdown",
      "source": "The `lambda` function is `apply`ied the sub-frame `d` for each firm. The `**` operator unpacks the dictionary of the form `{series_name:series,...}` that is the result of the `mes` function to create new fields / columns / series in the dataframe.  \nOptional final call to `.loc` selects outputs from union of inputs & outputs."
    },
    {
      "metadata": {
        "trusted": true
      },
      "cell_type": "code",
      "source": "mes_data = generate_data(firms,dates,['ret0_m','s_m','ret0_x','s_x','beta_x','p_mx'])\n\nmes_data \\\n    .groupby(['Firm']) \\\n    .apply(lambda d: d.assign(**mes(d.ret0_m, d.s_m, d.ret0_x, d.s_x, d.beta_x, d.p_mx, 0.05, 0.4,debug=False))) \\\n    .loc[:,['mes','lrmes']] # Select outputs to exclude the inputs",
      "execution_count": 139,
      "outputs": [
        {
          "name": "stderr",
          "output_type": "stream",
          "text": "/home/nbuser/anaconda3_501/lib/python3.6/site-packages/ipykernel/__main__.py:29: RuntimeWarning: invalid value encountered in sqrt\n"
        },
        {
          "data": {
            "text/html": "<div>\n<style>\n    .dataframe thead tr:only-child th {\n        text-align: right;\n    }\n\n    .dataframe thead th {\n        text-align: left;\n    }\n\n    .dataframe tbody tr th {\n        vertical-align: top;\n    }\n</style>\n<table border=\"1\" class=\"dataframe\">\n  <thead>\n    <tr style=\"text-align: right;\">\n      <th></th>\n      <th></th>\n      <th>mes</th>\n      <th>lrmes</th>\n    </tr>\n    <tr>\n      <th>Firm</th>\n      <th>Date</th>\n      <th></th>\n      <th></th>\n    </tr>\n  </thead>\n  <tbody>\n    <tr>\n      <th rowspan=\"3\" valign=\"top\">RY.TO</th>\n      <th>2018-03-01</th>\n      <td>0.850347</td>\n      <td>0.611251</td>\n    </tr>\n    <tr>\n      <th>2018-03-02</th>\n      <td>NaN</td>\n      <td>0.411874</td>\n    </tr>\n    <tr>\n      <th>2018-03-03</th>\n      <td>0.085553</td>\n      <td>-0.041825</td>\n    </tr>\n    <tr>\n      <th rowspan=\"3\" valign=\"top\">TD.TO</th>\n      <th>2018-03-01</th>\n      <td>0.132959</td>\n      <td>0.499968</td>\n    </tr>\n    <tr>\n      <th>2018-03-02</th>\n      <td>0.273335</td>\n      <td>0.347665</td>\n    </tr>\n    <tr>\n      <th>2018-03-03</th>\n      <td>-0.895704</td>\n      <td>0.265617</td>\n    </tr>\n    <tr>\n      <th rowspan=\"3\" valign=\"top\">BNS.TO</th>\n      <th>2018-03-01</th>\n      <td>NaN</td>\n      <td>0.280327</td>\n    </tr>\n    <tr>\n      <th>2018-03-02</th>\n      <td>-0.964392</td>\n      <td>-0.952520</td>\n    </tr>\n    <tr>\n      <th>2018-03-03</th>\n      <td>-0.127518</td>\n      <td>0.352081</td>\n    </tr>\n    <tr>\n      <th rowspan=\"3\" valign=\"top\">BMO.TO</th>\n      <th>2018-03-01</th>\n      <td>NaN</td>\n      <td>-0.130009</td>\n    </tr>\n    <tr>\n      <th>2018-03-02</th>\n      <td>1.165816</td>\n      <td>-1.757534</td>\n    </tr>\n    <tr>\n      <th>2018-03-03</th>\n      <td>1.515205</td>\n      <td>0.218114</td>\n    </tr>\n    <tr>\n      <th rowspan=\"3\" valign=\"top\">CM.TO</th>\n      <th>2018-03-01</th>\n      <td>NaN</td>\n      <td>0.169045</td>\n    </tr>\n    <tr>\n      <th>2018-03-02</th>\n      <td>0.115362</td>\n      <td>-0.427781</td>\n    </tr>\n    <tr>\n      <th>2018-03-03</th>\n      <td>-3.130848</td>\n      <td>0.259309</td>\n    </tr>\n  </tbody>\n</table>\n</div>",
            "text/plain": "                        mes     lrmes\nFirm   Date                          \nRY.TO  2018-03-01  0.850347  0.611251\n       2018-03-02       NaN  0.411874\n       2018-03-03  0.085553 -0.041825\nTD.TO  2018-03-01  0.132959  0.499968\n       2018-03-02  0.273335  0.347665\n       2018-03-03 -0.895704  0.265617\nBNS.TO 2018-03-01       NaN  0.280327\n       2018-03-02 -0.964392 -0.952520\n       2018-03-03 -0.127518  0.352081\nBMO.TO 2018-03-01       NaN -0.130009\n       2018-03-02  1.165816 -1.757534\n       2018-03-03  1.515205  0.218114\nCM.TO  2018-03-01       NaN  0.169045\n       2018-03-02  0.115362 -0.427781\n       2018-03-03 -3.130848  0.259309"
          },
          "execution_count": 139,
          "metadata": {},
          "output_type": "execute_result"
        }
      ]
    },
    {
      "metadata": {
        "heading_collapsed": true
      },
      "cell_type": "markdown",
      "source": "### `srisk`"
    },
    {
      "metadata": {
        "hidden": true
      },
      "cell_type": "markdown",
      "source": "https://github.com/TommasoBelluzzo/SystemicRisk/blob/master/ScriptsProbabilistic/calculate_srisk.m"
    },
    {
      "metadata": {
        "hidden": true,
        "init_cell": true,
        "trusted": true
      },
      "cell_type": "code",
      "source": "def srisk(lrmes,tl_x,mc_x,l=0.08):\n    '''\n    Calculate the SRISK measure of systemic risk\n    Author: Tommaso Belluzzo (Matlab)\n    In python, input vectors are pandas series objects; output type is pandas dataframe\n    :param lrmes:   A vector of floats containing the LRMES values.\n    :param tl_x:    A numeric vector containing the firm total liabilities.\n    :param mc_x:    A numeric vector containing the firm market capitalization.\n    :param l:       A float [0.05,0.20] representing the capital adequacy ratio (optional, default=0.08).\n    :return srisk:  A dict of series including SRISK.\n    '''\n    srisk = ((l * tl_x) - ((1 - l) * (1 - lrmes) * mc_x)).clip(lower=0)\n    return {'srisk':srisk}",
      "execution_count": 9,
      "outputs": []
    },
    {
      "metadata": {
        "hidden": true
      },
      "cell_type": "markdown",
      "source": "#### Using `.groupby` & `.apply`"
    },
    {
      "metadata": {
        "hidden": true,
        "trusted": true
      },
      "cell_type": "code",
      "source": "srisk_data = generate_data(firms,dates,['lrmes','tl_x','mc_x'])\n\nsrisk_data \\\n    .groupby(['Firm']) \\\n    .apply(lambda df: df.assign(**srisk(df.lrmes,df.tl_x,df.mc_x,0.08))) \\\n    .loc[:,['srisk']]",
      "execution_count": 121,
      "outputs": [
        {
          "data": {
            "text/html": "<div>\n<style>\n    .dataframe thead tr:only-child th {\n        text-align: right;\n    }\n\n    .dataframe thead th {\n        text-align: left;\n    }\n\n    .dataframe tbody tr th {\n        vertical-align: top;\n    }\n</style>\n<table border=\"1\" class=\"dataframe\">\n  <thead>\n    <tr style=\"text-align: right;\">\n      <th></th>\n      <th></th>\n      <th>srisk</th>\n    </tr>\n    <tr>\n      <th>Firm</th>\n      <th>Date</th>\n      <th></th>\n    </tr>\n  </thead>\n  <tbody>\n    <tr>\n      <th rowspan=\"3\" valign=\"top\">RY.TO</th>\n      <th>2018-03-01</th>\n      <td>0.247052</td>\n    </tr>\n    <tr>\n      <th>2018-03-02</th>\n      <td>2.207659</td>\n    </tr>\n    <tr>\n      <th>2018-03-03</th>\n      <td>0.000000</td>\n    </tr>\n    <tr>\n      <th rowspan=\"3\" valign=\"top\">TD.TO</th>\n      <th>2018-03-01</th>\n      <td>0.142899</td>\n    </tr>\n    <tr>\n      <th>2018-03-02</th>\n      <td>0.000000</td>\n    </tr>\n    <tr>\n      <th>2018-03-03</th>\n      <td>0.000000</td>\n    </tr>\n    <tr>\n      <th rowspan=\"3\" valign=\"top\">BNS.TO</th>\n      <th>2018-03-01</th>\n      <td>0.551315</td>\n    </tr>\n    <tr>\n      <th>2018-03-02</th>\n      <td>0.222487</td>\n    </tr>\n    <tr>\n      <th>2018-03-03</th>\n      <td>0.903932</td>\n    </tr>\n    <tr>\n      <th rowspan=\"3\" valign=\"top\">BMO.TO</th>\n      <th>2018-03-01</th>\n      <td>4.146336</td>\n    </tr>\n    <tr>\n      <th>2018-03-02</th>\n      <td>2.039564</td>\n    </tr>\n    <tr>\n      <th>2018-03-03</th>\n      <td>0.195719</td>\n    </tr>\n    <tr>\n      <th rowspan=\"3\" valign=\"top\">CM.TO</th>\n      <th>2018-03-01</th>\n      <td>0.000000</td>\n    </tr>\n    <tr>\n      <th>2018-03-02</th>\n      <td>0.680567</td>\n    </tr>\n    <tr>\n      <th>2018-03-03</th>\n      <td>0.000000</td>\n    </tr>\n  </tbody>\n</table>\n</div>",
            "text/plain": "                      srisk\nFirm   Date                \nRY.TO  2018-03-01  0.247052\n       2018-03-02  2.207659\n       2018-03-03  0.000000\nTD.TO  2018-03-01  0.142899\n       2018-03-02  0.000000\n       2018-03-03  0.000000\nBNS.TO 2018-03-01  0.551315\n       2018-03-02  0.222487\n       2018-03-03  0.903932\nBMO.TO 2018-03-01  4.146336\n       2018-03-02  2.039564\n       2018-03-03  0.195719\nCM.TO  2018-03-01  0.000000\n       2018-03-02  0.680567\n       2018-03-03  0.000000"
          },
          "execution_count": 121,
          "metadata": {},
          "output_type": "execute_result"
        }
      ]
    },
    {
      "metadata": {
        "hidden": true
      },
      "cell_type": "markdown",
      "source": "#### Simple, no split, approach (no aggregation over firm series)"
    },
    {
      "metadata": {
        "hidden": true
      },
      "cell_type": "markdown",
      "source": "In fact, because `srisk` does not require any aggregate functions, it is not strictly necessary to split the full dataframe into chunks for for each firm.  "
    },
    {
      "metadata": {
        "hidden": true
      },
      "cell_type": "markdown",
      "source": "First approach simply builds a dataframe from the dict."
    },
    {
      "metadata": {
        "hidden": true,
        "trusted": true
      },
      "cell_type": "code",
      "source": "srisk_data = generate_data(firms,dates,['lrmes','tl_x','mc_x'])\npd.DataFrame(srisk(df.lrmes,df.tl_x,df.mc_x,0.08))[0:6]",
      "execution_count": 118,
      "outputs": [
        {
          "data": {
            "text/html": "<div>\n<style>\n    .dataframe thead tr:only-child th {\n        text-align: right;\n    }\n\n    .dataframe thead th {\n        text-align: left;\n    }\n\n    .dataframe tbody tr th {\n        vertical-align: top;\n    }\n</style>\n<table border=\"1\" class=\"dataframe\">\n  <thead>\n    <tr style=\"text-align: right;\">\n      <th></th>\n      <th></th>\n      <th>srisk</th>\n    </tr>\n    <tr>\n      <th>Firm</th>\n      <th>Date</th>\n      <th></th>\n    </tr>\n  </thead>\n  <tbody>\n    <tr>\n      <th rowspan=\"3\" valign=\"top\">RY.TO</th>\n      <th>2018-03-01</th>\n      <td>0.000000</td>\n    </tr>\n    <tr>\n      <th>2018-03-02</th>\n      <td>0.066581</td>\n    </tr>\n    <tr>\n      <th>2018-03-03</th>\n      <td>0.139400</td>\n    </tr>\n    <tr>\n      <th rowspan=\"3\" valign=\"top\">TD.TO</th>\n      <th>2018-03-01</th>\n      <td>0.986115</td>\n    </tr>\n    <tr>\n      <th>2018-03-02</th>\n      <td>0.000000</td>\n    </tr>\n    <tr>\n      <th>2018-03-03</th>\n      <td>0.000000</td>\n    </tr>\n  </tbody>\n</table>\n</div>",
            "text/plain": "                     srisk\nFirm  Date                \nRY.TO 2018-03-01  0.000000\n      2018-03-02  0.066581\n      2018-03-03  0.139400\nTD.TO 2018-03-01  0.986115\n      2018-03-02  0.000000\n      2018-03-03  0.000000"
          },
          "execution_count": 118,
          "metadata": {},
          "output_type": "execute_result"
        }
      ]
    },
    {
      "metadata": {
        "hidden": true
      },
      "cell_type": "markdown",
      "source": "Alternative approach uses `.assign` (but not `.groupby`) & optionally `.loc` if we only want the output fields:"
    },
    {
      "metadata": {
        "collapsed": true,
        "hidden": true,
        "trusted": true
      },
      "cell_type": "code",
      "source": "srisk_data = generate_data(firms,dates,['lrmes','tl_x','mc_x'])\nsrisk_data \\\n    .assign(**srisk(df.lrmes,df.tl_x,df.mc_x,0.08)) \\\n    .loc[:,['srisk']] # Select output to exclude inputs",
      "execution_count": 117,
      "outputs": [
        {
          "data": {
            "text/html": "<div>\n<style>\n    .dataframe thead tr:only-child th {\n        text-align: right;\n    }\n\n    .dataframe thead th {\n        text-align: left;\n    }\n\n    .dataframe tbody tr th {\n        vertical-align: top;\n    }\n</style>\n<table border=\"1\" class=\"dataframe\">\n  <thead>\n    <tr style=\"text-align: right;\">\n      <th></th>\n      <th></th>\n      <th>srisk</th>\n    </tr>\n    <tr>\n      <th>Firm</th>\n      <th>Date</th>\n      <th></th>\n    </tr>\n  </thead>\n  <tbody>\n    <tr>\n      <th rowspan=\"3\" valign=\"top\">RY.TO</th>\n      <th>2018-03-01</th>\n      <td>0.000000</td>\n    </tr>\n    <tr>\n      <th>2018-03-02</th>\n      <td>0.066581</td>\n    </tr>\n    <tr>\n      <th>2018-03-03</th>\n      <td>0.139400</td>\n    </tr>\n    <tr>\n      <th rowspan=\"3\" valign=\"top\">TD.TO</th>\n      <th>2018-03-01</th>\n      <td>0.986115</td>\n    </tr>\n    <tr>\n      <th>2018-03-02</th>\n      <td>0.000000</td>\n    </tr>\n    <tr>\n      <th>2018-03-03</th>\n      <td>0.000000</td>\n    </tr>\n    <tr>\n      <th rowspan=\"3\" valign=\"top\">BNS.TO</th>\n      <th>2018-03-01</th>\n      <td>0.000000</td>\n    </tr>\n    <tr>\n      <th>2018-03-02</th>\n      <td>0.000000</td>\n    </tr>\n    <tr>\n      <th>2018-03-03</th>\n      <td>0.000000</td>\n    </tr>\n    <tr>\n      <th rowspan=\"3\" valign=\"top\">BMO.TO</th>\n      <th>2018-03-01</th>\n      <td>0.000000</td>\n    </tr>\n    <tr>\n      <th>2018-03-02</th>\n      <td>0.000000</td>\n    </tr>\n    <tr>\n      <th>2018-03-03</th>\n      <td>0.000000</td>\n    </tr>\n    <tr>\n      <th rowspan=\"3\" valign=\"top\">CM.TO</th>\n      <th>2018-03-01</th>\n      <td>0.000000</td>\n    </tr>\n    <tr>\n      <th>2018-03-02</th>\n      <td>0.000000</td>\n    </tr>\n    <tr>\n      <th>2018-03-03</th>\n      <td>0.413272</td>\n    </tr>\n  </tbody>\n</table>\n</div>",
            "text/plain": "                      srisk\nFirm   Date                \nRY.TO  2018-03-01  0.000000\n       2018-03-02  0.066581\n       2018-03-03  0.139400\nTD.TO  2018-03-01  0.986115\n       2018-03-02  0.000000\n       2018-03-03  0.000000\nBNS.TO 2018-03-01  0.000000\n       2018-03-02  0.000000\n       2018-03-03  0.000000\nBMO.TO 2018-03-01  0.000000\n       2018-03-02  0.000000\n       2018-03-03  0.000000\nCM.TO  2018-03-01  0.000000\n       2018-03-02  0.000000\n       2018-03-03  0.413272"
          },
          "execution_count": 117,
          "metadata": {},
          "output_type": "execute_result"
        }
      ]
    },
    {
      "metadata": {},
      "cell_type": "markdown",
      "source": "## Azure Machine Learning Studio - python module"
    },
    {
      "metadata": {},
      "cell_type": "markdown",
      "source": "### `azureml_main`"
    },
    {
      "metadata": {
        "trusted": true
      },
      "cell_type": "code",
      "source": "import pandas as pd\nimport numpy as np\nfrom scipy.stats import norm\ndef azureml_main(df1 = None, df2 = None):\n    return df3",
      "execution_count": 21,
      "outputs": []
    },
    {
      "metadata": {},
      "cell_type": "markdown",
      "source": "#### Parameters - scalar floats into a single series"
    },
    {
      "metadata": {
        "trusted": true
      },
      "cell_type": "code",
      "source": "parameters_mes_df = pd.Series({'a':0.05, 'd':0.4}).to_frame(name='Parameters')\n\nparameters_mes_df.loc[['a','d'],'Parameters']  # Can index the values",
      "execution_count": 184,
      "outputs": [
        {
          "data": {
            "text/plain": "a    0.05\nd    0.40\nName: Parameters, dtype: float64"
          },
          "execution_count": 184,
          "metadata": {},
          "output_type": "execute_result"
        }
      ]
    },
    {
      "metadata": {
        "trusted": true
      },
      "cell_type": "code",
      "source": "parameters_mes_dict = parameters_mes_df.to_dict()['Parameters']",
      "execution_count": 179,
      "outputs": []
    },
    {
      "metadata": {
        "trusted": true
      },
      "cell_type": "code",
      "source": "[a,d]=parameters_mes_dict.values()",
      "execution_count": 183,
      "outputs": [
        {
          "data": {
            "text/plain": "[0.050000000000000003, 0.40000000000000002]"
          },
          "execution_count": 183,
          "metadata": {},
          "output_type": "execute_result"
        }
      ]
    },
    {
      "metadata": {},
      "cell_type": "markdown",
      "source": "#### Parameters - heterogeneous types"
    },
    {
      "metadata": {
        "trusted": true
      },
      "cell_type": "code",
      "source": "pd.Series({'p1':True, 'p2':2, 'p3':2.2, 'p4':\"Bla\", 'p5':[1.,2.], 'p6':{'p6a':\"Bla\"}}).to_frame(name='Parameters')",
      "execution_count": 188,
      "outputs": [
        {
          "data": {
            "text/html": "<div>\n<style>\n    .dataframe thead tr:only-child th {\n        text-align: right;\n    }\n\n    .dataframe thead th {\n        text-align: left;\n    }\n\n    .dataframe tbody tr th {\n        vertical-align: top;\n    }\n</style>\n<table border=\"1\" class=\"dataframe\">\n  <thead>\n    <tr style=\"text-align: right;\">\n      <th></th>\n      <th>Parameters</th>\n    </tr>\n  </thead>\n  <tbody>\n    <tr>\n      <th>p1</th>\n      <td>True</td>\n    </tr>\n    <tr>\n      <th>p2</th>\n      <td>2</td>\n    </tr>\n    <tr>\n      <th>p3</th>\n      <td>2.2</td>\n    </tr>\n    <tr>\n      <th>p4</th>\n      <td>Bla</td>\n    </tr>\n    <tr>\n      <th>p5</th>\n      <td>[1.0, 2.0]</td>\n    </tr>\n    <tr>\n      <th>p6</th>\n      <td>{'p6a': 'Bla'}</td>\n    </tr>\n  </tbody>\n</table>\n</div>",
            "text/plain": "        Parameters\np1            True\np2               2\np3             2.2\np4             Bla\np5      [1.0, 2.0]\np6  {'p6a': 'Bla'}"
          },
          "execution_count": 188,
          "metadata": {},
          "output_type": "execute_result"
        }
      ]
    },
    {
      "metadata": {},
      "cell_type": "markdown",
      "source": "#### `azureml_main_ccgarch`"
    },
    {
      "metadata": {},
      "cell_type": "markdown",
      "source": "Note that this module will be written in R in the final AMLS solution. This python function is just for design & test purposes in the Azure notebook."
    },
    {
      "metadata": {
        "init_cell": true,
        "trusted": true
      },
      "cell_type": "code",
      "source": "import pandas as pd\n# import numpy as np\ndef azureml_main_ccgarch(df_firm_returns, df_market_price):\n    '''Estimate parameters for a DCC-GARCH model\n    :param df_firm_returns: \n    :param df_market_price: \n    :returns: Conditional variances h, DCC conditional correlations R'''\n    \n    return df_dcc_garch",
      "execution_count": 10,
      "outputs": []
    },
    {
      "metadata": {},
      "cell_type": "markdown",
      "source": "#### `azureml_main_mes`"
    },
    {
      "metadata": {
        "init_cell": true,
        "trusted": true
      },
      "cell_type": "code",
      "source": "import pandas as pd\nimport numpy as np\nfrom scipy.stats import norm\ndef azureml_main_mes(df_ccgarch , df2 = df_mes_paras):\n    '''Calculate Marginal expected shortfall (MES) & beta for firms.\n    :param df_dcc_garch: \n    :returns: Marginal expected shortfall (MES), long-range MES, beta''' \n    [a,d] = df_mes_paras.to_dict()['Parameters'].values()\n    # Complement to 1 of the confidence level (optional, default=0.05) a in [0.01,0.10]\n    # Six-month crisis threshold for the market index decline used to calculate LRMES (optional, default=0.40).\n    output_fields = ['mes','lrmes','beta_x'] # + ['ret0_m','s_m','ret0_x','s_x','p_mx']\n    return df_ccgarch \\\n                .groupby(['Firm']) \\\n                .apply(lambda df: d.assign(**mes(df.ret0_m, df.s_m, df.ret0_x, df.s_x, df.beta_x, df.p_mx, a, d, debug=False))) \\\n                .loc[:,output_fields] ",
      "execution_count": 11,
      "outputs": [
        {
          "ename": "NameError",
          "evalue": "name 'df_mes_paras' is not defined",
          "output_type": "error",
          "traceback": [
            "\u001b[0;31m---------------------------------------------------------------------------\u001b[0m",
            "\u001b[0;31mNameError\u001b[0m                                 Traceback (most recent call last)",
            "\u001b[0;32m<ipython-input-11-e70a4aff8116>\u001b[0m in \u001b[0;36m<module>\u001b[0;34m()\u001b[0m\n\u001b[1;32m      2\u001b[0m \u001b[0;32mimport\u001b[0m \u001b[0mnumpy\u001b[0m \u001b[0;32mas\u001b[0m \u001b[0mnp\u001b[0m\u001b[0;34m\u001b[0m\u001b[0m\n\u001b[1;32m      3\u001b[0m \u001b[0;32mfrom\u001b[0m \u001b[0mscipy\u001b[0m\u001b[0;34m.\u001b[0m\u001b[0mstats\u001b[0m \u001b[0;32mimport\u001b[0m \u001b[0mnorm\u001b[0m\u001b[0;34m\u001b[0m\u001b[0m\n\u001b[0;32m----> 4\u001b[0;31m \u001b[0;32mdef\u001b[0m \u001b[0mazureml_main_mes\u001b[0m\u001b[0;34m(\u001b[0m\u001b[0mdf_ccgarch\u001b[0m \u001b[0;34m,\u001b[0m \u001b[0mdf2\u001b[0m \u001b[0;34m=\u001b[0m \u001b[0mdf_mes_paras\u001b[0m\u001b[0;34m)\u001b[0m\u001b[0;34m:\u001b[0m\u001b[0;34m\u001b[0m\u001b[0m\n\u001b[0m\u001b[1;32m      5\u001b[0m     '''Calculate Marginal expected shortfall (MES) & beta for firms.\n\u001b[1;32m      6\u001b[0m     \u001b[0;34m:\u001b[0m\u001b[0mparam\u001b[0m \u001b[0mdf_dcc_garch\u001b[0m\u001b[0;34m:\u001b[0m\u001b[0;34m\u001b[0m\u001b[0m\n",
            "\u001b[0;31mNameError\u001b[0m: name 'df_mes_paras' is not defined"
          ]
        }
      ]
    },
    {
      "metadata": {
        "trusted": true
      },
      "cell_type": "code",
      "source": "df_mes_paras = pd.Series({'a':0.05, 'd':0.4}).to_frame(name='Parameters')\ndf_ccgarch = generate_data(firms,dates,['ret0_m','s_m','ret0_x','s_x','beta_x','p_mx'])\n\nazureml_main_mes(df_ccgarch, df_mes_paras) ",
      "execution_count": 150,
      "outputs": [
        {
          "data": {
            "text/html": "<div>\n<style>\n    .dataframe thead tr:only-child th {\n        text-align: right;\n    }\n\n    .dataframe thead th {\n        text-align: left;\n    }\n\n    .dataframe tbody tr th {\n        vertical-align: top;\n    }\n</style>\n<table border=\"1\" class=\"dataframe\">\n  <thead>\n    <tr style=\"text-align: right;\">\n      <th></th>\n      <th></th>\n      <th>ret0_m</th>\n      <th>s_m</th>\n      <th>ret0_x</th>\n      <th>s_x</th>\n      <th>beta_x</th>\n      <th>p_mx</th>\n    </tr>\n    <tr>\n      <th>Firm</th>\n      <th>Date</th>\n      <th></th>\n      <th></th>\n      <th></th>\n      <th></th>\n      <th></th>\n      <th></th>\n    </tr>\n  </thead>\n  <tbody>\n    <tr>\n      <th rowspan=\"3\" valign=\"top\">RY.TO</th>\n      <th>2018-03-01</th>\n      <td>0.272933</td>\n      <td>0.913575</td>\n      <td>0.603346</td>\n      <td>-1.028871</td>\n      <td>1.418573</td>\n      <td>-0.386753</td>\n    </tr>\n    <tr>\n      <th>2018-03-02</th>\n      <td>0.455251</td>\n      <td>0.056976</td>\n      <td>0.151604</td>\n      <td>0.816126</td>\n      <td>-0.427207</td>\n      <td>1.795311</td>\n    </tr>\n    <tr>\n      <th>2018-03-03</th>\n      <td>2.011012</td>\n      <td>0.692939</td>\n      <td>-2.134896</td>\n      <td>0.600491</td>\n      <td>-0.254310</td>\n      <td>-0.048077</td>\n    </tr>\n    <tr>\n      <th rowspan=\"3\" valign=\"top\">TD.TO</th>\n      <th>2018-03-01</th>\n      <td>0.901040</td>\n      <td>1.632888</td>\n      <td>0.468990</td>\n      <td>-2.744852</td>\n      <td>0.896312</td>\n      <td>-1.185023</td>\n    </tr>\n    <tr>\n      <th>2018-03-02</th>\n      <td>-0.332145</td>\n      <td>1.100406</td>\n      <td>1.935782</td>\n      <td>-0.394271</td>\n      <td>-0.219508</td>\n      <td>-2.128438</td>\n    </tr>\n    <tr>\n      <th>2018-03-03</th>\n      <td>1.246148</td>\n      <td>0.007561</td>\n      <td>1.055629</td>\n      <td>0.464768</td>\n      <td>0.755410</td>\n      <td>-2.679953</td>\n    </tr>\n    <tr>\n      <th rowspan=\"3\" valign=\"top\">BNS.TO</th>\n      <th>2018-03-01</th>\n      <td>0.169730</td>\n      <td>1.338404</td>\n      <td>-0.090046</td>\n      <td>-0.313123</td>\n      <td>1.094004</td>\n      <td>-1.020318</td>\n    </tr>\n    <tr>\n      <th>2018-03-02</th>\n      <td>-2.602466</td>\n      <td>3.022510</td>\n      <td>0.276737</td>\n      <td>0.193696</td>\n      <td>0.265474</td>\n      <td>1.115367</td>\n    </tr>\n    <tr>\n      <th>2018-03-03</th>\n      <td>-2.055217</td>\n      <td>0.238081</td>\n      <td>0.144116</td>\n      <td>0.284929</td>\n      <td>-0.130618</td>\n      <td>0.667574</td>\n    </tr>\n    <tr>\n      <th rowspan=\"3\" valign=\"top\">BMO.TO</th>\n      <th>2018-03-01</th>\n      <td>-1.200605</td>\n      <td>-0.544792</td>\n      <td>0.886660</td>\n      <td>0.016869</td>\n      <td>-1.304055</td>\n      <td>2.020138</td>\n    </tr>\n    <tr>\n      <th>2018-03-02</th>\n      <td>-0.072654</td>\n      <td>0.127795</td>\n      <td>-1.620787</td>\n      <td>1.236877</td>\n      <td>0.876469</td>\n      <td>-0.981803</td>\n    </tr>\n    <tr>\n      <th>2018-03-03</th>\n      <td>0.168967</td>\n      <td>-0.973845</td>\n      <td>-0.106794</td>\n      <td>1.694870</td>\n      <td>1.560421</td>\n      <td>-0.911057</td>\n    </tr>\n    <tr>\n      <th rowspan=\"3\" valign=\"top\">CM.TO</th>\n      <th>2018-03-01</th>\n      <td>0.680704</td>\n      <td>-0.378412</td>\n      <td>0.499268</td>\n      <td>0.180705</td>\n      <td>-1.255103</td>\n      <td>0.772557</td>\n    </tr>\n    <tr>\n      <th>2018-03-02</th>\n      <td>0.071080</td>\n      <td>-1.588389</td>\n      <td>-0.259507</td>\n      <td>0.337514</td>\n      <td>-0.306894</td>\n      <td>-0.465573</td>\n    </tr>\n    <tr>\n      <th>2018-03-03</th>\n      <td>0.059330</td>\n      <td>0.027995</td>\n      <td>0.294312</td>\n      <td>-1.216517</td>\n      <td>-1.426298</td>\n      <td>0.338835</td>\n    </tr>\n  </tbody>\n</table>\n</div>",
            "text/plain": "                     ret0_m       s_m    ret0_x       s_x    beta_x      p_mx\nFirm   Date                                                                  \nRY.TO  2018-03-01  0.272933  0.913575  0.603346 -1.028871  1.418573 -0.386753\n       2018-03-02  0.455251  0.056976  0.151604  0.816126 -0.427207  1.795311\n       2018-03-03  2.011012  0.692939 -2.134896  0.600491 -0.254310 -0.048077\nTD.TO  2018-03-01  0.901040  1.632888  0.468990 -2.744852  0.896312 -1.185023\n       2018-03-02 -0.332145  1.100406  1.935782 -0.394271 -0.219508 -2.128438\n       2018-03-03  1.246148  0.007561  1.055629  0.464768  0.755410 -2.679953\nBNS.TO 2018-03-01  0.169730  1.338404 -0.090046 -0.313123  1.094004 -1.020318\n       2018-03-02 -2.602466  3.022510  0.276737  0.193696  0.265474  1.115367\n       2018-03-03 -2.055217  0.238081  0.144116  0.284929 -0.130618  0.667574\nBMO.TO 2018-03-01 -1.200605 -0.544792  0.886660  0.016869 -1.304055  2.020138\n       2018-03-02 -0.072654  0.127795 -1.620787  1.236877  0.876469 -0.981803\n       2018-03-03  0.168967 -0.973845 -0.106794  1.694870  1.560421 -0.911057\nCM.TO  2018-03-01  0.680704 -0.378412  0.499268  0.180705 -1.255103  0.772557\n       2018-03-02  0.071080 -1.588389 -0.259507  0.337514 -0.306894 -0.465573\n       2018-03-03  0.059330  0.027995  0.294312 -1.216517 -1.426298  0.338835"
          },
          "execution_count": 150,
          "metadata": {},
          "output_type": "execute_result"
        }
      ]
    },
    {
      "metadata": {},
      "cell_type": "markdown",
      "source": "#### `azureml_main_srisk`"
    },
    {
      "metadata": {
        "init_cell": true,
        "trusted": true
      },
      "cell_type": "code",
      "source": "import pandas as pd\n# import numpy as np\ndef azureml_main_srisk(df_mes, df_balance_sheet):\n    '''Calculate SRISK for a set of firms from MES values and balance sheet data: assets & liabilities.\n    :param df_mes: Marginal expected shortfall (MES), long-range MES, beta\n    :param df_balance_sheet: firm balance sheet data: assets & liabilities (debt)\n    :returns: SRISK systemic risk measure'''\n    return df_srisk",
      "execution_count": null,
      "outputs": []
    },
    {
      "metadata": {
        "trusted": true
      },
      "cell_type": "code",
      "source": "",
      "execution_count": null,
      "outputs": []
    }
  ],
  "metadata": {
    "celltoolbar": "Initialization Cell",
    "kernelspec": {
      "name": "python36",
      "display_name": "Python 3.6",
      "language": "python"
    },
    "language_info": {
      "mimetype": "text/x-python",
      "nbconvert_exporter": "python",
      "name": "python",
      "pygments_lexer": "ipython3",
      "version": "3.6.3",
      "file_extension": ".py",
      "codemirror_mode": {
        "version": 3,
        "name": "ipython"
      }
    }
  },
  "nbformat": 4,
  "nbformat_minor": 2
}