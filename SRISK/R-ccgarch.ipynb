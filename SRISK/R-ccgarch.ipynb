{
 "cells": [
  {
   "cell_type": "markdown",
   "metadata": {
    "collapsed": true
   },
   "source": [
    "# R - `ccgarch`\n",
    "Dynamic conditional correlation (DCC) generalized autoregressive conditional heteroskedastic (GARCH) model  \n",
    "This is required to estimate the *marginal expected shortfall* (MES) and from that SRISK.\n",
    "### `ccgarch`\n",
    "https://cran.r-project.org/web/packages/ccgarch/  \n",
    "https://github.com/cran/ccgarch    \n",
    "https://www.r-project.org/conferences/useR-2008/slides/Nakatani.pdf  \n",
    "### `rmgarch`\n",
    "https://cran.r-project.org/web/packages/rmgarch/     \n",
    "http://www.unstarched.net/2013/01/03/the-garch-dcc-model-and-2-stage-dccmvt-estimation/    \n",
    "(Unable to install `rmgarch` on Azure.)"
   ]
  },
  {
   "cell_type": "code",
   "execution_count": 5,
   "metadata": {},
   "outputs": [],
   "source": [
    "# install.packages(\"rugarch\")"
   ]
  },
  {
   "cell_type": "code",
   "execution_count": 2,
   "metadata": {},
   "outputs": [
    {
     "name": "stderr",
     "output_type": "stream",
     "text": [
      "Loading required package: ccgarch\n",
      "Warning message in library(package, lib.loc = lib.loc, character.only = TRUE, logical.return = TRUE, :\n",
      "“there is no package called ‘ccgarch’”Installing package into ‘/home/nbuser/R’\n",
      "(as ‘lib’ is unspecified)\n"
     ]
    }
   ],
   "source": [
    "if(!require(ccgarch)){\n",
    "    install.packages(\"ccgarch\")\n",
    "    library(ccgarch)\n",
    "}"
   ]
  },
  {
   "cell_type": "markdown",
   "metadata": {},
   "source": [
    "# Package `ccgarch` sample code"
   ]
  },
  {
   "cell_type": "markdown",
   "metadata": {},
   "source": [
    "## Simulation\n",
    "Simulating data from the original DCC-GARCH(1,1) process"
   ]
  },
  {
   "cell_type": "code",
   "execution_count": 3,
   "metadata": {},
   "outputs": [],
   "source": [
    "  nobs <- 1000\n",
    "  a <- c(0.003, 0.005, 0.001)\n",
    "  A <- diag(c(0.2,0.3,0.15))\n",
    "  B <- diag(c(0.75, 0.6, 0.8))\n",
    "  uncR <- matrix(c(1.0, 0.4, 0.3, 0.4, 1.0, 0.12, 0.3, 0.12, 1.0),3,3)\n",
    "  dcc.para <- c(0.01,0.98)\n",
    "  dcc.data <- dcc.sim(nobs, a, A, B, uncR, dcc.para, model=\"diagonal\")"
   ]
  },
  {
   "cell_type": "markdown",
   "metadata": {},
   "source": [
    "Outputs are:\n",
    "* `z`\n",
    "* `std.z`\n",
    "* `dcc`\n",
    "* `h`\n",
    "* `eps`"
   ]
  },
  {
   "cell_type": "code",
   "execution_count": 4,
   "metadata": {},
   "outputs": [
    {
     "data": {
      "text/html": [
       "<dl>\n",
       "\t<dt>$z</dt>\n",
       "\t\t<dd><table>\n",
       "<tbody>\n",
       "\t<tr><td> 0.5206696</td><td>-0.8910939</td><td> 0.3819692</td></tr>\n",
       "\t<tr><td> 0.4550651</td><td> 1.3472001</td><td> 1.2939447</td></tr>\n",
       "\t<tr><td>-2.1674543</td><td> 1.2606279</td><td> 0.1054293</td></tr>\n",
       "\t<tr><td> 1.5313007</td><td>-1.4033190</td><td> 0.9097230</td></tr>\n",
       "\t<tr><td>-1.4804667</td><td>-1.4289710</td><td> 1.1540253</td></tr>\n",
       "\t<tr><td>-0.4845374</td><td>-0.9756432</td><td>-0.2019444</td></tr>\n",
       "</tbody>\n",
       "</table>\n",
       "</dd>\n",
       "\t<dt>$std.z</dt>\n",
       "\t\t<dd><table>\n",
       "<tbody>\n",
       "\t<tr><td> 0.5206696</td><td>-0.6936783</td><td> 0.5345657</td></tr>\n",
       "\t<tr><td> 0.4550651</td><td> 1.4215491</td><td> 1.3860747</td></tr>\n",
       "\t<tr><td>-2.1674543</td><td> 0.5503189</td><td>-0.6786519</td></tr>\n",
       "\t<tr><td> 1.5313007</td><td>-0.9131533</td><td> 1.3811089</td></tr>\n",
       "\t<tr><td>-1.4804667</td><td>-1.7713403</td><td> 0.4619071</td></tr>\n",
       "\t<tr><td>-0.4845374</td><td>-1.0733593</td><td>-0.3724337</td></tr>\n",
       "</tbody>\n",
       "</table>\n",
       "</dd>\n",
       "\t<dt>$dcc</dt>\n",
       "\t\t<dd><table>\n",
       "<tbody>\n",
       "\t<tr><td>1        </td><td>0.3002125</td><td>0.3709620</td><td>0.3002125</td><td>1        </td><td>0.1255535</td><td>0.3709620</td><td>0.1255535</td><td>1        </td></tr>\n",
       "\t<tr><td>1        </td><td>0.2965519</td><td>0.3719924</td><td>0.2965519</td><td>1        </td><td>0.1215184</td><td>0.3719924</td><td>0.1215184</td><td>1        </td></tr>\n",
       "\t<tr><td>1        </td><td>0.3007827</td><td>0.3737120</td><td>0.3007827</td><td>1        </td><td>0.1378266</td><td>0.3737120</td><td>0.1378266</td><td>1        </td></tr>\n",
       "\t<tr><td>1        </td><td>0.2827120</td><td>0.3777220</td><td>0.2827120</td><td>1        </td><td>0.1336100</td><td>0.3777220</td><td>0.1336100</td><td>1        </td></tr>\n",
       "\t<tr><td>1        </td><td>0.2660429</td><td>0.3896211</td><td>0.2660429</td><td>1        </td><td>0.1197954</td><td>0.3896211</td><td>0.1197954</td><td>1        </td></tr>\n",
       "\t<tr><td>1        </td><td>0.2854389</td><td>0.3776143</td><td>0.2854389</td><td>1        </td><td>0.1102152</td><td>0.3776143</td><td>0.1102152</td><td>1        </td></tr>\n",
       "</tbody>\n",
       "</table>\n",
       "</dd>\n",
       "\t<dt>$h</dt>\n",
       "\t\t<dd><table>\n",
       "<tbody>\n",
       "\t<tr><td>0.05341312</td><td>0.05093288</td><td>0.02490701</td></tr>\n",
       "\t<tr><td>0.04595586</td><td>0.04291224</td><td>0.02199323</td></tr>\n",
       "\t<tr><td>0.03937025</td><td>0.05676248</td><td>0.02493260</td></tr>\n",
       "\t<tr><td>0.06951885</td><td>0.04421466</td><td>0.02266855</td></tr>\n",
       "\t<tr><td>0.08774183</td><td>0.04258930</td><td>0.02562075</td></tr>\n",
       "\t<tr><td>0.10726856</td><td>0.07064263</td><td>0.02231656</td></tr>\n",
       "</tbody>\n",
       "</table>\n",
       "</dd>\n",
       "\t<dt>$eps</dt>\n",
       "\t\t<dd><table>\n",
       "<tbody>\n",
       "\t<tr><td> 0.12033341</td><td>-0.1565515 </td><td> 0.08436492</td></tr>\n",
       "\t<tr><td> 0.09755376</td><td> 0.2944777 </td><td> 0.20555645</td></tr>\n",
       "\t<tr><td>-0.43006492</td><td> 0.1311128 </td><td>-0.10715955</td></tr>\n",
       "\t<tr><td> 0.40374928</td><td>-0.1920113 </td><td> 0.20794086</td></tr>\n",
       "\t<tr><td>-0.43853271</td><td>-0.3655546 </td><td> 0.07393509</td></tr>\n",
       "\t<tr><td>-0.15869511</td><td>-0.2852847 </td><td>-0.05563686</td></tr>\n",
       "</tbody>\n",
       "</table>\n",
       "</dd>\n",
       "</dl>\n"
      ],
      "text/latex": [
       "\\begin{description}\n",
       "\\item[\\$z] \\begin{tabular}{lll}\n",
       "\t  0.5206696 & -0.8910939 &  0.3819692\\\\\n",
       "\t  0.4550651 &  1.3472001 &  1.2939447\\\\\n",
       "\t -2.1674543 &  1.2606279 &  0.1054293\\\\\n",
       "\t  1.5313007 & -1.4033190 &  0.9097230\\\\\n",
       "\t -1.4804667 & -1.4289710 &  1.1540253\\\\\n",
       "\t -0.4845374 & -0.9756432 & -0.2019444\\\\\n",
       "\\end{tabular}\n",
       "\n",
       "\\item[\\$std.z] \\begin{tabular}{lll}\n",
       "\t  0.5206696 & -0.6936783 &  0.5345657\\\\\n",
       "\t  0.4550651 &  1.4215491 &  1.3860747\\\\\n",
       "\t -2.1674543 &  0.5503189 & -0.6786519\\\\\n",
       "\t  1.5313007 & -0.9131533 &  1.3811089\\\\\n",
       "\t -1.4804667 & -1.7713403 &  0.4619071\\\\\n",
       "\t -0.4845374 & -1.0733593 & -0.3724337\\\\\n",
       "\\end{tabular}\n",
       "\n",
       "\\item[\\$dcc] \\begin{tabular}{lllllllll}\n",
       "\t 1         & 0.3002125 & 0.3709620 & 0.3002125 & 1         & 0.1255535 & 0.3709620 & 0.1255535 & 1        \\\\\n",
       "\t 1         & 0.2965519 & 0.3719924 & 0.2965519 & 1         & 0.1215184 & 0.3719924 & 0.1215184 & 1        \\\\\n",
       "\t 1         & 0.3007827 & 0.3737120 & 0.3007827 & 1         & 0.1378266 & 0.3737120 & 0.1378266 & 1        \\\\\n",
       "\t 1         & 0.2827120 & 0.3777220 & 0.2827120 & 1         & 0.1336100 & 0.3777220 & 0.1336100 & 1        \\\\\n",
       "\t 1         & 0.2660429 & 0.3896211 & 0.2660429 & 1         & 0.1197954 & 0.3896211 & 0.1197954 & 1        \\\\\n",
       "\t 1         & 0.2854389 & 0.3776143 & 0.2854389 & 1         & 0.1102152 & 0.3776143 & 0.1102152 & 1        \\\\\n",
       "\\end{tabular}\n",
       "\n",
       "\\item[\\$h] \\begin{tabular}{lll}\n",
       "\t 0.05341312 & 0.05093288 & 0.02490701\\\\\n",
       "\t 0.04595586 & 0.04291224 & 0.02199323\\\\\n",
       "\t 0.03937025 & 0.05676248 & 0.02493260\\\\\n",
       "\t 0.06951885 & 0.04421466 & 0.02266855\\\\\n",
       "\t 0.08774183 & 0.04258930 & 0.02562075\\\\\n",
       "\t 0.10726856 & 0.07064263 & 0.02231656\\\\\n",
       "\\end{tabular}\n",
       "\n",
       "\\item[\\$eps] \\begin{tabular}{lll}\n",
       "\t  0.12033341 & -0.1565515  &  0.08436492\\\\\n",
       "\t  0.09755376 &  0.2944777  &  0.20555645\\\\\n",
       "\t -0.43006492 &  0.1311128  & -0.10715955\\\\\n",
       "\t  0.40374928 & -0.1920113  &  0.20794086\\\\\n",
       "\t -0.43853271 & -0.3655546  &  0.07393509\\\\\n",
       "\t -0.15869511 & -0.2852847  & -0.05563686\\\\\n",
       "\\end{tabular}\n",
       "\n",
       "\\end{description}\n"
      ],
      "text/markdown": [
       "$z\n",
       ":   \n",
       "|  0.5206696 | -0.8910939 |  0.3819692 | \n",
       "|  0.4550651 |  1.3472001 |  1.2939447 | \n",
       "| -2.1674543 |  1.2606279 |  0.1054293 | \n",
       "|  1.5313007 | -1.4033190 |  0.9097230 | \n",
       "| -1.4804667 | -1.4289710 |  1.1540253 | \n",
       "| -0.4845374 | -0.9756432 | -0.2019444 | \n",
       "\n",
       "\n",
       "\n",
       "$std.z\n",
       ":   \n",
       "|  0.5206696 | -0.6936783 |  0.5345657 | \n",
       "|  0.4550651 |  1.4215491 |  1.3860747 | \n",
       "| -2.1674543 |  0.5503189 | -0.6786519 | \n",
       "|  1.5313007 | -0.9131533 |  1.3811089 | \n",
       "| -1.4804667 | -1.7713403 |  0.4619071 | \n",
       "| -0.4845374 | -1.0733593 | -0.3724337 | \n",
       "\n",
       "\n",
       "\n",
       "$dcc\n",
       ":   \n",
       "| 1         | 0.3002125 | 0.3709620 | 0.3002125 | 1         | 0.1255535 | 0.3709620 | 0.1255535 | 1         | \n",
       "| 1         | 0.2965519 | 0.3719924 | 0.2965519 | 1         | 0.1215184 | 0.3719924 | 0.1215184 | 1         | \n",
       "| 1         | 0.3007827 | 0.3737120 | 0.3007827 | 1         | 0.1378266 | 0.3737120 | 0.1378266 | 1         | \n",
       "| 1         | 0.2827120 | 0.3777220 | 0.2827120 | 1         | 0.1336100 | 0.3777220 | 0.1336100 | 1         | \n",
       "| 1         | 0.2660429 | 0.3896211 | 0.2660429 | 1         | 0.1197954 | 0.3896211 | 0.1197954 | 1         | \n",
       "| 1         | 0.2854389 | 0.3776143 | 0.2854389 | 1         | 0.1102152 | 0.3776143 | 0.1102152 | 1         | \n",
       "\n",
       "\n",
       "\n",
       "$h\n",
       ":   \n",
       "| 0.05341312 | 0.05093288 | 0.02490701 | \n",
       "| 0.04595586 | 0.04291224 | 0.02199323 | \n",
       "| 0.03937025 | 0.05676248 | 0.02493260 | \n",
       "| 0.06951885 | 0.04421466 | 0.02266855 | \n",
       "| 0.08774183 | 0.04258930 | 0.02562075 | \n",
       "| 0.10726856 | 0.07064263 | 0.02231656 | \n",
       "\n",
       "\n",
       "\n",
       "$eps\n",
       ":   \n",
       "|  0.12033341 | -0.1565515  |  0.08436492 | \n",
       "|  0.09755376 |  0.2944777  |  0.20555645 | \n",
       "| -0.43006492 |  0.1311128  | -0.10715955 | \n",
       "|  0.40374928 | -0.1920113  |  0.20794086 | \n",
       "| -0.43853271 | -0.3655546  |  0.07393509 | \n",
       "| -0.15869511 | -0.2852847  | -0.05563686 | \n",
       "\n",
       "\n",
       "\n",
       "\n",
       "\n"
      ],
      "text/plain": [
       "$z\n",
       "           [,1]       [,2]       [,3]\n",
       "[1,]  0.5206696 -0.8910939  0.3819692\n",
       "[2,]  0.4550651  1.3472001  1.2939447\n",
       "[3,] -2.1674543  1.2606279  0.1054293\n",
       "[4,]  1.5313007 -1.4033190  0.9097230\n",
       "[5,] -1.4804667 -1.4289710  1.1540253\n",
       "[6,] -0.4845374 -0.9756432 -0.2019444\n",
       "\n",
       "$std.z\n",
       "           [,1]       [,2]       [,3]\n",
       "[1,]  0.5206696 -0.6936783  0.5345657\n",
       "[2,]  0.4550651  1.4215491  1.3860747\n",
       "[3,] -2.1674543  0.5503189 -0.6786519\n",
       "[4,]  1.5313007 -0.9131533  1.3811089\n",
       "[5,] -1.4804667 -1.7713403  0.4619071\n",
       "[6,] -0.4845374 -1.0733593 -0.3724337\n",
       "\n",
       "$dcc\n",
       "     [,1]      [,2]      [,3]      [,4] [,5]      [,6]      [,7]      [,8] [,9]\n",
       "[1,]    1 0.3002125 0.3709620 0.3002125    1 0.1255535 0.3709620 0.1255535    1\n",
       "[2,]    1 0.2965519 0.3719924 0.2965519    1 0.1215184 0.3719924 0.1215184    1\n",
       "[3,]    1 0.3007827 0.3737120 0.3007827    1 0.1378266 0.3737120 0.1378266    1\n",
       "[4,]    1 0.2827120 0.3777220 0.2827120    1 0.1336100 0.3777220 0.1336100    1\n",
       "[5,]    1 0.2660429 0.3896211 0.2660429    1 0.1197954 0.3896211 0.1197954    1\n",
       "[6,]    1 0.2854389 0.3776143 0.2854389    1 0.1102152 0.3776143 0.1102152    1\n",
       "\n",
       "$h\n",
       "           [,1]       [,2]       [,3]\n",
       "[1,] 0.05341312 0.05093288 0.02490701\n",
       "[2,] 0.04595586 0.04291224 0.02199323\n",
       "[3,] 0.03937025 0.05676248 0.02493260\n",
       "[4,] 0.06951885 0.04421466 0.02266855\n",
       "[5,] 0.08774183 0.04258930 0.02562075\n",
       "[6,] 0.10726856 0.07064263 0.02231656\n",
       "\n",
       "$eps\n",
       "            [,1]       [,2]        [,3]\n",
       "[1,]  0.12033341 -0.1565515  0.08436492\n",
       "[2,]  0.09755376  0.2944777  0.20555645\n",
       "[3,] -0.43006492  0.1311128 -0.10715955\n",
       "[4,]  0.40374928 -0.1920113  0.20794086\n",
       "[5,] -0.43853271 -0.3655546  0.07393509\n",
       "[6,] -0.15869511 -0.2852847 -0.05563686\n"
      ]
     },
     "metadata": {},
     "output_type": "display_data"
    }
   ],
   "source": [
    "lapply(dcc.data,head)"
   ]
  },
  {
   "cell_type": "markdown",
   "metadata": {},
   "source": [
    "## Estimation - `dcc.estimation`\n",
    "Estimating a DCC-GARCH(1,1) model  \n",
    "See **P6** of https://cran.r-project.org/web/packages/ccgarch/ccgarch.pdf   \n",
    "https://www.rdocumentation.org/packages/ccgarch/versions/0.2.3/topics/dcc.estimation  "
   ]
  },
  {
   "cell_type": "code",
   "execution_count": 10,
   "metadata": {},
   "outputs": [
    {
     "name": "stdout",
     "output_type": "stream",
     "text": [
      "****************************************************************\n",
      "*  Estimation has been completed.                              *\n",
      "*  The outputs are saved in a list with components:            *\n",
      "*    out    : the estimates and their standard errors          *\n",
      "*    loglik : the value of the log-likelihood at the estimates *\n",
      "*    h      : a matrix of estimated conditional variances      *\n",
      "*    DCC    : a matrix of DCC estimates                        *\n",
      "*    std.resid : a matrix of the standardised residuals        *\n",
      "*    first  : the results of the first stage estimation        *\n",
      "*    second : the results of the second stage estimation       *\n",
      "****************************************************************\n"
     ]
    }
   ],
   "source": [
    "dcc.results <- dcc.estimation(inia=a, iniA=A, iniB=B, ini.dcc=dcc.para, \n",
    "        dvar=dcc.data$eps, model=\"diagonal\")"
   ]
  },
  {
   "cell_type": "markdown",
   "metadata": {},
   "source": [
    "#### Parameter estimates and their robust standard errors `dcc.results$out`"
   ]
  },
  {
   "cell_type": "markdown",
   "metadata": {},
   "source": [
    "Outputs are:\n",
    "* `out` - parameter estimates and their standard errors: vector `a`, matrices `A` & `B`\n",
    "* `loglik` - the value of the log-likelihood at the estimates (scalar)\n",
    "* `h` - estimated conditional variances ($T\\times N$)\n",
    "* `DCC` - a matrix of DCC estimates  ($T\\times N^2$)\n",
    "* `std.resid` a matrix of the standardised residuals ($T\\times N$)\n",
    "* `first `\n",
    "* `second`"
   ]
  },
  {
   "cell_type": "code",
   "execution_count": 9,
   "metadata": {},
   "outputs": [
    {
     "data": {
      "text/html": [
       "<table>\n",
       "<thead><tr><th></th><th scope=col>a1</th><th scope=col>a2</th><th scope=col>a3</th><th scope=col>A11</th><th scope=col>A22</th><th scope=col>A33</th><th scope=col>B11</th><th scope=col>B22</th><th scope=col>B33</th><th scope=col>dcc alpha</th><th scope=col>dcc beta</th></tr></thead>\n",
       "<tbody>\n",
       "\t<tr><th scope=row>estimates</th><td>0.0017628193</td><td>0.003995321 </td><td>0.001298869 </td><td>0.1175401033</td><td>0.28682881  </td><td>0.17806329  </td><td>0.8479426868</td><td>0.66384874  </td><td>0.76507433  </td><td>0.006945695 </td><td>0.98294356  </td></tr>\n",
       "\t<tr><th scope=row>std.err</th><td>0.0006186365</td><td>0.022809737 </td><td>0.026400181 </td><td>0.0008742992</td><td>0.03817618  </td><td>0.03701335  </td><td>0.0004362676</td><td>0.03416077  </td><td>0.04367185  </td><td>0.004102339 </td><td>0.01298284  </td></tr>\n",
       "</tbody>\n",
       "</table>\n"
      ],
      "text/latex": [
       "\\begin{tabular}{r|lllllllllll}\n",
       "  & a1 & a2 & a3 & A11 & A22 & A33 & B11 & B22 & B33 & dcc alpha & dcc beta\\\\\n",
       "\\hline\n",
       "\testimates & 0.0017628193 & 0.003995321  & 0.001298869  & 0.1175401033 & 0.28682881   & 0.17806329   & 0.8479426868 & 0.66384874   & 0.76507433   & 0.006945695  & 0.98294356  \\\\\n",
       "\tstd.err & 0.0006186365 & 0.022809737  & 0.026400181  & 0.0008742992 & 0.03817618   & 0.03701335   & 0.0004362676 & 0.03416077   & 0.04367185   & 0.004102339  & 0.01298284  \\\\\n",
       "\\end{tabular}\n"
      ],
      "text/markdown": [
       "\n",
       "| <!--/--> | a1 | a2 | a3 | A11 | A22 | A33 | B11 | B22 | B33 | dcc alpha | dcc beta | \n",
       "|---|---|\n",
       "| estimates | 0.0017628193 | 0.003995321  | 0.001298869  | 0.1175401033 | 0.28682881   | 0.17806329   | 0.8479426868 | 0.66384874   | 0.76507433   | 0.006945695  | 0.98294356   | \n",
       "| std.err | 0.0006186365 | 0.022809737  | 0.026400181  | 0.0008742992 | 0.03817618   | 0.03701335   | 0.0004362676 | 0.03416077   | 0.04367185   | 0.004102339  | 0.01298284   | \n",
       "\n",
       "\n"
      ],
      "text/plain": [
       "          a1           a2          a3          A11          A22       \n",
       "estimates 0.0017628193 0.003995321 0.001298869 0.1175401033 0.28682881\n",
       "std.err   0.0006186365 0.022809737 0.026400181 0.0008742992 0.03817618\n",
       "          A33        B11          B22        B33        dcc alpha   dcc beta  \n",
       "estimates 0.17806329 0.8479426868 0.66384874 0.76507433 0.006945695 0.98294356\n",
       "std.err   0.03701335 0.0004362676 0.03416077 0.04367185 0.004102339 0.01298284"
      ]
     },
     "metadata": {},
     "output_type": "display_data"
    }
   ],
   "source": [
    "dcc.results$out"
   ]
  },
  {
   "cell_type": "code",
   "execution_count": 7,
   "metadata": {},
   "outputs": [
    {
     "data": {
      "text/html": [
       "977.998223197286"
      ],
      "text/latex": [
       "977.998223197286"
      ],
      "text/markdown": [
       "977.998223197286"
      ],
      "text/plain": [
       "[1] 977.9982"
      ]
     },
     "metadata": {},
     "output_type": "display_data"
    }
   ],
   "source": [
    "dcc.results$loglik"
   ]
  },
  {
   "cell_type": "code",
   "execution_count": 11,
   "metadata": {},
   "outputs": [
    {
     "data": {
      "text/html": [
       "<table>\n",
       "<tbody>\n",
       "\t<tr><td>0.05827177</td><td>0.06497643</td><td>0.02330323</td></tr>\n",
       "\t<tr><td>0.05287593</td><td>0.05415955</td><td>0.02039493</td></tr>\n",
       "\t<tr><td>0.04771718</td><td>0.06482204</td><td>0.02442629</td></tr>\n",
       "\t<tr><td>0.06396398</td><td>0.05195810</td><td>0.02203153</td></tr>\n",
       "\t<tr><td>0.07516123</td><td>0.04906254</td><td>0.02585398</td></tr>\n",
       "\t<tr><td>0.08809948</td><td>0.07489441</td><td>0.02205245</td></tr>\n",
       "</tbody>\n",
       "</table>\n"
      ],
      "text/latex": [
       "\\begin{tabular}{lll}\n",
       "\t 0.05827177 & 0.06497643 & 0.02330323\\\\\n",
       "\t 0.05287593 & 0.05415955 & 0.02039493\\\\\n",
       "\t 0.04771718 & 0.06482204 & 0.02442629\\\\\n",
       "\t 0.06396398 & 0.05195810 & 0.02203153\\\\\n",
       "\t 0.07516123 & 0.04906254 & 0.02585398\\\\\n",
       "\t 0.08809948 & 0.07489441 & 0.02205245\\\\\n",
       "\\end{tabular}\n"
      ],
      "text/markdown": [
       "\n",
       "| 0.05827177 | 0.06497643 | 0.02330323 | \n",
       "| 0.05287593 | 0.05415955 | 0.02039493 | \n",
       "| 0.04771718 | 0.06482204 | 0.02442629 | \n",
       "| 0.06396398 | 0.05195810 | 0.02203153 | \n",
       "| 0.07516123 | 0.04906254 | 0.02585398 | \n",
       "| 0.08809948 | 0.07489441 | 0.02205245 | \n",
       "\n",
       "\n"
      ],
      "text/plain": [
       "     [,1]       [,2]       [,3]      \n",
       "[1,] 0.05827177 0.06497643 0.02330323\n",
       "[2,] 0.05287593 0.05415955 0.02039493\n",
       "[3,] 0.04771718 0.06482204 0.02442629\n",
       "[4,] 0.06396398 0.05195810 0.02203153\n",
       "[5,] 0.07516123 0.04906254 0.02585398\n",
       "[6,] 0.08809948 0.07489441 0.02205245"
      ]
     },
     "metadata": {},
     "output_type": "display_data"
    }
   ],
   "source": [
    "head(dcc.results$h)"
   ]
  },
  {
   "cell_type": "code",
   "execution_count": 12,
   "metadata": {},
   "outputs": [
    {
     "data": {
      "text/html": [
       "<table>\n",
       "<tbody>\n",
       "\t<tr><td>1        </td><td>0.3880568</td><td>0.4194326</td><td>0.3880568</td><td>1        </td><td>0.2349826</td><td>0.4194326</td><td>0.2349826</td><td>1        </td></tr>\n",
       "\t<tr><td>1        </td><td>0.3850584</td><td>0.4205506</td><td>0.3850584</td><td>1        </td><td>0.2320362</td><td>0.4205506</td><td>0.2320362</td><td>1        </td></tr>\n",
       "\t<tr><td>1        </td><td>0.3864534</td><td>0.4215064</td><td>0.3864534</td><td>1        </td><td>0.2418037</td><td>0.4215064</td><td>0.2418037</td><td>1        </td></tr>\n",
       "\t<tr><td>1        </td><td>0.3738472</td><td>0.4245053</td><td>0.3738472</td><td>1        </td><td>0.2386361</td><td>0.4245053</td><td>0.2386361</td><td>1        </td></tr>\n",
       "\t<tr><td>1        </td><td>0.3604719</td><td>0.4332746</td><td>0.3604719</td><td>1        </td><td>0.2281220</td><td>0.4332746</td><td>0.2281220</td><td>1        </td></tr>\n",
       "\t<tr><td>1        </td><td>0.3723140</td><td>0.4239968</td><td>0.3723140</td><td>1        </td><td>0.2205676</td><td>0.4239968</td><td>0.2205676</td><td>1        </td></tr>\n",
       "</tbody>\n",
       "</table>\n"
      ],
      "text/latex": [
       "\\begin{tabular}{lllllllll}\n",
       "\t 1         & 0.3880568 & 0.4194326 & 0.3880568 & 1         & 0.2349826 & 0.4194326 & 0.2349826 & 1        \\\\\n",
       "\t 1         & 0.3850584 & 0.4205506 & 0.3850584 & 1         & 0.2320362 & 0.4205506 & 0.2320362 & 1        \\\\\n",
       "\t 1         & 0.3864534 & 0.4215064 & 0.3864534 & 1         & 0.2418037 & 0.4215064 & 0.2418037 & 1        \\\\\n",
       "\t 1         & 0.3738472 & 0.4245053 & 0.3738472 & 1         & 0.2386361 & 0.4245053 & 0.2386361 & 1        \\\\\n",
       "\t 1         & 0.3604719 & 0.4332746 & 0.3604719 & 1         & 0.2281220 & 0.4332746 & 0.2281220 & 1        \\\\\n",
       "\t 1         & 0.3723140 & 0.4239968 & 0.3723140 & 1         & 0.2205676 & 0.4239968 & 0.2205676 & 1        \\\\\n",
       "\\end{tabular}\n"
      ],
      "text/markdown": [
       "\n",
       "| 1         | 0.3880568 | 0.4194326 | 0.3880568 | 1         | 0.2349826 | 0.4194326 | 0.2349826 | 1         | \n",
       "| 1         | 0.3850584 | 0.4205506 | 0.3850584 | 1         | 0.2320362 | 0.4205506 | 0.2320362 | 1         | \n",
       "| 1         | 0.3864534 | 0.4215064 | 0.3864534 | 1         | 0.2418037 | 0.4215064 | 0.2418037 | 1         | \n",
       "| 1         | 0.3738472 | 0.4245053 | 0.3738472 | 1         | 0.2386361 | 0.4245053 | 0.2386361 | 1         | \n",
       "| 1         | 0.3604719 | 0.4332746 | 0.3604719 | 1         | 0.2281220 | 0.4332746 | 0.2281220 | 1         | \n",
       "| 1         | 0.3723140 | 0.4239968 | 0.3723140 | 1         | 0.2205676 | 0.4239968 | 0.2205676 | 1         | \n",
       "\n",
       "\n"
      ],
      "text/plain": [
       "     [,1] [,2]      [,3]      [,4]      [,5] [,6]      [,7]      [,8]      [,9]\n",
       "[1,] 1    0.3880568 0.4194326 0.3880568 1    0.2349826 0.4194326 0.2349826 1   \n",
       "[2,] 1    0.3850584 0.4205506 0.3850584 1    0.2320362 0.4205506 0.2320362 1   \n",
       "[3,] 1    0.3864534 0.4215064 0.3864534 1    0.2418037 0.4215064 0.2418037 1   \n",
       "[4,] 1    0.3738472 0.4245053 0.3738472 1    0.2386361 0.4245053 0.2386361 1   \n",
       "[5,] 1    0.3604719 0.4332746 0.3604719 1    0.2281220 0.4332746 0.2281220 1   \n",
       "[6,] 1    0.3723140 0.4239968 0.3723140 1    0.2205676 0.4239968 0.2205676 1   "
      ]
     },
     "metadata": {},
     "output_type": "display_data"
    }
   ],
   "source": [
    "head(dcc.results$DCC)"
   ]
  },
  {
   "cell_type": "markdown",
   "metadata": {},
   "source": [
    "#### DCC estimates - `dcc.results$DCC`"
   ]
  },
  {
   "cell_type": "markdown",
   "metadata": {},
   "source": [
    "Instead of a 3-d $T\\times N\\times N$ `array`, the `DCC` result is a 2-d $T\\times N^2$ `matrix`, so we have to reshape it."
   ]
  },
  {
   "cell_type": "code",
   "execution_count": 13,
   "metadata": {},
   "outputs": [
    {
     "data": {
      "text/html": [
       "<ol class=list-inline>\n",
       "\t<li>1000</li>\n",
       "\t<li>9</li>\n",
       "</ol>\n"
      ],
      "text/latex": [
       "\\begin{enumerate*}\n",
       "\\item 1000\n",
       "\\item 9\n",
       "\\end{enumerate*}\n"
      ],
      "text/markdown": [
       "1. 1000\n",
       "2. 9\n",
       "\n",
       "\n"
      ],
      "text/plain": [
       "[1] 1000    9"
      ]
     },
     "metadata": {},
     "output_type": "display_data"
    }
   ],
   "source": [
    "dim(dcc.results$DCC)"
   ]
  },
  {
   "cell_type": "code",
   "execution_count": 14,
   "metadata": {},
   "outputs": [
    {
     "data": {
      "text/html": [
       "<ol class=list-inline>\n",
       "\t<li>1</li>\n",
       "\t<li>0.388056826643299</li>\n",
       "\t<li>0.419432554563332</li>\n",
       "\t<li>0.388056826643299</li>\n",
       "\t<li>1</li>\n",
       "\t<li>0.234982612522864</li>\n",
       "\t<li>0.419432554563332</li>\n",
       "\t<li>0.234982612522864</li>\n",
       "\t<li>1</li>\n",
       "</ol>\n"
      ],
      "text/latex": [
       "\\begin{enumerate*}\n",
       "\\item 1\n",
       "\\item 0.388056826643299\n",
       "\\item 0.419432554563332\n",
       "\\item 0.388056826643299\n",
       "\\item 1\n",
       "\\item 0.234982612522864\n",
       "\\item 0.419432554563332\n",
       "\\item 0.234982612522864\n",
       "\\item 1\n",
       "\\end{enumerate*}\n"
      ],
      "text/markdown": [
       "1. 1\n",
       "2. 0.388056826643299\n",
       "3. 0.419432554563332\n",
       "4. 0.388056826643299\n",
       "5. 1\n",
       "6. 0.234982612522864\n",
       "7. 0.419432554563332\n",
       "8. 0.234982612522864\n",
       "9. 1\n",
       "\n",
       "\n"
      ],
      "text/plain": [
       "[1] 1.0000000 0.3880568 0.4194326 0.3880568 1.0000000 0.2349826 0.4194326\n",
       "[8] 0.2349826 1.0000000"
      ]
     },
     "metadata": {},
     "output_type": "display_data"
    }
   ],
   "source": [
    "dcc.results$DCC[1,]"
   ]
  },
  {
   "cell_type": "code",
   "execution_count": 15,
   "metadata": {},
   "outputs": [
    {
     "data": {
      "text/html": [
       "<table>\n",
       "<tbody>\n",
       "\t<tr><td>1.0000000</td><td>0.3880568</td><td>0.4194326</td></tr>\n",
       "\t<tr><td>0.3880568</td><td>1.0000000</td><td>0.2349826</td></tr>\n",
       "\t<tr><td>0.4194326</td><td>0.2349826</td><td>1.0000000</td></tr>\n",
       "</tbody>\n",
       "</table>\n"
      ],
      "text/latex": [
       "\\begin{tabular}{lll}\n",
       "\t 1.0000000 & 0.3880568 & 0.4194326\\\\\n",
       "\t 0.3880568 & 1.0000000 & 0.2349826\\\\\n",
       "\t 0.4194326 & 0.2349826 & 1.0000000\\\\\n",
       "\\end{tabular}\n"
      ],
      "text/markdown": [
       "\n",
       "| 1.0000000 | 0.3880568 | 0.4194326 | \n",
       "| 0.3880568 | 1.0000000 | 0.2349826 | \n",
       "| 0.4194326 | 0.2349826 | 1.0000000 | \n",
       "\n",
       "\n"
      ],
      "text/plain": [
       "     [,1]      [,2]      [,3]     \n",
       "[1,] 1.0000000 0.3880568 0.4194326\n",
       "[2,] 0.3880568 1.0000000 0.2349826\n",
       "[3,] 0.4194326 0.2349826 1.0000000"
      ]
     },
     "metadata": {},
     "output_type": "display_data"
    }
   ],
   "source": [
    "matrix(dcc.results$DCC[1,],nrow = 3,ncol = 3)"
   ]
  },
  {
   "cell_type": "code",
   "execution_count": null,
   "metadata": {},
   "outputs": [],
   "source": [
    "array(dcc.results$DCC, dim = c(50,3,3))[1,,]"
   ]
  }
 ],
 "metadata": {
  "kernelspec": {
   "display_name": "R",
   "language": "R",
   "name": "r"
  },
  "language_info": {
   "codemirror_mode": "r",
   "file_extension": ".r",
   "mimetype": "text/x-r-source",
   "name": "R",
   "pygments_lexer": "r",
   "version": "3.4.1"
  }
 },
 "nbformat": 4,
 "nbformat_minor": 2
}
