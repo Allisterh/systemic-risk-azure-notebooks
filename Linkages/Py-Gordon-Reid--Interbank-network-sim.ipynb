{
 "cells": [
  {
   "cell_type": "markdown",
   "metadata": {
    "collapsed": true
   },
   "source": [
    "# Interbank network simulation\n",
    "Author: Stuart Gordon Reid  \n",
    "http://www.turingfinance.com/computational-model-of-systemic-risk-for-the-banking-industry/  \n",
    "  \n",
    "https://gist.github.com/StuartGordonReid/fdb745bd5d9c8af27da0#file-simplegraph-py  \n",
    "https://gist.github.com/StuartGordonReid/03e7d38d455de1f40b33#file-interbanknetwork-py  \n",
    "https://gist.github.com/StuartGordonReid/9deb4ce312138e78debc#file-interbanknetworkmainmethod-py  "
   ]
  },
  {
   "cell_type": "markdown",
   "metadata": {},
   "source": [
    "## `SimpleGraph.py`"
   ]
  },
  {
   "cell_type": "code",
   "execution_count": 1,
   "metadata": {},
   "outputs": [],
   "source": [
    "# Foundation code for a network-based computational model of\n",
    "# systemic risk in banking networks. These classes are then\n",
    "# inherited from to create the interbank network itself.\n",
    "\n",
    "__author__=\"Stuart Gordon Reid\"\n",
    "__date__ =\"$08 Jan 2014 9:06:32 PM$\""
   ]
  },
  {
   "cell_type": "code",
   "execution_count": 2,
   "metadata": {},
   "outputs": [
    {
     "ename": "SyntaxError",
     "evalue": "Missing parentheses in call to 'print'. Did you mean print(print \"\\nNeighbours of \", self.name, \": \")? (<ipython-input-2-4544e419c2e5>, line 12)",
     "output_type": "error",
     "traceback": [
      "\u001b[0;36m  File \u001b[0;32m\"<ipython-input-2-4544e419c2e5>\"\u001b[0;36m, line \u001b[0;32m12\u001b[0m\n\u001b[0;31m    print \"\\nNeighbours of \", self.name, \": \"\u001b[0m\n\u001b[0m                           ^\u001b[0m\n\u001b[0;31mSyntaxError\u001b[0m\u001b[0;31m:\u001b[0m Missing parentheses in call to 'print'. Did you mean print(print \"\\nNeighbours of \", self.name, \": \")?\n"
     ]
    }
   ],
   "source": [
    "# This class encapsulates the code for a Node object. To\n",
    "# inherit from this class simple say: class Bank(Node):\n",
    "class Node:\n",
    "    neighbours = []\n",
    "    name = \"not set\"\n",
    "\n",
    "    def __init__(self, nodeName):\n",
    "        self.neighbours = []\n",
    "        self.name = nodeName\n",
    "\n",
    "    def printNeighbours(self):\n",
    "        print \"\\nNeighbours of \", self.name, \": \"\n",
    "        for neighbour in self.neighbours:\n",
    "            print neighbour.name, \",\"\n",
    "        return\n",
    "\n",
    "    def addNeighbour(self, newNode):\n",
    "        self.neighbours.append(newNode)\n",
    "        return"
   ]
  },
  {
   "cell_type": "code",
   "execution_count": null,
   "metadata": {},
   "outputs": [],
   "source": [
    "# This class contains the list of nodes in the network to\n",
    "# inherit from this class simple say: class BankNetwork(Graph):\n",
    "class Graph:\n",
    "    Nodes = []\n",
    "\n",
    "    def __init__(self, nodes):\n",
    "        self.Nodes = []\n",
    "        for node in nodes:\n",
    "            self.Nodes.append(node)\n",
    "        return\n",
    "\n",
    "    def addLink(self, nodeA, nodeB):\n",
    "        nodeA.addNeighbour(nodeB)\n",
    "        return\n",
    "\n",
    "    def addTwoWayLink(self, A, B):\n",
    "        nodeA = self.get(A)\n",
    "        nodeB = self.get(B)\n",
    "        self.addLink(nodeA, nodeB)\n",
    "        self.addLink(nodeB, nodeA)\n",
    "        return\n",
    "\n",
    "    def addOneWayLink(self, A, B):\n",
    "        intersectionA = self.get(A)\n",
    "        intersectionB = self.get(B)\n",
    "        self.addLink(intersectionA, intersectionB)\n",
    "        return\n",
    "\n",
    "    def get(self, name):\n",
    "        #Check if any nodes exist\n",
    "        if(len(self.Nodes) == 0):\n",
    "            self.Nodes.append(Node(name))\n",
    "        else:\n",
    "            fetched = self.Nodes[0]\n",
    "        #Check if node already exists\n",
    "        found = 0\n",
    "        for node in self.Nodes:\n",
    "            if node.name == name:\n",
    "                fetched = node\n",
    "                found = 1\n",
    "                break\n",
    "        #If not found append new node and return\n",
    "        if found == 0:\n",
    "            fetched = Node(name)\n",
    "            self.Nodes.append(fetched)\n",
    "        #Return the found / new node\n",
    "        return fetched\n",
    "\n",
    "    def printNodes(self):\n",
    "        print \"\\nList of all Nodes: \"\n",
    "        for node in self.Nodes:\n",
    "            print node.name, \",\"\n",
    "        return"
   ]
  },
  {
   "cell_type": "markdown",
   "metadata": {},
   "source": [
    "## `InterbankNetwork.py`"
   ]
  },
  {
   "cell_type": "code",
   "execution_count": 4,
   "metadata": {},
   "outputs": [],
   "source": [
    "# This contains the actual implementation of a simple systemic risk modeller.\n",
    "# It is essentially a network based computational model of systemic risk. \n",
    "\n",
    "__author__=\"stuart\"\n",
    "__date__ =\"$22 Jan 2014 9:19:08 PM$\"\n",
    "\n",
    "import csv\n",
    "import random\n",
    "#from GraphDataStructure import Graph\n",
    "#from GraphDataStructure import Node\n",
    "import math"
   ]
  },
  {
   "cell_type": "code",
   "execution_count": 5,
   "metadata": {},
   "outputs": [
    {
     "ename": "NameError",
     "evalue": "name 'Node' is not defined",
     "output_type": "error",
     "traceback": [
      "\u001b[0;31m---------------------------------------------------------------------------\u001b[0m",
      "\u001b[0;31mNameError\u001b[0m                                 Traceback (most recent call last)",
      "\u001b[0;32m<ipython-input-5-f84ab48744f9>\u001b[0m in \u001b[0;36m<module>\u001b[0;34m()\u001b[0m\n\u001b[0;32m----> 1\u001b[0;31m \u001b[0;32mclass\u001b[0m \u001b[0mBank\u001b[0m\u001b[0;34m(\u001b[0m\u001b[0mNode\u001b[0m\u001b[0;34m)\u001b[0m\u001b[0;34m:\u001b[0m\u001b[0;34m\u001b[0m\u001b[0m\n\u001b[0m\u001b[1;32m      2\u001b[0m     \u001b[0massets\u001b[0m \u001b[0;34m=\u001b[0m \u001b[0;36m0\u001b[0m\u001b[0;34m\u001b[0m\u001b[0m\n\u001b[1;32m      3\u001b[0m     \u001b[0mdeposits\u001b[0m \u001b[0;34m=\u001b[0m \u001b[0;36m0\u001b[0m\u001b[0;34m\u001b[0m\u001b[0m\n\u001b[1;32m      4\u001b[0m     \u001b[0mtotalShock\u001b[0m \u001b[0;34m=\u001b[0m \u001b[0;36m0\u001b[0m\u001b[0;34m\u001b[0m\u001b[0m\n\u001b[1;32m      5\u001b[0m \u001b[0;34m\u001b[0m\u001b[0m\n",
      "\u001b[0;31mNameError\u001b[0m: name 'Node' is not defined"
     ]
    }
   ],
   "source": [
    "class Bank(Node):\n",
    "    assets = 0\n",
    "    deposits = 0\n",
    "    totalShock = 0\n",
    "\n",
    "    def __init__(self, n, a, d):\n",
    "        Node.__init__(self, n)\n",
    "        self.assets = a\n",
    "        self.deposits = d\n",
    "        self.totalShock = 0\n",
    "        return\n",
    "\n",
    "    def getShock(self, shock):\n",
    "        if shock >= 0.025:\n",
    "            networkEffect = len(self.neighbours) + 1\n",
    "            self.totalShock = self.totalShock + shock / networkEffect\n",
    "            for neighbour in self.neighbours:\n",
    "                neighbour.getShock(shock / networkEffect)\n",
    "            return\n",
    "        else:\n",
    "            self.totalShock = self.totalShock + shock"
   ]
  },
  {
   "cell_type": "code",
   "execution_count": null,
   "metadata": {},
   "outputs": [],
   "source": [
    "class InterbankNetwork(Graph):\n",
    "\n",
    "    numLinks = 0\n",
    "\n",
    "    def __init__(self, banks):\n",
    "        Graph.__init__(self, banks)\n",
    "\n",
    "    def constructNetwork(self):\n",
    "        numBanks = len(self.Nodes)\n",
    "        self.numLinks = int(numBanks + random.random() * (numBanks * numBanks))\n",
    "        for i in range(self.numLinks):\n",
    "            x = int(random.random() * numBanks)\n",
    "            y = int(random.random() * numBanks)\n",
    "            if x == y:\n",
    "                y = y - 1\n",
    "            self.addTwoWayLink(self.Nodes[x].name, self.Nodes[y].name)\n",
    "        return\n",
    "\n",
    "    def printNetwork(self):\n",
    "        for bank in self.Nodes:\n",
    "            bank.printNeighbours()\n",
    "\n",
    "    def analyzeNetwork(self):\n",
    "        totalShocked = 1\n",
    "        maxShock = 0.0\n",
    "        minShock = 1.0\n",
    "\n",
    "        for bank in self.Nodes:\n",
    "            if bank.totalShock > 0.0:\n",
    "                totalShocked = totalShocked + 1\n",
    "            if bank.totalShock > maxShock:\n",
    "                maxShock = bank.totalShock\n",
    "            if bank.totalShock < minShock:\n",
    "                minShock = bank.totalShock\n",
    "\n",
    "        return Result(self.numLinks, totalShocked, maxShock, minShock)\n",
    "\n",
    "    def startShock(self, impacts):\n",
    "        numBanks = len(self.Nodes)\n",
    "        for i in range(impacts):\n",
    "            x = int(random.random() * numBanks)\n",
    "            self.Nodes[x].getShock(1.0)\n",
    "\n",
    "    def resetNetwork(self):\n",
    "        for bank in self.Nodes:\n",
    "            bank.totalShock = 0.0\n",
    "            bank.neighbours = []"
   ]
  },
  {
   "cell_type": "code",
   "execution_count": 6,
   "metadata": {},
   "outputs": [],
   "source": [
    "class Result:\n",
    "    numLinks = 0\n",
    "    totalShocked = 1\n",
    "    maxShock = 0.0\n",
    "    minShock = 1.0\n",
    "\n",
    "    def __init__(self, nl, ts, max, min):\n",
    "        self.numLinks = nl\n",
    "        self.totalShocked = ts\n",
    "        self.maxShock = max\n",
    "        self.minShock = min"
   ]
  },
  {
   "cell_type": "markdown",
   "metadata": {},
   "source": [
    "## `InterbankNetworkMainMethod.py`"
   ]
  },
  {
   "cell_type": "code",
   "execution_count": 7,
   "metadata": {},
   "outputs": [
    {
     "ename": "SyntaxError",
     "evalue": "Missing parentheses in call to 'print'. Did you mean print(int \"Links, Avg links per bank, #Results, Avg Banks Shocked, Avg Max Shock, Avg Min Shock, Max Max Shock, Max Min Shock, Stdev Banks Shocked, Stdev Max Shock, Stdev Min Shock\")? (<ipython-input-7-774b2ce52177>, line 18)",
     "output_type": "error",
     "traceback": [
      "\u001b[0;36m  File \u001b[0;32m\"<ipython-input-7-774b2ce52177>\"\u001b[0;36m, line \u001b[0;32m18\u001b[0m\n\u001b[0;31m    print \"Links, Avg links per bank, #Results, Avg Banks Shocked, Avg Max Shock, Avg Min Shock, Max Max Shock, Max Min Shock, Stdev Banks Shocked, Stdev Max Shock, Stdev Min Shock\"\u001b[0m\n\u001b[0m                                                                                                                                                                                    ^\u001b[0m\n\u001b[0;31mSyntaxError\u001b[0m\u001b[0;31m:\u001b[0m Missing parentheses in call to 'print'. Did you mean print(int \"Links, Avg links per bank, #Results, Avg Banks Shocked, Avg Max Shock, Avg Min Shock, Max Max Shock, Max Min Shock, Stdev Banks Shocked, Stdev Max Shock, Stdev Min Shock\")?\n"
     ]
    }
   ],
   "source": [
    "if __name__ == \"__main__\":\n",
    "    banks = []\n",
    "    with open('#BankData','rb') as data:\n",
    "        reader = csv.reader(data)\n",
    "        for datum in reader:\n",
    "            # Datum = ['Bank name', 'Assets', 'Deposits']\n",
    "            bank = Bank(datum[0], datum[1], datum[2])\n",
    "            banks.append(bank)\n",
    "    interbankNetwork = InterbankNetwork(banks)\n",
    "\n",
    "    Results = []\n",
    "    for i in range(1000000):\n",
    "        interbankNetwork.constructNetwork()\n",
    "        interbankNetwork.startShock(10)\n",
    "        Results.append(interbankNetwork.analyzeNetwork())\n",
    "        interbankNetwork.resetNetwork()\n",
    "\n",
    "    print \"Links, Avg links per bank, #Results, Avg Banks Shocked, Avg Max Shock, Avg Min Shock, Max Max Shock, Max Min Shock, Stdev Banks Shocked, Stdev Max Shock, Stdev Min Shock\"\n",
    "    for links in range(2700):\n",
    "        totalResults = 0\n",
    "\n",
    "        # Once off count metrics\n",
    "        avgTotalShocked = 0.0\n",
    "        avgMaxShock = 0.0\n",
    "        avgMinShock = 0.0\n",
    "        maxMaxShock = 0.0\n",
    "        maxMinShock = 1.0\n",
    "\n",
    "        for result in Results:\n",
    "            if result.numLinks == links:\n",
    "                totalResults = totalResults + 1\n",
    "                avgTotalShocked = avgTotalShocked + result.totalShocked\n",
    "                avgMaxShock = avgMaxShock + result.maxShock\n",
    "                avgMinShock = avgMinShock + result.minShock\n",
    "                if result.maxShock > maxMaxShock:\n",
    "                    maxMaxShock = result.maxShock\n",
    "                if result.minShock < maxMinShock:                     maxMinShock = result.minShock                  if totalResults > 0: \n",
    "            avgTotalShocked = avgTotalShocked / totalResults\n",
    "            avgMaxShock = avgMaxShock / totalResults\n",
    "            avgMinShock = avgMinShock / totalResults\n",
    "\n",
    "            # Standard deviations\n",
    "            stdevTotalShocked = 0.0\n",
    "            stdevMaxShock = 0.0\n",
    "            stdevMinShock = 0.0\n",
    "\n",
    "            for result in Results:\n",
    "                if result.numLinks == links:\n",
    "                    stdevTotalShocked = stdevTotalShocked + math.pow((result.totalShocked - avgTotalShocked),2.0)\n",
    "                    stdevMaxShock = stdevMaxShock + math.pow((result.maxShock - avgMaxShock),2.0)\n",
    "                    stdevMinShock = stdevMinShock + math.pow((result.minShock - avgMinShock),2.0)\n",
    "\n",
    "            stdevTotalShocked = math.sqrt(stdevTotalShocked/totalResults)\n",
    "            stdevMaxShock = math.sqrt(stdevMaxShock/totalResults)\n",
    "            stdevMinShock = math.sqrt(stdevMinShock/totalResults)\n",
    "\n",
    "            print links, \",\",(links / 50),\",\", totalResults,\",\", avgTotalShocked, \n",
    "            \",\", avgMaxShock,\",\", avgMinShock,\",\", maxMaxShock,\",\", maxMinShock,\n",
    "            \",\",stdevTotalShocked,\",\",stdevMaxShock,\",\",stdevMinShock"
   ]
  },
  {
   "cell_type": "markdown",
   "metadata": {},
   "source": []
  },
  {
   "cell_type": "code",
   "execution_count": null,
   "metadata": {},
   "outputs": [],
   "source": []
  }
 ],
 "metadata": {
  "kernelspec": {
   "display_name": "Python 3.6",
   "language": "python",
   "name": "python36"
  },
  "language_info": {
   "codemirror_mode": {
    "name": "ipython",
    "version": 3
   },
   "file_extension": ".py",
   "mimetype": "text/x-python",
   "name": "python",
   "nbconvert_exporter": "python",
   "pygments_lexer": "ipython3",
   "version": "3.6.3"
  }
 },
 "nbformat": 4,
 "nbformat_minor": 2
}
