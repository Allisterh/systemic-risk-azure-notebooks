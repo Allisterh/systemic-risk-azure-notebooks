{
 "cells": [
  {
   "cell_type": "markdown",
   "metadata": {
    "collapsed": true
   },
   "source": [
    "# Py-NetworkX\n",
    "https://github.com/networkx  \n",
    "http://networkx.github.io/   \n",
    "https://github.com/networkx/notebooks  \n",
    "https://github.com/networkx/networkx/blob/master/doc/reference/introduction.rst  \n",
    "https://github.com/networkx/networkx/blob/master/doc/tutorial.rst  \n",
    "** WORK IN PROGRESS!!! **"
   ]
  },
  {
   "cell_type": "code",
   "execution_count": 1,
   "metadata": {},
   "outputs": [
    {
     "name": "stdout",
     "output_type": "stream",
     "text": [
      "Requirement already satisfied: networkx in /home/nbuser/anaconda3_501/lib/python3.6/site-packages\n",
      "Requirement already satisfied: decorator>=3.4.0 in /home/nbuser/anaconda3_501/lib/python3.6/site-packages (from networkx)\n"
     ]
    }
   ],
   "source": [
    "!pip install networkx"
   ]
  },
  {
   "cell_type": "code",
   "execution_count": 2,
   "metadata": {},
   "outputs": [
    {
     "name": "stdout",
     "output_type": "stream",
     "text": [
      "1.11\n"
     ]
    }
   ],
   "source": [
    "import networkx\n",
    "print(networkx.__version__ )"
   ]
  },
  {
   "cell_type": "markdown",
   "metadata": {},
   "source": [
    "To do: take examples from http://igraph.org/python/doc/tutorial/tutorial.html \n",
    "Also consider using??\n",
    "* https://plot.ly/r/network-graphs/ \n",
    "* https://plot.ly/python/igraph-networkx-comparison/ \n",
    "* https://github.com/graphistry/pygraphistry???  \n",
    "* http://srdas.github.io/Presentations/DynamicRiskNetworks_slides_MIT_2016_09.pdf  \n",
    "* https://github.com/briatte/awesome-network-analysis \n",
    "* https://cran.r-project.org/web/packages/NetworkRiskMeasures/index.html "
   ]
  },
  {
   "cell_type": "code",
   "execution_count": null,
   "metadata": {},
   "outputs": [],
   "source": []
  }
 ],
 "metadata": {
  "kernelspec": {
   "display_name": "Python 3.6",
   "language": "python",
   "name": "python36"
  },
  "language_info": {
   "codemirror_mode": {
    "name": "ipython",
    "version": 3
   },
   "file_extension": ".py",
   "mimetype": "text/x-python",
   "name": "python",
   "nbconvert_exporter": "python",
   "pygments_lexer": "ipython3",
   "version": "3.6.3"
  }
 },
 "nbformat": 4,
 "nbformat_minor": 2
}
