{
 "cells": [
  {
   "cell_type": "markdown",
   "metadata": {},
   "source": [
    "#  R-CreditRisk"
   ]
  },
  {
   "cell_type": "markdown",
   "metadata": {},
   "source": [
    "Demonstration of the **Merton 1974 structural credit model** using the R package `CreditRisk`. \n",
    "\n",
    "A better model for structural credit in the context of systemic  risk, which extends the Merton model to bring in contagion effects through the network of banks and their exposures, is [Network Valuation in Financial Systems (NEVA)](https://papers.ssrn.com/sol3/papers.cfm?abstract_id=2795583), with python package [`neva`](https://github.com/marcobardoscia/neva).\n",
    "\n",
    "Thomson Reuters [Starmine Structural Credit Risk Model](http://professional.starmine.com/static_content/StarMine_Structural_Credit_Risk_Model_overview_June2012.pdf) is based on Merton 1974."
   ]
  },
  {
   "cell_type": "markdown",
   "metadata": {},
   "source": [
    "#### Code"
   ]
  },
  {
   "cell_type": "markdown",
   "metadata": {},
   "source": [
    "https://cran.r-project.org/web/packages/CreditRisk/index.html   \n",
    "https://github.com/cran/CreditRisk  \n",
    "https://www.rdocumentation.org/packages/CreditRisk/versions/0.1.3   \n",
    "https://www.rdocumentation.org/packages/CreditRisk/versions/0.1.3/topics/Merton   \n",
    "https://github.com/qrmtutorial/qrm/tree/master/code/10_Credit_Risk "
   ]
  },
  {
   "cell_type": "markdown",
   "metadata": {},
   "source": [
    "#### Theory\n",
    "https://www.fields.utoronto.ca/programs/scientific/09-10/finance/courses/hurdnotes2.pdf   \n",
    "https://www.jstor.org/stable/2978814  \n",
    "https://www0.gsb.columbia.edu/faculty/ssundaresan/papers/Merton_review_cap_structure.pdf  "
   ]
  },
  {
   "cell_type": "markdown",
   "metadata": {},
   "source": [
    "### Package `CreditRisk`"
   ]
  },
  {
   "cell_type": "code",
   "execution_count": 4,
   "metadata": {},
   "outputs": [
    {
     "name": "stderr",
     "output_type": "stream",
     "text": [
      "Loading required package: CreditRisk\n"
     ]
    }
   ],
   "source": [
    "if(!require(CreditRisk)){\n",
    "    install.packages(\"CreditRisk\")\n",
    "    library(CreditRisk)\n",
    "}"
   ]
  },
  {
   "cell_type": "markdown",
   "metadata": {},
   "source": [
    "### Description"
   ]
  },
  {
   "cell_type": "markdown",
   "metadata": {},
   "source": [
    "`Merton` calculates the survival probability ${Q(\\tau > T)}$ for\n",
    "each maturity according to the structural Merton's model."
   ]
  },
  {
   "cell_type": "markdown",
   "metadata": {},
   "source": [
    "#### Parameters"
   ]
  },
  {
   "cell_type": "markdown",
   "metadata": {},
   "source": [
    " * `L` debt face value at maturity `t = T`; if the value of\n",
    " the firm $V_T$ is below the debt face value to be paid in $T$ the\n",
    " company default has occurred (it is a constant value).\n",
    " * `V0` firm value at time $t = 0$ (it is a constant value).\n",
    " * `sigma` volatility (constant for all t).\n",
    " * `r` risk-free rate (constant for all t).\n",
    " * `t` a vector of debt maturity structure. The last value of this\n",
    " vector rapresents the debt maturity T."
   ]
  },
  {
   "cell_type": "markdown",
   "metadata": {},
   "source": [
    "### Details"
   ]
  },
  {
   "cell_type": "markdown",
   "metadata": {},
   "source": [
    " In Merton's model the default event can occur only at debt maturity T and not before.\n",
    " In this model the debt face value $L$ represents the constant safety\n",
    " level. In this model the firm value is the sum of the firm equity value `St` and\n",
    " ad the firm debt value `Dt`. The debt value at time $t < T$ is calculated by the formula:\n",
    " $${D_t = L * \\exp^{- r * (T - t)} - Put(t, T; V_t, L)}$$\n",
    " The equity value can be derived as a difference between the firm value and the debt:\n",
    " $${S_t = V_t - D_t = V_t - L * \\exp^{- r * (T - t)} + Put(t, T; V_t, L) = Call(t, T; V_t, L)}$$\n",
    " (by the put-call parity) so that in the Merton's model the equity can be interpreted as a\n",
    " Call option on the value of the firm.\n"
   ]
  },
  {
   "cell_type": "markdown",
   "metadata": {},
   "source": [
    "### Return"
   ]
  },
  {
   "cell_type": "markdown",
   "metadata": {},
   "source": [
    "`Merton` returns an object of class `data.frame` with:\n",
    "* `Vt`: expected Firm value at time $t < T$ calculated by the simple formula\n",
    "     $${V_t = V_0 * \\exp^{r * t}}$$.\n",
    "* `St`: firm equity value at each ${t < T}$. This value can be seen as a call\n",
    "     option on the firm value `V_t`.\n",
    "* `Dt`: firm debt value at each ${t < T}$.\n",
    "* `Survival`: survival probability for each maturity."
   ]
  },
  {
   "cell_type": "markdown",
   "metadata": {},
   "source": [
    "### References"
   ]
  },
  {
   "cell_type": "markdown",
   "metadata": {},
   "source": [
    "Damiano Brigo, Massimo Morini, Andrea Pallavicini (2013) \n",
    "Counterparty Credit Risk, Collateral and Funding.\n",
    "With Pricing Cases for All Asset Classes"
   ]
  },
  {
   "cell_type": "markdown",
   "metadata": {},
   "source": [
    "### Examples"
   ]
  },
  {
   "cell_type": "code",
   "execution_count": 5,
   "metadata": {},
   "outputs": [
    {
     "data": {
      "text/html": [
       "<table>\n",
       "<thead><tr><th scope=col>Maturity</th><th scope=col>Vt</th><th scope=col>St</th><th scope=col>Dt</th><th scope=col>Survival</th></tr></thead>\n",
       "<tbody>\n",
       "\t<tr><td> 0.50    </td><td>20.05006 </td><td>12.11017 </td><td> 7.939896</td><td>0.9999994</td></tr>\n",
       "\t<tr><td> 1.00    </td><td>20.10025 </td><td>12.10338 </td><td> 7.996875</td><td>0.9996515</td></tr>\n",
       "\t<tr><td> 2.00    </td><td>20.20100 </td><td>12.08894 </td><td> 8.112066</td><td>0.9900148</td></tr>\n",
       "\t<tr><td> 3.25    </td><td>20.32765 </td><td>12.06936 </td><td> 8.258293</td><td>0.9604587</td></tr>\n",
       "\t<tr><td> 5.00    </td><td>20.50630 </td><td>12.03943 </td><td> 8.466872</td><td>0.9094699</td></tr>\n",
       "\t<tr><td>10.00    </td><td>21.02542 </td><td>11.94670 </td><td> 9.078718</td><td>0.7845463</td></tr>\n",
       "\t<tr><td>15.00    </td><td>21.55768 </td><td>11.90165 </td><td> 9.656037</td><td>0.6963760</td></tr>\n",
       "\t<tr><td>20.00    </td><td>22.10342 </td><td>12.10342 </td><td>10.000000</td><td>0.6305607</td></tr>\n",
       "</tbody>\n",
       "</table>\n"
      ],
      "text/latex": [
       "\\begin{tabular}{r|lllll}\n",
       " Maturity & Vt & St & Dt & Survival\\\\\n",
       "\\hline\n",
       "\t  0.50     & 20.05006  & 12.11017  &  7.939896 & 0.9999994\\\\\n",
       "\t  1.00     & 20.10025  & 12.10338  &  7.996875 & 0.9996515\\\\\n",
       "\t  2.00     & 20.20100  & 12.08894  &  8.112066 & 0.9900148\\\\\n",
       "\t  3.25     & 20.32765  & 12.06936  &  8.258293 & 0.9604587\\\\\n",
       "\t  5.00     & 20.50630  & 12.03943  &  8.466872 & 0.9094699\\\\\n",
       "\t 10.00     & 21.02542  & 11.94670  &  9.078718 & 0.7845463\\\\\n",
       "\t 15.00     & 21.55768  & 11.90165  &  9.656037 & 0.6963760\\\\\n",
       "\t 20.00     & 22.10342  & 12.10342  & 10.000000 & 0.6305607\\\\\n",
       "\\end{tabular}\n"
      ],
      "text/markdown": [
       "\n",
       "Maturity | Vt | St | Dt | Survival | \n",
       "|---|---|---|---|---|---|---|---|\n",
       "|  0.50     | 20.05006  | 12.11017  |  7.939896 | 0.9999994 | \n",
       "|  1.00     | 20.10025  | 12.10338  |  7.996875 | 0.9996515 | \n",
       "|  2.00     | 20.20100  | 12.08894  |  8.112066 | 0.9900148 | \n",
       "|  3.25     | 20.32765  | 12.06936  |  8.258293 | 0.9604587 | \n",
       "|  5.00     | 20.50630  | 12.03943  |  8.466872 | 0.9094699 | \n",
       "| 10.00     | 21.02542  | 11.94670  |  9.078718 | 0.7845463 | \n",
       "| 15.00     | 21.55768  | 11.90165  |  9.656037 | 0.6963760 | \n",
       "| 20.00     | 22.10342  | 12.10342  | 10.000000 | 0.6305607 | \n",
       "\n",
       "\n"
      ],
      "text/plain": [
       "  Maturity Vt       St       Dt        Survival \n",
       "1  0.50    20.05006 12.11017  7.939896 0.9999994\n",
       "2  1.00    20.10025 12.10338  7.996875 0.9996515\n",
       "3  2.00    20.20100 12.08894  8.112066 0.9900148\n",
       "4  3.25    20.32765 12.06936  8.258293 0.9604587\n",
       "5  5.00    20.50630 12.03943  8.466872 0.9094699\n",
       "6 10.00    21.02542 11.94670  9.078718 0.7845463\n",
       "7 15.00    21.55768 11.90165  9.656037 0.6963760\n",
       "8 20.00    22.10342 12.10342 10.000000 0.6305607"
      ]
     },
     "metadata": {},
     "output_type": "display_data"
    }
   ],
   "source": [
    "mod <- Merton(L = 10, V0 = 20, sigma = 0.2, r = 0.005,\n",
    "              t = c(0.50, 1.00, 2.00, 3.25, 5.00, 10.00, 15.00, 20.00))\n",
    "mod"
   ]
  },
  {
   "cell_type": "code",
   "execution_count": 9,
   "metadata": {},
   "outputs": [
    {
     "data": {
      "image/jpeg": "[encoded data removed]",
      "image/png": "",
      "image/svg+xml": [
       "<?xml version=\"1.0\" encoding=\"UTF-8\"?>\n",
       "<svg xmlns=\"http://www.w3.org/2000/svg\" xmlns:xlink=\"http://www.w3.org/1999/xlink\" width=\"288pt\" height=\"216pt\" viewBox=\"0 0 288 216\" version=\"1.1\">\n",
       "<defs>\n",
       "<g>\n",
       "<symbol overflow=\"visible\" id=\"glyph0-0\">\n",
       "<path style=\"stroke:none;\" d=\"\"/>\n",
       "</symbol>\n",
       "<symbol overflow=\"visible\" id=\"glyph0-1\">\n",
       "<path style=\"stroke:none;\" d=\"M 6.46875 -4.390625 C 6.46875 -7.46875 5.359375 -9.125 3.4375 -9.125 C 1.53125 -9.125 0.40625 -7.4375 0.40625 -4.46875 C 0.40625 -1.46875 1.53125 0.1875 3.4375 0.1875 C 5.3125 0.1875 6.46875 -1.46875 6.46875 -4.390625 Z M 5.078125 -4.484375 C 5.078125 -1.96875 4.640625 -0.984375 3.40625 -0.984375 C 2.25 -0.984375 1.78125 -2.03125 1.78125 -4.453125 C 1.78125 -6.875 2.25 -7.890625 3.4375 -7.890625 C 4.625 -7.890625 5.078125 -6.859375 5.078125 -4.484375 Z M 5.078125 -4.484375 \"/>\n",
       "</symbol>\n",
       "<symbol overflow=\"visible\" id=\"glyph0-2\">\n",
       "<path style=\"stroke:none;\" d=\"M 6.53125 -3.0625 C 6.53125 -4.8125 5.25 -6.09375 3.546875 -6.09375 C 2.921875 -6.09375 2.328125 -5.890625 2.09375 -5.71875 L 2.359375 -7.59375 L 6.078125 -7.59375 L 6.078125 -8.9375 L 1.25 -8.9375 L 0.546875 -4.03125 L 1.78125 -4.03125 C 2.328125 -4.6875 2.65625 -4.859375 3.34375 -4.859375 C 4.53125 -4.859375 5.15625 -4.21875 5.15625 -2.90625 C 5.15625 -1.640625 4.546875 -1.046875 3.34375 -1.046875 C 2.390625 -1.046875 1.921875 -1.40625 1.625 -2.53125 L 0.28125 -2.53125 C 0.65625 -0.640625 1.796875 0.1875 3.375 0.1875 C 5.15625 0.1875 6.53125 -1.1875 6.53125 -3.0625 Z M 6.53125 -3.0625 \"/>\n",
       "</symbol>\n",
       "<symbol overflow=\"visible\" id=\"glyph0-3\">\n",
       "<path style=\"stroke:none;\" d=\"M 4.46875 -0.125 L 4.46875 -9.125 L 3.515625 -9.125 C 3.09375 -7.625 2.96875 -7.578125 1.140625 -7.34375 L 1.140625 -6.3125 L 3.09375 -6.3125 L 3.09375 0 L 4.46875 0 Z M 4.46875 -0.125 \"/>\n",
       "</symbol>\n",
       "<symbol overflow=\"visible\" id=\"glyph0-4\">\n",
       "<path style=\"stroke:none;\" d=\"M 6.515625 -6.390625 C 6.515625 -7.890625 5.21875 -9.125 3.546875 -9.125 C 1.734375 -9.125 0.546875 -8.0625 0.484375 -5.78125 L 1.84375 -5.78125 C 1.9375 -7.40625 2.421875 -7.90625 3.515625 -7.90625 C 4.515625 -7.90625 5.125 -7.3125 5.125 -6.359375 C 5.125 -5.65625 4.75 -5.15625 3.96875 -4.703125 L 2.8125 -4.046875 C 0.96875 -3 0.390625 -2.078125 0.28125 0 L 6.453125 0 L 6.453125 -1.34375 L 1.8125 -1.34375 C 1.90625 -1.9375 2.265625 -2.3125 3.34375 -2.953125 L 4.59375 -3.625 C 5.84375 -4.28125 6.515625 -5.296875 6.515625 -6.390625 Z M 6.515625 -6.390625 \"/>\n",
       "</symbol>\n",
       "<symbol overflow=\"visible\" id=\"glyph0-5\">\n",
       "<path style=\"stroke:none;\" d=\"M 9.640625 -0.125 L 9.640625 -9.375 L 7.796875 -9.375 L 5.109375 -1.296875 L 5.375 -1.296875 L 2.625 -9.375 L 0.796875 -9.375 L 0.796875 0 L 2.15625 0 L 2.15625 -7.765625 L 1.90625 -7.765625 L 4.53125 0 L 5.9375 0 L 8.53125 -7.765625 L 8.28125 -7.765625 L 8.28125 0 L 9.640625 0 Z M 9.640625 -0.125 \"/>\n",
       "</symbol>\n",
       "<symbol overflow=\"visible\" id=\"glyph0-6\">\n",
       "<path style=\"stroke:none;\" d=\"M 6.8125 -0.15625 L 6.8125 -1.09375 C 6.578125 -1.046875 6.53125 -1.046875 6.46875 -1.046875 C 6.09375 -1.046875 6.03125 -1.09375 6.03125 -1.421875 L 6.03125 -5.078125 C 6.03125 -6.234375 5.046875 -7 3.4375 -7 C 1.84375 -7 0.734375 -6.25 0.65625 -4.609375 L 1.96875 -4.609375 C 2.078125 -5.53125 2.421875 -5.78125 3.40625 -5.78125 C 4.34375 -5.78125 4.71875 -5.546875 4.71875 -4.921875 L 4.71875 -4.65625 C 4.71875 -4.21875 4.59375 -4.15625 3.78125 -4.0625 C 2.296875 -3.875 2.078125 -3.828125 1.671875 -3.65625 C 0.90625 -3.34375 0.390625 -2.625 0.390625 -1.828125 C 0.390625 -0.640625 1.34375 0.1875 2.671875 0.1875 C 3.515625 0.1875 4.40625 -0.203125 4.828125 -0.640625 C 4.875 -0.40625 5.46875 0.09375 5.96875 0.09375 C 6.1875 0.09375 6.34375 0.0625 6.8125 -0.046875 Z M 4.71875 -2.390625 C 4.71875 -1.453125 3.90625 -0.984375 2.90625 -0.984375 C 2.09375 -0.984375 1.734375 -1.140625 1.734375 -1.84375 C 1.734375 -2.53125 2.078125 -2.71875 3.1875 -2.875 C 4.28125 -3.03125 4.515625 -3.078125 4.71875 -3.171875 Z M 4.71875 -2.390625 \"/>\n",
       "</symbol>\n",
       "<symbol overflow=\"visible\" id=\"glyph0-7\">\n",
       "<path style=\"stroke:none;\" d=\"M 3.296875 -0.125 L 3.296875 -1.171875 C 3.03125 -1.09375 2.875 -1.09375 2.671875 -1.09375 C 2.21875 -1.09375 2.21875 -1.078125 2.21875 -1.53125 L 2.21875 -5.703125 L 3.296875 -5.703125 L 3.296875 -6.8125 L 2.21875 -6.8125 L 2.21875 -8.609375 L 0.921875 -8.609375 L 0.921875 -6.8125 L 0.03125 -6.8125 L 0.03125 -5.703125 L 0.921875 -5.703125 L 0.921875 -1.078125 C 0.921875 -0.40625 1.515625 0.09375 2.328125 0.09375 C 2.578125 0.09375 2.828125 0.0625 3.296875 -0.015625 Z M 3.296875 -0.125 \"/>\n",
       "</symbol>\n",
       "<symbol overflow=\"visible\" id=\"glyph0-8\">\n",
       "<path style=\"stroke:none;\" d=\"M 6.15625 -0.125 L 6.15625 -6.8125 L 4.84375 -6.8125 L 4.84375 -3.0625 C 4.84375 -1.71875 4.28125 -0.984375 3.203125 -0.984375 C 2.375 -0.984375 1.96875 -1.34375 1.96875 -2.140625 L 1.96875 -6.8125 L 0.671875 -6.8125 L 0.671875 -1.71875 C 0.671875 -0.640625 1.625 0.1875 2.90625 0.1875 C 3.859375 0.1875 4.5625 -0.1875 5.171875 -1.046875 L 4.953125 -1.140625 L 4.953125 0 L 6.15625 0 Z M 6.15625 -0.125 \"/>\n",
       "</symbol>\n",
       "<symbol overflow=\"visible\" id=\"glyph0-9\">\n",
       "<path style=\"stroke:none;\" d=\"M 4.140625 -5.765625 L 4.140625 -6.9375 C 3.84375 -6.984375 3.75 -7 3.609375 -7 C 2.9375 -7 2.328125 -6.546875 1.71875 -5.578125 L 1.953125 -5.484375 L 1.953125 -6.8125 L 0.734375 -6.8125 L 0.734375 0 L 2.03125 0 L 2.03125 -3.53125 C 2.03125 -5 2.40625 -5.609375 4.140625 -5.640625 Z M 4.140625 -5.765625 \"/>\n",
       "</symbol>\n",
       "<symbol overflow=\"visible\" id=\"glyph0-10\">\n",
       "<path style=\"stroke:none;\" d=\"M 2.03125 -0.125 L 2.03125 -6.8125 L 0.734375 -6.8125 L 0.734375 0 L 2.03125 0 Z M 2.171875 -7.65625 L 2.171875 -9.09375 L 0.609375 -9.09375 L 0.609375 -7.53125 L 2.171875 -7.53125 Z M 2.171875 -7.65625 \"/>\n",
       "</symbol>\n",
       "<symbol overflow=\"visible\" id=\"glyph0-11\">\n",
       "<path style=\"stroke:none;\" d=\"M 5.96875 -6.8125 L 4.765625 -6.8125 L 2.90625 -1.578125 L 3.15625 -1.578125 L 1.453125 -6.8125 L 0.0625 -6.8125 L 2.328125 -0.09375 L 1.921875 0.9375 C 1.75 1.40625 1.671875 1.4375 1.21875 1.4375 C 1.078125 1.4375 0.90625 1.40625 0.53125 1.34375 L 0.53125 2.515625 C 0.78125 2.640625 1.09375 2.71875 1.375 2.71875 C 2.109375 2.71875 2.84375 2.1875 3.1875 1.25 L 6.15625 -6.8125 Z M 5.96875 -6.8125 \"/>\n",
       "</symbol>\n",
       "<symbol overflow=\"visible\" id=\"glyph1-0\">\n",
       "<path style=\"stroke:none;\" d=\"\"/>\n",
       "</symbol>\n",
       "<symbol overflow=\"visible\" id=\"glyph1-1\">\n",
       "<path style=\"stroke:none;\" d=\"M -4.390625 -6.46875 C -7.46875 -6.46875 -9.125 -5.359375 -9.125 -3.4375 C -9.125 -1.53125 -7.4375 -0.40625 -4.46875 -0.40625 C -1.46875 -0.40625 0.1875 -1.53125 0.1875 -3.4375 C 0.1875 -5.3125 -1.46875 -6.46875 -4.390625 -6.46875 Z M -4.484375 -5.078125 C -1.96875 -5.078125 -0.984375 -4.640625 -0.984375 -3.40625 C -0.984375 -2.25 -2.03125 -1.78125 -4.453125 -1.78125 C -6.875 -1.78125 -7.890625 -2.25 -7.890625 -3.4375 C -7.890625 -4.625 -6.859375 -5.078125 -4.484375 -5.078125 Z M -4.484375 -5.078125 \"/>\n",
       "</symbol>\n",
       "<symbol overflow=\"visible\" id=\"glyph1-2\">\n",
       "<path style=\"stroke:none;\" d=\"M -0.125 -2.515625 L -1.5625 -2.515625 L -1.5625 -0.953125 L 0 -0.953125 L 0 -2.515625 Z M -0.125 -2.515625 \"/>\n",
       "</symbol>\n",
       "<symbol overflow=\"visible\" id=\"glyph1-3\">\n",
       "<path style=\"stroke:none;\" d=\"M -7.875 -6.625 L -8.9375 -6.625 L -8.9375 -0.4375 L -7.59375 -0.4375 L -7.59375 -5.09375 C -5.578125 -3.5 -2.90625 -2.21875 0 -1.5625 L 0 -3 C -2.984375 -3.515625 -5.578125 -4.71875 -7.828125 -6.625 Z M -7.875 -6.625 \"/>\n",
       "</symbol>\n",
       "<symbol overflow=\"visible\" id=\"glyph1-4\">\n",
       "<path style=\"stroke:none;\" d=\"M -4.765625 -6.484375 C -7.53125 -6.484375 -9.125 -5.40625 -9.125 -3.375 C -9.125 -1.6875 -7.78125 -0.34375 -6.046875 -0.34375 C -4.40625 -0.34375 -3.15625 -1.59375 -3.15625 -3.203125 C -3.15625 -4.03125 -3.5 -4.734375 -4.1875 -5.3125 L -4.28125 -5.09375 C -2.109375 -5.078125 -1.046875 -4.515625 -1.046875 -3.25 C -1.046875 -2.46875 -1.40625 -2.0625 -2.390625 -1.859375 L -2.390625 -0.5 C -0.796875 -0.734375 0.1875 -1.828125 0.1875 -3.171875 C 0.1875 -5.25 -1.703125 -6.484375 -4.765625 -6.484375 Z M -6.078125 -5.03125 C -4.984375 -5.03125 -4.40625 -4.40625 -4.40625 -3.328125 C -4.40625 -2.265625 -4.953125 -1.71875 -6.140625 -1.71875 C -7.265625 -1.71875 -7.90625 -2.34375 -7.90625 -3.359375 C -7.90625 -4.390625 -7.21875 -5.03125 -6.078125 -5.03125 Z M -6.078125 -5.03125 \"/>\n",
       "</symbol>\n",
       "<symbol overflow=\"visible\" id=\"glyph1-5\">\n",
       "<path style=\"stroke:none;\" d=\"M -2.625 -7.890625 C -3.75 -7.890625 -4.71875 -7.0625 -5.046875 -5.828125 L -5.65625 -3.53125 C -5.953125 -2.4375 -6.171875 -2.15625 -6.875 -2.15625 C -7.796875 -2.15625 -8.359375 -2.84375 -8.359375 -4.078125 C -8.359375 -5.53125 -7.828125 -6.21875 -6.515625 -6.21875 L -6.515625 -7.578125 C -8.421875 -7.578125 -9.59375 -6.21875 -9.59375 -4.109375 C -9.59375 -2.109375 -8.359375 -0.734375 -6.71875 -0.734375 C -5.59375 -0.734375 -4.78125 -1.46875 -4.46875 -2.65625 L -3.859375 -4.921875 C -3.5625 -6.078125 -3.21875 -6.46875 -2.515625 -6.46875 C -1.515625 -6.46875 -1.0625 -5.84375 -1.0625 -4.28125 C -1.0625 -2.546875 -1.78125 -1.828125 -3.21875 -1.828125 L -3.21875 -0.46875 C -0.9375 -0.46875 0.21875 -2.046875 0.21875 -4.203125 C 0.21875 -6.515625 -1 -7.890625 -2.625 -7.890625 Z M -2.625 -7.890625 \"/>\n",
       "</symbol>\n",
       "<symbol overflow=\"visible\" id=\"glyph1-6\">\n",
       "<path style=\"stroke:none;\" d=\"M -0.125 -6.15625 L -6.8125 -6.15625 L -6.8125 -4.84375 L -3.0625 -4.84375 C -1.71875 -4.84375 -0.984375 -4.28125 -0.984375 -3.203125 C -0.984375 -2.375 -1.34375 -1.96875 -2.140625 -1.96875 L -6.8125 -1.96875 L -6.8125 -0.671875 L -1.71875 -0.671875 C -0.640625 -0.671875 0.1875 -1.625 0.1875 -2.90625 C 0.1875 -3.859375 -0.1875 -4.5625 -1.046875 -5.171875 L -1.140625 -4.953125 L 0 -4.953125 L 0 -6.15625 Z M -0.125 -6.15625 \"/>\n",
       "</symbol>\n",
       "<symbol overflow=\"visible\" id=\"glyph1-7\">\n",
       "<path style=\"stroke:none;\" d=\"M -5.765625 -4.140625 L -6.9375 -4.140625 C -6.984375 -3.84375 -7 -3.75 -7 -3.609375 C -7 -2.9375 -6.546875 -2.328125 -5.578125 -1.71875 L -5.484375 -1.953125 L -6.8125 -1.953125 L -6.8125 -0.734375 L 0 -0.734375 L 0 -2.03125 L -3.53125 -2.03125 C -5 -2.03125 -5.609375 -2.40625 -5.640625 -4.140625 Z M -5.765625 -4.140625 \"/>\n",
       "</symbol>\n",
       "<symbol overflow=\"visible\" id=\"glyph1-8\">\n",
       "<path style=\"stroke:none;\" d=\"M -6.8125 -6.078125 L -6.8125 -4.8125 L -1.359375 -2.90625 L -1.359375 -3.171875 L -6.8125 -1.390625 L -6.8125 0.0625 L 0 -2.34375 L 0 -3.640625 L -6.8125 -6.25 Z M -6.8125 -6.078125 \"/>\n",
       "</symbol>\n",
       "<symbol overflow=\"visible\" id=\"glyph1-9\">\n",
       "<path style=\"stroke:none;\" d=\"M -0.125 -2.03125 L -6.8125 -2.03125 L -6.8125 -0.734375 L 0 -0.734375 L 0 -2.03125 Z M -7.65625 -2.171875 L -9.09375 -2.171875 L -9.09375 -0.609375 L -7.53125 -0.609375 L -7.53125 -2.171875 Z M -7.65625 -2.171875 \"/>\n",
       "</symbol>\n",
       "<symbol overflow=\"visible\" id=\"glyph1-10\">\n",
       "<path style=\"stroke:none;\" d=\"M -0.15625 -6.8125 L -1.09375 -6.8125 C -1.046875 -6.578125 -1.046875 -6.53125 -1.046875 -6.46875 C -1.046875 -6.09375 -1.09375 -6.03125 -1.421875 -6.03125 L -5.078125 -6.03125 C -6.234375 -6.03125 -7 -5.046875 -7 -3.4375 C -7 -1.84375 -6.25 -0.734375 -4.609375 -0.65625 L -4.609375 -1.96875 C -5.53125 -2.078125 -5.78125 -2.421875 -5.78125 -3.40625 C -5.78125 -4.34375 -5.546875 -4.71875 -4.921875 -4.71875 L -4.65625 -4.71875 C -4.21875 -4.71875 -4.15625 -4.59375 -4.0625 -3.78125 C -3.875 -2.296875 -3.828125 -2.078125 -3.65625 -1.671875 C -3.34375 -0.90625 -2.625 -0.390625 -1.828125 -0.390625 C -0.640625 -0.390625 0.1875 -1.34375 0.1875 -2.671875 C 0.1875 -3.515625 -0.203125 -4.40625 -0.640625 -4.828125 C -0.40625 -4.875 0.09375 -5.46875 0.09375 -5.96875 C 0.09375 -6.1875 0.0625 -6.34375 -0.046875 -6.8125 Z M -2.390625 -4.71875 C -1.453125 -4.71875 -0.984375 -3.90625 -0.984375 -2.90625 C -0.984375 -2.09375 -1.140625 -1.734375 -1.84375 -1.734375 C -2.53125 -1.734375 -2.71875 -2.078125 -2.875 -3.1875 C -3.03125 -4.28125 -3.078125 -4.515625 -3.171875 -4.71875 Z M -2.390625 -4.71875 \"/>\n",
       "</symbol>\n",
       "<symbol overflow=\"visible\" id=\"glyph1-11\">\n",
       "<path style=\"stroke:none;\" d=\"M -0.125 -2.015625 L -9.375 -2.015625 L -9.375 -0.71875 L 0 -0.71875 L 0 -2.015625 Z M -0.125 -2.015625 \"/>\n",
       "</symbol>\n",
       "<symbol overflow=\"visible\" id=\"glyph1-12\">\n",
       "<path style=\"stroke:none;\" d=\"\"/>\n",
       "</symbol>\n",
       "<symbol overflow=\"visible\" id=\"glyph1-13\">\n",
       "<path style=\"stroke:none;\" d=\"M -6.5625 -7.84375 C -8.28125 -7.84375 -9.375 -6.703125 -9.375 -4.90625 L -9.375 -1 L 0 -1 L 0 -2.421875 L -3.859375 -2.421875 L -3.859375 -5.15625 C -3.859375 -6.65625 -5.046875 -7.84375 -6.5625 -7.84375 Z M -6.609375 -6.359375 C -5.609375 -6.359375 -5.15625 -5.84375 -5.15625 -4.71875 L -5.15625 -2.421875 L -8.09375 -2.421875 L -8.09375 -4.71875 C -8.09375 -5.84375 -7.609375 -6.359375 -6.609375 -6.359375 Z M -6.609375 -6.359375 \"/>\n",
       "</symbol>\n",
       "<symbol overflow=\"visible\" id=\"glyph1-14\">\n",
       "<path style=\"stroke:none;\" d=\"M -3.34375 -6.5 C -5.609375 -6.5 -7 -5.28125 -7 -3.40625 C -7 -1.5625 -5.59375 -0.3125 -3.40625 -0.3125 C -1.203125 -0.3125 0.1875 -1.546875 0.1875 -3.40625 C 0.1875 -5.25 -1.203125 -6.5 -3.34375 -6.5 Z M -3.359375 -5.15625 C -1.828125 -5.15625 -1.03125 -4.5625 -1.03125 -3.40625 C -1.03125 -2.25 -1.8125 -1.65625 -3.40625 -1.65625 C -4.96875 -1.65625 -5.78125 -2.25 -5.78125 -3.40625 C -5.78125 -4.59375 -4.984375 -5.15625 -3.359375 -5.15625 Z M -3.359375 -5.15625 \"/>\n",
       "</symbol>\n",
       "<symbol overflow=\"visible\" id=\"glyph1-15\">\n",
       "<path style=\"stroke:none;\" d=\"M -3.46875 -6.65625 C -5.59375 -6.65625 -7 -5.46875 -7 -3.734375 C -7 -2.84375 -6.609375 -2.09375 -5.875 -1.609375 L -5.78125 -1.84375 L -9.375 -1.84375 L -9.375 -0.53125 L 0 -0.53125 L 0 -1.734375 L -1.0625 -1.734375 L -0.96875 -1.515625 C -0.21875 -2.015625 0.1875 -2.78125 0.1875 -3.6875 C 0.1875 -5.40625 -1.34375 -6.65625 -3.46875 -6.65625 Z M -3.40625 -5.3125 C -1.921875 -5.3125 -1.046875 -4.671875 -1.046875 -3.53125 C -1.046875 -2.4375 -1.90625 -1.84375 -3.40625 -1.84375 C -4.9375 -1.84375 -5.8125 -2.4375 -5.765625 -3.53125 C -5.765625 -4.703125 -4.875 -5.3125 -3.40625 -5.3125 Z M -3.40625 -5.3125 \"/>\n",
       "</symbol>\n",
       "<symbol overflow=\"visible\" id=\"glyph1-16\">\n",
       "<path style=\"stroke:none;\" d=\"M -0.125 -3.296875 L -1.171875 -3.296875 C -1.09375 -3.03125 -1.09375 -2.875 -1.09375 -2.671875 C -1.09375 -2.21875 -1.078125 -2.21875 -1.53125 -2.21875 L -5.703125 -2.21875 L -5.703125 -3.296875 L -6.8125 -3.296875 L -6.8125 -2.21875 L -8.609375 -2.21875 L -8.609375 -0.921875 L -6.8125 -0.921875 L -6.8125 -0.03125 L -5.703125 -0.03125 L -5.703125 -0.921875 L -1.078125 -0.921875 C -0.40625 -0.921875 0.09375 -1.515625 0.09375 -2.328125 C 0.09375 -2.578125 0.0625 -2.828125 -0.015625 -3.296875 Z M -0.125 -3.296875 \"/>\n",
       "</symbol>\n",
       "<symbol overflow=\"visible\" id=\"glyph1-17\">\n",
       "<path style=\"stroke:none;\" d=\"M -6.8125 -5.96875 L -6.8125 -4.765625 L -1.578125 -2.90625 L -1.578125 -3.15625 L -6.8125 -1.453125 L -6.8125 -0.0625 L -0.09375 -2.328125 L 0.9375 -1.921875 C 1.40625 -1.75 1.4375 -1.671875 1.4375 -1.21875 C 1.4375 -1.078125 1.40625 -0.90625 1.34375 -0.53125 L 2.515625 -0.53125 C 2.640625 -0.78125 2.71875 -1.09375 2.71875 -1.375 C 2.71875 -2.109375 2.1875 -2.84375 1.25 -3.1875 L -6.8125 -6.15625 Z M -6.8125 -5.96875 \"/>\n",
       "</symbol>\n",
       "<symbol overflow=\"visible\" id=\"glyph2-0\">\n",
       "<path style=\"stroke:none;\" d=\"\"/>\n",
       "</symbol>\n",
       "<symbol overflow=\"visible\" id=\"glyph2-1\">\n",
       "<path style=\"stroke:none;\" d=\"M 9.484375 -3.40625 C 9.484375 -5.109375 8.578125 -6.046875 6.5625 -6.4375 L 4.859375 -6.765625 C 3.265625 -7.078125 2.84375 -7.265625 2.84375 -8.046875 C 2.84375 -8.875 3.53125 -9.25 4.6875 -9.25 C 6.09375 -9.25 6.90625 -8.796875 6.90625 -7.5625 L 9.09375 -7.5625 C 9.09375 -9.984375 7.4375 -11.3125 4.78125 -11.3125 C 2.171875 -11.3125 0.609375 -9.953125 0.609375 -7.84375 C 0.609375 -6.140625 1.515625 -5.21875 3.71875 -4.78125 L 5.25 -4.484375 C 6.734375 -4.1875 7.234375 -4.015625 7.234375 -3.125 C 7.234375 -2.21875 6.453125 -1.875 5.09375 -1.875 C 3.578125 -1.875 2.703125 -2.390625 2.703125 -3.6875 L 0.421875 -3.6875 C 0.421875 -1.21875 2.203125 0.171875 4.984375 0.171875 C 7.78125 0.171875 9.484375 -1.1875 9.484375 -3.40625 Z M 9.484375 -3.40625 \"/>\n",
       "</symbol>\n",
       "<symbol overflow=\"visible\" id=\"glyph2-2\">\n",
       "<path style=\"stroke:none;\" d=\"M 8.109375 -0.140625 L 8.109375 -8.3125 L 5.921875 -8.3125 L 5.921875 -3.359375 C 5.921875 -2.40625 5.3125 -1.90625 4.296875 -1.90625 C 3.40625 -1.90625 3 -2.25 3 -3.21875 L 3 -8.3125 L 0.8125 -8.3125 L 0.8125 -2.78125 C 0.8125 -1.015625 1.84375 0.140625 3.5625 0.140625 C 4.65625 0.140625 5.40625 -0.296875 5.921875 -0.984375 L 5.921875 0 L 8.109375 0 Z M 8.109375 -0.140625 \"/>\n",
       "</symbol>\n",
       "<symbol overflow=\"visible\" id=\"glyph2-3\">\n",
       "<path style=\"stroke:none;\" d=\"M 5.5625 -6.1875 L 5.5625 -8.421875 C 5.390625 -8.453125 5.328125 -8.453125 5.265625 -8.453125 C 4.3125 -8.453125 3.40625 -7.6875 3.078125 -6.828125 L 3.078125 -8.3125 L 0.875 -8.3125 L 0.875 0 L 3.078125 0 L 3.078125 -4.40625 C 3.078125 -5.640625 3.640625 -6.109375 4.859375 -6.109375 C 5.078125 -6.109375 5.234375 -6.09375 5.5625 -6.03125 Z M 5.5625 -6.1875 \"/>\n",
       "</symbol>\n",
       "<symbol overflow=\"visible\" id=\"glyph2-4\">\n",
       "<path style=\"stroke:none;\" d=\"M 7.984375 -8.3125 L 5.765625 -8.3125 L 4.140625 -2.453125 L 2.421875 -8.3125 L 0.109375 -8.3125 L 3.03125 0 L 5.21875 0 L 8.078125 -8.3125 Z M 7.984375 -8.3125 \"/>\n",
       "</symbol>\n",
       "<symbol overflow=\"visible\" id=\"glyph2-5\">\n",
       "<path style=\"stroke:none;\" d=\"M 3.125 -0.140625 L 3.125 -8.3125 L 0.9375 -8.3125 L 0.9375 0 L 3.125 0 Z M 3.15625 -9.15625 L 3.15625 -11.375 L 0.96875 -11.375 L 0.96875 -9.015625 L 3.15625 -9.015625 Z M 3.15625 -9.15625 \"/>\n",
       "</symbol>\n",
       "<symbol overflow=\"visible\" id=\"glyph2-6\">\n",
       "<path style=\"stroke:none;\" d=\"M 7.859375 -0.140625 L 7.859375 -0.46875 C 7.46875 -0.8125 7.375 -0.953125 7.375 -1.375 L 7.375 -5.84375 C 7.375 -7.484375 6.21875 -8.453125 4.046875 -8.453125 C 1.859375 -8.453125 0.671875 -7.390625 0.53125 -5.390625 L 2.640625 -5.390625 C 2.75 -6.359375 3.0625 -6.5 4.078125 -6.5 C 4.890625 -6.5 5.234375 -6.359375 5.234375 -5.828125 C 5.234375 -4.984375 4.671875 -5.203125 3.625 -5.015625 L 2.78125 -4.875 C 1.1875 -4.59375 0.359375 -3.765625 0.359375 -2.3125 C 0.359375 -0.75 1.515625 0.140625 2.859375 0.140625 C 3.75 0.140625 4.609375 -0.28125 5.25 -0.96875 C 5.25 -0.734375 5.3125 -0.265625 5.53125 0 L 7.859375 0 Z M 5.234375 -3.578125 C 5.234375 -2.375 4.703125 -1.8125 3.640625 -1.8125 C 2.9375 -1.8125 2.546875 -1.953125 2.546875 -2.546875 C 2.546875 -3.15625 2.828125 -3.25 3.703125 -3.40625 L 4.40625 -3.546875 C 4.96875 -3.65625 5.078125 -3.71875 5.234375 -3.796875 Z M 5.234375 -3.578125 \"/>\n",
       "</symbol>\n",
       "<symbol overflow=\"visible\" id=\"glyph2-7\">\n",
       "<path style=\"stroke:none;\" d=\"M 3.125 -0.140625 L 3.125 -11.140625 L 0.9375 -11.140625 L 0.9375 0 L 3.125 0 Z M 3.125 -0.140625 \"/>\n",
       "</symbol>\n",
       "<symbol overflow=\"visible\" id=\"glyph2-8\">\n",
       "<path style=\"stroke:none;\" d=\"\"/>\n",
       "</symbol>\n",
       "<symbol overflow=\"visible\" id=\"glyph2-9\">\n",
       "<path style=\"stroke:none;\" d=\"M 9.484375 -7.625 C 9.484375 -9.8125 8.203125 -11.140625 5.9375 -11.140625 L 1.078125 -11.140625 L 1.078125 0 L 3.40625 0 L 3.40625 -3.875 L 6.15625 -3.875 C 8.15625 -3.875 9.484375 -5.421875 9.484375 -7.625 Z M 7.140625 -7.5 C 7.140625 -6.390625 6.640625 -6 5.453125 -6 L 3.40625 -6 L 3.40625 -9 L 5.453125 -9 C 6.640625 -9 7.140625 -8.609375 7.140625 -7.5 Z M 7.140625 -7.5 \"/>\n",
       "</symbol>\n",
       "<symbol overflow=\"visible\" id=\"glyph2-10\">\n",
       "<path style=\"stroke:none;\" d=\"M 8.53125 -4.09375 C 8.53125 -6.828125 7 -8.453125 4.484375 -8.453125 C 2.03125 -8.453125 0.46875 -6.796875 0.46875 -4.15625 C 0.46875 -1.5 2.03125 0.140625 4.5 0.140625 C 6.953125 0.140625 8.53125 -1.515625 8.53125 -4.09375 Z M 6.328125 -4.125 C 6.328125 -2.625 5.625 -1.8125 4.5 -1.8125 C 3.375 -1.8125 2.65625 -2.625 2.65625 -4.15625 C 2.65625 -5.6875 3.375 -6.5 4.5 -6.5 C 5.65625 -6.5 6.328125 -5.703125 6.328125 -4.125 Z M 6.328125 -4.125 \"/>\n",
       "</symbol>\n",
       "<symbol overflow=\"visible\" id=\"glyph2-11\">\n",
       "<path style=\"stroke:none;\" d=\"M 8.609375 -4.046875 C 8.609375 -6.328125 7.296875 -8.453125 5.1875 -8.453125 C 4.1875 -8.453125 3.421875 -8.03125 3.015625 -7.359375 L 3.015625 -11.140625 L 0.8125 -11.140625 L 0.8125 0 L 3.015625 0 L 3.015625 -0.84375 C 3.421875 -0.265625 4.171875 0.140625 5.1875 0.140625 C 7.109375 0.140625 8.609375 -1.625 8.609375 -4.046875 Z M 6.421875 -4.140625 C 6.421875 -2.6875 5.75 -1.875 4.71875 -1.875 C 3.671875 -1.875 3.015625 -2.65625 3.015625 -4.1875 C 3.015625 -5.65625 3.6875 -6.4375 4.71875 -6.4375 C 5.75 -6.4375 6.421875 -5.640625 6.421875 -4.140625 Z M 6.421875 -4.140625 \"/>\n",
       "</symbol>\n",
       "<symbol overflow=\"visible\" id=\"glyph2-12\">\n",
       "<path style=\"stroke:none;\" d=\"M 4.53125 -0.140625 L 4.53125 -1.734375 C 4.28125 -1.703125 4.15625 -1.6875 4.015625 -1.6875 C 3.453125 -1.6875 3.375 -1.71875 3.375 -2.4375 L 3.375 -6.5 L 4.53125 -6.5 L 4.53125 -8.15625 L 3.375 -8.15625 L 3.375 -10.3125 L 1.171875 -10.3125 L 1.171875 -8.15625 L 0.15625 -8.15625 L 0.15625 -6.5 L 1.171875 -6.5 L 1.171875 -1.859375 C 1.171875 -0.59375 1.90625 0.0625 3.28125 0.0625 C 3.734375 0.0625 4.109375 0.015625 4.53125 0 Z M 4.53125 -0.140625 \"/>\n",
       "</symbol>\n",
       "<symbol overflow=\"visible\" id=\"glyph2-13\">\n",
       "<path style=\"stroke:none;\" d=\"M 8.015625 -8.3125 L 5.859375 -8.3125 L 4.1875 -2.484375 L 2.4375 -8.3125 L 0.03125 -8.3125 L 3.078125 0.203125 L 3.078125 0.25 C 3.078125 1.015625 2.5625 1.453125 1.828125 1.453125 C 1.671875 1.453125 1.546875 1.453125 1.21875 1.359375 L 1.21875 3.203125 C 1.59375 3.25 1.78125 3.265625 2.03125 3.265625 C 3.421875 3.265625 4.203125 2.875 4.75 1.34375 L 8.109375 -8.3125 Z M 8.015625 -8.3125 \"/>\n",
       "</symbol>\n",
       "<symbol overflow=\"visible\" id=\"glyph2-14\">\n",
       "<path style=\"stroke:none;\" d=\"M 7.796875 -2.515625 L 7.796875 -2.625 C 7.796875 -3.546875 7.234375 -4.375 6.171875 -4.6875 L 3.53125 -5.4375 C 2.953125 -5.609375 2.84375 -5.609375 2.84375 -5.9375 C 2.84375 -6.375 3.28125 -6.546875 4.015625 -6.546875 C 5.015625 -6.546875 5.4375 -6.3125 5.453125 -5.453125 L 7.578125 -5.453125 C 7.546875 -7.296875 6.1875 -8.453125 4.03125 -8.453125 C 1.984375 -8.453125 0.65625 -7.296875 0.65625 -5.640625 C 0.65625 -4.65625 0.984375 -3.984375 2.46875 -3.515625 L 4.96875 -2.75 C 5.484375 -2.578125 5.609375 -2.546875 5.609375 -2.328125 C 5.609375 -1.828125 5.078125 -1.78125 4.109375 -1.78125 C 3.15625 -1.78125 2.703125 -1.8125 2.484375 -2.8125 L 0.375 -2.8125 C 0.4375 -0.921875 1.78125 0.140625 4.234375 0.140625 C 6.5 0.140625 7.796875 -0.890625 7.796875 -2.515625 Z M 7.796875 -2.515625 \"/>\n",
       "</symbol>\n",
       "<symbol overflow=\"visible\" id=\"glyph2-15\">\n",
       "<path style=\"stroke:none;\" d=\"M 11.609375 -0.140625 L 11.609375 -11.140625 L 8.171875 -11.140625 L 6.28125 -2.5625 L 4.34375 -11.140625 L 0.921875 -11.140625 L 0.921875 0 L 3.265625 0 L 3.265625 -8.59375 L 3.15625 -8.59375 L 5.140625 0 L 7.421875 0 L 9.375 -8.59375 L 9.265625 -8.59375 L 9.265625 0 L 11.609375 0 Z M 11.609375 -0.140625 \"/>\n",
       "</symbol>\n",
       "<symbol overflow=\"visible\" id=\"glyph2-16\">\n",
       "<path style=\"stroke:none;\" d=\"M 4.546875 2.75 C 2.96875 -0.3125 2.46875 -1.890625 2.46875 -4.078125 C 2.46875 -6.265625 2.96875 -7.859375 4.671875 -11.140625 L 3.015625 -11.140625 C 1.265625 -8.515625 0.53125 -6.359375 0.53125 -4.078125 C 0.53125 -1.78125 1.265625 0.375 3.015625 2.984375 L 4.671875 2.984375 Z M 4.546875 2.75 \"/>\n",
       "</symbol>\n",
       "<symbol overflow=\"visible\" id=\"glyph2-17\">\n",
       "<path style=\"stroke:none;\" d=\"M 7.875 -3.859375 C 7.875 -6.640625 6.421875 -8.453125 4.046875 -8.453125 C 1.75 -8.453125 0.265625 -6.75 0.265625 -4.046875 C 0.265625 -1.46875 1.734375 0.140625 4.015625 0.140625 C 5.8125 0.140625 7.3125 -0.8125 7.8125 -2.53125 L 5.671875 -2.53125 C 5.4375 -1.8125 4.84375 -1.734375 4.078125 -1.734375 C 3.09375 -1.734375 2.515625 -2.046875 2.453125 -3.46875 L 7.84375 -3.46875 Z M 5.65625 -5.125 L 2.5 -5.125 C 2.625 -6.109375 3.09375 -6.59375 4.03125 -6.59375 C 4.921875 -6.59375 5.484375 -6.140625 5.578125 -5.125 Z M 5.65625 -5.125 \"/>\n",
       "</symbol>\n",
       "<symbol overflow=\"visible\" id=\"glyph2-18\">\n",
       "<path style=\"stroke:none;\" d=\"M 8.1875 -0.140625 L 8.1875 -5.53125 C 8.1875 -7.296875 7.15625 -8.453125 5.4375 -8.453125 C 4.359375 -8.453125 3.578125 -8 3.078125 -7.234375 L 3.078125 -8.3125 L 0.875 -8.3125 L 0.875 0 L 3.078125 0 L 3.078125 -4.96875 C 3.078125 -5.921875 3.703125 -6.40625 4.703125 -6.40625 C 5.609375 -6.40625 6 -6.046875 6 -5.09375 L 6 0 L 8.1875 0 Z M 8.1875 -0.140625 \"/>\n",
       "</symbol>\n",
       "<symbol overflow=\"visible\" id=\"glyph2-19\">\n",
       "<path style=\"stroke:none;\" d=\"M 12.328125 -0.140625 L 12.328125 -5.828125 C 12.328125 -7.390625 11.328125 -8.453125 9.71875 -8.453125 C 8.703125 -8.453125 7.9375 -8.046875 7.359375 -7.28125 C 7 -7.96875 6.171875 -8.453125 5.171875 -8.453125 C 4.25 -8.453125 3.609375 -8.09375 3.015625 -7.375 L 3.015625 -8.3125 L 0.828125 -8.3125 L 0.828125 0 L 3.03125 0 L 3.03125 -4.96875 C 3.03125 -5.953125 3.515625 -6.40625 4.40625 -6.40625 C 5.109375 -6.40625 5.484375 -6.140625 5.484375 -5.5 L 5.484375 0 L 7.671875 0 L 7.671875 -4.96875 C 7.671875 -5.953125 8.171875 -6.40625 9.0625 -6.40625 C 9.765625 -6.40625 10.140625 -6.140625 10.140625 -5.5 L 10.140625 0 L 12.328125 0 Z M 12.328125 -0.140625 \"/>\n",
       "</symbol>\n",
       "<symbol overflow=\"visible\" id=\"glyph2-20\">\n",
       "<path style=\"stroke:none;\" d=\"M 8.171875 -0.140625 L 8.171875 -11.140625 L 5.984375 -11.140625 L 5.984375 -7.34375 C 5.546875 -8.03125 4.8125 -8.453125 3.8125 -8.453125 C 1.890625 -8.453125 0.375 -6.578125 0.375 -4.140625 C 0.375 -1.859375 1.6875 0.140625 3.8125 0.140625 C 4.8125 0.140625 5.546875 -0.265625 5.984375 -0.84375 L 5.984375 0 L 8.171875 0 Z M 5.984375 -4.109375 C 5.984375 -2.65625 5.328125 -1.875 4.28125 -1.875 C 3.234375 -1.875 2.5625 -2.671875 2.5625 -4.140625 C 2.5625 -5.640625 3.234375 -6.4375 4.28125 -6.4375 C 5.34375 -6.4375 5.984375 -5.65625 5.984375 -4.109375 Z M 5.984375 -4.109375 \"/>\n",
       "</symbol>\n",
       "<symbol overflow=\"visible\" id=\"glyph2-21\">\n",
       "<path style=\"stroke:none;\" d=\"M 4.296875 -4.0625 C 4.296875 -6.359375 3.5625 -8.515625 1.8125 -11.140625 L 0.15625 -11.140625 C 1.859375 -7.828125 2.359375 -6.265625 2.359375 -4.0625 C 2.359375 -1.890625 1.859375 -0.28125 0.15625 2.984375 L 1.8125 2.984375 C 3.5625 0.375 4.296875 -1.78125 4.296875 -4.0625 Z M 4.296875 -4.0625 \"/>\n",
       "</symbol>\n",
       "</g>\n",
       "<clipPath id=\"clip1\">\n",
       "  <path d=\"M 62 59.039062 L 71 59.039062 L 71 66 L 62 66 Z M 62 59.039062 \"/>\n",
       "</clipPath>\n",
       "<clipPath id=\"clip2\">\n",
       "  <path d=\"M 67 59.039062 L 75 59.039062 L 75 66 L 67 66 Z M 67 59.039062 \"/>\n",
       "</clipPath>\n",
       "<clipPath id=\"clip3\">\n",
       "  <path d=\"M 246 135 L 255 135 L 255 143.558594 L 246 143.558594 Z M 246 135 \"/>\n",
       "</clipPath>\n",
       "</defs>\n",
       "<g id=\"surface244\">\n",
       "<rect x=\"0\" y=\"0\" width=\"288\" height=\"216\" style=\"fill:rgb(100%,100%,100%);fill-opacity:1;stroke:none;\"/>\n",
       "<path style=\"fill:none;stroke-width:1;stroke-linecap:round;stroke-linejoin:round;stroke:rgb(0%,0%,0%);stroke-opacity:1;stroke-miterlimit:10;\" d=\"M 98.394531 74.320312 L 102.816406 77.175781 \"/>\n",
       "<path style=\"fill:none;stroke-width:1;stroke-linecap:round;stroke-linejoin:round;stroke:rgb(0%,0%,0%);stroke-opacity:1;stroke-miterlimit:10;\" d=\"M 115.160156 84.574219 L 149.742188 103.742188 \"/>\n",
       "<path style=\"fill:none;stroke-width:1;stroke-linecap:round;stroke-linejoin:round;stroke:rgb(0%,0%,0%);stroke-opacity:1;stroke-miterlimit:10;\" d=\"M 162.746094 109.855469 L 196.515625 123.066406 \"/>\n",
       "<path style=\"fill:none;stroke-width:1;stroke-linecap:round;stroke-linejoin:round;stroke:rgb(0%,0%,0%);stroke-opacity:1;stroke-miterlimit:10;\" d=\"M 210.132812 127.707031 L 243.488281 137.449219 \"/>\n",
       "<g clip-path=\"url(#clip1)\" clip-rule=\"nonzero\">\n",
       "<path style=\"fill:none;stroke-width:1;stroke-linecap:round;stroke-linejoin:round;stroke:rgb(0%,0%,0%);stroke-opacity:1;stroke-miterlimit:10;\" d=\"M 69.601562 62.132812 C 69.601562 66.398438 63.199219 66.398438 63.199219 62.132812 C 63.199219 57.867188 69.601562 57.867188 69.601562 62.132812 \"/>\n",
       "</g>\n",
       "<g clip-path=\"url(#clip2)\" clip-rule=\"nonzero\">\n",
       "<path style=\"fill:none;stroke-width:1;stroke-linecap:round;stroke-linejoin:round;stroke:rgb(0%,0%,0%);stroke-opacity:1;stroke-miterlimit:10;\" d=\"M 74.316406 62.207031 C 74.316406 66.472656 67.917969 66.472656 67.917969 62.207031 C 67.917969 57.941406 74.316406 57.941406 74.316406 62.207031 \"/>\n",
       "</g>\n",
       "<path style=\"fill:none;stroke-width:1;stroke-linecap:round;stroke-linejoin:round;stroke:rgb(0%,0%,0%);stroke-opacity:1;stroke-miterlimit:10;\" d=\"M 83.753906 64.222656 C 83.753906 68.488281 77.355469 68.488281 77.355469 64.222656 C 77.355469 59.957031 83.753906 59.957031 83.753906 64.222656 \"/>\n",
       "<path style=\"fill:none;stroke-width:1;stroke-linecap:round;stroke-linejoin:round;stroke:rgb(0%,0%,0%);stroke-opacity:1;stroke-miterlimit:10;\" d=\"M 95.546875 70.410156 C 95.546875 74.675781 89.148438 74.675781 89.148438 70.410156 C 89.148438 66.144531 95.546875 66.144531 95.546875 70.410156 \"/>\n",
       "<path style=\"fill:none;stroke-width:1;stroke-linecap:round;stroke-linejoin:round;stroke:rgb(0%,0%,0%);stroke-opacity:1;stroke-miterlimit:10;\" d=\"M 112.0625 81.082031 C 112.0625 85.351562 105.660156 85.351562 105.660156 81.082031 C 105.660156 76.816406 112.0625 76.816406 112.0625 81.082031 \"/>\n",
       "<path style=\"fill:none;stroke-width:1;stroke-linecap:round;stroke-linejoin:round;stroke:rgb(0%,0%,0%);stroke-opacity:1;stroke-miterlimit:10;\" d=\"M 159.242188 107.234375 C 159.242188 111.5 152.839844 111.5 152.839844 107.234375 C 152.839844 102.964844 159.242188 102.964844 159.242188 107.234375 \"/>\n",
       "<path style=\"fill:none;stroke-width:1;stroke-linecap:round;stroke-linejoin:round;stroke:rgb(0%,0%,0%);stroke-opacity:1;stroke-miterlimit:10;\" d=\"M 206.421875 125.691406 C 206.421875 129.957031 200.019531 129.957031 200.019531 125.691406 C 200.019531 121.421875 206.421875 121.421875 206.421875 125.691406 \"/>\n",
       "<g clip-path=\"url(#clip3)\" clip-rule=\"nonzero\">\n",
       "<path style=\"fill:none;stroke-width:1;stroke-linecap:round;stroke-linejoin:round;stroke:rgb(0%,0%,0%);stroke-opacity:1;stroke-miterlimit:10;\" d=\"M 253.601562 139.464844 C 253.601562 143.734375 247.199219 143.734375 247.199219 139.464844 C 247.199219 135.199219 253.601562 135.199219 253.601562 139.464844 \"/>\n",
       "</g>\n",
       "<path style=\"fill:none;stroke-width:1;stroke-linecap:round;stroke-linejoin:round;stroke:rgb(0%,0%,0%);stroke-opacity:1;stroke-miterlimit:10;\" d=\"M 61.683594 142.558594 L 250.398438 142.558594 \"/>\n",
       "<path style=\"fill:none;stroke-width:1;stroke-linecap:round;stroke-linejoin:round;stroke:rgb(0%,0%,0%);stroke-opacity:1;stroke-miterlimit:10;\" d=\"M 61.683594 142.558594 L 61.683594 149.761719 \"/>\n",
       "<path style=\"fill:none;stroke-width:1;stroke-linecap:round;stroke-linejoin:round;stroke:rgb(0%,0%,0%);stroke-opacity:1;stroke-miterlimit:10;\" d=\"M 108.863281 142.558594 L 108.863281 149.761719 \"/>\n",
       "<path style=\"fill:none;stroke-width:1;stroke-linecap:round;stroke-linejoin:round;stroke:rgb(0%,0%,0%);stroke-opacity:1;stroke-miterlimit:10;\" d=\"M 156.042969 142.558594 L 156.042969 149.761719 \"/>\n",
       "<path style=\"fill:none;stroke-width:1;stroke-linecap:round;stroke-linejoin:round;stroke:rgb(0%,0%,0%);stroke-opacity:1;stroke-miterlimit:10;\" d=\"M 203.21875 142.558594 L 203.21875 149.761719 \"/>\n",
       "<path style=\"fill:none;stroke-width:1;stroke-linecap:round;stroke-linejoin:round;stroke:rgb(0%,0%,0%);stroke-opacity:1;stroke-miterlimit:10;\" d=\"M 250.398438 142.558594 L 250.398438 149.761719 \"/>\n",
       "<g style=\"fill:rgb(0%,0%,0%);fill-opacity:1;\">\n",
       "  <use xlink:href=\"#glyph0-1\" x=\"58.207031\" y=\"169.921875\"/>\n",
       "</g>\n",
       "<g style=\"fill:rgb(0%,0%,0%);fill-opacity:1;\">\n",
       "  <use xlink:href=\"#glyph0-2\" x=\"105.386719\" y=\"169.921875\"/>\n",
       "</g>\n",
       "<g style=\"fill:rgb(0%,0%,0%);fill-opacity:1;\">\n",
       "  <use xlink:href=\"#glyph0-3\" x=\"149.09375\" y=\"169.921875\"/>\n",
       "  <use xlink:href=\"#glyph0-1\" x=\"156.043777\" y=\"169.921875\"/>\n",
       "</g>\n",
       "<g style=\"fill:rgb(0%,0%,0%);fill-opacity:1;\">\n",
       "  <use xlink:href=\"#glyph0-3\" x=\"196.269531\" y=\"169.921875\"/>\n",
       "  <use xlink:href=\"#glyph0-2\" x=\"203.219559\" y=\"169.921875\"/>\n",
       "</g>\n",
       "<g style=\"fill:rgb(0%,0%,0%);fill-opacity:1;\">\n",
       "  <use xlink:href=\"#glyph0-4\" x=\"243.449219\" y=\"169.921875\"/>\n",
       "  <use xlink:href=\"#glyph0-1\" x=\"250.399246\" y=\"169.921875\"/>\n",
       "</g>\n",
       "<path style=\"fill:none;stroke-width:1;stroke-linecap:round;stroke-linejoin:round;stroke:rgb(0%,0%,0%);stroke-opacity:1;stroke-miterlimit:10;\" d=\"M 59.039062 124.929688 L 59.039062 62.132812 \"/>\n",
       "<path style=\"fill:none;stroke-width:1;stroke-linecap:round;stroke-linejoin:round;stroke:rgb(0%,0%,0%);stroke-opacity:1;stroke-miterlimit:10;\" d=\"M 59.039062 124.929688 L 51.839844 124.929688 \"/>\n",
       "<path style=\"fill:none;stroke-width:1;stroke-linecap:round;stroke-linejoin:round;stroke:rgb(0%,0%,0%);stroke-opacity:1;stroke-miterlimit:10;\" d=\"M 59.039062 104 L 51.839844 104 \"/>\n",
       "<path style=\"fill:none;stroke-width:1;stroke-linecap:round;stroke-linejoin:round;stroke:rgb(0%,0%,0%);stroke-opacity:1;stroke-miterlimit:10;\" d=\"M 59.039062 83.066406 L 51.839844 83.066406 \"/>\n",
       "<path style=\"fill:none;stroke-width:1;stroke-linecap:round;stroke-linejoin:round;stroke:rgb(0%,0%,0%);stroke-opacity:1;stroke-miterlimit:10;\" d=\"M 59.039062 62.132812 L 51.839844 62.132812 \"/>\n",
       "<g style=\"fill:rgb(0%,0%,0%);fill-opacity:1;\">\n",
       "  <use xlink:href=\"#glyph1-1\" x=\"43.199219\" y=\"133.617188\"/>\n",
       "  <use xlink:href=\"#glyph1-2\" x=\"43.199219\" y=\"126.66716\"/>\n",
       "  <use xlink:href=\"#glyph1-3\" x=\"43.199219\" y=\"123.192154\"/>\n",
       "</g>\n",
       "<g style=\"fill:rgb(0%,0%,0%);fill-opacity:1;\">\n",
       "  <use xlink:href=\"#glyph1-1\" x=\"43.199219\" y=\"91.753906\"/>\n",
       "  <use xlink:href=\"#glyph1-2\" x=\"43.199219\" y=\"84.803879\"/>\n",
       "  <use xlink:href=\"#glyph1-4\" x=\"43.199219\" y=\"81.328873\"/>\n",
       "</g>\n",
       "<path style=\"fill:none;stroke-width:1;stroke-linecap:round;stroke-linejoin:round;stroke:rgb(0%,0%,0%);stroke-opacity:1;stroke-miterlimit:10;\" d=\"M 59.039062 142.558594 L 257.761719 142.558594 L 257.761719 59.039062 L 59.039062 59.039062 L 59.039062 142.558594 \"/>\n",
       "<g style=\"fill:rgb(0%,0%,0%);fill-opacity:1;\">\n",
       "  <use xlink:href=\"#glyph2-1\" x=\"45.320312\" y=\"26.449219\"/>\n",
       "  <use xlink:href=\"#glyph2-2\" x=\"55.262726\" y=\"26.449219\"/>\n",
       "  <use xlink:href=\"#glyph2-3\" x=\"64.370392\" y=\"26.449219\"/>\n",
       "  <use xlink:href=\"#glyph2-4\" x=\"70.168884\" y=\"26.449219\"/>\n",
       "  <use xlink:href=\"#glyph2-5\" x=\"78.456711\" y=\"26.449219\"/>\n",
       "  <use xlink:href=\"#glyph2-4\" x=\"82.600632\" y=\"26.449219\"/>\n",
       "  <use xlink:href=\"#glyph2-6\" x=\"90.888458\" y=\"26.449219\"/>\n",
       "  <use xlink:href=\"#glyph2-7\" x=\"99.176285\" y=\"26.449219\"/>\n",
       "  <use xlink:href=\"#glyph2-8\" x=\"103.320206\" y=\"26.449219\"/>\n",
       "  <use xlink:href=\"#glyph2-9\" x=\"107.464127\" y=\"26.449219\"/>\n",
       "  <use xlink:href=\"#glyph2-3\" x=\"117.40654\" y=\"26.449219\"/>\n",
       "  <use xlink:href=\"#glyph2-10\" x=\"123.205032\" y=\"26.449219\"/>\n",
       "  <use xlink:href=\"#glyph2-11\" x=\"132.312698\" y=\"26.449219\"/>\n",
       "  <use xlink:href=\"#glyph2-6\" x=\"141.420364\" y=\"26.449219\"/>\n",
       "  <use xlink:href=\"#glyph2-11\" x=\"149.708191\" y=\"26.449219\"/>\n",
       "  <use xlink:href=\"#glyph2-5\" x=\"158.815857\" y=\"26.449219\"/>\n",
       "  <use xlink:href=\"#glyph2-7\" x=\"162.959778\" y=\"26.449219\"/>\n",
       "  <use xlink:href=\"#glyph2-5\" x=\"167.103699\" y=\"26.449219\"/>\n",
       "  <use xlink:href=\"#glyph2-12\" x=\"171.24762\" y=\"26.449219\"/>\n",
       "  <use xlink:href=\"#glyph2-13\" x=\"176.21138\" y=\"26.449219\"/>\n",
       "  <use xlink:href=\"#glyph2-8\" x=\"184.499207\" y=\"26.449219\"/>\n",
       "  <use xlink:href=\"#glyph2-4\" x=\"188.643127\" y=\"26.449219\"/>\n",
       "  <use xlink:href=\"#glyph2-14\" x=\"196.930954\" y=\"26.449219\"/>\n",
       "  <use xlink:href=\"#glyph2-8\" x=\"205.218781\" y=\"26.449219\"/>\n",
       "  <use xlink:href=\"#glyph2-15\" x=\"209.362701\" y=\"26.449219\"/>\n",
       "  <use xlink:href=\"#glyph2-6\" x=\"221.779541\" y=\"26.449219\"/>\n",
       "  <use xlink:href=\"#glyph2-12\" x=\"230.067368\" y=\"26.449219\"/>\n",
       "  <use xlink:href=\"#glyph2-2\" x=\"235.031128\" y=\"26.449219\"/>\n",
       "  <use xlink:href=\"#glyph2-3\" x=\"244.138794\" y=\"26.449219\"/>\n",
       "  <use xlink:href=\"#glyph2-5\" x=\"249.937286\" y=\"26.449219\"/>\n",
       "  <use xlink:href=\"#glyph2-12\" x=\"254.081207\" y=\"26.449219\"/>\n",
       "  <use xlink:href=\"#glyph2-13\" x=\"259.044968\" y=\"26.449219\"/>\n",
       "  <use xlink:href=\"#glyph2-8\" x=\"267.332794\" y=\"26.449219\"/>\n",
       "</g>\n",
       "<g style=\"fill:rgb(0%,0%,0%);fill-opacity:1;\">\n",
       "  <use xlink:href=\"#glyph2-8\" x=\"102.5\" y=\"43.730469\"/>\n",
       "  <use xlink:href=\"#glyph2-16\" x=\"106.643921\" y=\"43.730469\"/>\n",
       "  <use xlink:href=\"#glyph2-15\" x=\"111.607681\" y=\"43.730469\"/>\n",
       "  <use xlink:href=\"#glyph2-17\" x=\"124.024521\" y=\"43.730469\"/>\n",
       "  <use xlink:href=\"#glyph2-3\" x=\"132.312347\" y=\"43.730469\"/>\n",
       "  <use xlink:href=\"#glyph2-12\" x=\"138.11084\" y=\"43.730469\"/>\n",
       "  <use xlink:href=\"#glyph2-10\" x=\"143.0746\" y=\"43.730469\"/>\n",
       "  <use xlink:href=\"#glyph2-18\" x=\"152.182266\" y=\"43.730469\"/>\n",
       "  <use xlink:href=\"#glyph2-8\" x=\"161.289932\" y=\"43.730469\"/>\n",
       "  <use xlink:href=\"#glyph2-19\" x=\"165.433853\" y=\"43.730469\"/>\n",
       "  <use xlink:href=\"#glyph2-10\" x=\"178.68544\" y=\"43.730469\"/>\n",
       "  <use xlink:href=\"#glyph2-20\" x=\"187.793106\" y=\"43.730469\"/>\n",
       "  <use xlink:href=\"#glyph2-17\" x=\"196.900772\" y=\"43.730469\"/>\n",
       "  <use xlink:href=\"#glyph2-7\" x=\"205.188599\" y=\"43.730469\"/>\n",
       "  <use xlink:href=\"#glyph2-21\" x=\"209.33252\" y=\"43.730469\"/>\n",
       "</g>\n",
       "<g style=\"fill:rgb(0%,0%,0%);fill-opacity:1;\">\n",
       "  <use xlink:href=\"#glyph0-5\" x=\"136.171875\" y=\"198.71875\"/>\n",
       "  <use xlink:href=\"#glyph0-6\" x=\"146.584412\" y=\"198.71875\"/>\n",
       "  <use xlink:href=\"#glyph0-7\" x=\"153.534439\" y=\"198.71875\"/>\n",
       "  <use xlink:href=\"#glyph0-8\" x=\"157.009445\" y=\"198.71875\"/>\n",
       "  <use xlink:href=\"#glyph0-9\" x=\"163.959473\" y=\"198.71875\"/>\n",
       "  <use xlink:href=\"#glyph0-10\" x=\"168.121994\" y=\"198.71875\"/>\n",
       "  <use xlink:href=\"#glyph0-7\" x=\"170.897003\" y=\"198.71875\"/>\n",
       "  <use xlink:href=\"#glyph0-11\" x=\"174.372009\" y=\"198.71875\"/>\n",
       "</g>\n",
       "<g style=\"fill:rgb(0%,0%,0%);fill-opacity:1;\">\n",
       "  <use xlink:href=\"#glyph1-5\" x=\"14.398438\" y=\"153.9375\"/>\n",
       "  <use xlink:href=\"#glyph1-6\" x=\"14.398438\" y=\"145.599976\"/>\n",
       "  <use xlink:href=\"#glyph1-7\" x=\"14.398438\" y=\"138.649948\"/>\n",
       "  <use xlink:href=\"#glyph1-8\" x=\"14.398438\" y=\"134.487427\"/>\n",
       "  <use xlink:href=\"#glyph1-9\" x=\"14.398438\" y=\"128.237396\"/>\n",
       "  <use xlink:href=\"#glyph1-8\" x=\"14.398438\" y=\"125.462387\"/>\n",
       "  <use xlink:href=\"#glyph1-10\" x=\"14.398438\" y=\"119.212357\"/>\n",
       "  <use xlink:href=\"#glyph1-11\" x=\"14.398438\" y=\"112.262329\"/>\n",
       "  <use xlink:href=\"#glyph1-12\" x=\"14.398438\" y=\"109.48732\"/>\n",
       "  <use xlink:href=\"#glyph1-13\" x=\"14.398438\" y=\"106.012314\"/>\n",
       "  <use xlink:href=\"#glyph1-7\" x=\"14.398438\" y=\"97.674789\"/>\n",
       "  <use xlink:href=\"#glyph1-14\" x=\"14.398438\" y=\"93.512268\"/>\n",
       "  <use xlink:href=\"#glyph1-15\" x=\"14.398438\" y=\"86.562241\"/>\n",
       "  <use xlink:href=\"#glyph1-10\" x=\"14.398438\" y=\"79.612213\"/>\n",
       "  <use xlink:href=\"#glyph1-15\" x=\"14.398438\" y=\"72.662186\"/>\n",
       "  <use xlink:href=\"#glyph1-9\" x=\"14.398438\" y=\"65.712158\"/>\n",
       "  <use xlink:href=\"#glyph1-11\" x=\"14.398438\" y=\"62.937149\"/>\n",
       "  <use xlink:href=\"#glyph1-9\" x=\"14.398438\" y=\"60.16214\"/>\n",
       "  <use xlink:href=\"#glyph1-16\" x=\"14.398438\" y=\"57.387131\"/>\n",
       "  <use xlink:href=\"#glyph1-17\" x=\"14.398438\" y=\"53.912125\"/>\n",
       "</g>\n",
       "</g>\n",
       "</svg>\n"
      ]
     },
     "metadata": {
      "image/svg+xml": {
       "isolated": true
      }
     },
     "output_type": "display_data"
    }
   ],
   "source": [
    "plot(c(0.50, 1.00, 2.00, 3.25, 5.00, 10.00, 15.00, 20.00), mod$Surv,\n",
    "  main = 'Survival Probability vs Maturity \\n (Merton model)',\n",
    "     xlab = 'Maturity', ylab = 'Survival Probability', type = 'b')"
   ]
  },
  {
   "cell_type": "code",
   "execution_count": null,
   "metadata": {},
   "outputs": [],
   "source": []
  }
 ],
 "metadata": {
  "kernelspec": {
   "display_name": "R",
   "language": "R",
   "name": "r"
  },
  "language_info": {
   "codemirror_mode": "r",
   "file_extension": ".r",
   "mimetype": "text/x-r-source",
   "name": "R",
   "pygments_lexer": "r",
   "version": "3.4.1"
  }
 },
 "nbformat": 4,
 "nbformat_minor": 2
}
