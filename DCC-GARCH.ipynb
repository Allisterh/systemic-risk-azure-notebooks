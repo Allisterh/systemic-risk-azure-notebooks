{
 "cells": [
  {
   "cell_type": "markdown",
   "metadata": {
    "collapsed": true
   },
   "source": [
    "# DCC GARCH\n",
    "Dynamic conditional correlation (DCC) generalized autoregressive conditional heteroskedastic (GARCH) model  \n",
    "This is required to estimate the marginal expected shortfall (MES) and from that SRISK.   \n",
    "https://cran.r-project.org/web/packages/rmgarch/ "
   ]
  },
  {
   "cell_type": "code",
   "execution_count": 2,
   "metadata": {},
   "outputs": [
    {
     "name": "stderr",
     "output_type": "stream",
     "text": [
      "Installing package into '/home/nbuser/R'\n",
      "(as 'lib' is unspecified)\n",
      "also installing the dependencies 'httpuv', 'plot3Drgl', 'shiny', 'crosstalk', 'truncnorm', 'OceanView', 'rgl', 'Rsolnp', 'ks', 'spd', 'SkewHyperbolic', 'RcppArmadillo'\n",
      "\n",
      "Warning message in install.packages(\"rugarch\"):\n",
      "\"installation of package 'httpuv' had non-zero exit status\"Warning message in install.packages(\"rugarch\"):\n",
      "\"installation of package 'RcppArmadillo' had non-zero exit status\"Warning message in install.packages(\"rugarch\"):\n",
      "\"installation of package 'shiny' had non-zero exit status\"Warning message in install.packages(\"rugarch\"):\n",
      "\"installation of package 'crosstalk' had non-zero exit status\"Warning message in install.packages(\"rugarch\"):\n",
      "\"installation of package 'rgl' had non-zero exit status\"Warning message in install.packages(\"rugarch\"):\n",
      "\"installation of package 'plot3Drgl' had non-zero exit status\"Warning message in install.packages(\"rugarch\"):\n",
      "\"installation of package 'OceanView' had non-zero exit status\"Warning message in install.packages(\"rugarch\"):\n",
      "\"installation of package 'ks' had non-zero exit status\"Warning message in install.packages(\"rugarch\"):\n",
      "\"installation of package 'rugarch' had non-zero exit status\""
     ]
    }
   ],
   "source": [
    "install.packages(\"rugarch\")"
   ]
  },
  {
   "cell_type": "code",
   "execution_count": 1,
   "metadata": {},
   "outputs": [
    {
     "ename": "ERROR",
     "evalue": "Error in library(rmgarch): there is no package called 'rmgarch'\n",
     "output_type": "error",
     "traceback": [
      "Error in library(rmgarch): there is no package called 'rmgarch'\nTraceback:\n",
      "1. library(rmgarch)",
      "2. stop(txt, domain = NA)"
     ]
    }
   ],
   "source": [
    "library(rmgarch)"
   ]
  },
  {
   "cell_type": "code",
   "execution_count": null,
   "metadata": {},
   "outputs": [],
   "source": []
  }
 ],
 "metadata": {
  "kernelspec": {
   "display_name": "R",
   "language": "R",
   "name": "r"
  },
  "language_info": {
   "codemirror_mode": "r",
   "file_extension": ".r",
   "mimetype": "text/x-r-source",
   "name": "R",
   "pygments_lexer": "r",
   "version": "3.4.1"
  }
 },
 "nbformat": 4,
 "nbformat_minor": 2
}
