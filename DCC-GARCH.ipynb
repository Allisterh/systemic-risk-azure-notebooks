{
 "cells": [
  {
   "cell_type": "markdown",
   "metadata": {
    "collapsed": true
   },
   "source": [
    "# DCC GARCH\n",
    "Dynamic conditional correlation (DCC) generalized autoregressive conditional heteroskedastic (GARCH) model  \n",
    "This is required to estimate the *marginal expected shortfall* (MES) and from that SRISK.\n",
    "### `ccgarch`\n",
    "https://cran.r-project.org/web/packages/ccgarch/  \n",
    "https://github.com/cran/ccgarch    \n",
    "https://www.r-project.org/conferences/useR-2008/slides/Nakatani.pdf  \n",
    "### `rmgarch`\n",
    "https://cran.r-project.org/web/packages/rmgarch/     \n",
    "http://www.unstarched.net/2013/01/03/the-garch-dcc-model-and-2-stage-dccmvt-estimation/    \n",
    "(Unable to install `rmgarch` on Azure.)"
   ]
  },
  {
   "cell_type": "code",
   "execution_count": null,
   "metadata": {},
   "outputs": [],
   "source": [
    "# install.packages(\"rugarch\")"
   ]
  },
  {
   "cell_type": "code",
   "execution_count": null,
   "metadata": {},
   "outputs": [],
   "source": [
    "if(!require(ccgarch)){\n",
    "    install.packages(\"ccgarch\")\n",
    "    library(ccgarch)\n",
    "}"
   ]
  },
  {
   "cell_type": "markdown",
   "metadata": {},
   "source": [
    "# Package `ccgarch` sample code"
   ]
  },
  {
   "cell_type": "markdown",
   "metadata": {},
   "source": [
    "## Simulation - `dcc.sim`\n",
    "Simulating data from the original DCC-GARCH(1,1) process  \n",
    "See **P11** of https://cran.r-project.org/web/packages/ccgarch/ccgarch.pdf "
   ]
  },
  {
   "cell_type": "code",
   "execution_count": 17,
   "metadata": {},
   "outputs": [],
   "source": [
    "  nobs <- 50\n",
    "  a <- c(0.003, 0.005, 0.001)\n",
    "  A <- diag(c(0.2,0.3,0.15))\n",
    "  B <- diag(c(0.75, 0.6, 0.8))\n",
    "  uncR <- matrix(c(1.0, 0.4, 0.3, 0.4, 1.0, 0.12, 0.3, 0.12, 1.0),3,3)\n",
    "  dcc.para <- c(0.01,0.98)\n",
    "  dcc.data <- dcc.sim(nobs, a, A, B, uncR, dcc.para, model=\"diagonal\")"
   ]
  },
  {
   "cell_type": "code",
   "execution_count": null,
   "metadata": {},
   "outputs": [],
   "source": [
    "dcc.data"
   ]
  },
  {
   "cell_type": "markdown",
   "metadata": {},
   "source": [
    "## Estimation - `dcc.estimation`\n",
    "Estimating a DCC-GARCH(1,1) model  \n",
    "See **P6** of https://cran.r-project.org/web/packages/ccgarch/ccgarch.pdf  "
   ]
  },
  {
   "cell_type": "code",
   "execution_count": 19,
   "metadata": {},
   "outputs": [
    {
     "name": "stdout",
     "output_type": "stream",
     "text": [
      "****************************************************************\n",
      "*  Estimation has been completed.                              *\n",
      "*  The outputs are saved in a list with components:            *\n",
      "*    out    : the estimates and their standard errors          *\n",
      "*    loglik : the value of the log-likelihood at the estimates *\n",
      "*    h      : a matrix of estimated conditional variances      *\n",
      "*    DCC    : a matrix of DCC estimates                        *\n",
      "*    std.resid : a matrix of the standardised residuals        *\n",
      "*    first  : the results of the first stage estimation        *\n",
      "*    second : the results of the second stage estimation       *\n",
      "****************************************************************\n"
     ]
    }
   ],
   "source": [
    "dcc.results <- dcc.estimation(inia=a, iniA=A, iniB=B, ini.dcc=dcc.para, \n",
    "        dvar=dcc.data$eps, model=\"extended\")  # or model=\"diagonal\""
   ]
  },
  {
   "cell_type": "code",
   "execution_count": 24,
   "metadata": {},
   "outputs": [
    {
     "data": {
      "text/html": [
       "<table>\n",
       "<tbody>\n",
       "\t<tr><td>0.03858887</td><td>0.03777195</td><td>0.01315452</td></tr>\n",
       "\t<tr><td>0.02407145</td><td>0.03777029</td><td>0.01247283</td></tr>\n",
       "\t<tr><td>0.02262672</td><td>0.03776891</td><td>0.01355537</td></tr>\n",
       "\t<tr><td>0.02794056</td><td>0.03776846</td><td>0.01420051</td></tr>\n",
       "\t<tr><td>0.02821586</td><td>0.03776830</td><td>0.01641429</td></tr>\n",
       "\t<tr><td>0.02550847</td><td>0.03776820</td><td>0.01500712</td></tr>\n",
       "</tbody>\n",
       "</table>\n"
      ],
      "text/latex": [
       "\\begin{tabular}{lll}\n",
       "\t 0.03858887 & 0.03777195 & 0.01315452\\\\\n",
       "\t 0.02407145 & 0.03777029 & 0.01247283\\\\\n",
       "\t 0.02262672 & 0.03776891 & 0.01355537\\\\\n",
       "\t 0.02794056 & 0.03776846 & 0.01420051\\\\\n",
       "\t 0.02821586 & 0.03776830 & 0.01641429\\\\\n",
       "\t 0.02550847 & 0.03776820 & 0.01500712\\\\\n",
       "\\end{tabular}\n"
      ],
      "text/markdown": [
       "\n",
       "| 0.03858887 | 0.03777195 | 0.01315452 | \n",
       "| 0.02407145 | 0.03777029 | 0.01247283 | \n",
       "| 0.02262672 | 0.03776891 | 0.01355537 | \n",
       "| 0.02794056 | 0.03776846 | 0.01420051 | \n",
       "| 0.02821586 | 0.03776830 | 0.01641429 | \n",
       "| 0.02550847 | 0.03776820 | 0.01500712 | \n",
       "\n",
       "\n"
      ],
      "text/plain": [
       "     [,1]       [,2]       [,3]      \n",
       "[1,] 0.03858887 0.03777195 0.01315452\n",
       "[2,] 0.02407145 0.03777029 0.01247283\n",
       "[3,] 0.02262672 0.03776891 0.01355537\n",
       "[4,] 0.02794056 0.03776846 0.01420051\n",
       "[5,] 0.02821586 0.03776830 0.01641429\n",
       "[6,] 0.02550847 0.03776820 0.01500712"
      ]
     },
     "metadata": {},
     "output_type": "display_data"
    }
   ],
   "source": [
    "head(dcc.results$h)"
   ]
  },
  {
   "cell_type": "markdown",
   "metadata": {},
   "source": [
    "#### DCC estimates - `dcc.results$DCC`"
   ]
  },
  {
   "cell_type": "code",
   "execution_count": 25,
   "metadata": {},
   "outputs": [
    {
     "data": {
      "text/html": [
       "<table>\n",
       "<tbody>\n",
       "\t<tr><td>1        </td><td>0.4832593</td><td>0.3501419</td><td>0.4832593</td><td>1        </td><td>0.4116337</td><td>0.3501419</td><td>0.4116337</td><td>1        </td></tr>\n",
       "\t<tr><td>1        </td><td>0.4832593</td><td>0.3501419</td><td>0.4832593</td><td>1        </td><td>0.4116337</td><td>0.3501419</td><td>0.4116337</td><td>1        </td></tr>\n",
       "\t<tr><td>1        </td><td>0.4832593</td><td>0.3501419</td><td>0.4832593</td><td>1        </td><td>0.4116337</td><td>0.3501419</td><td>0.4116337</td><td>1        </td></tr>\n",
       "\t<tr><td>1        </td><td>0.4832593</td><td>0.3501419</td><td>0.4832593</td><td>1        </td><td>0.4116337</td><td>0.3501419</td><td>0.4116337</td><td>1        </td></tr>\n",
       "\t<tr><td>1        </td><td>0.4832593</td><td>0.3501419</td><td>0.4832593</td><td>1        </td><td>0.4116337</td><td>0.3501419</td><td>0.4116337</td><td>1        </td></tr>\n",
       "\t<tr><td>1        </td><td>0.4832593</td><td>0.3501419</td><td>0.4832593</td><td>1        </td><td>0.4116337</td><td>0.3501419</td><td>0.4116337</td><td>1        </td></tr>\n",
       "</tbody>\n",
       "</table>\n"
      ],
      "text/latex": [
       "\\begin{tabular}{lllllllll}\n",
       "\t 1         & 0.4832593 & 0.3501419 & 0.4832593 & 1         & 0.4116337 & 0.3501419 & 0.4116337 & 1        \\\\\n",
       "\t 1         & 0.4832593 & 0.3501419 & 0.4832593 & 1         & 0.4116337 & 0.3501419 & 0.4116337 & 1        \\\\\n",
       "\t 1         & 0.4832593 & 0.3501419 & 0.4832593 & 1         & 0.4116337 & 0.3501419 & 0.4116337 & 1        \\\\\n",
       "\t 1         & 0.4832593 & 0.3501419 & 0.4832593 & 1         & 0.4116337 & 0.3501419 & 0.4116337 & 1        \\\\\n",
       "\t 1         & 0.4832593 & 0.3501419 & 0.4832593 & 1         & 0.4116337 & 0.3501419 & 0.4116337 & 1        \\\\\n",
       "\t 1         & 0.4832593 & 0.3501419 & 0.4832593 & 1         & 0.4116337 & 0.3501419 & 0.4116337 & 1        \\\\\n",
       "\\end{tabular}\n"
      ],
      "text/markdown": [
       "\n",
       "| 1         | 0.4832593 | 0.3501419 | 0.4832593 | 1         | 0.4116337 | 0.3501419 | 0.4116337 | 1         | \n",
       "| 1         | 0.4832593 | 0.3501419 | 0.4832593 | 1         | 0.4116337 | 0.3501419 | 0.4116337 | 1         | \n",
       "| 1         | 0.4832593 | 0.3501419 | 0.4832593 | 1         | 0.4116337 | 0.3501419 | 0.4116337 | 1         | \n",
       "| 1         | 0.4832593 | 0.3501419 | 0.4832593 | 1         | 0.4116337 | 0.3501419 | 0.4116337 | 1         | \n",
       "| 1         | 0.4832593 | 0.3501419 | 0.4832593 | 1         | 0.4116337 | 0.3501419 | 0.4116337 | 1         | \n",
       "| 1         | 0.4832593 | 0.3501419 | 0.4832593 | 1         | 0.4116337 | 0.3501419 | 0.4116337 | 1         | \n",
       "\n",
       "\n"
      ],
      "text/plain": [
       "     [,1] [,2]      [,3]      [,4]      [,5] [,6]      [,7]      [,8]      [,9]\n",
       "[1,] 1    0.4832593 0.3501419 0.4832593 1    0.4116337 0.3501419 0.4116337 1   \n",
       "[2,] 1    0.4832593 0.3501419 0.4832593 1    0.4116337 0.3501419 0.4116337 1   \n",
       "[3,] 1    0.4832593 0.3501419 0.4832593 1    0.4116337 0.3501419 0.4116337 1   \n",
       "[4,] 1    0.4832593 0.3501419 0.4832593 1    0.4116337 0.3501419 0.4116337 1   \n",
       "[5,] 1    0.4832593 0.3501419 0.4832593 1    0.4116337 0.3501419 0.4116337 1   \n",
       "[6,] 1    0.4832593 0.3501419 0.4832593 1    0.4116337 0.3501419 0.4116337 1   "
      ]
     },
     "metadata": {},
     "output_type": "display_data"
    }
   ],
   "source": [
    "head(dcc.results$DCC)"
   ]
  },
  {
   "cell_type": "code",
   "execution_count": 44,
   "metadata": {},
   "outputs": [
    {
     "data": {
      "text/html": [
       "<ol class=list-inline>\n",
       "\t<li>50</li>\n",
       "\t<li>9</li>\n",
       "</ol>\n"
      ],
      "text/latex": [
       "\\begin{enumerate*}\n",
       "\\item 50\n",
       "\\item 9\n",
       "\\end{enumerate*}\n"
      ],
      "text/markdown": [
       "1. 50\n",
       "2. 9\n",
       "\n",
       "\n"
      ],
      "text/plain": [
       "[1] 50  9"
      ]
     },
     "metadata": {},
     "output_type": "display_data"
    }
   ],
   "source": [
    "dim(dcc.results$DCC)"
   ]
  },
  {
   "cell_type": "code",
   "execution_count": 26,
   "metadata": {},
   "outputs": [
    {
     "data": {
      "text/html": [
       "<ol class=list-inline>\n",
       "\t<li>1</li>\n",
       "\t<li>0.483259265127785</li>\n",
       "\t<li>0.350141878367488</li>\n",
       "\t<li>0.483259265127785</li>\n",
       "\t<li>1</li>\n",
       "\t<li>0.411633667841446</li>\n",
       "\t<li>0.350141878367488</li>\n",
       "\t<li>0.411633667841446</li>\n",
       "\t<li>1</li>\n",
       "</ol>\n"
      ],
      "text/latex": [
       "\\begin{enumerate*}\n",
       "\\item 1\n",
       "\\item 0.483259265127785\n",
       "\\item 0.350141878367488\n",
       "\\item 0.483259265127785\n",
       "\\item 1\n",
       "\\item 0.411633667841446\n",
       "\\item 0.350141878367488\n",
       "\\item 0.411633667841446\n",
       "\\item 1\n",
       "\\end{enumerate*}\n"
      ],
      "text/markdown": [
       "1. 1\n",
       "2. 0.483259265127785\n",
       "3. 0.350141878367488\n",
       "4. 0.483259265127785\n",
       "5. 1\n",
       "6. 0.411633667841446\n",
       "7. 0.350141878367488\n",
       "8. 0.411633667841446\n",
       "9. 1\n",
       "\n",
       "\n"
      ],
      "text/plain": [
       "[1] 1.0000000 0.4832593 0.3501419 0.4832593 1.0000000 0.4116337 0.3501419\n",
       "[8] 0.4116337 1.0000000"
      ]
     },
     "metadata": {},
     "output_type": "display_data"
    }
   ],
   "source": [
    "dcc.results$DCC[1,]"
   ]
  },
  {
   "cell_type": "code",
   "execution_count": 27,
   "metadata": {},
   "outputs": [
    {
     "data": {
      "text/html": [
       "<table>\n",
       "<tbody>\n",
       "\t<tr><td>1.0000000</td><td>0.4832593</td><td>0.3501419</td></tr>\n",
       "\t<tr><td>0.4832593</td><td>1.0000000</td><td>0.4116337</td></tr>\n",
       "\t<tr><td>0.3501419</td><td>0.4116337</td><td>1.0000000</td></tr>\n",
       "</tbody>\n",
       "</table>\n"
      ],
      "text/latex": [
       "\\begin{tabular}{lll}\n",
       "\t 1.0000000 & 0.4832593 & 0.3501419\\\\\n",
       "\t 0.4832593 & 1.0000000 & 0.4116337\\\\\n",
       "\t 0.3501419 & 0.4116337 & 1.0000000\\\\\n",
       "\\end{tabular}\n"
      ],
      "text/markdown": [
       "\n",
       "| 1.0000000 | 0.4832593 | 0.3501419 | \n",
       "| 0.4832593 | 1.0000000 | 0.4116337 | \n",
       "| 0.3501419 | 0.4116337 | 1.0000000 | \n",
       "\n",
       "\n"
      ],
      "text/plain": [
       "     [,1]      [,2]      [,3]     \n",
       "[1,] 1.0000000 0.4832593 0.3501419\n",
       "[2,] 0.4832593 1.0000000 0.4116337\n",
       "[3,] 0.3501419 0.4116337 1.0000000"
      ]
     },
     "metadata": {},
     "output_type": "display_data"
    }
   ],
   "source": [
    "matrix(dcc.results$DCC[1,],nrow = 3,ncol = 3)"
   ]
  },
  {
   "cell_type": "code",
   "execution_count": 32,
   "metadata": {},
   "outputs": [
    {
     "data": {
      "text/html": [
       "<table>\n",
       "<tbody>\n",
       "\t<tr><td>1.0000000</td><td>0.4832593</td><td>0.3501419</td></tr>\n",
       "\t<tr><td>0.4832593</td><td>1.0000000</td><td>0.4116337</td></tr>\n",
       "\t<tr><td>0.3501419</td><td>0.4116337</td><td>1.0000000</td></tr>\n",
       "</tbody>\n",
       "</table>\n"
      ],
      "text/latex": [
       "\\begin{tabular}{lll}\n",
       "\t 1.0000000 & 0.4832593 & 0.3501419\\\\\n",
       "\t 0.4832593 & 1.0000000 & 0.4116337\\\\\n",
       "\t 0.3501419 & 0.4116337 & 1.0000000\\\\\n",
       "\\end{tabular}\n"
      ],
      "text/markdown": [
       "\n",
       "| 1.0000000 | 0.4832593 | 0.3501419 | \n",
       "| 0.4832593 | 1.0000000 | 0.4116337 | \n",
       "| 0.3501419 | 0.4116337 | 1.0000000 | \n",
       "\n",
       "\n"
      ],
      "text/plain": [
       "     [,1]      [,2]      [,3]     \n",
       "[1,] 1.0000000 0.4832593 0.3501419\n",
       "[2,] 0.4832593 1.0000000 0.4116337\n",
       "[3,] 0.3501419 0.4116337 1.0000000"
      ]
     },
     "metadata": {},
     "output_type": "display_data"
    }
   ],
   "source": [
    "matrix(dcc.results$DCC[1,],nrow = 3,ncol = 3)"
   ]
  },
  {
   "cell_type": "code",
   "execution_count": 46,
   "metadata": {},
   "outputs": [
    {
     "data": {
      "text/html": [
       "<table>\n",
       "<tbody>\n",
       "\t<tr><td>1.0000000</td><td>0.4832593</td><td>0.3501419</td></tr>\n",
       "\t<tr><td>0.4832593</td><td>1.0000000</td><td>0.4116337</td></tr>\n",
       "\t<tr><td>0.3501419</td><td>0.4116337</td><td>1.0000000</td></tr>\n",
       "</tbody>\n",
       "</table>\n"
      ],
      "text/latex": [
       "\\begin{tabular}{lll}\n",
       "\t 1.0000000 & 0.4832593 & 0.3501419\\\\\n",
       "\t 0.4832593 & 1.0000000 & 0.4116337\\\\\n",
       "\t 0.3501419 & 0.4116337 & 1.0000000\\\\\n",
       "\\end{tabular}\n"
      ],
      "text/markdown": [
       "\n",
       "| 1.0000000 | 0.4832593 | 0.3501419 | \n",
       "| 0.4832593 | 1.0000000 | 0.4116337 | \n",
       "| 0.3501419 | 0.4116337 | 1.0000000 | \n",
       "\n",
       "\n"
      ],
      "text/plain": [
       "     [,1]      [,2]      [,3]     \n",
       "[1,] 1.0000000 0.4832593 0.3501419\n",
       "[2,] 0.4832593 1.0000000 0.4116337\n",
       "[3,] 0.3501419 0.4116337 1.0000000"
      ]
     },
     "metadata": {},
     "output_type": "display_data"
    }
   ],
   "source": [
    "array(dcc.results$DCC, dim = c(50,3,3))[1,,]"
   ]
  },
  {
   "cell_type": "markdown",
   "metadata": {},
   "source": [
    "# MES & SRISK for systemic risk"
   ]
  },
  {
   "cell_type": "markdown",
   "metadata": {},
   "source": [
    "https://vlab.stern.nyu.edu/analysis/RISK.USFIN-MR.MES  "
   ]
  },
  {
   "cell_type": "markdown",
   "metadata": {},
   "source": [
    "## Benoit Sylvain - Comparison of measures  - Matlab / Octave \n",
    "http://www.runmycode.org/companion/view/175  \n",
    "https://papers.ssrn.com/sol3/papers.cfm?abstract_id=1973950  "
   ]
  },
  {
   "cell_type": "markdown",
   "metadata": {},
   "source": [
    "### `call_fct`"
   ]
  },
  {
   "cell_type": "code",
   "execution_count": null,
   "metadata": {},
   "outputs": [],
   "source": [
    "# % Returns for the market index & the given asset\n",
    "data = [index asset];\n",
    "data = data(~isnan(data(:,2).*data(:,1)),:); #% select only elements which are not NaN\n",
    "data_center = data - ones(size(data,1),1)*mean(data); #%demeaned returns\n",
    "\n",
    "# %% GJR-GARCH and DCC\n",
    "[parameters, loglikelihood, Ht, Rt, Qt, stdresid, likelihoods, stderrors, A,B, jointscores, H]\n",
    "    =dcc_mvgarch(data_center,1,1,1,1);\n",
    "ht_m=sqrt(H(:,1)); #%market conditional volatility\n",
    "ht_i=sqrt(H(:,2)); #%asset conditional volatility\n",
    "rho=squeeze(Rt(1,2,:)); #%conditional correlation\n",
    "c = quantile(data_center(:,1),alpha); # % HS VaR (nonparametric), it's our systemic event, it's a scalar here\n",
    "MES = - fct_MES(data_center,c,ht_m,ht_i,rho);\n",
    "LRMES = (1-exp(-18.*MES)); # %without simulation\n",
    "SRISK = k.*LTQ - (1-k).*(1-LRMES).*MV;"
   ]
  },
  {
   "cell_type": "markdown",
   "metadata": {},
   "source": [
    "### `dcc_mvgarch`"
   ]
  },
  {
   "cell_type": "markdown",
   "metadata": {},
   "source": [
    "#### Purpose:"
   ]
  },
  {
   "cell_type": "markdown",
   "metadata": {},
   "source": [
    "Estimates a multivariate GARCH model using the DCC estimator of Engle and Sheppard"
   ]
  },
  {
   "cell_type": "markdown",
   "metadata": {},
   "source": [
    "#### Usage:"
   ]
  },
  {
   "cell_type": "code",
   "execution_count": null,
   "metadata": {},
   "outputs": [],
   "source": [
    "[parameters, loglikelihood, Ht, Rt, Qt, likelihoods, stdresid, stderrors, A,B, jointscores] \n",
    "    = dcc_mvgarch(data,dccQ,dccP,archQ,garchP)"
   ]
  },
  {
   "cell_type": "markdown",
   "metadata": {},
   "source": [
    "#### Inputs:"
   ]
  },
  {
   "cell_type": "markdown",
   "metadata": {},
   "source": [
    "data          = A zero mean t by k (asset number) vector of residuals from some filtration [t by k]\n",
    "dccQ          = The lag length of the innovation term in the DCC estimator (a scalar)\n",
    "dccP          = The lag length of the lagged correlation matrices in the DCC estimator (a scalar)\n",
    "archQ         = One of two things:     A scalar, q     in which case a p innovation model is estimated for each series\n",
    "                                       A k by 1 vector in which case the ith series has innovation terms p=archP(i)\n",
    "garchP        = One of two things:     A scalar, p     in which case a q GARCH lags is used in estimation for each series\n",
    "                                       A k by 1 vector in which case the ith series has lagged variance terms q=archQ(i)"
   ]
  },
  {
   "cell_type": "markdown",
   "metadata": {},
   "source": [
    "#### Outputs:"
   ]
  },
  {
   "cell_type": "code",
   "execution_count": null,
   "metadata": {},
   "outputs": [],
   "source": [
    "parameters    = A vector of parameters estimated from the model of the form    \n",
    "                    [GarchParams(1) GarchParams(2) ... GarchParams(k) DCCParams]    \n",
    "                    where the Garch Parameters from each estimation are of the form    \n",
    "                    [omega(i) alpha(i1) alpha(i2) ... alpha(ip(i)) beta(i1) beta(i2) ... beta(iq(i))]    \n",
    "loglikelihood = The log likelihood evaluated at the optimum    \n",
    "Ht            = A k by k by t array of conditional variances    \n",
    "Rt            = A k by k by t array of Rt elements    \n",
    "Qt            = A k by k by t array of Qt elements   \n",
    "stdresid      = A [t by k] matrix of standardized residuals   \n",
    "likelihoods   = the estimated likelihoods t by 1   \n",
    "stderrors     = A length(parameters)^2 matrix of estimated correct standard errors   \n",
    "A             = The estimated A from the robust standard errors    \n",
    "B             = The estimated B from the standard errors   \n",
    "jointscores   = The estimated scores of the likelihood t by length(parameters)   \n",
    "H             = Conditional Volatility univariate   "
   ]
  },
  {
   "cell_type": "markdown",
   "metadata": {},
   "source": [
    "### `fct_MES`"
   ]
  },
  {
   "cell_type": "code",
   "execution_count": null,
   "metadata": {},
   "outputs": [],
   "source": [
    "function [MES] = fct_MES(data,c,ht_m,ht_i,rho)\n",
    "    em=(data(:,1))./ht_m; %market first column\n",
    "    xi=((data(:,2)./ht_i)-rho.*em)./ sqrt(1-rho.^2); %asset second column\n",
    "    bwd=1*(size(data,1)^(-0.2)); # Scaillet's bwd p21, I put 1 instead of the standard deviation because our shocks are iid with unit variance\n",
    "    K1=sum(em.*(normcdf(((c./ht_m)-em)./bwd)))./(sum(normcdf(((c./ht_m)-em)./bwd)));\n",
    "    K2=sum(xi.*(normcdf(((c./ht_m)-em)./bwd)))./(sum(normcdf(((c./ht_m)-em)./bwd)));\n",
    "    MES = (ht_i.*rho.*K1) + (ht_i.*sqrt(1-rho.^2).*K2);"
   ]
  },
  {
   "cell_type": "markdown",
   "metadata": {},
   "source": [
    "## `TommasoBelluzzo/SystemicRisk` - Matlab / Octave"
   ]
  },
  {
   "cell_type": "markdown",
   "metadata": {},
   "source": [
    "### `main_pro.m`"
   ]
  },
  {
   "cell_type": "markdown",
   "metadata": {},
   "source": [
    "https://github.com/TommasoBelluzzo/SystemicRisk/blob/master/ScriptsProbabilistic/main_pro.m    "
   ]
  },
  {
   "cell_type": "code",
   "execution_count": null,
   "metadata": {},
   "outputs": [],
   "source": [
    "#% Supply 2 series of returns (with means subtracted)\n",
    "[p,s] = dcc_gjrgarch([ret0_m ret0_x]);\n",
    "#% p       = An n-by-n-by-t matrix of floats containing the DCC coefficients.\n",
    "#% s       = A t-by-n matrix of floats containing the conditional variances.\n",
    "s_m = sqrt(s(:,1));\n",
    "s_x = sqrt(s(:,2));\n",
    "p_mx = squeeze(p(1,2,:)); #% Pull out the off-diagonal correlation (between market & firm)\n",
    "\n",
    "beta_x = p_mx .* (s_x ./ s_m);\n",
    "var_x = s_x * quantile((ret0_x ./ s_x),data.A); % Find the variance of the firm?\n",
    "\n",
    "[mes,lrmes] = calculate_mes(ret0_m,s_m,ret0_x,s_x,beta_x,p_mx,data.A,data.D); #% Hopefully R package ccgarch can do this step?\n",
    "srisk = calculate_srisk(lrmes,data.FrmsLia(:,i),data.FrmsCap(:,i),data.L); #% SRISK needs the (LR)MES + balance sheet data + crash level (e.g. 40%)"
   ]
  },
  {
   "cell_type": "markdown",
   "metadata": {},
   "source": [
    "### `calculate_mes_internal`"
   ]
  },
  {
   "cell_type": "markdown",
   "metadata": {},
   "source": [
    "https://github.com/TommasoBelluzzo/SystemicRisk/blob/master/ScriptsProbabilistic/calculate_mes.m"
   ]
  },
  {
   "cell_type": "code",
   "execution_count": null,
   "metadata": {},
   "outputs": [],
   "source": [
    "function [mes,lrmes] = calculate_mes_internal(ret0_m,s_m,ret0_x,s_x,beta_x,p_mx,a,d)\n",
    "    c = quantile(ret0_m,a);\n",
    "    h = 1 * (length(ret0_m) ^ (-0.2));\n",
    "    u = ret0_m ./ s_m;\n",
    "    x_den = sqrt(1 - (p_mx .^ 2));\n",
    "    x_num = (ret0_x ./ s_x) - (p_mx .* u);\n",
    "    x = x_num ./ x_den;\n",
    "    f = normcdf(((c ./ s_m) - u) ./ h);\n",
    "    k1 = sum(u .* f) ./ sum(f);\n",
    "    k2 = sum(x .* f) ./ sum(f);\n",
    "    mes = (s_x .* p_mx .* k1) + (s_x .* x_den .* k2);\n",
    "    lrmes = 1 - exp(log(1 - d) .* beta_x);"
   ]
  },
  {
   "cell_type": "markdown",
   "metadata": {},
   "source": [
    "### `calculate_srisk_internal` \n",
    "https://github.com/TommasoBelluzzo/SystemicRisk/blob/master/ScriptsProbabilistic/calculate_srisk.m  "
   ]
  },
  {
   "cell_type": "code",
   "execution_count": null,
   "metadata": {},
   "outputs": [],
   "source": [
    "function srisk = calculate_srisk_internal(lrmes,tl_x,mc_x,l)\n",
    "    srisk = (l .* tl_x) - ((1 - l) .* (1 - lrmes) .* mc_x);\n",
    "    srisk(srisk < 0) = 0;"
   ]
  }
 ],
 "metadata": {
  "kernelspec": {
   "display_name": "R",
   "language": "R",
   "name": "r"
  },
  "language_info": {
   "codemirror_mode": "r",
   "file_extension": ".r",
   "mimetype": "text/x-r-source",
   "name": "R",
   "pygments_lexer": "r",
   "version": "3.4.1"
  }
 },
 "nbformat": 4,
 "nbformat_minor": 2
}
